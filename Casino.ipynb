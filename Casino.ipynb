{
 "cells": [
  {
   "cell_type": "markdown",
   "metadata": {},
   "source": [
    "<h1 align=center style=\"font-size:3vw\">Facultad de Economía</h1>\n",
    "<h2 align=center>Maestría en Inteligencia de Negocios </h2>\n",
    "<h2 align=center>Proyecto de programación:  Guayabita</h2>\n",
    "<h2 align=center>Johan Ayala - Daniel Mayor Pachon</h2>\n",
    "\n"
   ]
  },
  {
   "cell_type": "markdown",
   "metadata": {},
   "source": [
    "## Reglas"
   ]
  },
  {
   "cell_type": "markdown",
   "metadata": {},
   "source": [
    "Las reglas del juego serían las siguiente:\n",
    "\n",
    "- Se fija un valor para apostar durante toda la ronda\n",
    "- Cada jugador empieza su turno indicando si, apuesta, en ese caso, el jugador aporta lo fijado anteriormente en un pote para todos.\n",
    "- El jugador lanza una vez el dado, posteriormente, según su lanzamiento, él puede apostar a obtener un número mayor o menor al que resulto inicialmente. Si gana la apuesta en el segundo lanzamiento se lleva el pote, si pierde la apuesta se pasa el turno al siguiente jugador.\n",
    "- Sí el primer resultado es 1 el jugador pierde la apuesta, por lo tanto deja la apuesta básica y pasa el turno al siguiente jugador.\n",
    "- Sí el primer resultado es 6 el jugador puede retractarse de su apuesta y pasa el turno al siguiente jugador.\n",
    "- Cada vez que se reclame el premio del pote el casino gana 5%.\n",
    "- Despues de una ronda si nadie gana la casa se queda con todo\n",
    "- Se prima los grupos pequeños sobre los grandes\n"
   ]
  },
  {
   "cell_type": "markdown",
   "metadata": {},
   "source": [
    "## Ejercicio"
   ]
  },
  {
   "cell_type": "code",
   "execution_count": 1,
   "metadata": {},
   "outputs": [],
   "source": [
    "import numpy as np\n",
    "import pandas as pd"
   ]
  },
  {
   "cell_type": "code",
   "execution_count": 178,
   "metadata": {},
   "outputs": [
    {
     "name": "stdout",
     "output_type": "stream",
     "text": [
      "no retractarse\n",
      "6\n",
      "3\n",
      "gane\n"
     ]
    }
   ],
   "source": [
    "### apuestas entre 10 y 200 usd\n",
    "apuesta=int(np.random.choice(200,1))\n",
    "while apuesta <= 10:\n",
    "    apuesta=int(np.random.choice(200,1))\n",
    "### Probabilidad de que un jugador apueste o no \n",
    "\n",
    "probabilidad_apuesta=int(np.random.normal(0,1,1))\n",
    "while probabilidad_apuesta <= 0:\n",
    "    probabilidad_apuesta=np.random.normal(0,1,1)\n",
    "\n",
    "    \n",
    "### lanzar dado\n",
    "p = 1/6\n",
    "opciones, prob, lan = [1,2,3,4,5,6], [p]*6, 1\n",
    "dado=int(np.random.choice(opciones, size=lan, p=prob))\n",
    "\n",
    "### forma de apostar\n",
    "\n",
    "if dado==1:\n",
    "    print('pierde')\n",
    "elif dado== 6:\n",
    "    retractarse=int(np.random.normal(0,1,1))\n",
    "    while retractarse <= 0:\n",
    "        retractarse=int(np.random.normal(0,1,1))\n",
    "    if retractarse <= 0.5:\n",
    "        print('retractarse')\n",
    "    else:\n",
    "        print('no retractarse')\n",
    "        dado_2=int(np.random.choice(opciones, size=lan, p=prob))\n",
    "        if dado_2<dado:\n",
    "            print('gane')\n",
    "        else:\n",
    "            print('cede turno')\n",
    "else:\n",
    "    eleccion=np.random.choice(['mayor','menor'])\n",
    "    dado_2=int(np.random.choice(opciones, size=lan, p=prob))\n",
    "    if eleccion=='mayor':\n",
    "        if dado_2>dado:\n",
    "            print('gane')\n",
    "        else:\n",
    "            print('cede turno')\n",
    "    elif eleccion=='menor':\n",
    "        if dado_2<dado:\n",
    "            print('gane')\n",
    "        else:\n",
    "            print('cede turno')"
   ]
  },
  {
   "cell_type": "code",
   "execution_count": 10,
   "metadata": {},
   "outputs": [],
   "source": [
    "## funcion de apostar solo un jugador\n",
    "def apostar():\n",
    "    p = 1/6\n",
    "    opciones, prob, lan = [1,2,3,4,5,6], [p]*6, 1\n",
    "    dado=int(np.random.choice(opciones, size=lan, p=prob))\n",
    "    if dado==1:\n",
    "        return(2)\n",
    "    elif dado== 6:\n",
    "        retractarse=int(np.random.normal(0,1,1))\n",
    "        while retractarse <= 0:\n",
    "            retractarse=int(np.random.normal(0,1,1))\n",
    "        if retractarse <= 0.5:\n",
    "            return(2)\n",
    "        else:\n",
    "            dado_2=int(np.random.choice(opciones, size=lan, p=prob))\n",
    "            if dado_2<dado:\n",
    "                return(1)\n",
    "            else:\n",
    "                return(2)\n",
    "    else:\n",
    "        eleccion=np.random.choice(['mayor','menor'])\n",
    "        dado_2=int(np.random.choice(opciones, size=lan, p=prob))\n",
    "        if eleccion=='mayor':\n",
    "            if dado_2>dado:\n",
    "                return(1)\n",
    "            else:\n",
    "                return(2)\n",
    "        elif eleccion=='menor':\n",
    "            if dado_2<dado:\n",
    "                return(1)\n",
    "            else:\n",
    "                return(2)"
   ]
  },
  {
   "cell_type": "markdown",
   "metadata": {},
   "source": [
    "## Punto 1\n",
    "\n",
    "Una ronda con 4  jugadores que reconocen la probabilidad de ganar despues del primer lanzamiento y que la probabilidad de su apuesta depende de que el valor supere 0.5"
   ]
  },
  {
   "cell_type": "code",
   "execution_count": 139,
   "metadata": {},
   "outputs": [
    {
     "name": "stdout",
     "output_type": "stream",
     "text": [
      "gano el jugador 4\n",
      "el jugador gano 86.45\n",
      "el casino gano 4.55\n"
     ]
    }
   ],
   "source": [
    "### un juego \n",
    "persona=1\n",
    "participa=0\n",
    "apuesta=int(np.random.choice(200,1))\n",
    "while apuesta <= 10:\n",
    "    apuesta=int(np.random.choice(200,1))\n",
    "    \n",
    "ganancia=0    \n",
    "while persona<=4:\n",
    "    probabilidad_apuesta=int(np.random.normal(0,1,1))\n",
    "    while probabilidad_apuesta <= 0:\n",
    "        probabilidad_apuesta=np.random.normal(0,1,1)\n",
    "    if probabilidad_apuesta >=0.5:\n",
    "        participa=participa+1\n",
    "        if apostar()==1:\n",
    "            ganancia=ganancia+(participa*apuesta)*0.95\n",
    "            casino=(participa*apuesta)*0.05\n",
    "            print(\"gano el jugador {}\".format(persona))\n",
    "            print(\"el jugador gano {}\".format(ganancia))\n",
    "            print(\"el casino gano {}\".format(casino))\n",
    "            persona=5\n",
    "        else:\n",
    "            persona=persona+1\n",
    "    else:\n",
    "        persona=persona+1\n",
    "\n",
    "if ganancia==0:\n",
    "    if participa!=0:\n",
    "        ganancia=ganancia+(participa*apuesta)\n",
    "        print(\"el casino gano {}\".format(ganancia))\n",
    "    else:\n",
    "        print(\"nadie jugo\") "
   ]
  },
  {
   "cell_type": "markdown",
   "metadata": {},
   "source": [
    "### punto 2\n",
    "Una ronda con 4 jugadores menos controlados que reconocen la probabilidad de ganar después del primer lanzamiento y que la probabilidad de su apuesta depende de un valor aleatorio que se escoge según una distribución normal con media 0.6 y desviación estándar 0.1. "
   ]
  },
  {
   "cell_type": "code",
   "execution_count": 11,
   "metadata": {},
   "outputs": [],
   "source": [
    "def apostar_1():\n",
    "    p = 1/6\n",
    "    opciones, prob, lan = [1,2,3,4,5,6], [p]*6, 1\n",
    "    dado=int(np.random.choice(opciones, size=lan, p=prob))\n",
    "    if dado==1:\n",
    "        return(2)\n",
    "    elif dado== 6:\n",
    "        retractarse=int(np.random.normal(0.6,0.1,1))\n",
    "        while retractarse <= 0:\n",
    "            retractarse=int(np.random.normal(0.6,0.1,1))\n",
    "        if retractarse < 0.5:\n",
    "            return(2)\n",
    "        else:\n",
    "            dado_2=int(np.random.choice(opciones, size=lan, p=prob))\n",
    "            if dado_2<dado:\n",
    "                return(1)\n",
    "            else:\n",
    "                return(2)\n",
    "    else:\n",
    "        eleccion=np.random.choice(['mayor','menor'])\n",
    "        dado_2=int(np.random.choice(opciones, size=lan, p=prob))\n",
    "        if eleccion=='mayor':\n",
    "            if dado_2>dado:\n",
    "                return(1)\n",
    "            else:\n",
    "                return(2)\n",
    "        elif eleccion=='menor':\n",
    "            if dado_2<dado:\n",
    "                return(1)\n",
    "            else:\n",
    "                return(2)"
   ]
  },
  {
   "cell_type": "code",
   "execution_count": 142,
   "metadata": {},
   "outputs": [
    {
     "name": "stdout",
     "output_type": "stream",
     "text": [
      "gano el jugador 4\n",
      "el jugador gano 242.25\n",
      "el casino gano 12.75\n"
     ]
    }
   ],
   "source": [
    "### un juego con media 0.6 y desviacion 0.1\n",
    "persona=1\n",
    "participa=0\n",
    "apuesta=int(np.random.choice(200,1))\n",
    "while apuesta <= 10:\n",
    "    apuesta=int(np.random.choice(200,1))\n",
    "    \n",
    "ganancia=0    \n",
    "while persona<=4:\n",
    "    probabilidad_apuesta=int(np.random.normal(0.6,0.1,1))\n",
    "    while probabilidad_apuesta <= 0:\n",
    "        probabilidad_apuesta=np.random.normal(0.6,0.1,1)\n",
    "    if probabilidad_apuesta >=0.5:\n",
    "        participa+=1\n",
    "        if apostar_1()==1:\n",
    "            ganancia=ganancia+(participa*apuesta)*0.95\n",
    "            casino=(participa*apuesta)*0.05\n",
    "            print(\"gano el jugador {}\".format(persona))\n",
    "            print(\"el jugador gano {}\".format(ganancia))\n",
    "            print(\"el casino gano {}\".format(casino))\n",
    "            persona=5\n",
    "        else:\n",
    "            persona=persona+1\n",
    "    else:\n",
    "        persona=persona+1\n",
    "\n",
    "if ganancia==0:\n",
    "    if participa!=0:\n",
    "        ganancia=ganancia+(participa*apuesta)\n",
    "        print(\"el casino gano {}\".format(ganancia))\n",
    "    else:\n",
    "        print(\"nadie jugo\")"
   ]
  },
  {
   "cell_type": "markdown",
   "metadata": {},
   "source": [
    "### punto 3\n",
    "Una ronda con 6 jugadores que reconocen la probabilidad de ganar después del primer lanzamiento y que la probabilidad de su apuesta depende de que el valor supere 0.5 "
   ]
  },
  {
   "cell_type": "code",
   "execution_count": 143,
   "metadata": {},
   "outputs": [
    {
     "name": "stdout",
     "output_type": "stream",
     "text": [
      "gano el jugador 5\n",
      "el jugador gano 139.65\n",
      "el casino gano 7.3500000000000005\n"
     ]
    }
   ],
   "source": [
    "persona=1\n",
    "participa=0\n",
    "apuesta=int(np.random.choice(200,1))\n",
    "while apuesta <= 10:\n",
    "    apuesta=int(np.random.choice(200,1))\n",
    "    \n",
    "ganancia=0    \n",
    "while persona<=6:\n",
    "    probabilidad_apuesta=int(np.random.normal(0,1,1))\n",
    "    while probabilidad_apuesta <= 0:\n",
    "        probabilidad_apuesta=np.random.normal(0,1,1)\n",
    "    if probabilidad_apuesta >0.5:\n",
    "        participa+=1\n",
    "        if apostar()==1:\n",
    "            ganancia=ganancia+(participa*apuesta)*0.95\n",
    "            casino=(participa*apuesta)*0.05\n",
    "            print(\"gano el jugador {}\".format(persona))\n",
    "            print(\"el jugador gano {}\".format(ganancia))\n",
    "            print(\"el casino gano {}\".format(casino))\n",
    "            persona=7\n",
    "        else:\n",
    "            persona=persona+1\n",
    "    else:\n",
    "        persona=persona+1\n",
    "\n",
    "if ganancia==0:\n",
    "    if participa!=0:\n",
    "        ganancia=ganancia+(participa*apuesta)\n",
    "        print(\"el casino gano {}\".format(ganancia))\n",
    "    else:\n",
    "        print(\"nadie jugo\")\n",
    "    "
   ]
  },
  {
   "cell_type": "markdown",
   "metadata": {},
   "source": [
    "### Punto 4\n",
    "Una ronda con 6 jugadores menos controlados que reconocen la probabilidad de ganar después del primer lanzamiento y que la probabilidad de su apuesta depende de un valor aleatorio que se escoge según una distribución normal con media 0.6 y desviación estándar 0.1."
   ]
  },
  {
   "cell_type": "code",
   "execution_count": 144,
   "metadata": {},
   "outputs": [
    {
     "name": "stdout",
     "output_type": "stream",
     "text": [
      "gano el jugador 4\n",
      "el jugador gano 407.54999999999995\n",
      "el casino gano 21.450000000000003\n",
      "3\n"
     ]
    }
   ],
   "source": [
    "persona=1\n",
    "participa=0\n",
    "apuesta=int(np.random.choice(200,1))\n",
    "while apuesta <= 10:\n",
    "    apuesta=int(np.random.choice(200,1))\n",
    "    \n",
    "ganancia=0    \n",
    "while persona<=6:\n",
    "    probabilidad_apuesta=int(np.random.normal(0.6,0.1,1))\n",
    "    while probabilidad_apuesta <= 0:\n",
    "        probabilidad_apuesta=np.random.normal(0.6,0.1,1)\n",
    "    if probabilidad_apuesta >=0.5:\n",
    "        participa+=1\n",
    "        if apostar_1()==1:\n",
    "            ganancia=ganancia+(participa*apuesta)*0.95\n",
    "            casino=(participa*apuesta)*0.05\n",
    "            print(\"gano el jugador {}\".format(persona))\n",
    "            print(\"el jugador gano {}\".format(ganancia))\n",
    "            print(\"el casino gano {}\".format(casino))\n",
    "            print(participa)\n",
    "            persona=7\n",
    "        else:\n",
    "            persona=persona+1\n",
    "    else:\n",
    "        persona=persona+1\n",
    "\n",
    "if ganancia==0:\n",
    "    if participa!=0:\n",
    "        ganancia=ganancia+(participa*apuesta)\n",
    "        print(\"el casino gano {}\".format(ganancia))\n",
    "    else:\n",
    "        print(\"nadie jugo\")"
   ]
  },
  {
   "cell_type": "markdown",
   "metadata": {},
   "source": [
    "### punto 5\n",
    "Haga varias simulaciones con las condiciones anteriores, suponga que el valor de la apuesta se puede escoger entre [5.000, 10.000, 20.000, 50.000], permitase trabajar con varias distribuciones para escoger en valor de la apuesta."
   ]
  },
  {
   "cell_type": "code",
   "execution_count": 145,
   "metadata": {},
   "outputs": [],
   "source": [
    "participantes=[]\n",
    "distribucion=[]\n",
    "apuesta_1=[]\n",
    "ganador=[]\n",
    "ganacia_casino=[]\n",
    "for a in range(400):\n",
    "    persona=1\n",
    "    participa=0\n",
    "    mode=int(np.random.choice([1,2,3,4],1))\n",
    "    if mode==1:\n",
    "        apuesta=int(np.random.choice([5000,10000,20000,50000],1))\n",
    "    elif mode==2:\n",
    "        apuesta=int(np.random.choice([5000,10000,20000,50000],1,p=[0.4, 0.3, 0.2, 0.1]))\n",
    "    elif mode==3:\n",
    "        apuesta=int(np.random.choice([5000,10000,20000,50000],1, replace=False))\n",
    "    elif mode==4:\n",
    "        apuesta=int(np.random.choice([5000,10000,20000,50000],1, replace=False,p=[0.4, 0.3, 0.2, 0.1])) \n",
    "    distribucion.append(mode)\n",
    "    ganancia=0\n",
    "    while persona<=6:\n",
    "        probabilidad_apuesta=int(np.random.normal(0.6,0.1,1))\n",
    "        while probabilidad_apuesta <= 0:\n",
    "            probabilidad_apuesta=np.random.normal(0.6,0.1,1)\n",
    "        if probabilidad_apuesta >0.5:\n",
    "            participa+=1\n",
    "            if apostar_1()==1:\n",
    "                ganancia=ganancia+(participa*apuesta)*0.95\n",
    "                casino=(participa*apuesta)*0.05\n",
    "                ganacia_casino.append(casino)\n",
    "                participantes.append(participa)\n",
    "                apuesta_1.append(ganancia)\n",
    "                ganador.append(persona)\n",
    "                persona=7\n",
    "            else:\n",
    "                persona=persona+1\n",
    "        else:\n",
    "            persona=persona+1\n",
    "\n",
    "    if ganancia==0:\n",
    "        if participa!=0:\n",
    "            ganancia=ganancia+(participa*apuesta)\n",
    "            participantes.append(participa)\n",
    "            apuesta_1.append(apuesta)\n",
    "            ganacia_casino.append(ganancia)\n",
    "            ganador.append(0)\n",
    "        else:\n",
    "            print(\"nadie jugo\")\n",
    "            participantes.append(0)\n",
    "            apuesta_1.append(0)\n",
    "            ganacia_casino.append(0)\n",
    "            ganador.append(0)\n",
    "            \n",
    "datos=pd.DataFrame()\n",
    "datos['participantes']=participantes\n",
    "datos['distribucion']=distribucion\n",
    "datos['apuesta']=apuesta_1\n",
    "datos['ganador']=ganador\n",
    "datos['casino']=ganacia_casino"
   ]
  },
  {
   "cell_type": "code",
   "execution_count": 149,
   "metadata": {},
   "outputs": [
    {
     "data": {
      "text/html": [
       "<div>\n",
       "<style scoped>\n",
       "    .dataframe tbody tr th:only-of-type {\n",
       "        vertical-align: middle;\n",
       "    }\n",
       "\n",
       "    .dataframe tbody tr th {\n",
       "        vertical-align: top;\n",
       "    }\n",
       "\n",
       "    .dataframe thead th {\n",
       "        text-align: right;\n",
       "    }\n",
       "</style>\n",
       "<table border=\"1\" class=\"dataframe\">\n",
       "  <thead>\n",
       "    <tr style=\"text-align: right;\">\n",
       "      <th></th>\n",
       "      <th>participantes</th>\n",
       "      <th>distribucion</th>\n",
       "      <th>apuesta</th>\n",
       "      <th>ganador</th>\n",
       "      <th>casino</th>\n",
       "    </tr>\n",
       "  </thead>\n",
       "  <tbody>\n",
       "    <tr>\n",
       "      <th>0</th>\n",
       "      <td>4</td>\n",
       "      <td>1</td>\n",
       "      <td>76000.0</td>\n",
       "      <td>4</td>\n",
       "      <td>4000.0</td>\n",
       "    </tr>\n",
       "    <tr>\n",
       "      <th>1</th>\n",
       "      <td>2</td>\n",
       "      <td>3</td>\n",
       "      <td>38000.0</td>\n",
       "      <td>2</td>\n",
       "      <td>2000.0</td>\n",
       "    </tr>\n",
       "    <tr>\n",
       "      <th>2</th>\n",
       "      <td>4</td>\n",
       "      <td>4</td>\n",
       "      <td>20000.0</td>\n",
       "      <td>0</td>\n",
       "      <td>80000.0</td>\n",
       "    </tr>\n",
       "    <tr>\n",
       "      <th>3</th>\n",
       "      <td>1</td>\n",
       "      <td>2</td>\n",
       "      <td>9500.0</td>\n",
       "      <td>1</td>\n",
       "      <td>500.0</td>\n",
       "    </tr>\n",
       "    <tr>\n",
       "      <th>4</th>\n",
       "      <td>2</td>\n",
       "      <td>3</td>\n",
       "      <td>38000.0</td>\n",
       "      <td>3</td>\n",
       "      <td>2000.0</td>\n",
       "    </tr>\n",
       "  </tbody>\n",
       "</table>\n",
       "</div>"
      ],
      "text/plain": [
       "   participantes  distribucion  apuesta  ganador   casino\n",
       "0              4             1  76000.0        4   4000.0\n",
       "1              2             3  38000.0        2   2000.0\n",
       "2              4             4  20000.0        0  80000.0\n",
       "3              1             2   9500.0        1    500.0\n",
       "4              2             3  38000.0        3   2000.0"
      ]
     },
     "execution_count": 149,
     "metadata": {},
     "output_type": "execute_result"
    }
   ],
   "source": [
    "datos.head(5)"
   ]
  },
  {
   "cell_type": "markdown",
   "metadata": {},
   "source": [
    "### punto 6\n",
    "La llegada de de nuevos jugadores se puede plantear con una distribución de Poisson, suponga que cada hora llegan 50 jugadores desde la apertura del sitio a las 4:00 pm hasta el cierre a las 3:00 am, todos duran exactamente 5 horas jugando, podría simular las mesas que se van armando si se pueden hacer rondas de solo 4 y 6 jugadores y cada ronda dura aproximadamente 20 min."
   ]
  },
  {
   "cell_type": "code",
   "execution_count": 3,
   "metadata": {},
   "outputs": [],
   "source": [
    "### 11 horas, este codigo se corre 11 veces \n",
    "entrada=list(np.sort(np.random.poisson(20,50)))"
   ]
  },
  {
   "cell_type": "code",
   "execution_count": 11,
   "metadata": {},
   "outputs": [
    {
     "data": {
      "text/plain": [
       "17"
      ]
     },
     "execution_count": 11,
     "metadata": {},
     "output_type": "execute_result"
    }
   ],
   "source": [
    "### tiempo que puede durar una partida\n",
    "ronda=int(np.random.choice([a+1 for a in range(20)],1))\n",
    "ronda"
   ]
  },
  {
   "cell_type": "code",
   "execution_count": 2,
   "metadata": {},
   "outputs": [],
   "source": [
    "horario=pd.DataFrame()\n",
    "for num in [a for a in range(11)]:\n",
    "    if num==0:\n",
    "        entrada=list(np.sort(np.random.poisson(20,50)))\n",
    "        salida=[a+300 for a in entrada]\n",
    "    elif num>=6:\n",
    "        for a in list(np.sort(np.random.poisson(20,50))):\n",
    "            entrada.append(a+(60*num))\n",
    "            salida.append(680)\n",
    "    else:\n",
    "        for a in list(np.sort(np.random.poisson(20,50))):\n",
    "            entrada.append(a+(60*num))\n",
    "            salida.append(a+(60*num)+300)\n",
    "\n",
    "horario['entrada']=entrada\n",
    "horario['salida']=salida\n"
   ]
  },
  {
   "cell_type": "code",
   "execution_count": 3,
   "metadata": {},
   "outputs": [
    {
     "data": {
      "text/html": [
       "<div>\n",
       "<style scoped>\n",
       "    .dataframe tbody tr th:only-of-type {\n",
       "        vertical-align: middle;\n",
       "    }\n",
       "\n",
       "    .dataframe tbody tr th {\n",
       "        vertical-align: top;\n",
       "    }\n",
       "\n",
       "    .dataframe thead th {\n",
       "        text-align: right;\n",
       "    }\n",
       "</style>\n",
       "<table border=\"1\" class=\"dataframe\">\n",
       "  <thead>\n",
       "    <tr style=\"text-align: right;\">\n",
       "      <th></th>\n",
       "      <th>entrada</th>\n",
       "      <th>salida</th>\n",
       "    </tr>\n",
       "  </thead>\n",
       "  <tbody>\n",
       "    <tr>\n",
       "      <th>0</th>\n",
       "      <td>9</td>\n",
       "      <td>309</td>\n",
       "    </tr>\n",
       "    <tr>\n",
       "      <th>1</th>\n",
       "      <td>12</td>\n",
       "      <td>312</td>\n",
       "    </tr>\n",
       "    <tr>\n",
       "      <th>2</th>\n",
       "      <td>12</td>\n",
       "      <td>312</td>\n",
       "    </tr>\n",
       "    <tr>\n",
       "      <th>3</th>\n",
       "      <td>13</td>\n",
       "      <td>313</td>\n",
       "    </tr>\n",
       "    <tr>\n",
       "      <th>4</th>\n",
       "      <td>14</td>\n",
       "      <td>314</td>\n",
       "    </tr>\n",
       "    <tr>\n",
       "      <th>5</th>\n",
       "      <td>15</td>\n",
       "      <td>315</td>\n",
       "    </tr>\n",
       "    <tr>\n",
       "      <th>6</th>\n",
       "      <td>15</td>\n",
       "      <td>315</td>\n",
       "    </tr>\n",
       "    <tr>\n",
       "      <th>7</th>\n",
       "      <td>15</td>\n",
       "      <td>315</td>\n",
       "    </tr>\n",
       "    <tr>\n",
       "      <th>8</th>\n",
       "      <td>16</td>\n",
       "      <td>316</td>\n",
       "    </tr>\n",
       "    <tr>\n",
       "      <th>9</th>\n",
       "      <td>16</td>\n",
       "      <td>316</td>\n",
       "    </tr>\n",
       "  </tbody>\n",
       "</table>\n",
       "</div>"
      ],
      "text/plain": [
       "   entrada  salida\n",
       "0        9     309\n",
       "1       12     312\n",
       "2       12     312\n",
       "3       13     313\n",
       "4       14     314\n",
       "5       15     315\n",
       "6       15     315\n",
       "7       15     315\n",
       "8       16     316\n",
       "9       16     316"
      ]
     },
     "execution_count": 3,
     "metadata": {},
     "output_type": "execute_result"
    }
   ],
   "source": [
    "horario.head(10)"
   ]
  },
  {
   "cell_type": "code",
   "execution_count": 58,
   "metadata": {},
   "outputs": [
    {
     "data": {
      "text/plain": [
       "[0, 1, 2, 3, 17, 18, 19, 20, 21]"
      ]
     },
     "execution_count": 58,
     "metadata": {},
     "output_type": "execute_result"
    }
   ],
   "source": []
  },
  {
   "cell_type": "code",
   "execution_count": 60,
   "metadata": {},
   "outputs": [
    {
     "data": {
      "text/plain": [
       "2"
      ]
     },
     "execution_count": 60,
     "metadata": {},
     "output_type": "execute_result"
    }
   ],
   "source": []
  },
  {
   "cell_type": "code",
   "execution_count": 34,
   "metadata": {
    "collapsed": true,
    "jupyter": {
     "outputs_hidden": true,
     "source_hidden": true
    },
    "tags": []
   },
   "outputs": [
    {
     "name": "stdout",
     "output_type": "stream",
     "text": [
      "0 0 []\n",
      "0 1 []\n",
      "0 2 []\n",
      "0 3 []\n",
      "0 4 []\n",
      "0 5 []\n",
      "0 6 []\n",
      "0 7 []\n",
      "0 8 []\n",
      "1 9 [0]\n",
      "1 10 [0]\n",
      "1 11 [0]\n",
      "2 12 [0, 1]\n",
      "3 13 [0, 1, 2]\n",
      "6 14 [0, 1, 2, 3, 4, 5]\n",
      "1 15 [6]\n",
      "3 16 [6, 7, 8]\n",
      "10 17 [6, 7, 8, 9, 10, 11, 12, 13, 14, 15]\n",
      "3 18 [16, 17, 18]\n",
      "3 19 [16, 17, 18]\n"
     ]
    }
   ],
   "source": [
    "\n",
    "### base\n",
    "lista=list(horario.entrada)\n",
    "lista=lista[:19]\n",
    "lista_2=list(horario.salida)\n",
    "lista_2=lista_2[:19]\n",
    "for c in range(20):\n",
    "    resultado=[]\n",
    "    for x,y in enumerate(lista):\n",
    "        if c==y:\n",
    "            resultado.append(x)\n",
    "            if len(resultado)<6:\n",
    "                for u in range(len(resultado)):\n",
    "                    lista[resultado[u]]=c+1\n",
    "            elif len(resultado)>=6:\n",
    "                for u in range(len(resultado)):\n",
    "                    lista[resultado[u]]=c+10\n",
    "    print(len(resultado),c,resultado)\n",
    "    #print('-----')\n",
    "    #print(lista)"
   ]
  },
  {
   "cell_type": "code",
   "execution_count": 35,
   "metadata": {},
   "outputs": [],
   "source": []
  },
  {
   "cell_type": "code",
   "execution_count": 38,
   "metadata": {},
   "outputs": [
    {
     "name": "stdout",
     "output_type": "stream",
     "text": [
      "[3, 4, 5, 6, 7, 8, 9, 10]\n",
      "-1\n"
     ]
    }
   ],
   "source": [
    "prueba=[1,2,3,4,5,6,7,8,9,10,11]\n",
    "prueba_2=[5,5,4,6,9]\n",
    "valor=0\n",
    "while valor!=-1:\n",
    "    try:\n",
    "        valor=prueba_2.index(5)\n",
    "    except:\n",
    "        valor=-1\n",
    "    prueba.pop(valor)\n",
    "    prueba_2.pop(valor)\n",
    "print(prueba)\n",
    "print(valor)\n"
   ]
  },
  {
   "cell_type": "markdown",
   "metadata": {},
   "source": [
    "### Punto 6: funcional"
   ]
  },
  {
   "cell_type": "code",
   "execution_count": 3,
   "metadata": {
    "jupyter": {
     "source_hidden": true
    },
    "tags": []
   },
   "outputs": [
    {
     "name": "stdout",
     "output_type": "stream",
     "text": [
      "0 0 []\n",
      "0 1 []\n",
      "0 2 []\n",
      "0 3 []\n",
      "0 4 []\n",
      "0 5 []\n",
      "0 6 []\n",
      "0 7 []\n",
      "0 8 []\n",
      "0 9 []\n",
      "0 10 []\n",
      "2 11 [0, 1]\n",
      "[0, 1, 2, 3] grupo de 4 de 0\n",
      "9\n",
      "4 12 [0, 1, 2, 3]\n",
      "1 13 [4]\n",
      "[4, 5, 6, 7] grupo de 4 de 0\n",
      "14\n",
      "4 14 [4, 5, 6, 7]\n",
      "1 15 [8]\n",
      "1 16 [8]\n",
      "3 17 [8, 9, 10]\n",
      "10 18 [8, 9, 10, 11, 12, 13, 14, 15, 16, 17]\n",
      "3 19 [16, 17, 18]\n"
     ]
    }
   ],
   "source": [
    "lista=list(horario.entrada)\n",
    "lista=lista[:19]\n",
    "lista_2=list(horario.salida)\n",
    "lista_2=lista_2[:19]\n",
    "juegos=0\n",
    "for c in range(20):\n",
    "    resultado=[]\n",
    "    for x,y in enumerate(lista):\n",
    "        if c==y:\n",
    "            resultado.append(x)\n",
    "            if len(resultado)<4:\n",
    "                for u in range(len(resultado)):\n",
    "                    lista[resultado[u]]=c+1\n",
    "    if len(resultado)>=4:\n",
    "        if len(resultado)%4==0:\n",
    "            d=int(len(resultado)/4)\n",
    "            r=0\n",
    "            while d>r:\n",
    "                ronda=int(np.random.choice([a+1 for a in range(20)],1))\n",
    "                print(resultado[r*4:4*(r+1)],'grupo de 4 de',r)\n",
    "                print(ronda)\n",
    "                for u in resultado[r*4:4*(r+1)]:\n",
    "                    lista[u]=c+ronda\n",
    "                    juegos+=1\n",
    "                    r+=1\n",
    "        elif len(resultado)%6==0:\n",
    "            d=int(len(resultado)/6)\n",
    "            r=0\n",
    "            while d>r:\n",
    "                ronda=int(np.random.choice([a+1 for a in range(20)],1))\n",
    "                print(resultado[r*6:6*(r+1)],'grupo de 6 de',r)\n",
    "                print(ronda)\n",
    "                for u in resultado[r*6:6*(r+1)]:\n",
    "                    lista[u]=c+ronda\n",
    "                juegos+=1\n",
    "                r+=1\n",
    "        else:\n",
    "            d=int(len(resultado)/4)\n",
    "            r=0\n",
    "            while d>r:\n",
    "                ronda=int(np.random.choice([a+1 for a in range(20)],1))\n",
    "                for u in resultado[r*4:4*(r+1)]:\n",
    "                    lista[u]=c+ronda\n",
    "                r+=1\n",
    "                juegos+=1\n",
    "            if (len(resultado)/4)-int(len(resultado)/4)==0.25:\n",
    "                for u in resultado[-1:]:\n",
    "                    lista[u]=c+1\n",
    "            elif (len(resultado)/4)-int(len(resultado)/4)==0.5:\n",
    "                for u in resultado[-2:]:\n",
    "                    lista[u]=c+1\n",
    "            else:\n",
    "                for u in resultado[-3:]:\n",
    "                    lista[u]=c+1\n",
    "    print(len(resultado),c,resultado)"
   ]
  },
  {
   "cell_type": "code",
   "execution_count": null,
   "metadata": {
    "collapsed": true,
    "jupyter": {
     "outputs_hidden": true,
     "source_hidden": true
    },
    "tags": []
   },
   "outputs": [
    {
     "name": "stdout",
     "output_type": "stream",
     "text": [
      "0 0 []\n",
      "0 1 []\n",
      "0 2 []\n",
      "0 3 []\n",
      "0 4 []\n",
      "0 5 []\n",
      "0 6 []\n",
      "0 7 []\n",
      "0 8 []\n",
      "0 9 []\n",
      "0 10 []\n",
      "1 11 [0]\n",
      "1 12 [0]\n",
      "2 13 [0, 1]\n",
      "7 6 el grupo con 6 el 0\n",
      "11 6 el grupo con 6 el 1\n",
      "4 14 [0, 1, 2, 3]\n",
      "2 15 [4, 5]\n",
      "6 6 el grupo con 6 el 0\n",
      "4 6 el grupo con 6 el 1\n",
      "1 el grupo con 4 el 0\n",
      "5 el grupo con 4 el 1\n",
      "18 el grupo con 4 el 2\n",
      "5 16 [4, 5, 6, 7, 8]\n",
      "10 6 el grupo con 6 el 0\n",
      "4 6 el grupo con 6 el 1\n",
      "4 17 [9, 10, 11, 12]\n",
      "19 6 el grupo con 6 el 0\n",
      "4 6 el grupo con 6 el 1\n",
      "3 el grupo con 4 el 0\n",
      "8 el grupo con 4 el 1\n",
      "17 el grupo con 4 el 2\n",
      "5 18 [13, 14, 15, 16, 17]\n",
      "1 19 [18]\n"
     ]
    }
   ],
   "source": [
    "lista=list(horario.entrada)\n",
    "lista=lista[:19]\n",
    "lista_2=list(horario.salida)\n",
    "lista_2=lista_2[:19]\n",
    "for c in range(20):\n",
    "    resultado=[]\n",
    "    for x,y in enumerate(lista):\n",
    "        if c==y:\n",
    "            resultado.append(x)\n",
    "            if len(resultado)<4:\n",
    "                for u in range(len(resultado)):\n",
    "                    lista[resultado[u]]=c+1\n",
    "            elif len(resultado)>=4:\n",
    "                if len(resultado)%4:\n",
    "                    r\n",
    "                elif len(resultado)%6:\n",
    "                    g\n",
    "                else:\n",
    "                \n",
    "                for u in range(len(resultado)):\n",
    "                    lista[resultado[u]]=c+10\n",
    "    print(len(resultado),c,resultado)\n",
    "    #print('-----')\n",
    "    #print(lista)"
   ]
  },
  {
   "cell_type": "code",
   "execution_count": 17,
   "metadata": {},
   "outputs": [
    {
     "name": "stdout",
     "output_type": "stream",
     "text": [
      "El total de la lista 550\n",
      "944\n",
      "48\n",
      "Final de la lista 350\n"
     ]
    }
   ],
   "source": [
    "lista=list(horario.entrada)\n",
    "#lista=lista[:300]\n",
    "lista_2=list(horario.salida)\n",
    "#lista_2=lista_2[:300]\n",
    "juegos_4=0\n",
    "juegos_6=0\n",
    "print('El total de la lista',len(lista))\n",
    "for c in range(550):\n",
    "    resultado=[]\n",
    "    valor=0\n",
    "    while valor!=-1:\n",
    "        try:\n",
    "            valor=lista_2.index(c)\n",
    "            lista_2.pop(valor)\n",
    "            lista.pop(valor)\n",
    "        except:\n",
    "            valor=-1\n",
    "    for x,y in enumerate(lista):\n",
    "        if c==y:\n",
    "            resultado.append(x)\n",
    "            if len(resultado)<4:\n",
    "                for u in range(len(resultado)):\n",
    "                    lista[resultado[u]]=c+1\n",
    "    if len(resultado)>=4:\n",
    "        if len(resultado)%4==0:\n",
    "            d=int(len(resultado)/4)\n",
    "            r=0\n",
    "            while d>r:\n",
    "                ronda=int(np.random.choice([a+1 for a in range(20)],1))\n",
    "                for u in resultado[r*4:4*(r+1)]:\n",
    "                    lista[u]=c+ronda\n",
    "                    juegos_4+=1\n",
    "                    r+=1\n",
    "        elif len(resultado)%6==0:\n",
    "            d=int(len(resultado)/6)\n",
    "            r=0\n",
    "            while d>r:\n",
    "                ronda=int(np.random.choice([a+1 for a in range(20)],1))\n",
    "                for u in resultado[r*6:6*(r+1)]:\n",
    "                    lista[u]=c+ronda\n",
    "                juegos_6+=1\n",
    "                r+=1\n",
    "        else:\n",
    "            d=int(len(resultado)/4)\n",
    "            r=0\n",
    "            while d>r:\n",
    "                ronda=int(np.random.choice([a+1 for a in range(20)],1))\n",
    "                for u in resultado[r*4:4*(r+1)]:\n",
    "                    lista[u]=c+ronda\n",
    "                r+=1\n",
    "                juegos_4+=1\n",
    "            if (len(resultado)/4)-int(len(resultado)/4)==0.25:\n",
    "                for u in resultado[-1:]:\n",
    "                    lista[u]=c+1\n",
    "            elif (len(resultado)/4)-int(len(resultado)/4)==0.5:\n",
    "                for u in resultado[-2:]:\n",
    "                    lista[u]=c+1\n",
    "            else:\n",
    "                for u in resultado[-3:]:\n",
    "                    lista[u]=c+1\n",
    "print(juegos_4)\n",
    "print(juegos_6)\n",
    "print('Final de la lista',len(lista))"
   ]
  },
  {
   "cell_type": "markdown",
   "metadata": {},
   "source": [
    "### punto 7\n",
    "Simule las ganancias del casino en una jornada de guayabita."
   ]
  },
  {
   "cell_type": "code",
   "execution_count": 12,
   "metadata": {},
   "outputs": [],
   "source": [
    "## Para 6 \n",
    "participantes=[]\n",
    "distribucion=[]\n",
    "apuesta_1=[]\n",
    "ganador=[]\n",
    "ganacia_casino=[]\n",
    "for a in range(juegos_6):\n",
    "    persona=1\n",
    "    participa=0\n",
    "    mode=int(np.random.choice([1,2,3,4],1))\n",
    "    if mode==1:\n",
    "        apuesta=int(np.random.choice([5000,10000,20000,50000],1))\n",
    "    elif mode==2:\n",
    "        apuesta=int(np.random.choice([5000,10000,20000,50000],1,p=[0.4, 0.3, 0.2, 0.1]))\n",
    "    elif mode==3:\n",
    "        apuesta=int(np.random.choice([5000,10000,20000,50000],1, replace=False))\n",
    "    elif mode==4:\n",
    "        apuesta=int(np.random.choice([5000,10000,20000,50000],1, replace=False,p=[0.4, 0.3, 0.2, 0.1])) \n",
    "    distribucion.append(mode)\n",
    "    ganancia=0\n",
    "    while persona<=6:\n",
    "        probabilidad_apuesta=int(np.random.normal(0.6,0.1,1))\n",
    "        while probabilidad_apuesta <= 0:\n",
    "            probabilidad_apuesta=np.random.normal(0.6,0.1,1)\n",
    "        if probabilidad_apuesta >0.5:\n",
    "            participa+=1\n",
    "            if apostar_1()==1:\n",
    "                ganancia=ganancia+(participa*apuesta)*0.95\n",
    "                casino=(participa*apuesta)*0.05\n",
    "                ganacia_casino.append(casino)\n",
    "                participantes.append(participa)\n",
    "                apuesta_1.append(ganancia)\n",
    "                ganador.append(persona)\n",
    "                persona=7\n",
    "            else:\n",
    "                persona=persona+1\n",
    "        else:\n",
    "            persona=persona+1\n",
    "\n",
    "    if ganancia==0:\n",
    "        if participa!=0:\n",
    "            ganancia=ganancia+(participa*apuesta)\n",
    "            participantes.append(participa)\n",
    "            apuesta_1.append(apuesta)\n",
    "            ganacia_casino.append(ganancia)\n",
    "            ganador.append(0)\n",
    "        else:\n",
    "            print(\"nadie jugo\")\n",
    "            participantes.append(0)\n",
    "            apuesta_1.append(0)\n",
    "            ganacia_casino.append(0)\n",
    "            ganador.append(0)\n",
    "            \n",
    "datos=pd.DataFrame()\n",
    "datos['participantes']=participantes\n",
    "datos['distribucion']=distribucion\n",
    "datos['apuesta']=apuesta_1\n",
    "datos['ganador']=ganador\n",
    "datos['casino']=ganacia_casino"
   ]
  },
  {
   "cell_type": "code",
   "execution_count": 13,
   "metadata": {},
   "outputs": [],
   "source": [
    "## para 4 \n",
    "participantes=[]\n",
    "distribucion=[]\n",
    "apuesta_1=[]\n",
    "ganador=[]\n",
    "ganacia_casino=[]\n",
    "for a in range(juegos_4):\n",
    "    persona=1\n",
    "    participa=0\n",
    "    mode=int(np.random.choice([1,2,3,4],1))\n",
    "    if mode==1:\n",
    "        apuesta=int(np.random.choice([5000,10000,20000,50000],1))\n",
    "    elif mode==2:\n",
    "        apuesta=int(np.random.choice([5000,10000,20000,50000],1,p=[0.4, 0.3, 0.2, 0.1]))\n",
    "    elif mode==3:\n",
    "        apuesta=int(np.random.choice([5000,10000,20000,50000],1, replace=False))\n",
    "    elif mode==4:\n",
    "        apuesta=int(np.random.choice([5000,10000,20000,50000],1, replace=False,p=[0.4, 0.3, 0.2, 0.1])) \n",
    "    distribucion.append(mode)\n",
    "    ganancia=0\n",
    "    while persona<=4:\n",
    "        probabilidad_apuesta=int(np.random.normal(0.6,0.1,1))\n",
    "        while probabilidad_apuesta <= 0:\n",
    "            probabilidad_apuesta=np.random.normal(0.6,0.1,1)\n",
    "        if probabilidad_apuesta >0.5:\n",
    "            participa+=1\n",
    "            if apostar_1()==1:\n",
    "                ganancia=ganancia+(participa*apuesta)*0.95\n",
    "                casino=(participa*apuesta)*0.05\n",
    "                ganacia_casino.append(casino)\n",
    "                participantes.append(participa)\n",
    "                apuesta_1.append(ganancia)\n",
    "                ganador.append(persona)\n",
    "                persona=7\n",
    "            else:\n",
    "                persona=persona+1\n",
    "        else:\n",
    "            persona=persona+1\n",
    "\n",
    "    if ganancia==0:\n",
    "        if participa!=0:\n",
    "            ganancia=ganancia+(participa*apuesta)\n",
    "            participantes.append(participa)\n",
    "            apuesta_1.append(apuesta)\n",
    "            ganacia_casino.append(ganancia)\n",
    "            ganador.append(0)\n",
    "        else:\n",
    "            print(\"nadie jugo\")\n",
    "            participantes.append(0)\n",
    "            apuesta_1.append(0)\n",
    "            ganacia_casino.append(0)\n",
    "            ganador.append(0)\n",
    "            \n",
    "datos_2=pd.DataFrame()\n",
    "datos_2['participantes']=participantes\n",
    "datos_2['distribucion']=distribucion\n",
    "datos_2['apuesta']=apuesta_1\n",
    "datos_2['ganador']=ganador\n",
    "datos_2['casino']=ganacia_casino"
   ]
  },
  {
   "cell_type": "code",
   "execution_count": 18,
   "metadata": {},
   "outputs": [],
   "source": [
    "resultado=pd.concat([datos,datos_2])"
   ]
  },
  {
   "cell_type": "code",
   "execution_count": 20,
   "metadata": {},
   "outputs": [
    {
     "data": {
      "text/plain": [
       "5311000.0"
      ]
     },
     "execution_count": 20,
     "metadata": {},
     "output_type": "execute_result"
    }
   ],
   "source": [
    "resultado.casino.sum()"
   ]
  },
  {
   "cell_type": "markdown",
   "metadata": {},
   "source": []
  }
 ],
 "metadata": {
  "kernelspec": {
   "display_name": "Python 3",
   "language": "python",
   "name": "python3"
  },
  "language_info": {
   "codemirror_mode": {
    "name": "ipython",
    "version": 3
   },
   "file_extension": ".py",
   "mimetype": "text/x-python",
   "name": "python",
   "nbconvert_exporter": "python",
   "pygments_lexer": "ipython3",
   "version": "3.8.5"
  }
 },
 "nbformat": 4,
 "nbformat_minor": 4
}
