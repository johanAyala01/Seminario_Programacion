{
 "cells": [
  {
   "cell_type": "markdown",
   "metadata": {},
   "source": [
    "<div style=\"padding: -5px;\n",
    "  text-align: center;\n",
    "  color: white;\n",
    "  font-size: 15px;\">\n",
    "   <img src=\"images/banner.jpg\" alt=\"MINE-Seminario de programación\" style=\"width:100%;\">\n",
    "  <h1 style=\"\n",
    "  position: absolute;\n",
    "  top: 5%;\n",
    "  left: 50%;\">Caso de Estudio</h1>\n",
    "</div>"
   ]
  },
  {
   "cell_type": "markdown",
   "metadata": {
    "toc": true
   },
   "source": [
    "<h1>Table of Contents<span class=\"tocSkip\"></span></h1>\n",
    "<div class=\"toc\"><ul class=\"toc-item\"><li><span><a href=\"#Exploración-datos\" data-toc-modified-id=\"Exploración-datos-1\"><span class=\"toc-item-num\">1&nbsp;&nbsp;</span>Exploración datos</a></span></li><li><span><a href=\"#Nivel-de-obesidad\" data-toc-modified-id=\"Nivel-de-obesidad-2\"><span class=\"toc-item-num\">2&nbsp;&nbsp;</span>Nivel de obesidad</a></span></li><li><span><a href=\"#Exploración-Previa---Solo-cuantitativa\" data-toc-modified-id=\"Exploración-Previa---Solo-cuantitativa-3\"><span class=\"toc-item-num\">3&nbsp;&nbsp;</span>Exploración Previa - Solo cuantitativa</a></span></li><li><span><a href=\"#Exploración-Total\" data-toc-modified-id=\"Exploración-Total-4\"><span class=\"toc-item-num\">4&nbsp;&nbsp;</span>Exploración Total</a></span></li><li><span><a href=\"#Aprendizaje-Supervisado\" data-toc-modified-id=\"Aprendizaje-Supervisado-5\"><span class=\"toc-item-num\">5&nbsp;&nbsp;</span>Aprendizaje Supervisado</a></span></li><li><span><a href=\"#Infome-Final\" data-toc-modified-id=\"Infome-Final-6\"><span class=\"toc-item-num\">6&nbsp;&nbsp;</span>Infome Final</a></span></li></ul></div>"
   ]
  },
  {
   "cell_type": "markdown",
   "metadata": {},
   "source": [
    "#  Nivel de obesidad"
   ]
  },
  {
   "cell_type": "markdown",
   "metadata": {},
   "source": [
    "En el siguiente enlace encontrarán una base de datos que permiten estimarlos niveles de obesidad en individuos de los países de México, Perú y Colombia, con base en sus hábitos alimenticios y condición física. Los datos contienen 17 atributos y 2111 registros, además, hay una variable `NObesidad` (Nivel de obesidad), que permite clasificar los datos utilizando los valores de Peso Insuficiente, Peso Normal, Nivel de Sobrepeso I, Nivel de Sobrepeso II, Obesidad Tipo I , Obesidad tipo II y Obesidad tipo III. El 77% de los datos se generaron sintéticamente utilizando la herramienta Weka y el filtro SMOTE, el 23% de los datos se recopilaron directamente de los usuarios a través de una plataforma web, la información acerca de los datos y los paper relevantes que se han creado a partir de este ejercicio lo pueden encontrar en:\n",
    "\n",
    "[ Estimation of obesity levels based on eating habits and physical condition Data Set ](https://archive.ics.uci.edu/ml/datasets/Estimation+of+obesity+levels+based+on+eating+habits+and+physical+condition+)\n",
    "\n"
   ]
  },
  {
   "cell_type": "markdown",
   "metadata": {},
   "source": [
    "Este ejercicio guiado pretende que ustedes hagan una exploración completa a la base, identifiquen grupos en la población y desarrolen modelos que permitan determinar el nivel de obesidad para cualquier individuo.\n",
    "\n",
    "Después de descargar, cargamos la base:"
   ]
  },
  {
   "cell_type": "code",
   "execution_count": 1,
   "metadata": {},
   "outputs": [],
   "source": [
    "import pandas as pd\n",
    "import matplotlib.pyplot as plt\n",
    "data=pd.read_csv('ObesityDataSet_raw_and_data_sinthetic.csv')"
   ]
  },
  {
   "cell_type": "code",
   "execution_count": 2,
   "metadata": {},
   "outputs": [],
   "source": [
    "data.columns=data.columns.str.lower()"
   ]
  },
  {
   "cell_type": "code",
   "execution_count": 3,
   "metadata": {},
   "outputs": [
    {
     "data": {
      "text/html": [
       "<div>\n",
       "<style scoped>\n",
       "    .dataframe tbody tr th:only-of-type {\n",
       "        vertical-align: middle;\n",
       "    }\n",
       "\n",
       "    .dataframe tbody tr th {\n",
       "        vertical-align: top;\n",
       "    }\n",
       "\n",
       "    .dataframe thead th {\n",
       "        text-align: right;\n",
       "    }\n",
       "</style>\n",
       "<table border=\"1\" class=\"dataframe\">\n",
       "  <thead>\n",
       "    <tr style=\"text-align: right;\">\n",
       "      <th></th>\n",
       "      <th>gender</th>\n",
       "      <th>age</th>\n",
       "      <th>height</th>\n",
       "      <th>weight</th>\n",
       "      <th>family_history_with_overweight</th>\n",
       "      <th>favc</th>\n",
       "      <th>fcvc</th>\n",
       "      <th>ncp</th>\n",
       "      <th>caec</th>\n",
       "      <th>smoke</th>\n",
       "      <th>ch2o</th>\n",
       "      <th>scc</th>\n",
       "      <th>faf</th>\n",
       "      <th>tue</th>\n",
       "      <th>calc</th>\n",
       "      <th>mtrans</th>\n",
       "      <th>nobeyesdad</th>\n",
       "    </tr>\n",
       "  </thead>\n",
       "  <tbody>\n",
       "    <tr>\n",
       "      <th>0</th>\n",
       "      <td>Female</td>\n",
       "      <td>21.0</td>\n",
       "      <td>1.62</td>\n",
       "      <td>64.0</td>\n",
       "      <td>yes</td>\n",
       "      <td>no</td>\n",
       "      <td>2.0</td>\n",
       "      <td>3.0</td>\n",
       "      <td>Sometimes</td>\n",
       "      <td>no</td>\n",
       "      <td>2.0</td>\n",
       "      <td>no</td>\n",
       "      <td>0.0</td>\n",
       "      <td>1.0</td>\n",
       "      <td>no</td>\n",
       "      <td>Public_Transportation</td>\n",
       "      <td>Normal_Weight</td>\n",
       "    </tr>\n",
       "    <tr>\n",
       "      <th>1</th>\n",
       "      <td>Female</td>\n",
       "      <td>21.0</td>\n",
       "      <td>1.52</td>\n",
       "      <td>56.0</td>\n",
       "      <td>yes</td>\n",
       "      <td>no</td>\n",
       "      <td>3.0</td>\n",
       "      <td>3.0</td>\n",
       "      <td>Sometimes</td>\n",
       "      <td>yes</td>\n",
       "      <td>3.0</td>\n",
       "      <td>yes</td>\n",
       "      <td>3.0</td>\n",
       "      <td>0.0</td>\n",
       "      <td>Sometimes</td>\n",
       "      <td>Public_Transportation</td>\n",
       "      <td>Normal_Weight</td>\n",
       "    </tr>\n",
       "    <tr>\n",
       "      <th>2</th>\n",
       "      <td>Male</td>\n",
       "      <td>23.0</td>\n",
       "      <td>1.80</td>\n",
       "      <td>77.0</td>\n",
       "      <td>yes</td>\n",
       "      <td>no</td>\n",
       "      <td>2.0</td>\n",
       "      <td>3.0</td>\n",
       "      <td>Sometimes</td>\n",
       "      <td>no</td>\n",
       "      <td>2.0</td>\n",
       "      <td>no</td>\n",
       "      <td>2.0</td>\n",
       "      <td>1.0</td>\n",
       "      <td>Frequently</td>\n",
       "      <td>Public_Transportation</td>\n",
       "      <td>Normal_Weight</td>\n",
       "    </tr>\n",
       "    <tr>\n",
       "      <th>3</th>\n",
       "      <td>Male</td>\n",
       "      <td>27.0</td>\n",
       "      <td>1.80</td>\n",
       "      <td>87.0</td>\n",
       "      <td>no</td>\n",
       "      <td>no</td>\n",
       "      <td>3.0</td>\n",
       "      <td>3.0</td>\n",
       "      <td>Sometimes</td>\n",
       "      <td>no</td>\n",
       "      <td>2.0</td>\n",
       "      <td>no</td>\n",
       "      <td>2.0</td>\n",
       "      <td>0.0</td>\n",
       "      <td>Frequently</td>\n",
       "      <td>Walking</td>\n",
       "      <td>Overweight_Level_I</td>\n",
       "    </tr>\n",
       "  </tbody>\n",
       "</table>\n",
       "</div>"
      ],
      "text/plain": [
       "   gender   age  height  weight family_history_with_overweight favc  fcvc  \\\n",
       "0  Female  21.0    1.62    64.0                            yes   no   2.0   \n",
       "1  Female  21.0    1.52    56.0                            yes   no   3.0   \n",
       "2    Male  23.0    1.80    77.0                            yes   no   2.0   \n",
       "3    Male  27.0    1.80    87.0                             no   no   3.0   \n",
       "\n",
       "   ncp       caec smoke  ch2o  scc  faf  tue        calc  \\\n",
       "0  3.0  Sometimes    no   2.0   no  0.0  1.0          no   \n",
       "1  3.0  Sometimes   yes   3.0  yes  3.0  0.0   Sometimes   \n",
       "2  3.0  Sometimes    no   2.0   no  2.0  1.0  Frequently   \n",
       "3  3.0  Sometimes    no   2.0   no  2.0  0.0  Frequently   \n",
       "\n",
       "                  mtrans          nobeyesdad  \n",
       "0  Public_Transportation       Normal_Weight  \n",
       "1  Public_Transportation       Normal_Weight  \n",
       "2  Public_Transportation       Normal_Weight  \n",
       "3                Walking  Overweight_Level_I  "
      ]
     },
     "execution_count": 3,
     "metadata": {},
     "output_type": "execute_result"
    }
   ],
   "source": [
    "data.head(4)"
   ]
  },
  {
   "cell_type": "code",
   "execution_count": 4,
   "metadata": {},
   "outputs": [],
   "source": [
    "data.rename(columns={'family_history_with_overweight':'family'},inplace=True)"
   ]
  },
  {
   "cell_type": "code",
   "execution_count": 10,
   "metadata": {},
   "outputs": [
    {
     "data": {
      "text/html": [
       "<div>\n",
       "<style scoped>\n",
       "    .dataframe tbody tr th:only-of-type {\n",
       "        vertical-align: middle;\n",
       "    }\n",
       "\n",
       "    .dataframe tbody tr th {\n",
       "        vertical-align: top;\n",
       "    }\n",
       "\n",
       "    .dataframe thead th {\n",
       "        text-align: right;\n",
       "    }\n",
       "</style>\n",
       "<table border=\"1\" class=\"dataframe\">\n",
       "  <thead>\n",
       "    <tr style=\"text-align: right;\">\n",
       "      <th>faf</th>\n",
       "      <th>0</th>\n",
       "      <th>1</th>\n",
       "      <th>2</th>\n",
       "      <th>3</th>\n",
       "      <th>All</th>\n",
       "    </tr>\n",
       "    <tr>\n",
       "      <th>nobeyesdad</th>\n",
       "      <th></th>\n",
       "      <th></th>\n",
       "      <th></th>\n",
       "      <th></th>\n",
       "      <th></th>\n",
       "    </tr>\n",
       "  </thead>\n",
       "  <tbody>\n",
       "    <tr>\n",
       "      <th>Insufficient_Weight</th>\n",
       "      <td>0.051634</td>\n",
       "      <td>0.030317</td>\n",
       "      <td>0.045002</td>\n",
       "      <td>0.001895</td>\n",
       "      <td>0.128849</td>\n",
       "    </tr>\n",
       "    <tr>\n",
       "      <th>Normal_Weight</th>\n",
       "      <td>0.037897</td>\n",
       "      <td>0.045950</td>\n",
       "      <td>0.032686</td>\n",
       "      <td>0.019422</td>\n",
       "      <td>0.135955</td>\n",
       "    </tr>\n",
       "    <tr>\n",
       "      <th>Obesity_Type_I</th>\n",
       "      <td>0.083373</td>\n",
       "      <td>0.054003</td>\n",
       "      <td>0.022738</td>\n",
       "      <td>0.006158</td>\n",
       "      <td>0.166272</td>\n",
       "    </tr>\n",
       "    <tr>\n",
       "      <th>Obesity_Type_II</th>\n",
       "      <td>0.070583</td>\n",
       "      <td>0.067740</td>\n",
       "      <td>0.002369</td>\n",
       "      <td>0.000000</td>\n",
       "      <td>0.140692</td>\n",
       "    </tr>\n",
       "    <tr>\n",
       "      <th>Obesity_Type_III</th>\n",
       "      <td>0.098058</td>\n",
       "      <td>0.054950</td>\n",
       "      <td>0.000474</td>\n",
       "      <td>0.000000</td>\n",
       "      <td>0.153482</td>\n",
       "    </tr>\n",
       "    <tr>\n",
       "      <th>Overweight_Level_I</th>\n",
       "      <td>0.066793</td>\n",
       "      <td>0.042160</td>\n",
       "      <td>0.023685</td>\n",
       "      <td>0.004737</td>\n",
       "      <td>0.137376</td>\n",
       "    </tr>\n",
       "    <tr>\n",
       "      <th>Overweight_Level_II</th>\n",
       "      <td>0.070583</td>\n",
       "      <td>0.047845</td>\n",
       "      <td>0.015632</td>\n",
       "      <td>0.003316</td>\n",
       "      <td>0.137376</td>\n",
       "    </tr>\n",
       "    <tr>\n",
       "      <th>All</th>\n",
       "      <td>0.478920</td>\n",
       "      <td>0.342965</td>\n",
       "      <td>0.142586</td>\n",
       "      <td>0.035528</td>\n",
       "      <td>1.000000</td>\n",
       "    </tr>\n",
       "  </tbody>\n",
       "</table>\n",
       "</div>"
      ],
      "text/plain": [
       "faf                         0         1         2         3       All\n",
       "nobeyesdad                                                           \n",
       "Insufficient_Weight  0.051634  0.030317  0.045002  0.001895  0.128849\n",
       "Normal_Weight        0.037897  0.045950  0.032686  0.019422  0.135955\n",
       "Obesity_Type_I       0.083373  0.054003  0.022738  0.006158  0.166272\n",
       "Obesity_Type_II      0.070583  0.067740  0.002369  0.000000  0.140692\n",
       "Obesity_Type_III     0.098058  0.054950  0.000474  0.000000  0.153482\n",
       "Overweight_Level_I   0.066793  0.042160  0.023685  0.004737  0.137376\n",
       "Overweight_Level_II  0.070583  0.047845  0.015632  0.003316  0.137376\n",
       "All                  0.478920  0.342965  0.142586  0.035528  1.000000"
      ]
     },
     "execution_count": 10,
     "metadata": {},
     "output_type": "execute_result"
    }
   ],
   "source": [
    "### frecuencia de la actividad fisica\n",
    "## por dias 0 no hay\n",
    "### 1 1-2 dias\n",
    "## 2 2-4 dias\n",
    "## 3 4-5 dias\n",
    "pd.crosstab(data.nobeyesdad,data.faf,normalize=True,margins=True)"
   ]
  },
  {
   "cell_type": "code",
   "execution_count": 6,
   "metadata": {},
   "outputs": [
    {
     "data": {
      "text/html": [
       "<div>\n",
       "<style scoped>\n",
       "    .dataframe tbody tr th:only-of-type {\n",
       "        vertical-align: middle;\n",
       "    }\n",
       "\n",
       "    .dataframe tbody tr th {\n",
       "        vertical-align: top;\n",
       "    }\n",
       "\n",
       "    .dataframe thead th {\n",
       "        text-align: right;\n",
       "    }\n",
       "</style>\n",
       "<table border=\"1\" class=\"dataframe\">\n",
       "  <thead>\n",
       "    <tr style=\"text-align: right;\">\n",
       "      <th>scc</th>\n",
       "      <th>no</th>\n",
       "      <th>yes</th>\n",
       "      <th>All</th>\n",
       "    </tr>\n",
       "    <tr>\n",
       "      <th>nobeyesdad</th>\n",
       "      <th></th>\n",
       "      <th></th>\n",
       "      <th></th>\n",
       "    </tr>\n",
       "  </thead>\n",
       "  <tbody>\n",
       "    <tr>\n",
       "      <th>Insufficient_Weight</th>\n",
       "      <td>0.118427</td>\n",
       "      <td>0.010422</td>\n",
       "      <td>0.128849</td>\n",
       "    </tr>\n",
       "    <tr>\n",
       "      <th>Normal_Weight</th>\n",
       "      <td>0.121743</td>\n",
       "      <td>0.014211</td>\n",
       "      <td>0.135955</td>\n",
       "    </tr>\n",
       "    <tr>\n",
       "      <th>Obesity_Type_I</th>\n",
       "      <td>0.165324</td>\n",
       "      <td>0.000947</td>\n",
       "      <td>0.166272</td>\n",
       "    </tr>\n",
       "    <tr>\n",
       "      <th>Obesity_Type_II</th>\n",
       "      <td>0.140218</td>\n",
       "      <td>0.000474</td>\n",
       "      <td>0.140692</td>\n",
       "    </tr>\n",
       "    <tr>\n",
       "      <th>Obesity_Type_III</th>\n",
       "      <td>0.153482</td>\n",
       "      <td>0.000000</td>\n",
       "      <td>0.153482</td>\n",
       "    </tr>\n",
       "    <tr>\n",
       "      <th>Overweight_Level_I</th>\n",
       "      <td>0.119848</td>\n",
       "      <td>0.017527</td>\n",
       "      <td>0.137376</td>\n",
       "    </tr>\n",
       "    <tr>\n",
       "      <th>Overweight_Level_II</th>\n",
       "      <td>0.135481</td>\n",
       "      <td>0.001895</td>\n",
       "      <td>0.137376</td>\n",
       "    </tr>\n",
       "    <tr>\n",
       "      <th>All</th>\n",
       "      <td>0.954524</td>\n",
       "      <td>0.045476</td>\n",
       "      <td>1.000000</td>\n",
       "    </tr>\n",
       "  </tbody>\n",
       "</table>\n",
       "</div>"
      ],
      "text/plain": [
       "scc                        no       yes       All\n",
       "nobeyesdad                                       \n",
       "Insufficient_Weight  0.118427  0.010422  0.128849\n",
       "Normal_Weight        0.121743  0.014211  0.135955\n",
       "Obesity_Type_I       0.165324  0.000947  0.166272\n",
       "Obesity_Type_II      0.140218  0.000474  0.140692\n",
       "Obesity_Type_III     0.153482  0.000000  0.153482\n",
       "Overweight_Level_I   0.119848  0.017527  0.137376\n",
       "Overweight_Level_II  0.135481  0.001895  0.137376\n",
       "All                  0.954524  0.045476  1.000000"
      ]
     },
     "execution_count": 6,
     "metadata": {},
     "output_type": "execute_result"
    }
   ],
   "source": [
    "### seguimiento de calorias\n",
    "pd.crosstab(data.nobeyesdad,data.scc,normalize=True,margins=True)"
   ]
  },
  {
   "cell_type": "code",
   "execution_count": 7,
   "metadata": {},
   "outputs": [
    {
     "data": {
      "text/html": [
       "<div>\n",
       "<style scoped>\n",
       "    .dataframe tbody tr th:only-of-type {\n",
       "        vertical-align: middle;\n",
       "    }\n",
       "\n",
       "    .dataframe tbody tr th {\n",
       "        vertical-align: top;\n",
       "    }\n",
       "\n",
       "    .dataframe thead th {\n",
       "        text-align: right;\n",
       "    }\n",
       "</style>\n",
       "<table border=\"1\" class=\"dataframe\">\n",
       "  <thead>\n",
       "    <tr style=\"text-align: right;\">\n",
       "      <th>family</th>\n",
       "      <th>no</th>\n",
       "      <th>yes</th>\n",
       "      <th>All</th>\n",
       "    </tr>\n",
       "    <tr>\n",
       "      <th>nobeyesdad</th>\n",
       "      <th></th>\n",
       "      <th></th>\n",
       "      <th></th>\n",
       "    </tr>\n",
       "  </thead>\n",
       "  <tbody>\n",
       "    <tr>\n",
       "      <th>Insufficient_Weight</th>\n",
       "      <td>0.069162</td>\n",
       "      <td>0.059687</td>\n",
       "      <td>0.128849</td>\n",
       "    </tr>\n",
       "    <tr>\n",
       "      <th>Normal_Weight</th>\n",
       "      <td>0.062530</td>\n",
       "      <td>0.073425</td>\n",
       "      <td>0.135955</td>\n",
       "    </tr>\n",
       "    <tr>\n",
       "      <th>Obesity_Type_I</th>\n",
       "      <td>0.003316</td>\n",
       "      <td>0.162956</td>\n",
       "      <td>0.166272</td>\n",
       "    </tr>\n",
       "    <tr>\n",
       "      <th>Obesity_Type_II</th>\n",
       "      <td>0.000474</td>\n",
       "      <td>0.140218</td>\n",
       "      <td>0.140692</td>\n",
       "    </tr>\n",
       "    <tr>\n",
       "      <th>Obesity_Type_III</th>\n",
       "      <td>0.000000</td>\n",
       "      <td>0.153482</td>\n",
       "      <td>0.153482</td>\n",
       "    </tr>\n",
       "    <tr>\n",
       "      <th>Overweight_Level_I</th>\n",
       "      <td>0.038370</td>\n",
       "      <td>0.099005</td>\n",
       "      <td>0.137376</td>\n",
       "    </tr>\n",
       "    <tr>\n",
       "      <th>Overweight_Level_II</th>\n",
       "      <td>0.008527</td>\n",
       "      <td>0.128849</td>\n",
       "      <td>0.137376</td>\n",
       "    </tr>\n",
       "    <tr>\n",
       "      <th>All</th>\n",
       "      <td>0.182378</td>\n",
       "      <td>0.817622</td>\n",
       "      <td>1.000000</td>\n",
       "    </tr>\n",
       "  </tbody>\n",
       "</table>\n",
       "</div>"
      ],
      "text/plain": [
       "family                     no       yes       All\n",
       "nobeyesdad                                       \n",
       "Insufficient_Weight  0.069162  0.059687  0.128849\n",
       "Normal_Weight        0.062530  0.073425  0.135955\n",
       "Obesity_Type_I       0.003316  0.162956  0.166272\n",
       "Obesity_Type_II      0.000474  0.140218  0.140692\n",
       "Obesity_Type_III     0.000000  0.153482  0.153482\n",
       "Overweight_Level_I   0.038370  0.099005  0.137376\n",
       "Overweight_Level_II  0.008527  0.128849  0.137376\n",
       "All                  0.182378  0.817622  1.000000"
      ]
     },
     "execution_count": 7,
     "metadata": {},
     "output_type": "execute_result"
    }
   ],
   "source": [
    "### familia con problemas \n",
    "pd.crosstab(data.nobeyesdad,data.family,normalize=True,margins=True)"
   ]
  },
  {
   "cell_type": "code",
   "execution_count": 8,
   "metadata": {},
   "outputs": [
    {
     "data": {
      "text/html": [
       "<div>\n",
       "<style scoped>\n",
       "    .dataframe tbody tr th:only-of-type {\n",
       "        vertical-align: middle;\n",
       "    }\n",
       "\n",
       "    .dataframe tbody tr th {\n",
       "        vertical-align: top;\n",
       "    }\n",
       "\n",
       "    .dataframe thead th {\n",
       "        text-align: right;\n",
       "    }\n",
       "</style>\n",
       "<table border=\"1\" class=\"dataframe\">\n",
       "  <thead>\n",
       "    <tr style=\"text-align: right;\">\n",
       "      <th>mtrans</th>\n",
       "      <th>Automobile</th>\n",
       "      <th>Bike</th>\n",
       "      <th>Motorbike</th>\n",
       "      <th>Public_Transportation</th>\n",
       "      <th>Walking</th>\n",
       "      <th>All</th>\n",
       "    </tr>\n",
       "    <tr>\n",
       "      <th>nobeyesdad</th>\n",
       "      <th></th>\n",
       "      <th></th>\n",
       "      <th></th>\n",
       "      <th></th>\n",
       "      <th></th>\n",
       "      <th></th>\n",
       "    </tr>\n",
       "  </thead>\n",
       "  <tbody>\n",
       "    <tr>\n",
       "      <th>Insufficient_Weight</th>\n",
       "      <td>0.021791</td>\n",
       "      <td>0.000000</td>\n",
       "      <td>0.000000</td>\n",
       "      <td>0.104216</td>\n",
       "      <td>0.002842</td>\n",
       "      <td>0.128849</td>\n",
       "    </tr>\n",
       "    <tr>\n",
       "      <th>Normal_Weight</th>\n",
       "      <td>0.021317</td>\n",
       "      <td>0.001895</td>\n",
       "      <td>0.002842</td>\n",
       "      <td>0.094742</td>\n",
       "      <td>0.015159</td>\n",
       "      <td>0.135955</td>\n",
       "    </tr>\n",
       "    <tr>\n",
       "      <th>Obesity_Type_I</th>\n",
       "      <td>0.052108</td>\n",
       "      <td>0.000000</td>\n",
       "      <td>0.001421</td>\n",
       "      <td>0.111795</td>\n",
       "      <td>0.000947</td>\n",
       "      <td>0.166272</td>\n",
       "    </tr>\n",
       "    <tr>\n",
       "      <th>Obesity_Type_II</th>\n",
       "      <td>0.045002</td>\n",
       "      <td>0.000474</td>\n",
       "      <td>0.000000</td>\n",
       "      <td>0.094742</td>\n",
       "      <td>0.000474</td>\n",
       "      <td>0.140692</td>\n",
       "    </tr>\n",
       "    <tr>\n",
       "      <th>Obesity_Type_III</th>\n",
       "      <td>0.000474</td>\n",
       "      <td>0.000000</td>\n",
       "      <td>0.000000</td>\n",
       "      <td>0.153008</td>\n",
       "      <td>0.000000</td>\n",
       "      <td>0.153482</td>\n",
       "    </tr>\n",
       "    <tr>\n",
       "      <th>Overweight_Level_I</th>\n",
       "      <td>0.031265</td>\n",
       "      <td>0.000947</td>\n",
       "      <td>0.000474</td>\n",
       "      <td>0.100426</td>\n",
       "      <td>0.004263</td>\n",
       "      <td>0.137376</td>\n",
       "    </tr>\n",
       "    <tr>\n",
       "      <th>Overweight_Level_II</th>\n",
       "      <td>0.044529</td>\n",
       "      <td>0.000000</td>\n",
       "      <td>0.000474</td>\n",
       "      <td>0.089531</td>\n",
       "      <td>0.002842</td>\n",
       "      <td>0.137376</td>\n",
       "    </tr>\n",
       "    <tr>\n",
       "      <th>All</th>\n",
       "      <td>0.216485</td>\n",
       "      <td>0.003316</td>\n",
       "      <td>0.005211</td>\n",
       "      <td>0.748460</td>\n",
       "      <td>0.026528</td>\n",
       "      <td>1.000000</td>\n",
       "    </tr>\n",
       "  </tbody>\n",
       "</table>\n",
       "</div>"
      ],
      "text/plain": [
       "mtrans               Automobile      Bike  Motorbike  Public_Transportation  \\\n",
       "nobeyesdad                                                                    \n",
       "Insufficient_Weight    0.021791  0.000000   0.000000               0.104216   \n",
       "Normal_Weight          0.021317  0.001895   0.002842               0.094742   \n",
       "Obesity_Type_I         0.052108  0.000000   0.001421               0.111795   \n",
       "Obesity_Type_II        0.045002  0.000474   0.000000               0.094742   \n",
       "Obesity_Type_III       0.000474  0.000000   0.000000               0.153008   \n",
       "Overweight_Level_I     0.031265  0.000947   0.000474               0.100426   \n",
       "Overweight_Level_II    0.044529  0.000000   0.000474               0.089531   \n",
       "All                    0.216485  0.003316   0.005211               0.748460   \n",
       "\n",
       "mtrans                Walking       All  \n",
       "nobeyesdad                               \n",
       "Insufficient_Weight  0.002842  0.128849  \n",
       "Normal_Weight        0.015159  0.135955  \n",
       "Obesity_Type_I       0.000947  0.166272  \n",
       "Obesity_Type_II      0.000474  0.140692  \n",
       "Obesity_Type_III     0.000000  0.153482  \n",
       "Overweight_Level_I   0.004263  0.137376  \n",
       "Overweight_Level_II  0.002842  0.137376  \n",
       "All                  0.026528  1.000000  "
      ]
     },
     "execution_count": 8,
     "metadata": {},
     "output_type": "execute_result"
    }
   ],
   "source": [
    "## medios de transporte\n",
    "pd.crosstab(data.nobeyesdad,data.mtrans,normalize=True,margins=True)"
   ]
  },
  {
   "cell_type": "code",
   "execution_count": 9,
   "metadata": {},
   "outputs": [
    {
     "data": {
      "text/html": [
       "<div>\n",
       "<style scoped>\n",
       "    .dataframe tbody tr th:only-of-type {\n",
       "        vertical-align: middle;\n",
       "    }\n",
       "\n",
       "    .dataframe tbody tr th {\n",
       "        vertical-align: top;\n",
       "    }\n",
       "\n",
       "    .dataframe thead th {\n",
       "        text-align: right;\n",
       "    }\n",
       "</style>\n",
       "<table border=\"1\" class=\"dataframe\">\n",
       "  <thead>\n",
       "    <tr style=\"text-align: right;\">\n",
       "      <th>calc</th>\n",
       "      <th>Always</th>\n",
       "      <th>Frequently</th>\n",
       "      <th>Sometimes</th>\n",
       "      <th>no</th>\n",
       "      <th>All</th>\n",
       "    </tr>\n",
       "    <tr>\n",
       "      <th>nobeyesdad</th>\n",
       "      <th></th>\n",
       "      <th></th>\n",
       "      <th></th>\n",
       "      <th></th>\n",
       "      <th></th>\n",
       "    </tr>\n",
       "  </thead>\n",
       "  <tbody>\n",
       "    <tr>\n",
       "      <th>Insufficient_Weight</th>\n",
       "      <td>0.000000</td>\n",
       "      <td>0.000474</td>\n",
       "      <td>0.072951</td>\n",
       "      <td>0.055424</td>\n",
       "      <td>0.128849</td>\n",
       "    </tr>\n",
       "    <tr>\n",
       "      <th>Normal_Weight</th>\n",
       "      <td>0.000474</td>\n",
       "      <td>0.008527</td>\n",
       "      <td>0.076267</td>\n",
       "      <td>0.050687</td>\n",
       "      <td>0.135955</td>\n",
       "    </tr>\n",
       "    <tr>\n",
       "      <th>Obesity_Type_I</th>\n",
       "      <td>0.000000</td>\n",
       "      <td>0.006632</td>\n",
       "      <td>0.081478</td>\n",
       "      <td>0.078162</td>\n",
       "      <td>0.166272</td>\n",
       "    </tr>\n",
       "    <tr>\n",
       "      <th>Obesity_Type_II</th>\n",
       "      <td>0.000000</td>\n",
       "      <td>0.000947</td>\n",
       "      <td>0.106111</td>\n",
       "      <td>0.033633</td>\n",
       "      <td>0.140692</td>\n",
       "    </tr>\n",
       "    <tr>\n",
       "      <th>Obesity_Type_III</th>\n",
       "      <td>0.000000</td>\n",
       "      <td>0.000000</td>\n",
       "      <td>0.153008</td>\n",
       "      <td>0.000474</td>\n",
       "      <td>0.153482</td>\n",
       "    </tr>\n",
       "    <tr>\n",
       "      <th>Overweight_Level_I</th>\n",
       "      <td>0.000000</td>\n",
       "      <td>0.007579</td>\n",
       "      <td>0.106111</td>\n",
       "      <td>0.023685</td>\n",
       "      <td>0.137376</td>\n",
       "    </tr>\n",
       "    <tr>\n",
       "      <th>Overweight_Level_II</th>\n",
       "      <td>0.000000</td>\n",
       "      <td>0.009000</td>\n",
       "      <td>0.067740</td>\n",
       "      <td>0.060635</td>\n",
       "      <td>0.137376</td>\n",
       "    </tr>\n",
       "    <tr>\n",
       "      <th>All</th>\n",
       "      <td>0.000474</td>\n",
       "      <td>0.033160</td>\n",
       "      <td>0.663667</td>\n",
       "      <td>0.302700</td>\n",
       "      <td>1.000000</td>\n",
       "    </tr>\n",
       "  </tbody>\n",
       "</table>\n",
       "</div>"
      ],
      "text/plain": [
       "calc                   Always  Frequently  Sometimes        no       All\n",
       "nobeyesdad                                                              \n",
       "Insufficient_Weight  0.000000    0.000474   0.072951  0.055424  0.128849\n",
       "Normal_Weight        0.000474    0.008527   0.076267  0.050687  0.135955\n",
       "Obesity_Type_I       0.000000    0.006632   0.081478  0.078162  0.166272\n",
       "Obesity_Type_II      0.000000    0.000947   0.106111  0.033633  0.140692\n",
       "Obesity_Type_III     0.000000    0.000000   0.153008  0.000474  0.153482\n",
       "Overweight_Level_I   0.000000    0.007579   0.106111  0.023685  0.137376\n",
       "Overweight_Level_II  0.000000    0.009000   0.067740  0.060635  0.137376\n",
       "All                  0.000474    0.033160   0.663667  0.302700  1.000000"
      ]
     },
     "execution_count": 9,
     "metadata": {},
     "output_type": "execute_result"
    }
   ],
   "source": [
    "### consumo de alcohol\n",
    "pd.crosstab(data.nobeyesdad,data.calc,normalize=True,margins=True)"
   ]
  },
  {
   "cell_type": "code",
   "execution_count": 10,
   "metadata": {},
   "outputs": [
    {
     "data": {
      "text/html": [
       "<div>\n",
       "<style scoped>\n",
       "    .dataframe tbody tr th:only-of-type {\n",
       "        vertical-align: middle;\n",
       "    }\n",
       "\n",
       "    .dataframe tbody tr th {\n",
       "        vertical-align: top;\n",
       "    }\n",
       "\n",
       "    .dataframe thead th {\n",
       "        text-align: right;\n",
       "    }\n",
       "</style>\n",
       "<table border=\"1\" class=\"dataframe\">\n",
       "  <thead>\n",
       "    <tr style=\"text-align: right;\">\n",
       "      <th>caec</th>\n",
       "      <th>Always</th>\n",
       "      <th>Frequently</th>\n",
       "      <th>Sometimes</th>\n",
       "      <th>no</th>\n",
       "      <th>All</th>\n",
       "    </tr>\n",
       "    <tr>\n",
       "      <th>nobeyesdad</th>\n",
       "      <th></th>\n",
       "      <th></th>\n",
       "      <th></th>\n",
       "      <th></th>\n",
       "      <th></th>\n",
       "    </tr>\n",
       "  </thead>\n",
       "  <tbody>\n",
       "    <tr>\n",
       "      <th>Insufficient_Weight</th>\n",
       "      <td>0.000947</td>\n",
       "      <td>0.057319</td>\n",
       "      <td>0.069162</td>\n",
       "      <td>0.001421</td>\n",
       "      <td>0.128849</td>\n",
       "    </tr>\n",
       "    <tr>\n",
       "      <th>Normal_Weight</th>\n",
       "      <td>0.016580</td>\n",
       "      <td>0.039318</td>\n",
       "      <td>0.075320</td>\n",
       "      <td>0.004737</td>\n",
       "      <td>0.135955</td>\n",
       "    </tr>\n",
       "    <tr>\n",
       "      <th>Obesity_Type_I</th>\n",
       "      <td>0.002842</td>\n",
       "      <td>0.002842</td>\n",
       "      <td>0.160114</td>\n",
       "      <td>0.000474</td>\n",
       "      <td>0.166272</td>\n",
       "    </tr>\n",
       "    <tr>\n",
       "      <th>Obesity_Type_II</th>\n",
       "      <td>0.000947</td>\n",
       "      <td>0.000474</td>\n",
       "      <td>0.138797</td>\n",
       "      <td>0.000474</td>\n",
       "      <td>0.140692</td>\n",
       "    </tr>\n",
       "    <tr>\n",
       "      <th>Obesity_Type_III</th>\n",
       "      <td>0.000000</td>\n",
       "      <td>0.000474</td>\n",
       "      <td>0.153008</td>\n",
       "      <td>0.000000</td>\n",
       "      <td>0.153482</td>\n",
       "    </tr>\n",
       "    <tr>\n",
       "      <th>Overweight_Level_I</th>\n",
       "      <td>0.002369</td>\n",
       "      <td>0.006632</td>\n",
       "      <td>0.111795</td>\n",
       "      <td>0.016580</td>\n",
       "      <td>0.137376</td>\n",
       "    </tr>\n",
       "    <tr>\n",
       "      <th>Overweight_Level_II</th>\n",
       "      <td>0.001421</td>\n",
       "      <td>0.007579</td>\n",
       "      <td>0.127901</td>\n",
       "      <td>0.000474</td>\n",
       "      <td>0.137376</td>\n",
       "    </tr>\n",
       "    <tr>\n",
       "      <th>All</th>\n",
       "      <td>0.025107</td>\n",
       "      <td>0.114638</td>\n",
       "      <td>0.836097</td>\n",
       "      <td>0.024159</td>\n",
       "      <td>1.000000</td>\n",
       "    </tr>\n",
       "  </tbody>\n",
       "</table>\n",
       "</div>"
      ],
      "text/plain": [
       "caec                   Always  Frequently  Sometimes        no       All\n",
       "nobeyesdad                                                              \n",
       "Insufficient_Weight  0.000947    0.057319   0.069162  0.001421  0.128849\n",
       "Normal_Weight        0.016580    0.039318   0.075320  0.004737  0.135955\n",
       "Obesity_Type_I       0.002842    0.002842   0.160114  0.000474  0.166272\n",
       "Obesity_Type_II      0.000947    0.000474   0.138797  0.000474  0.140692\n",
       "Obesity_Type_III     0.000000    0.000474   0.153008  0.000000  0.153482\n",
       "Overweight_Level_I   0.002369    0.006632   0.111795  0.016580  0.137376\n",
       "Overweight_Level_II  0.001421    0.007579   0.127901  0.000474  0.137376\n",
       "All                  0.025107    0.114638   0.836097  0.024159  1.000000"
      ]
     },
     "execution_count": 10,
     "metadata": {},
     "output_type": "execute_result"
    }
   ],
   "source": [
    "### consumo de alimentos entre comida\n",
    "pd.crosstab(data.nobeyesdad,data.caec,normalize=True,margins=True)"
   ]
  },
  {
   "cell_type": "code",
   "execution_count": 59,
   "metadata": {},
   "outputs": [
    {
     "data": {
      "text/html": [
       "<div>\n",
       "<style scoped>\n",
       "    .dataframe tbody tr th:only-of-type {\n",
       "        vertical-align: middle;\n",
       "    }\n",
       "\n",
       "    .dataframe tbody tr th {\n",
       "        vertical-align: top;\n",
       "    }\n",
       "\n",
       "    .dataframe thead th {\n",
       "        text-align: right;\n",
       "    }\n",
       "</style>\n",
       "<table border=\"1\" class=\"dataframe\">\n",
       "  <thead>\n",
       "    <tr style=\"text-align: right;\">\n",
       "      <th>tue</th>\n",
       "      <th>0</th>\n",
       "      <th>1</th>\n",
       "      <th>2</th>\n",
       "      <th>All</th>\n",
       "    </tr>\n",
       "    <tr>\n",
       "      <th>nobeyesdad</th>\n",
       "      <th></th>\n",
       "      <th></th>\n",
       "      <th></th>\n",
       "      <th></th>\n",
       "    </tr>\n",
       "  </thead>\n",
       "  <tbody>\n",
       "    <tr>\n",
       "      <th>0</th>\n",
       "      <td>0.061108</td>\n",
       "      <td>0.057793</td>\n",
       "      <td>0.017054</td>\n",
       "      <td>0.135955</td>\n",
       "    </tr>\n",
       "    <tr>\n",
       "      <th>1</th>\n",
       "      <td>0.096637</td>\n",
       "      <td>0.033160</td>\n",
       "      <td>0.007579</td>\n",
       "      <td>0.137376</td>\n",
       "    </tr>\n",
       "    <tr>\n",
       "      <th>2</th>\n",
       "      <td>0.087636</td>\n",
       "      <td>0.044529</td>\n",
       "      <td>0.005211</td>\n",
       "      <td>0.137376</td>\n",
       "    </tr>\n",
       "    <tr>\n",
       "      <th>3</th>\n",
       "      <td>0.104690</td>\n",
       "      <td>0.049739</td>\n",
       "      <td>0.011843</td>\n",
       "      <td>0.166272</td>\n",
       "    </tr>\n",
       "    <tr>\n",
       "      <th>4</th>\n",
       "      <td>0.063003</td>\n",
       "      <td>0.056845</td>\n",
       "      <td>0.009000</td>\n",
       "      <td>0.128849</td>\n",
       "    </tr>\n",
       "    <tr>\n",
       "      <th>5</th>\n",
       "      <td>0.109427</td>\n",
       "      <td>0.030317</td>\n",
       "      <td>0.000947</td>\n",
       "      <td>0.140692</td>\n",
       "    </tr>\n",
       "    <tr>\n",
       "      <th>6</th>\n",
       "      <td>0.147797</td>\n",
       "      <td>0.005685</td>\n",
       "      <td>0.000000</td>\n",
       "      <td>0.153482</td>\n",
       "    </tr>\n",
       "    <tr>\n",
       "      <th>All</th>\n",
       "      <td>0.670298</td>\n",
       "      <td>0.278067</td>\n",
       "      <td>0.051634</td>\n",
       "      <td>1.000000</td>\n",
       "    </tr>\n",
       "  </tbody>\n",
       "</table>\n",
       "</div>"
      ],
      "text/plain": [
       "tue                0         1         2       All\n",
       "nobeyesdad                                        \n",
       "0           0.061108  0.057793  0.017054  0.135955\n",
       "1           0.096637  0.033160  0.007579  0.137376\n",
       "2           0.087636  0.044529  0.005211  0.137376\n",
       "3           0.104690  0.049739  0.011843  0.166272\n",
       "4           0.063003  0.056845  0.009000  0.128849\n",
       "5           0.109427  0.030317  0.000947  0.140692\n",
       "6           0.147797  0.005685  0.000000  0.153482\n",
       "All         0.670298  0.278067  0.051634  1.000000"
      ]
     },
     "execution_count": 59,
     "metadata": {},
     "output_type": "execute_result"
    }
   ],
   "source": [
    "### tiempo de uso de dispositivos\n",
    "## 0 0-2\n",
    "## 1 3-5\n",
    "## 3 +5\n",
    "pd.crosstab(data.nobeyesdad,data.tue,normalize=True,margins=True)"
   ]
  },
  {
   "cell_type": "code",
   "execution_count": 9,
   "metadata": {},
   "outputs": [],
   "source": [
    "lista=['age', 'fcvc', 'ncp','ch2o', 'faf', 'tue']\n",
    "for a in range(len(lista)):\n",
    "    data[lista[a]]=data[lista[a]].astype(int)"
   ]
  },
  {
   "cell_type": "code",
   "execution_count": 13,
   "metadata": {},
   "outputs": [
    {
     "data": {
      "text/html": [
       "<div>\n",
       "<style scoped>\n",
       "    .dataframe tbody tr th:only-of-type {\n",
       "        vertical-align: middle;\n",
       "    }\n",
       "\n",
       "    .dataframe tbody tr th {\n",
       "        vertical-align: top;\n",
       "    }\n",
       "\n",
       "    .dataframe thead th {\n",
       "        text-align: right;\n",
       "    }\n",
       "</style>\n",
       "<table border=\"1\" class=\"dataframe\">\n",
       "  <thead>\n",
       "    <tr style=\"text-align: right;\">\n",
       "      <th>ncp</th>\n",
       "      <th>1</th>\n",
       "      <th>2</th>\n",
       "      <th>3</th>\n",
       "      <th>4</th>\n",
       "      <th>All</th>\n",
       "    </tr>\n",
       "    <tr>\n",
       "      <th>nobeyesdad</th>\n",
       "      <th></th>\n",
       "      <th></th>\n",
       "      <th></th>\n",
       "      <th></th>\n",
       "      <th></th>\n",
       "    </tr>\n",
       "  </thead>\n",
       "  <tbody>\n",
       "    <tr>\n",
       "      <th>Insufficient_Weight</th>\n",
       "      <td>0.023212</td>\n",
       "      <td>0.009000</td>\n",
       "      <td>0.082899</td>\n",
       "      <td>0.013738</td>\n",
       "      <td>0.128849</td>\n",
       "    </tr>\n",
       "    <tr>\n",
       "      <th>Normal_Weight</th>\n",
       "      <td>0.024633</td>\n",
       "      <td>0.000000</td>\n",
       "      <td>0.097584</td>\n",
       "      <td>0.013738</td>\n",
       "      <td>0.135955</td>\n",
       "    </tr>\n",
       "    <tr>\n",
       "      <th>Obesity_Type_I</th>\n",
       "      <td>0.047371</td>\n",
       "      <td>0.033633</td>\n",
       "      <td>0.085268</td>\n",
       "      <td>0.000000</td>\n",
       "      <td>0.166272</td>\n",
       "    </tr>\n",
       "    <tr>\n",
       "      <th>Obesity_Type_II</th>\n",
       "      <td>0.015632</td>\n",
       "      <td>0.036949</td>\n",
       "      <td>0.087636</td>\n",
       "      <td>0.000474</td>\n",
       "      <td>0.140692</td>\n",
       "    </tr>\n",
       "    <tr>\n",
       "      <th>Obesity_Type_III</th>\n",
       "      <td>0.000000</td>\n",
       "      <td>0.000000</td>\n",
       "      <td>0.153482</td>\n",
       "      <td>0.000000</td>\n",
       "      <td>0.153482</td>\n",
       "    </tr>\n",
       "    <tr>\n",
       "      <th>Overweight_Level_I</th>\n",
       "      <td>0.040739</td>\n",
       "      <td>0.018948</td>\n",
       "      <td>0.073899</td>\n",
       "      <td>0.003790</td>\n",
       "      <td>0.137376</td>\n",
       "    </tr>\n",
       "    <tr>\n",
       "      <th>Overweight_Level_II</th>\n",
       "      <td>0.035528</td>\n",
       "      <td>0.036476</td>\n",
       "      <td>0.064424</td>\n",
       "      <td>0.000947</td>\n",
       "      <td>0.137376</td>\n",
       "    </tr>\n",
       "    <tr>\n",
       "      <th>All</th>\n",
       "      <td>0.187115</td>\n",
       "      <td>0.135007</td>\n",
       "      <td>0.645192</td>\n",
       "      <td>0.032686</td>\n",
       "      <td>1.000000</td>\n",
       "    </tr>\n",
       "  </tbody>\n",
       "</table>\n",
       "</div>"
      ],
      "text/plain": [
       "ncp                         1         2         3         4       All\n",
       "nobeyesdad                                                           \n",
       "Insufficient_Weight  0.023212  0.009000  0.082899  0.013738  0.128849\n",
       "Normal_Weight        0.024633  0.000000  0.097584  0.013738  0.135955\n",
       "Obesity_Type_I       0.047371  0.033633  0.085268  0.000000  0.166272\n",
       "Obesity_Type_II      0.015632  0.036949  0.087636  0.000474  0.140692\n",
       "Obesity_Type_III     0.000000  0.000000  0.153482  0.000000  0.153482\n",
       "Overweight_Level_I   0.040739  0.018948  0.073899  0.003790  0.137376\n",
       "Overweight_Level_II  0.035528  0.036476  0.064424  0.000947  0.137376\n",
       "All                  0.187115  0.135007  0.645192  0.032686  1.000000"
      ]
     },
     "execution_count": 13,
     "metadata": {},
     "output_type": "execute_result"
    }
   ],
   "source": [
    "## comidas al dia\n",
    "pd.crosstab(data.nobeyesdad,data.ncp,normalize=True,margins=True)"
   ]
  },
  {
   "cell_type": "code",
   "execution_count": 14,
   "metadata": {},
   "outputs": [
    {
     "data": {
      "text/html": [
       "<div>\n",
       "<style scoped>\n",
       "    .dataframe tbody tr th:only-of-type {\n",
       "        vertical-align: middle;\n",
       "    }\n",
       "\n",
       "    .dataframe tbody tr th {\n",
       "        vertical-align: top;\n",
       "    }\n",
       "\n",
       "    .dataframe thead th {\n",
       "        text-align: right;\n",
       "    }\n",
       "</style>\n",
       "<table border=\"1\" class=\"dataframe\">\n",
       "  <thead>\n",
       "    <tr style=\"text-align: right;\">\n",
       "      <th>favc</th>\n",
       "      <th>no</th>\n",
       "      <th>yes</th>\n",
       "      <th>All</th>\n",
       "    </tr>\n",
       "    <tr>\n",
       "      <th>nobeyesdad</th>\n",
       "      <th></th>\n",
       "      <th></th>\n",
       "      <th></th>\n",
       "    </tr>\n",
       "  </thead>\n",
       "  <tbody>\n",
       "    <tr>\n",
       "      <th>Insufficient_Weight</th>\n",
       "      <td>0.024159</td>\n",
       "      <td>0.104690</td>\n",
       "      <td>0.128849</td>\n",
       "    </tr>\n",
       "    <tr>\n",
       "      <th>Normal_Weight</th>\n",
       "      <td>0.037423</td>\n",
       "      <td>0.098532</td>\n",
       "      <td>0.135955</td>\n",
       "    </tr>\n",
       "    <tr>\n",
       "      <th>Obesity_Type_I</th>\n",
       "      <td>0.005211</td>\n",
       "      <td>0.161061</td>\n",
       "      <td>0.166272</td>\n",
       "    </tr>\n",
       "    <tr>\n",
       "      <th>Obesity_Type_II</th>\n",
       "      <td>0.003316</td>\n",
       "      <td>0.137376</td>\n",
       "      <td>0.140692</td>\n",
       "    </tr>\n",
       "    <tr>\n",
       "      <th>Obesity_Type_III</th>\n",
       "      <td>0.000474</td>\n",
       "      <td>0.153008</td>\n",
       "      <td>0.153482</td>\n",
       "    </tr>\n",
       "    <tr>\n",
       "      <th>Overweight_Level_I</th>\n",
       "      <td>0.010422</td>\n",
       "      <td>0.126954</td>\n",
       "      <td>0.137376</td>\n",
       "    </tr>\n",
       "    <tr>\n",
       "      <th>Overweight_Level_II</th>\n",
       "      <td>0.035054</td>\n",
       "      <td>0.102321</td>\n",
       "      <td>0.137376</td>\n",
       "    </tr>\n",
       "    <tr>\n",
       "      <th>All</th>\n",
       "      <td>0.116059</td>\n",
       "      <td>0.883941</td>\n",
       "      <td>1.000000</td>\n",
       "    </tr>\n",
       "  </tbody>\n",
       "</table>\n",
       "</div>"
      ],
      "text/plain": [
       "favc                       no       yes       All\n",
       "nobeyesdad                                       \n",
       "Insufficient_Weight  0.024159  0.104690  0.128849\n",
       "Normal_Weight        0.037423  0.098532  0.135955\n",
       "Obesity_Type_I       0.005211  0.161061  0.166272\n",
       "Obesity_Type_II      0.003316  0.137376  0.140692\n",
       "Obesity_Type_III     0.000474  0.153008  0.153482\n",
       "Overweight_Level_I   0.010422  0.126954  0.137376\n",
       "Overweight_Level_II  0.035054  0.102321  0.137376\n",
       "All                  0.116059  0.883941  1.000000"
      ]
     },
     "execution_count": 14,
     "metadata": {},
     "output_type": "execute_result"
    }
   ],
   "source": [
    "## caloricos\n",
    "pd.crosstab(data.nobeyesdad,data.favc,normalize=True,margins=True)"
   ]
  },
  {
   "cell_type": "code",
   "execution_count": 5,
   "metadata": {},
   "outputs": [],
   "source": [
    "lista=['gender','family','caec','smoke','scc','favc']\n",
    "for a in range(len(lista)):\n",
    "    if lista[a]=='gender':\n",
    "        data[lista[a]]=data[lista[a]].replace({'Female':0,'Male':1})\n",
    "    else:\n",
    "        data[lista[a]]=data[lista[a]].replace({'no':0,'yes':1})"
   ]
  },
  {
   "cell_type": "code",
   "execution_count": 6,
   "metadata": {},
   "outputs": [
    {
     "name": "stdout",
     "output_type": "stream",
     "text": [
      "{'no': 0, 'Sometimes': 1, 'Frequently': 2, 'Always': 3}\n"
     ]
    }
   ],
   "source": [
    "base=list(data.calc.unique())\n",
    "val=[a for a in range(len(data.calc.unique()))]\n",
    "dicci={}\n",
    "for a in range(len(val)):\n",
    "    dicci[base[a]]=val[a]\n",
    "print(dicci)\n",
    "data['calc']=data['calc'].replace(dicci)"
   ]
  },
  {
   "cell_type": "code",
   "execution_count": 7,
   "metadata": {},
   "outputs": [
    {
     "name": "stdout",
     "output_type": "stream",
     "text": [
      "{'Sometimes': 0, 'Frequently': 1, 'Always': 2, 0: 3}\n"
     ]
    }
   ],
   "source": [
    "base=list(data.caec.unique())\n",
    "val=[a for a in range(len(data.caec.unique()))]\n",
    "dicci={}\n",
    "for a in range(len(val)):\n",
    "    dicci[base[a]]=val[a]\n",
    "print(dicci)\n",
    "data['caec']=data['caec'].replace(dicci)"
   ]
  },
  {
   "cell_type": "code",
   "execution_count": 14,
   "metadata": {},
   "outputs": [
    {
     "data": {
      "text/html": [
       "<div>\n",
       "<style scoped>\n",
       "    .dataframe tbody tr th:only-of-type {\n",
       "        vertical-align: middle;\n",
       "    }\n",
       "\n",
       "    .dataframe tbody tr th {\n",
       "        vertical-align: top;\n",
       "    }\n",
       "\n",
       "    .dataframe thead th {\n",
       "        text-align: right;\n",
       "    }\n",
       "</style>\n",
       "<table border=\"1\" class=\"dataframe\">\n",
       "  <thead>\n",
       "    <tr style=\"text-align: right;\">\n",
       "      <th></th>\n",
       "      <th>gender</th>\n",
       "      <th>age</th>\n",
       "      <th>height</th>\n",
       "      <th>weight</th>\n",
       "      <th>family</th>\n",
       "      <th>favc</th>\n",
       "      <th>fcvc</th>\n",
       "      <th>ncp</th>\n",
       "      <th>caec</th>\n",
       "      <th>smoke</th>\n",
       "      <th>ch2o</th>\n",
       "      <th>scc</th>\n",
       "      <th>faf</th>\n",
       "      <th>tue</th>\n",
       "      <th>calc</th>\n",
       "      <th>mtrans</th>\n",
       "      <th>nobeyesdad</th>\n",
       "    </tr>\n",
       "  </thead>\n",
       "  <tbody>\n",
       "    <tr>\n",
       "      <th>0</th>\n",
       "      <td>0</td>\n",
       "      <td>21</td>\n",
       "      <td>1.62</td>\n",
       "      <td>64.0</td>\n",
       "      <td>1</td>\n",
       "      <td>0</td>\n",
       "      <td>2</td>\n",
       "      <td>3</td>\n",
       "      <td>0</td>\n",
       "      <td>0</td>\n",
       "      <td>2</td>\n",
       "      <td>0</td>\n",
       "      <td>0</td>\n",
       "      <td>1</td>\n",
       "      <td>0</td>\n",
       "      <td>Public_Transportation</td>\n",
       "      <td>Normal_Weight</td>\n",
       "    </tr>\n",
       "    <tr>\n",
       "      <th>1</th>\n",
       "      <td>0</td>\n",
       "      <td>21</td>\n",
       "      <td>1.52</td>\n",
       "      <td>56.0</td>\n",
       "      <td>1</td>\n",
       "      <td>0</td>\n",
       "      <td>3</td>\n",
       "      <td>3</td>\n",
       "      <td>0</td>\n",
       "      <td>1</td>\n",
       "      <td>3</td>\n",
       "      <td>1</td>\n",
       "      <td>3</td>\n",
       "      <td>0</td>\n",
       "      <td>1</td>\n",
       "      <td>Public_Transportation</td>\n",
       "      <td>Normal_Weight</td>\n",
       "    </tr>\n",
       "    <tr>\n",
       "      <th>2</th>\n",
       "      <td>1</td>\n",
       "      <td>23</td>\n",
       "      <td>1.80</td>\n",
       "      <td>77.0</td>\n",
       "      <td>1</td>\n",
       "      <td>0</td>\n",
       "      <td>2</td>\n",
       "      <td>3</td>\n",
       "      <td>0</td>\n",
       "      <td>0</td>\n",
       "      <td>2</td>\n",
       "      <td>0</td>\n",
       "      <td>2</td>\n",
       "      <td>1</td>\n",
       "      <td>2</td>\n",
       "      <td>Public_Transportation</td>\n",
       "      <td>Normal_Weight</td>\n",
       "    </tr>\n",
       "  </tbody>\n",
       "</table>\n",
       "</div>"
      ],
      "text/plain": [
       "   gender  age  height  weight  family  favc  fcvc  ncp  caec  smoke  ch2o  \\\n",
       "0       0   21    1.62    64.0       1     0     2    3     0      0     2   \n",
       "1       0   21    1.52    56.0       1     0     3    3     0      1     3   \n",
       "2       1   23    1.80    77.0       1     0     2    3     0      0     2   \n",
       "\n",
       "   scc  faf  tue  calc                 mtrans     nobeyesdad  \n",
       "0    0    0    1     0  Public_Transportation  Normal_Weight  \n",
       "1    1    3    0     1  Public_Transportation  Normal_Weight  \n",
       "2    0    2    1     2  Public_Transportation  Normal_Weight  "
      ]
     },
     "execution_count": 14,
     "metadata": {},
     "output_type": "execute_result"
    }
   ],
   "source": [
    "data.head(3)"
   ]
  },
  {
   "cell_type": "code",
   "execution_count": 15,
   "metadata": {},
   "outputs": [
    {
     "name": "stdout",
     "output_type": "stream",
     "text": [
      "{'Public_Transportation': 0, 'Walking': 1, 'Automobile': 2, 'Motorbike': 3, 'Bike': 4}\n"
     ]
    }
   ],
   "source": [
    "base=list(data.mtrans.unique())\n",
    "val=[a for a in range(len(data.mtrans.unique()))]\n",
    "dicci={}\n",
    "for a in range(len(val)):\n",
    "    dicci[base[a]]=val[a]\n",
    "print(dicci)\n",
    "data['mtrans']=data['mtrans'].replace(dicci)"
   ]
  },
  {
   "cell_type": "code",
   "execution_count": 324,
   "metadata": {},
   "outputs": [
    {
     "name": "stdout",
     "output_type": "stream",
     "text": [
      "{'Normal_Weight': 0, 'Overweight_Level_I': 1, 'Overweight_Level_II': 2, 'Obesity_Type_I': 3, 'Insufficient_Weight': 4, 'Obesity_Type_II': 5, 'Obesity_Type_III': 6}\n"
     ]
    }
   ],
   "source": [
    "base=list(data.nobeyesdad.unique())\n",
    "val=[a for a in range(len(data.nobeyesdad.unique()))]\n",
    "dicci={}\n",
    "for a in range(len(val)):\n",
    "    dicci[base[a]]=val[a]\n",
    "print(dicci)\n",
    "data['nobeyesdad']=data['nobeyesdad'].replace(dicci)"
   ]
  },
  {
   "cell_type": "code",
   "execution_count": 18,
   "metadata": {},
   "outputs": [
    {
     "data": {
      "text/html": [
       "<div>\n",
       "<style scoped>\n",
       "    .dataframe tbody tr th:only-of-type {\n",
       "        vertical-align: middle;\n",
       "    }\n",
       "\n",
       "    .dataframe tbody tr th {\n",
       "        vertical-align: top;\n",
       "    }\n",
       "\n",
       "    .dataframe thead th {\n",
       "        text-align: right;\n",
       "    }\n",
       "</style>\n",
       "<table border=\"1\" class=\"dataframe\">\n",
       "  <thead>\n",
       "    <tr style=\"text-align: right;\">\n",
       "      <th></th>\n",
       "      <th>gender</th>\n",
       "      <th>age</th>\n",
       "      <th>height</th>\n",
       "      <th>weight</th>\n",
       "      <th>family</th>\n",
       "      <th>favc</th>\n",
       "      <th>fcvc</th>\n",
       "      <th>ncp</th>\n",
       "      <th>caec</th>\n",
       "      <th>smoke</th>\n",
       "      <th>ch2o</th>\n",
       "      <th>scc</th>\n",
       "      <th>faf</th>\n",
       "      <th>tue</th>\n",
       "      <th>calc</th>\n",
       "      <th>mtrans</th>\n",
       "      <th>nobeyesdad</th>\n",
       "    </tr>\n",
       "  </thead>\n",
       "  <tbody>\n",
       "    <tr>\n",
       "      <th>0</th>\n",
       "      <td>0</td>\n",
       "      <td>21</td>\n",
       "      <td>1.62</td>\n",
       "      <td>64.0</td>\n",
       "      <td>1</td>\n",
       "      <td>0</td>\n",
       "      <td>2</td>\n",
       "      <td>3</td>\n",
       "      <td>0</td>\n",
       "      <td>0</td>\n",
       "      <td>2</td>\n",
       "      <td>0</td>\n",
       "      <td>0</td>\n",
       "      <td>1</td>\n",
       "      <td>0</td>\n",
       "      <td>0</td>\n",
       "      <td>0</td>\n",
       "    </tr>\n",
       "    <tr>\n",
       "      <th>1</th>\n",
       "      <td>0</td>\n",
       "      <td>21</td>\n",
       "      <td>1.52</td>\n",
       "      <td>56.0</td>\n",
       "      <td>1</td>\n",
       "      <td>0</td>\n",
       "      <td>3</td>\n",
       "      <td>3</td>\n",
       "      <td>0</td>\n",
       "      <td>1</td>\n",
       "      <td>3</td>\n",
       "      <td>1</td>\n",
       "      <td>3</td>\n",
       "      <td>0</td>\n",
       "      <td>1</td>\n",
       "      <td>0</td>\n",
       "      <td>0</td>\n",
       "    </tr>\n",
       "    <tr>\n",
       "      <th>2</th>\n",
       "      <td>1</td>\n",
       "      <td>23</td>\n",
       "      <td>1.80</td>\n",
       "      <td>77.0</td>\n",
       "      <td>1</td>\n",
       "      <td>0</td>\n",
       "      <td>2</td>\n",
       "      <td>3</td>\n",
       "      <td>0</td>\n",
       "      <td>0</td>\n",
       "      <td>2</td>\n",
       "      <td>0</td>\n",
       "      <td>2</td>\n",
       "      <td>1</td>\n",
       "      <td>2</td>\n",
       "      <td>0</td>\n",
       "      <td>0</td>\n",
       "    </tr>\n",
       "  </tbody>\n",
       "</table>\n",
       "</div>"
      ],
      "text/plain": [
       "   gender  age  height  weight  family  favc  fcvc  ncp  caec  smoke  ch2o  \\\n",
       "0       0   21    1.62    64.0       1     0     2    3     0      0     2   \n",
       "1       0   21    1.52    56.0       1     0     3    3     0      1     3   \n",
       "2       1   23    1.80    77.0       1     0     2    3     0      0     2   \n",
       "\n",
       "   scc  faf  tue  calc  mtrans  nobeyesdad  \n",
       "0    0    0    1     0       0           0  \n",
       "1    1    3    0     1       0           0  \n",
       "2    0    2    1     2       0           0  "
      ]
     },
     "execution_count": 18,
     "metadata": {},
     "output_type": "execute_result"
    }
   ],
   "source": [
    "data.head(3)"
   ]
  },
  {
   "cell_type": "code",
   "execution_count": 20,
   "metadata": {},
   "outputs": [
    {
     "name": "stdout",
     "output_type": "stream",
     "text": [
      "<class 'pandas.core.frame.DataFrame'>\n",
      "RangeIndex: 2111 entries, 0 to 2110\n",
      "Data columns (total 17 columns):\n",
      " #   Column      Non-Null Count  Dtype  \n",
      "---  ------      --------------  -----  \n",
      " 0   gender      2111 non-null   int64  \n",
      " 1   age         2111 non-null   int32  \n",
      " 2   height      2111 non-null   float64\n",
      " 3   weight      2111 non-null   float64\n",
      " 4   family      2111 non-null   int64  \n",
      " 5   favc        2111 non-null   int64  \n",
      " 6   fcvc        2111 non-null   int32  \n",
      " 7   ncp         2111 non-null   int32  \n",
      " 8   caec        2111 non-null   int64  \n",
      " 9   smoke       2111 non-null   int64  \n",
      " 10  ch2o        2111 non-null   int32  \n",
      " 11  scc         2111 non-null   int64  \n",
      " 12  faf         2111 non-null   int32  \n",
      " 13  tue         2111 non-null   int32  \n",
      " 14  calc        2111 non-null   int64  \n",
      " 15  mtrans      2111 non-null   int64  \n",
      " 16  nobeyesdad  2111 non-null   int64  \n",
      "dtypes: float64(2), int32(6), int64(9)\n",
      "memory usage: 231.0 KB\n"
     ]
    }
   ],
   "source": [
    "data.info()"
   ]
  },
  {
   "cell_type": "code",
   "execution_count": 27,
   "metadata": {},
   "outputs": [
    {
     "data": {
      "text/html": [
       "<div>\n",
       "<style scoped>\n",
       "    .dataframe tbody tr th:only-of-type {\n",
       "        vertical-align: middle;\n",
       "    }\n",
       "\n",
       "    .dataframe tbody tr th {\n",
       "        vertical-align: top;\n",
       "    }\n",
       "\n",
       "    .dataframe thead th {\n",
       "        text-align: right;\n",
       "    }\n",
       "</style>\n",
       "<table border=\"1\" class=\"dataframe\">\n",
       "  <thead>\n",
       "    <tr style=\"text-align: right;\">\n",
       "      <th></th>\n",
       "      <th>gender</th>\n",
       "      <th>age</th>\n",
       "      <th>height</th>\n",
       "      <th>weight</th>\n",
       "      <th>family</th>\n",
       "      <th>favc</th>\n",
       "      <th>fcvc</th>\n",
       "      <th>ncp</th>\n",
       "      <th>caec</th>\n",
       "      <th>smoke</th>\n",
       "      <th>ch2o</th>\n",
       "      <th>scc</th>\n",
       "      <th>faf</th>\n",
       "      <th>tue</th>\n",
       "      <th>calc</th>\n",
       "      <th>mtrans</th>\n",
       "      <th>nobeyesdad</th>\n",
       "    </tr>\n",
       "  </thead>\n",
       "  <tbody>\n",
       "    <tr>\n",
       "      <th>count</th>\n",
       "      <td>2111.000000</td>\n",
       "      <td>2111.000000</td>\n",
       "      <td>2111.000000</td>\n",
       "      <td>2111.000000</td>\n",
       "      <td>2111.000000</td>\n",
       "      <td>2111.000000</td>\n",
       "      <td>2111.000000</td>\n",
       "      <td>2111.000000</td>\n",
       "      <td>2111.000000</td>\n",
       "      <td>2111.000000</td>\n",
       "      <td>2111.000000</td>\n",
       "      <td>2111.000000</td>\n",
       "      <td>2111.000000</td>\n",
       "      <td>2111.000000</td>\n",
       "      <td>2111.000000</td>\n",
       "      <td>2111.000000</td>\n",
       "      <td>2111.000000</td>\n",
       "    </tr>\n",
       "    <tr>\n",
       "      <th>mean</th>\n",
       "      <td>0.505921</td>\n",
       "      <td>23.972525</td>\n",
       "      <td>1.701677</td>\n",
       "      <td>86.586058</td>\n",
       "      <td>0.817622</td>\n",
       "      <td>0.883941</td>\n",
       "      <td>2.213169</td>\n",
       "      <td>2.523449</td>\n",
       "      <td>0.237328</td>\n",
       "      <td>0.020843</td>\n",
       "      <td>1.712459</td>\n",
       "      <td>0.045476</td>\n",
       "      <td>0.734723</td>\n",
       "      <td>0.381336</td>\n",
       "      <td>0.731407</td>\n",
       "      <td>0.488394</td>\n",
       "      <td>3.050687</td>\n",
       "    </tr>\n",
       "    <tr>\n",
       "      <th>std</th>\n",
       "      <td>0.500083</td>\n",
       "      <td>6.308664</td>\n",
       "      <td>0.093305</td>\n",
       "      <td>26.191172</td>\n",
       "      <td>0.386247</td>\n",
       "      <td>0.320371</td>\n",
       "      <td>0.599397</td>\n",
       "      <td>0.830288</td>\n",
       "      <td>0.613474</td>\n",
       "      <td>0.142893</td>\n",
       "      <td>0.598760</td>\n",
       "      <td>0.208395</td>\n",
       "      <td>0.832812</td>\n",
       "      <td>0.582536</td>\n",
       "      <td>0.515498</td>\n",
       "      <td>0.868475</td>\n",
       "      <td>1.995680</td>\n",
       "    </tr>\n",
       "    <tr>\n",
       "      <th>min</th>\n",
       "      <td>0.000000</td>\n",
       "      <td>14.000000</td>\n",
       "      <td>1.450000</td>\n",
       "      <td>39.000000</td>\n",
       "      <td>0.000000</td>\n",
       "      <td>0.000000</td>\n",
       "      <td>1.000000</td>\n",
       "      <td>1.000000</td>\n",
       "      <td>0.000000</td>\n",
       "      <td>0.000000</td>\n",
       "      <td>1.000000</td>\n",
       "      <td>0.000000</td>\n",
       "      <td>0.000000</td>\n",
       "      <td>0.000000</td>\n",
       "      <td>0.000000</td>\n",
       "      <td>0.000000</td>\n",
       "      <td>0.000000</td>\n",
       "    </tr>\n",
       "    <tr>\n",
       "      <th>25%</th>\n",
       "      <td>0.000000</td>\n",
       "      <td>19.000000</td>\n",
       "      <td>1.630000</td>\n",
       "      <td>65.473343</td>\n",
       "      <td>1.000000</td>\n",
       "      <td>1.000000</td>\n",
       "      <td>2.000000</td>\n",
       "      <td>2.000000</td>\n",
       "      <td>0.000000</td>\n",
       "      <td>0.000000</td>\n",
       "      <td>1.000000</td>\n",
       "      <td>0.000000</td>\n",
       "      <td>0.000000</td>\n",
       "      <td>0.000000</td>\n",
       "      <td>0.000000</td>\n",
       "      <td>0.000000</td>\n",
       "      <td>1.000000</td>\n",
       "    </tr>\n",
       "    <tr>\n",
       "      <th>50%</th>\n",
       "      <td>1.000000</td>\n",
       "      <td>22.000000</td>\n",
       "      <td>1.700499</td>\n",
       "      <td>83.000000</td>\n",
       "      <td>1.000000</td>\n",
       "      <td>1.000000</td>\n",
       "      <td>2.000000</td>\n",
       "      <td>3.000000</td>\n",
       "      <td>0.000000</td>\n",
       "      <td>0.000000</td>\n",
       "      <td>2.000000</td>\n",
       "      <td>0.000000</td>\n",
       "      <td>1.000000</td>\n",
       "      <td>0.000000</td>\n",
       "      <td>1.000000</td>\n",
       "      <td>0.000000</td>\n",
       "      <td>3.000000</td>\n",
       "    </tr>\n",
       "    <tr>\n",
       "      <th>75%</th>\n",
       "      <td>1.000000</td>\n",
       "      <td>26.000000</td>\n",
       "      <td>1.768464</td>\n",
       "      <td>107.430682</td>\n",
       "      <td>1.000000</td>\n",
       "      <td>1.000000</td>\n",
       "      <td>3.000000</td>\n",
       "      <td>3.000000</td>\n",
       "      <td>0.000000</td>\n",
       "      <td>0.000000</td>\n",
       "      <td>2.000000</td>\n",
       "      <td>0.000000</td>\n",
       "      <td>1.000000</td>\n",
       "      <td>1.000000</td>\n",
       "      <td>1.000000</td>\n",
       "      <td>1.000000</td>\n",
       "      <td>5.000000</td>\n",
       "    </tr>\n",
       "    <tr>\n",
       "      <th>max</th>\n",
       "      <td>1.000000</td>\n",
       "      <td>61.000000</td>\n",
       "      <td>1.980000</td>\n",
       "      <td>173.000000</td>\n",
       "      <td>1.000000</td>\n",
       "      <td>1.000000</td>\n",
       "      <td>3.000000</td>\n",
       "      <td>4.000000</td>\n",
       "      <td>3.000000</td>\n",
       "      <td>1.000000</td>\n",
       "      <td>3.000000</td>\n",
       "      <td>1.000000</td>\n",
       "      <td>3.000000</td>\n",
       "      <td>2.000000</td>\n",
       "      <td>3.000000</td>\n",
       "      <td>4.000000</td>\n",
       "      <td>6.000000</td>\n",
       "    </tr>\n",
       "  </tbody>\n",
       "</table>\n",
       "</div>"
      ],
      "text/plain": [
       "            gender          age       height       weight       family  \\\n",
       "count  2111.000000  2111.000000  2111.000000  2111.000000  2111.000000   \n",
       "mean      0.505921    23.972525     1.701677    86.586058     0.817622   \n",
       "std       0.500083     6.308664     0.093305    26.191172     0.386247   \n",
       "min       0.000000    14.000000     1.450000    39.000000     0.000000   \n",
       "25%       0.000000    19.000000     1.630000    65.473343     1.000000   \n",
       "50%       1.000000    22.000000     1.700499    83.000000     1.000000   \n",
       "75%       1.000000    26.000000     1.768464   107.430682     1.000000   \n",
       "max       1.000000    61.000000     1.980000   173.000000     1.000000   \n",
       "\n",
       "              favc         fcvc          ncp         caec        smoke  \\\n",
       "count  2111.000000  2111.000000  2111.000000  2111.000000  2111.000000   \n",
       "mean      0.883941     2.213169     2.523449     0.237328     0.020843   \n",
       "std       0.320371     0.599397     0.830288     0.613474     0.142893   \n",
       "min       0.000000     1.000000     1.000000     0.000000     0.000000   \n",
       "25%       1.000000     2.000000     2.000000     0.000000     0.000000   \n",
       "50%       1.000000     2.000000     3.000000     0.000000     0.000000   \n",
       "75%       1.000000     3.000000     3.000000     0.000000     0.000000   \n",
       "max       1.000000     3.000000     4.000000     3.000000     1.000000   \n",
       "\n",
       "              ch2o          scc          faf          tue         calc  \\\n",
       "count  2111.000000  2111.000000  2111.000000  2111.000000  2111.000000   \n",
       "mean      1.712459     0.045476     0.734723     0.381336     0.731407   \n",
       "std       0.598760     0.208395     0.832812     0.582536     0.515498   \n",
       "min       1.000000     0.000000     0.000000     0.000000     0.000000   \n",
       "25%       1.000000     0.000000     0.000000     0.000000     0.000000   \n",
       "50%       2.000000     0.000000     1.000000     0.000000     1.000000   \n",
       "75%       2.000000     0.000000     1.000000     1.000000     1.000000   \n",
       "max       3.000000     1.000000     3.000000     2.000000     3.000000   \n",
       "\n",
       "            mtrans   nobeyesdad  \n",
       "count  2111.000000  2111.000000  \n",
       "mean      0.488394     3.050687  \n",
       "std       0.868475     1.995680  \n",
       "min       0.000000     0.000000  \n",
       "25%       0.000000     1.000000  \n",
       "50%       0.000000     3.000000  \n",
       "75%       1.000000     5.000000  \n",
       "max       4.000000     6.000000  "
      ]
     },
     "execution_count": 27,
     "metadata": {},
     "output_type": "execute_result"
    }
   ],
   "source": [
    "data.describe()"
   ]
  },
  {
   "cell_type": "code",
   "execution_count": 28,
   "metadata": {},
   "outputs": [
    {
     "data": {
      "text/html": [
       "<div>\n",
       "<style scoped>\n",
       "    .dataframe tbody tr th:only-of-type {\n",
       "        vertical-align: middle;\n",
       "    }\n",
       "\n",
       "    .dataframe tbody tr th {\n",
       "        vertical-align: top;\n",
       "    }\n",
       "\n",
       "    .dataframe thead th {\n",
       "        text-align: right;\n",
       "    }\n",
       "</style>\n",
       "<table border=\"1\" class=\"dataframe\">\n",
       "  <thead>\n",
       "    <tr style=\"text-align: right;\">\n",
       "      <th>gender</th>\n",
       "      <th>0</th>\n",
       "      <th>1</th>\n",
       "    </tr>\n",
       "    <tr>\n",
       "      <th>age</th>\n",
       "      <th></th>\n",
       "      <th></th>\n",
       "    </tr>\n",
       "  </thead>\n",
       "  <tbody>\n",
       "    <tr>\n",
       "      <th>14</th>\n",
       "      <td>0</td>\n",
       "      <td>1</td>\n",
       "    </tr>\n",
       "    <tr>\n",
       "      <th>15</th>\n",
       "      <td>1</td>\n",
       "      <td>0</td>\n",
       "    </tr>\n",
       "    <tr>\n",
       "      <th>16</th>\n",
       "      <td>23</td>\n",
       "      <td>6</td>\n",
       "    </tr>\n",
       "    <tr>\n",
       "      <th>17</th>\n",
       "      <td>27</td>\n",
       "      <td>55</td>\n",
       "    </tr>\n",
       "    <tr>\n",
       "      <th>18</th>\n",
       "      <td>130</td>\n",
       "      <td>108</td>\n",
       "    </tr>\n",
       "    <tr>\n",
       "      <th>19</th>\n",
       "      <td>109</td>\n",
       "      <td>77</td>\n",
       "    </tr>\n",
       "    <tr>\n",
       "      <th>20</th>\n",
       "      <td>79</td>\n",
       "      <td>58</td>\n",
       "    </tr>\n",
       "    <tr>\n",
       "      <th>21</th>\n",
       "      <td>150</td>\n",
       "      <td>121</td>\n",
       "    </tr>\n",
       "    <tr>\n",
       "      <th>22</th>\n",
       "      <td>74</td>\n",
       "      <td>87</td>\n",
       "    </tr>\n",
       "    <tr>\n",
       "      <th>23</th>\n",
       "      <td>63</td>\n",
       "      <td>100</td>\n",
       "    </tr>\n",
       "    <tr>\n",
       "      <th>24</th>\n",
       "      <td>28</td>\n",
       "      <td>56</td>\n",
       "    </tr>\n",
       "    <tr>\n",
       "      <th>25</th>\n",
       "      <td>93</td>\n",
       "      <td>66</td>\n",
       "    </tr>\n",
       "    <tr>\n",
       "      <th>26</th>\n",
       "      <td>94</td>\n",
       "      <td>45</td>\n",
       "    </tr>\n",
       "    <tr>\n",
       "      <th>27</th>\n",
       "      <td>7</td>\n",
       "      <td>24</td>\n",
       "    </tr>\n",
       "    <tr>\n",
       "      <th>28</th>\n",
       "      <td>8</td>\n",
       "      <td>14</td>\n",
       "    </tr>\n",
       "    <tr>\n",
       "      <th>29</th>\n",
       "      <td>9</td>\n",
       "      <td>34</td>\n",
       "    </tr>\n",
       "    <tr>\n",
       "      <th>30</th>\n",
       "      <td>8</td>\n",
       "      <td>57</td>\n",
       "    </tr>\n",
       "    <tr>\n",
       "      <th>31</th>\n",
       "      <td>9</td>\n",
       "      <td>37</td>\n",
       "    </tr>\n",
       "    <tr>\n",
       "      <th>32</th>\n",
       "      <td>7</td>\n",
       "      <td>11</td>\n",
       "    </tr>\n",
       "    <tr>\n",
       "      <th>33</th>\n",
       "      <td>11</td>\n",
       "      <td>25</td>\n",
       "    </tr>\n",
       "    <tr>\n",
       "      <th>34</th>\n",
       "      <td>11</td>\n",
       "      <td>17</td>\n",
       "    </tr>\n",
       "    <tr>\n",
       "      <th>35</th>\n",
       "      <td>6</td>\n",
       "      <td>6</td>\n",
       "    </tr>\n",
       "    <tr>\n",
       "      <th>36</th>\n",
       "      <td>6</td>\n",
       "      <td>6</td>\n",
       "    </tr>\n",
       "    <tr>\n",
       "      <th>37</th>\n",
       "      <td>22</td>\n",
       "      <td>11</td>\n",
       "    </tr>\n",
       "    <tr>\n",
       "      <th>38</th>\n",
       "      <td>20</td>\n",
       "      <td>11</td>\n",
       "    </tr>\n",
       "    <tr>\n",
       "      <th>39</th>\n",
       "      <td>11</td>\n",
       "      <td>9</td>\n",
       "    </tr>\n",
       "    <tr>\n",
       "      <th>40</th>\n",
       "      <td>13</td>\n",
       "      <td>9</td>\n",
       "    </tr>\n",
       "    <tr>\n",
       "      <th>41</th>\n",
       "      <td>5</td>\n",
       "      <td>6</td>\n",
       "    </tr>\n",
       "    <tr>\n",
       "      <th>42</th>\n",
       "      <td>5</td>\n",
       "      <td>0</td>\n",
       "    </tr>\n",
       "    <tr>\n",
       "      <th>43</th>\n",
       "      <td>7</td>\n",
       "      <td>0</td>\n",
       "    </tr>\n",
       "    <tr>\n",
       "      <th>44</th>\n",
       "      <td>0</td>\n",
       "      <td>1</td>\n",
       "    </tr>\n",
       "    <tr>\n",
       "      <th>45</th>\n",
       "      <td>3</td>\n",
       "      <td>1</td>\n",
       "    </tr>\n",
       "    <tr>\n",
       "      <th>46</th>\n",
       "      <td>0</td>\n",
       "      <td>1</td>\n",
       "    </tr>\n",
       "    <tr>\n",
       "      <th>47</th>\n",
       "      <td>1</td>\n",
       "      <td>1</td>\n",
       "    </tr>\n",
       "    <tr>\n",
       "      <th>50</th>\n",
       "      <td>0</td>\n",
       "      <td>1</td>\n",
       "    </tr>\n",
       "    <tr>\n",
       "      <th>51</th>\n",
       "      <td>1</td>\n",
       "      <td>0</td>\n",
       "    </tr>\n",
       "    <tr>\n",
       "      <th>52</th>\n",
       "      <td>1</td>\n",
       "      <td>0</td>\n",
       "    </tr>\n",
       "    <tr>\n",
       "      <th>55</th>\n",
       "      <td>0</td>\n",
       "      <td>5</td>\n",
       "    </tr>\n",
       "    <tr>\n",
       "      <th>56</th>\n",
       "      <td>0</td>\n",
       "      <td>1</td>\n",
       "    </tr>\n",
       "    <tr>\n",
       "      <th>61</th>\n",
       "      <td>1</td>\n",
       "      <td>0</td>\n",
       "    </tr>\n",
       "  </tbody>\n",
       "</table>\n",
       "</div>"
      ],
      "text/plain": [
       "gender    0    1\n",
       "age             \n",
       "14        0    1\n",
       "15        1    0\n",
       "16       23    6\n",
       "17       27   55\n",
       "18      130  108\n",
       "19      109   77\n",
       "20       79   58\n",
       "21      150  121\n",
       "22       74   87\n",
       "23       63  100\n",
       "24       28   56\n",
       "25       93   66\n",
       "26       94   45\n",
       "27        7   24\n",
       "28        8   14\n",
       "29        9   34\n",
       "30        8   57\n",
       "31        9   37\n",
       "32        7   11\n",
       "33       11   25\n",
       "34       11   17\n",
       "35        6    6\n",
       "36        6    6\n",
       "37       22   11\n",
       "38       20   11\n",
       "39       11    9\n",
       "40       13    9\n",
       "41        5    6\n",
       "42        5    0\n",
       "43        7    0\n",
       "44        0    1\n",
       "45        3    1\n",
       "46        0    1\n",
       "47        1    1\n",
       "50        0    1\n",
       "51        1    0\n",
       "52        1    0\n",
       "55        0    5\n",
       "56        0    1\n",
       "61        1    0"
      ]
     },
     "execution_count": 28,
     "metadata": {},
     "output_type": "execute_result"
    }
   ],
   "source": [
    "### personas por edad y sexo\n",
    "pd.crosstab(data.age,data.gender)"
   ]
  },
  {
   "cell_type": "code",
   "execution_count": 29,
   "metadata": {},
   "outputs": [
    {
     "data": {
      "text/html": [
       "<div>\n",
       "<style scoped>\n",
       "    .dataframe tbody tr th:only-of-type {\n",
       "        vertical-align: middle;\n",
       "    }\n",
       "\n",
       "    .dataframe tbody tr th {\n",
       "        vertical-align: top;\n",
       "    }\n",
       "\n",
       "    .dataframe thead th {\n",
       "        text-align: right;\n",
       "    }\n",
       "</style>\n",
       "<table border=\"1\" class=\"dataframe\">\n",
       "  <thead>\n",
       "    <tr style=\"text-align: right;\">\n",
       "      <th>smoke</th>\n",
       "      <th>0</th>\n",
       "      <th>1</th>\n",
       "      <th>All</th>\n",
       "    </tr>\n",
       "    <tr>\n",
       "      <th>gender</th>\n",
       "      <th></th>\n",
       "      <th></th>\n",
       "      <th></th>\n",
       "    </tr>\n",
       "  </thead>\n",
       "  <tbody>\n",
       "    <tr>\n",
       "      <th>0</th>\n",
       "      <td>0.486973</td>\n",
       "      <td>0.007106</td>\n",
       "      <td>0.494079</td>\n",
       "    </tr>\n",
       "    <tr>\n",
       "      <th>1</th>\n",
       "      <td>0.492184</td>\n",
       "      <td>0.013738</td>\n",
       "      <td>0.505921</td>\n",
       "    </tr>\n",
       "    <tr>\n",
       "      <th>All</th>\n",
       "      <td>0.979157</td>\n",
       "      <td>0.020843</td>\n",
       "      <td>1.000000</td>\n",
       "    </tr>\n",
       "  </tbody>\n",
       "</table>\n",
       "</div>"
      ],
      "text/plain": [
       "smoke          0         1       All\n",
       "gender                              \n",
       "0       0.486973  0.007106  0.494079\n",
       "1       0.492184  0.013738  0.505921\n",
       "All     0.979157  0.020843  1.000000"
      ]
     },
     "execution_count": 29,
     "metadata": {},
     "output_type": "execute_result"
    }
   ],
   "source": [
    "### personas que fuman por genero\n",
    "pd.crosstab(data.gender,data.smoke,normalize=True,margins=True)"
   ]
  },
  {
   "cell_type": "code",
   "execution_count": null,
   "metadata": {},
   "outputs": [],
   "source": []
  },
  {
   "cell_type": "code",
   "execution_count": 30,
   "metadata": {},
   "outputs": [
    {
     "data": {
      "text/html": [
       "<div>\n",
       "<style scoped>\n",
       "    .dataframe tbody tr th:only-of-type {\n",
       "        vertical-align: middle;\n",
       "    }\n",
       "\n",
       "    .dataframe tbody tr th {\n",
       "        vertical-align: top;\n",
       "    }\n",
       "\n",
       "    .dataframe thead th {\n",
       "        text-align: right;\n",
       "    }\n",
       "</style>\n",
       "<table border=\"1\" class=\"dataframe\">\n",
       "  <thead>\n",
       "    <tr style=\"text-align: right;\">\n",
       "      <th>family</th>\n",
       "      <th>0</th>\n",
       "      <th>1</th>\n",
       "      <th>All</th>\n",
       "    </tr>\n",
       "    <tr>\n",
       "      <th>gender</th>\n",
       "      <th></th>\n",
       "      <th></th>\n",
       "      <th></th>\n",
       "    </tr>\n",
       "  </thead>\n",
       "  <tbody>\n",
       "    <tr>\n",
       "      <th>0</th>\n",
       "      <td>0.109901</td>\n",
       "      <td>0.384178</td>\n",
       "      <td>0.494079</td>\n",
       "    </tr>\n",
       "    <tr>\n",
       "      <th>1</th>\n",
       "      <td>0.072477</td>\n",
       "      <td>0.433444</td>\n",
       "      <td>0.505921</td>\n",
       "    </tr>\n",
       "    <tr>\n",
       "      <th>All</th>\n",
       "      <td>0.182378</td>\n",
       "      <td>0.817622</td>\n",
       "      <td>1.000000</td>\n",
       "    </tr>\n",
       "  </tbody>\n",
       "</table>\n",
       "</div>"
      ],
      "text/plain": [
       "family         0         1       All\n",
       "gender                              \n",
       "0       0.109901  0.384178  0.494079\n",
       "1       0.072477  0.433444  0.505921\n",
       "All     0.182378  0.817622  1.000000"
      ]
     },
     "execution_count": 30,
     "metadata": {},
     "output_type": "execute_result"
    }
   ],
   "source": [
    "### historial de personas con obesidad por genero\n",
    "pd.crosstab(data.gender,data.family,normalize=True,margins=True)"
   ]
  },
  {
   "cell_type": "code",
   "execution_count": 31,
   "metadata": {},
   "outputs": [
    {
     "data": {
      "text/html": [
       "<div>\n",
       "<style scoped>\n",
       "    .dataframe tbody tr th:only-of-type {\n",
       "        vertical-align: middle;\n",
       "    }\n",
       "\n",
       "    .dataframe tbody tr th {\n",
       "        vertical-align: top;\n",
       "    }\n",
       "\n",
       "    .dataframe thead th {\n",
       "        text-align: right;\n",
       "    }\n",
       "</style>\n",
       "<table border=\"1\" class=\"dataframe\">\n",
       "  <thead>\n",
       "    <tr style=\"text-align: right;\">\n",
       "      <th>fcvc</th>\n",
       "      <th>1</th>\n",
       "      <th>2</th>\n",
       "      <th>3</th>\n",
       "      <th>All</th>\n",
       "    </tr>\n",
       "    <tr>\n",
       "      <th>favc</th>\n",
       "      <th></th>\n",
       "      <th></th>\n",
       "      <th></th>\n",
       "      <th></th>\n",
       "    </tr>\n",
       "  </thead>\n",
       "  <tbody>\n",
       "    <tr>\n",
       "      <th>0</th>\n",
       "      <td>0.005685</td>\n",
       "      <td>0.065846</td>\n",
       "      <td>0.044529</td>\n",
       "      <td>0.116059</td>\n",
       "    </tr>\n",
       "    <tr>\n",
       "      <th>1</th>\n",
       "      <td>0.090005</td>\n",
       "      <td>0.529607</td>\n",
       "      <td>0.264330</td>\n",
       "      <td>0.883941</td>\n",
       "    </tr>\n",
       "    <tr>\n",
       "      <th>All</th>\n",
       "      <td>0.095689</td>\n",
       "      <td>0.595452</td>\n",
       "      <td>0.308858</td>\n",
       "      <td>1.000000</td>\n",
       "    </tr>\n",
       "  </tbody>\n",
       "</table>\n",
       "</div>"
      ],
      "text/plain": [
       "fcvc         1         2         3       All\n",
       "favc                                        \n",
       "0     0.005685  0.065846  0.044529  0.116059\n",
       "1     0.090005  0.529607  0.264330  0.883941\n",
       "All   0.095689  0.595452  0.308858  1.000000"
      ]
     },
     "execution_count": 31,
     "metadata": {},
     "output_type": "execute_result"
    }
   ],
   "source": [
    "# fcvc frecuencia de consumo de verduras favc: frecuencia de consumo de productos altos en calorias\n",
    "pd.crosstab(data.favc,data.fcvc,normalize=True,margins=True)"
   ]
  },
  {
   "cell_type": "markdown",
   "metadata": {},
   "source": [
    "Hagan una exploración manual de la base, identifiquen las variables y los tipos de variables a las que nos enfretamos y, con su grupo, plantee unas hipótesis frente a las tareas planteadas. En lo que sigue se sugeriran algunos puntos a desarrollar en este trabajo."
   ]
  },
  {
   "cell_type": "markdown",
   "metadata": {},
   "source": [
    "- la mala alimentacion es la causa de la obesidad\n",
    "- Los patrones de obseidad son heredados"
   ]
  },
  {
   "cell_type": "markdown",
   "metadata": {},
   "source": [
    "## Exploración de datos\n",
    "\n",
    "La idea en esta sección es hacer un EDA sobre la base. Es muy importante identificar datos atípicos, nulos y relaciones entre variables (colinealidad, alta correlación, etc.)."
   ]
  },
  {
   "cell_type": "code",
   "execution_count": 21,
   "metadata": {},
   "outputs": [
    {
     "data": {
      "text/plain": [
       "gender        0\n",
       "age           0\n",
       "height        0\n",
       "weight        0\n",
       "family        0\n",
       "favc          0\n",
       "fcvc          0\n",
       "ncp           0\n",
       "caec          0\n",
       "smoke         0\n",
       "ch2o          0\n",
       "scc           0\n",
       "faf           0\n",
       "tue           0\n",
       "calc          0\n",
       "mtrans        0\n",
       "nobeyesdad    0\n",
       "dtype: int64"
      ]
     },
     "execution_count": 21,
     "metadata": {},
     "output_type": "execute_result"
    }
   ],
   "source": [
    "### datos nulos\n",
    "data.isna().sum()"
   ]
  },
  {
   "cell_type": "code",
   "execution_count": 33,
   "metadata": {},
   "outputs": [
    {
     "data": {
      "text/plain": [
       "Index(['gender', 'age', 'height', 'weight', 'family', 'favc', 'fcvc', 'ncp',\n",
       "       'caec', 'smoke', 'ch2o', 'scc', 'faf', 'tue', 'calc', 'mtrans',\n",
       "       'nobeyesdad'],\n",
       "      dtype='object')"
      ]
     },
     "execution_count": 33,
     "metadata": {},
     "output_type": "execute_result"
    }
   ],
   "source": [
    "data.columns"
   ]
  },
  {
   "cell_type": "code",
   "execution_count": 58,
   "metadata": {},
   "outputs": [
    {
     "data": {
      "image/png": "[encoded data removed]",
      "text/plain": [
       "<Figure size 720x504 with 1 Axes>"
      ]
     },
     "metadata": {
      "needs_background": "light"
     },
     "output_type": "display_data"
    }
   ],
   "source": [
    "#import mathplotlib as plt\n",
    "fig = plt.figure(figsize =(10, 7))\n",
    "ax = fig.add_subplot(111)\n",
    "\n",
    "# Creating plot\n",
    "plt.boxplot(data[['gender', 'family', 'favc', 'fcvc', 'ncp',\n",
    "       'caec', 'smoke', 'ch2o', 'scc', 'faf', 'tue', 'calc', 'mtrans',\n",
    "       'nobeyesdad']],vert=False)\n",
    "ax = fig.add_subplot(111)\n",
    "ax.set_yticklabels(['gender', 'family', 'favc', 'fcvc', 'ncp',\n",
    "       'caec', 'smoke', 'ch2o', 'scc', 'faf', 'tue', 'calc', 'mtrans',\n",
    "       'nobeyesdad'])\n",
    "# show plot\n",
    "plt.show()"
   ]
  },
  {
   "cell_type": "code",
   "execution_count": 56,
   "metadata": {},
   "outputs": [
    {
     "data": {
      "image/png": "[encoded data removed]",
      "text/plain": [
       "<Figure size 720x504 with 1 Axes>"
      ]
     },
     "metadata": {
      "needs_background": "light"
     },
     "output_type": "display_data"
    }
   ],
   "source": [
    "#import mathplotlib as plt\n",
    "fig = plt.figure(figsize =(10, 7))\n",
    " \n",
    "# Creating plot\n",
    "plt.boxplot(data[['age']])\n",
    "ax = fig.add_subplot(111)\n",
    "ax.set_xticklabels(['age'])\n",
    "# show plot\n",
    "plt.show()"
   ]
  },
  {
   "cell_type": "code",
   "execution_count": 55,
   "metadata": {},
   "outputs": [
    {
     "data": {
      "image/png": "[encoded data removed]",
      "text/plain": [
       "<Figure size 720x504 with 1 Axes>"
      ]
     },
     "metadata": {
      "needs_background": "light"
     },
     "output_type": "display_data"
    }
   ],
   "source": [
    "#import mathplotlib as plt\n",
    "fig = plt.figure(figsize =(10, 7))\n",
    " \n",
    "# Creating plot\n",
    "plt.boxplot(data[['height']])\n",
    "ax = fig.add_subplot(111)\n",
    "ax.set_xticklabels(['height'])\n",
    "# show plot\n",
    "plt.show()"
   ]
  },
  {
   "cell_type": "code",
   "execution_count": 54,
   "metadata": {},
   "outputs": [
    {
     "data": {
      "image/png": "[encoded data removed]",
      "text/plain": [
       "<Figure size 720x504 with 1 Axes>"
      ]
     },
     "metadata": {
      "needs_background": "light"
     },
     "output_type": "display_data"
    }
   ],
   "source": [
    "#import mathplotlib as plt\n",
    "fig = plt.figure(figsize =(10, 7))\n",
    " \n",
    "# Creating plot\n",
    "plt.boxplot(data[['weight']])\n",
    "ax = fig.add_subplot(111)\n",
    "ax = fig.add_subplot(111)\n",
    "ax.set_xticklabels(['weight'])\n",
    "# show plot\n",
    "plt.show()"
   ]
  },
  {
   "cell_type": "code",
   "execution_count": 38,
   "metadata": {},
   "outputs": [
    {
     "data": {
      "text/html": [
       "<div>\n",
       "<style scoped>\n",
       "    .dataframe tbody tr th:only-of-type {\n",
       "        vertical-align: middle;\n",
       "    }\n",
       "\n",
       "    .dataframe tbody tr th {\n",
       "        vertical-align: top;\n",
       "    }\n",
       "\n",
       "    .dataframe thead th {\n",
       "        text-align: right;\n",
       "    }\n",
       "</style>\n",
       "<table border=\"1\" class=\"dataframe\">\n",
       "  <thead>\n",
       "    <tr style=\"text-align: right;\">\n",
       "      <th></th>\n",
       "      <th>age</th>\n",
       "      <th>fcvc</th>\n",
       "      <th>ncp</th>\n",
       "      <th>ch2o</th>\n",
       "      <th>faf</th>\n",
       "      <th>tue</th>\n",
       "      <th>weight</th>\n",
       "      <th>height</th>\n",
       "    </tr>\n",
       "  </thead>\n",
       "  <tbody>\n",
       "    <tr>\n",
       "      <th>age</th>\n",
       "      <td>1.000000</td>\n",
       "      <td>-0.013240</td>\n",
       "      <td>-0.070632</td>\n",
       "      <td>-0.090672</td>\n",
       "      <td>-0.163307</td>\n",
       "      <td>-0.234951</td>\n",
       "      <td>0.190263</td>\n",
       "      <td>-0.030738</td>\n",
       "    </tr>\n",
       "    <tr>\n",
       "      <th>fcvc</th>\n",
       "      <td>-0.013240</td>\n",
       "      <td>1.000000</td>\n",
       "      <td>0.138510</td>\n",
       "      <td>0.037495</td>\n",
       "      <td>0.019344</td>\n",
       "      <td>-0.150120</td>\n",
       "      <td>0.201087</td>\n",
       "      <td>-0.070032</td>\n",
       "    </tr>\n",
       "    <tr>\n",
       "      <th>ncp</th>\n",
       "      <td>-0.070632</td>\n",
       "      <td>0.138510</td>\n",
       "      <td>1.000000</td>\n",
       "      <td>0.067431</td>\n",
       "      <td>0.126888</td>\n",
       "      <td>0.028048</td>\n",
       "      <td>0.126058</td>\n",
       "      <td>0.214633</td>\n",
       "    </tr>\n",
       "    <tr>\n",
       "      <th>ch2o</th>\n",
       "      <td>-0.090672</td>\n",
       "      <td>0.037495</td>\n",
       "      <td>0.067431</td>\n",
       "      <td>1.000000</td>\n",
       "      <td>0.266097</td>\n",
       "      <td>0.095753</td>\n",
       "      <td>0.052705</td>\n",
       "      <td>0.191061</td>\n",
       "    </tr>\n",
       "    <tr>\n",
       "      <th>faf</th>\n",
       "      <td>-0.163307</td>\n",
       "      <td>0.019344</td>\n",
       "      <td>0.126888</td>\n",
       "      <td>0.266097</td>\n",
       "      <td>1.000000</td>\n",
       "      <td>0.134370</td>\n",
       "      <td>-0.158726</td>\n",
       "      <td>0.234248</td>\n",
       "    </tr>\n",
       "    <tr>\n",
       "      <th>tue</th>\n",
       "      <td>-0.234951</td>\n",
       "      <td>-0.150120</td>\n",
       "      <td>0.028048</td>\n",
       "      <td>0.095753</td>\n",
       "      <td>0.134370</td>\n",
       "      <td>1.000000</td>\n",
       "      <td>-0.274960</td>\n",
       "      <td>-0.006181</td>\n",
       "    </tr>\n",
       "    <tr>\n",
       "      <th>weight</th>\n",
       "      <td>0.190263</td>\n",
       "      <td>0.201087</td>\n",
       "      <td>0.126058</td>\n",
       "      <td>0.052705</td>\n",
       "      <td>-0.158726</td>\n",
       "      <td>-0.274960</td>\n",
       "      <td>1.000000</td>\n",
       "      <td>0.463136</td>\n",
       "    </tr>\n",
       "    <tr>\n",
       "      <th>height</th>\n",
       "      <td>-0.030738</td>\n",
       "      <td>-0.070032</td>\n",
       "      <td>0.214633</td>\n",
       "      <td>0.191061</td>\n",
       "      <td>0.234248</td>\n",
       "      <td>-0.006181</td>\n",
       "      <td>0.463136</td>\n",
       "      <td>1.000000</td>\n",
       "    </tr>\n",
       "  </tbody>\n",
       "</table>\n",
       "</div>"
      ],
      "text/plain": [
       "             age      fcvc       ncp      ch2o       faf       tue    weight  \\\n",
       "age     1.000000 -0.013240 -0.070632 -0.090672 -0.163307 -0.234951  0.190263   \n",
       "fcvc   -0.013240  1.000000  0.138510  0.037495  0.019344 -0.150120  0.201087   \n",
       "ncp    -0.070632  0.138510  1.000000  0.067431  0.126888  0.028048  0.126058   \n",
       "ch2o   -0.090672  0.037495  0.067431  1.000000  0.266097  0.095753  0.052705   \n",
       "faf    -0.163307  0.019344  0.126888  0.266097  1.000000  0.134370 -0.158726   \n",
       "tue    -0.234951 -0.150120  0.028048  0.095753  0.134370  1.000000 -0.274960   \n",
       "weight  0.190263  0.201087  0.126058  0.052705 -0.158726 -0.274960  1.000000   \n",
       "height -0.030738 -0.070032  0.214633  0.191061  0.234248 -0.006181  0.463136   \n",
       "\n",
       "          height  \n",
       "age    -0.030738  \n",
       "fcvc   -0.070032  \n",
       "ncp     0.214633  \n",
       "ch2o    0.191061  \n",
       "faf     0.234248  \n",
       "tue    -0.006181  \n",
       "weight  0.463136  \n",
       "height  1.000000  "
      ]
     },
     "execution_count": 38,
     "metadata": {},
     "output_type": "execute_result"
    }
   ],
   "source": [
    "data[['age', 'fcvc', 'ncp','ch2o', 'faf', 'tue','weight','height']].corr()"
   ]
  },
  {
   "cell_type": "code",
   "execution_count": 39,
   "metadata": {},
   "outputs": [
    {
     "data": {
      "text/html": [
       "<div>\n",
       "<style scoped>\n",
       "    .dataframe tbody tr th:only-of-type {\n",
       "        vertical-align: middle;\n",
       "    }\n",
       "\n",
       "    .dataframe tbody tr th {\n",
       "        vertical-align: top;\n",
       "    }\n",
       "\n",
       "    .dataframe thead th {\n",
       "        text-align: right;\n",
       "    }\n",
       "</style>\n",
       "<table border=\"1\" class=\"dataframe\">\n",
       "  <thead>\n",
       "    <tr style=\"text-align: right;\">\n",
       "      <th></th>\n",
       "      <th>age</th>\n",
       "      <th>fcvc</th>\n",
       "      <th>ncp</th>\n",
       "      <th>ch2o</th>\n",
       "      <th>faf</th>\n",
       "      <th>tue</th>\n",
       "      <th>weight</th>\n",
       "      <th>height</th>\n",
       "    </tr>\n",
       "  </thead>\n",
       "  <tbody>\n",
       "    <tr>\n",
       "      <th>age</th>\n",
       "      <td>39.799245</td>\n",
       "      <td>-0.050065</td>\n",
       "      <td>-0.369972</td>\n",
       "      <td>-0.342501</td>\n",
       "      <td>-0.858003</td>\n",
       "      <td>-0.863451</td>\n",
       "      <td>31.437473</td>\n",
       "      <td>-0.018093</td>\n",
       "    </tr>\n",
       "    <tr>\n",
       "      <th>fcvc</th>\n",
       "      <td>-0.050065</td>\n",
       "      <td>0.359277</td>\n",
       "      <td>0.068933</td>\n",
       "      <td>0.013457</td>\n",
       "      <td>0.009656</td>\n",
       "      <td>-0.052418</td>\n",
       "      <td>3.156850</td>\n",
       "      <td>-0.003917</td>\n",
       "    </tr>\n",
       "    <tr>\n",
       "      <th>ncp</th>\n",
       "      <td>-0.369972</td>\n",
       "      <td>0.068933</td>\n",
       "      <td>0.689379</td>\n",
       "      <td>0.033523</td>\n",
       "      <td>0.087740</td>\n",
       "      <td>0.013566</td>\n",
       "      <td>2.741275</td>\n",
       "      <td>0.016628</td>\n",
       "    </tr>\n",
       "    <tr>\n",
       "      <th>ch2o</th>\n",
       "      <td>-0.342501</td>\n",
       "      <td>0.013457</td>\n",
       "      <td>0.033523</td>\n",
       "      <td>0.358513</td>\n",
       "      <td>0.132690</td>\n",
       "      <td>0.033399</td>\n",
       "      <td>0.826538</td>\n",
       "      <td>0.010674</td>\n",
       "    </tr>\n",
       "    <tr>\n",
       "      <th>faf</th>\n",
       "      <td>-0.858003</td>\n",
       "      <td>0.009656</td>\n",
       "      <td>0.087740</td>\n",
       "      <td>0.132690</td>\n",
       "      <td>0.693576</td>\n",
       "      <td>0.065189</td>\n",
       "      <td>-3.462181</td>\n",
       "      <td>0.018202</td>\n",
       "    </tr>\n",
       "    <tr>\n",
       "      <th>tue</th>\n",
       "      <td>-0.863451</td>\n",
       "      <td>-0.052418</td>\n",
       "      <td>0.013566</td>\n",
       "      <td>0.033399</td>\n",
       "      <td>0.065189</td>\n",
       "      <td>0.339348</td>\n",
       "      <td>-4.195144</td>\n",
       "      <td>-0.000336</td>\n",
       "    </tr>\n",
       "    <tr>\n",
       "      <th>weight</th>\n",
       "      <td>31.437473</td>\n",
       "      <td>3.156850</td>\n",
       "      <td>2.741275</td>\n",
       "      <td>0.826538</td>\n",
       "      <td>-3.462181</td>\n",
       "      <td>-4.195144</td>\n",
       "      <td>685.977477</td>\n",
       "      <td>1.131795</td>\n",
       "    </tr>\n",
       "    <tr>\n",
       "      <th>height</th>\n",
       "      <td>-0.018093</td>\n",
       "      <td>-0.003917</td>\n",
       "      <td>0.016628</td>\n",
       "      <td>0.010674</td>\n",
       "      <td>0.018202</td>\n",
       "      <td>-0.000336</td>\n",
       "      <td>1.131795</td>\n",
       "      <td>0.008706</td>\n",
       "    </tr>\n",
       "  </tbody>\n",
       "</table>\n",
       "</div>"
      ],
      "text/plain": [
       "              age      fcvc       ncp      ch2o       faf       tue  \\\n",
       "age     39.799245 -0.050065 -0.369972 -0.342501 -0.858003 -0.863451   \n",
       "fcvc    -0.050065  0.359277  0.068933  0.013457  0.009656 -0.052418   \n",
       "ncp     -0.369972  0.068933  0.689379  0.033523  0.087740  0.013566   \n",
       "ch2o    -0.342501  0.013457  0.033523  0.358513  0.132690  0.033399   \n",
       "faf     -0.858003  0.009656  0.087740  0.132690  0.693576  0.065189   \n",
       "tue     -0.863451 -0.052418  0.013566  0.033399  0.065189  0.339348   \n",
       "weight  31.437473  3.156850  2.741275  0.826538 -3.462181 -4.195144   \n",
       "height  -0.018093 -0.003917  0.016628  0.010674  0.018202 -0.000336   \n",
       "\n",
       "            weight    height  \n",
       "age      31.437473 -0.018093  \n",
       "fcvc      3.156850 -0.003917  \n",
       "ncp       2.741275  0.016628  \n",
       "ch2o      0.826538  0.010674  \n",
       "faf      -3.462181  0.018202  \n",
       "tue      -4.195144 -0.000336  \n",
       "weight  685.977477  1.131795  \n",
       "height    1.131795  0.008706  "
      ]
     },
     "execution_count": 39,
     "metadata": {},
     "output_type": "execute_result"
    }
   ],
   "source": [
    "data[['age', 'fcvc', 'ncp','ch2o', 'faf', 'tue','weight','height']].cov()"
   ]
  },
  {
   "cell_type": "markdown",
   "metadata": {},
   "source": [
    "## Nivel de obesidad\n",
    "\n",
    "Es claro que la altura y el peso son determinantes en el Nivel de obesidad, como lo muestra el siguiente gráfico:"
   ]
  },
  {
   "cell_type": "code",
   "execution_count": 75,
   "metadata": {},
   "outputs": [
    {
     "data": {
      "text/plain": [
       "<AxesSubplot:xlabel='weight', ylabel='height'>"
      ]
     },
     "execution_count": 75,
     "metadata": {},
     "output_type": "execute_result"
    },
    {
     "data": {
      "image/png": "[encoded data removed]",
      "text/plain": [
       "<Figure size 432x288 with 1 Axes>"
      ]
     },
     "metadata": {
      "needs_background": "light"
     },
     "output_type": "display_data"
    }
   ],
   "source": [
    "import seaborn as sns\n",
    "sns.scatterplot(data=data,x='weight',y='height',hue='nobeyesdad')"
   ]
  },
  {
   "cell_type": "markdown",
   "metadata": {},
   "source": [
    "Extraiga esas columnas de la base y haga los análisis a continuación sin tener en cuenta esas variables. Responda:\n",
    "\n",
    "**¿Tiene sentido haber extraido esas variables? ¿Cómo afectará a mi investigación no tenerlas en cuenta?**"
   ]
  },
  {
   "cell_type": "markdown",
   "metadata": {},
   "source": [
    "Tiene sentido, dado que las variables peso y estatura estan totalmente correacionadas con la variable de interes, por lo cual al usarlas en cualquier modelo lo que haria seria realizar una identidad y no podria predecir nada."
   ]
  },
  {
   "cell_type": "code",
   "execution_count": 22,
   "metadata": {},
   "outputs": [],
   "source": [
    "base1=data[['gender', 'age', 'family', 'favc', 'fcvc', 'ncp',\n",
    "       'caec', 'smoke', 'ch2o', 'scc', 'faf', 'tue', 'calc', 'mtrans',\n",
    "       'nobeyesdad']]"
   ]
  },
  {
   "cell_type": "code",
   "execution_count": 43,
   "metadata": {},
   "outputs": [
    {
     "data": {
      "text/html": [
       "<div>\n",
       "<style scoped>\n",
       "    .dataframe tbody tr th:only-of-type {\n",
       "        vertical-align: middle;\n",
       "    }\n",
       "\n",
       "    .dataframe tbody tr th {\n",
       "        vertical-align: top;\n",
       "    }\n",
       "\n",
       "    .dataframe thead th {\n",
       "        text-align: right;\n",
       "    }\n",
       "</style>\n",
       "<table border=\"1\" class=\"dataframe\">\n",
       "  <thead>\n",
       "    <tr style=\"text-align: right;\">\n",
       "      <th></th>\n",
       "      <th>age</th>\n",
       "      <th>fcvc</th>\n",
       "      <th>ncp</th>\n",
       "      <th>ch2o</th>\n",
       "      <th>faf</th>\n",
       "      <th>tue</th>\n",
       "    </tr>\n",
       "  </thead>\n",
       "  <tbody>\n",
       "    <tr>\n",
       "      <th>age</th>\n",
       "      <td>1.000000</td>\n",
       "      <td>-0.013240</td>\n",
       "      <td>-0.070632</td>\n",
       "      <td>-0.090672</td>\n",
       "      <td>-0.163307</td>\n",
       "      <td>-0.234951</td>\n",
       "    </tr>\n",
       "    <tr>\n",
       "      <th>fcvc</th>\n",
       "      <td>-0.013240</td>\n",
       "      <td>1.000000</td>\n",
       "      <td>0.138510</td>\n",
       "      <td>0.037495</td>\n",
       "      <td>0.019344</td>\n",
       "      <td>-0.150120</td>\n",
       "    </tr>\n",
       "    <tr>\n",
       "      <th>ncp</th>\n",
       "      <td>-0.070632</td>\n",
       "      <td>0.138510</td>\n",
       "      <td>1.000000</td>\n",
       "      <td>0.067431</td>\n",
       "      <td>0.126888</td>\n",
       "      <td>0.028048</td>\n",
       "    </tr>\n",
       "    <tr>\n",
       "      <th>ch2o</th>\n",
       "      <td>-0.090672</td>\n",
       "      <td>0.037495</td>\n",
       "      <td>0.067431</td>\n",
       "      <td>1.000000</td>\n",
       "      <td>0.266097</td>\n",
       "      <td>0.095753</td>\n",
       "    </tr>\n",
       "    <tr>\n",
       "      <th>faf</th>\n",
       "      <td>-0.163307</td>\n",
       "      <td>0.019344</td>\n",
       "      <td>0.126888</td>\n",
       "      <td>0.266097</td>\n",
       "      <td>1.000000</td>\n",
       "      <td>0.134370</td>\n",
       "    </tr>\n",
       "    <tr>\n",
       "      <th>tue</th>\n",
       "      <td>-0.234951</td>\n",
       "      <td>-0.150120</td>\n",
       "      <td>0.028048</td>\n",
       "      <td>0.095753</td>\n",
       "      <td>0.134370</td>\n",
       "      <td>1.000000</td>\n",
       "    </tr>\n",
       "  </tbody>\n",
       "</table>\n",
       "</div>"
      ],
      "text/plain": [
       "           age      fcvc       ncp      ch2o       faf       tue\n",
       "age   1.000000 -0.013240 -0.070632 -0.090672 -0.163307 -0.234951\n",
       "fcvc -0.013240  1.000000  0.138510  0.037495  0.019344 -0.150120\n",
       "ncp  -0.070632  0.138510  1.000000  0.067431  0.126888  0.028048\n",
       "ch2o -0.090672  0.037495  0.067431  1.000000  0.266097  0.095753\n",
       "faf  -0.163307  0.019344  0.126888  0.266097  1.000000  0.134370\n",
       "tue  -0.234951 -0.150120  0.028048  0.095753  0.134370  1.000000"
      ]
     },
     "execution_count": 43,
     "metadata": {},
     "output_type": "execute_result"
    }
   ],
   "source": [
    "base1[['age', 'fcvc', 'ncp','ch2o', 'faf', 'tue']].corr()"
   ]
  },
  {
   "cell_type": "code",
   "execution_count": 44,
   "metadata": {},
   "outputs": [
    {
     "data": {
      "text/plain": [
       "<AxesSubplot:>"
      ]
     },
     "execution_count": 44,
     "metadata": {},
     "output_type": "execute_result"
    },
    {
     "data": {
      "image/png": "[encoded data removed]",
      "text/plain": [
       "<Figure size 432x288 with 2 Axes>"
      ]
     },
     "metadata": {
      "needs_background": "light"
     },
     "output_type": "display_data"
    }
   ],
   "source": [
    "import seaborn as sns\n",
    "sns.heatmap(base1.corr())"
   ]
  },
  {
   "cell_type": "code",
   "execution_count": 45,
   "metadata": {},
   "outputs": [
    {
     "data": {
      "text/html": [
       "<div>\n",
       "<style scoped>\n",
       "    .dataframe tbody tr th:only-of-type {\n",
       "        vertical-align: middle;\n",
       "    }\n",
       "\n",
       "    .dataframe tbody tr th {\n",
       "        vertical-align: top;\n",
       "    }\n",
       "\n",
       "    .dataframe thead th {\n",
       "        text-align: right;\n",
       "    }\n",
       "</style>\n",
       "<table border=\"1\" class=\"dataframe\">\n",
       "  <thead>\n",
       "    <tr style=\"text-align: right;\">\n",
       "      <th></th>\n",
       "      <th>age</th>\n",
       "      <th>fcvc</th>\n",
       "      <th>ncp</th>\n",
       "      <th>ch2o</th>\n",
       "      <th>faf</th>\n",
       "      <th>tue</th>\n",
       "    </tr>\n",
       "  </thead>\n",
       "  <tbody>\n",
       "    <tr>\n",
       "      <th>age</th>\n",
       "      <td>39.799245</td>\n",
       "      <td>-0.050065</td>\n",
       "      <td>-0.369972</td>\n",
       "      <td>-0.342501</td>\n",
       "      <td>-0.858003</td>\n",
       "      <td>-0.863451</td>\n",
       "    </tr>\n",
       "    <tr>\n",
       "      <th>fcvc</th>\n",
       "      <td>-0.050065</td>\n",
       "      <td>0.359277</td>\n",
       "      <td>0.068933</td>\n",
       "      <td>0.013457</td>\n",
       "      <td>0.009656</td>\n",
       "      <td>-0.052418</td>\n",
       "    </tr>\n",
       "    <tr>\n",
       "      <th>ncp</th>\n",
       "      <td>-0.369972</td>\n",
       "      <td>0.068933</td>\n",
       "      <td>0.689379</td>\n",
       "      <td>0.033523</td>\n",
       "      <td>0.087740</td>\n",
       "      <td>0.013566</td>\n",
       "    </tr>\n",
       "    <tr>\n",
       "      <th>ch2o</th>\n",
       "      <td>-0.342501</td>\n",
       "      <td>0.013457</td>\n",
       "      <td>0.033523</td>\n",
       "      <td>0.358513</td>\n",
       "      <td>0.132690</td>\n",
       "      <td>0.033399</td>\n",
       "    </tr>\n",
       "    <tr>\n",
       "      <th>faf</th>\n",
       "      <td>-0.858003</td>\n",
       "      <td>0.009656</td>\n",
       "      <td>0.087740</td>\n",
       "      <td>0.132690</td>\n",
       "      <td>0.693576</td>\n",
       "      <td>0.065189</td>\n",
       "    </tr>\n",
       "    <tr>\n",
       "      <th>tue</th>\n",
       "      <td>-0.863451</td>\n",
       "      <td>-0.052418</td>\n",
       "      <td>0.013566</td>\n",
       "      <td>0.033399</td>\n",
       "      <td>0.065189</td>\n",
       "      <td>0.339348</td>\n",
       "    </tr>\n",
       "  </tbody>\n",
       "</table>\n",
       "</div>"
      ],
      "text/plain": [
       "            age      fcvc       ncp      ch2o       faf       tue\n",
       "age   39.799245 -0.050065 -0.369972 -0.342501 -0.858003 -0.863451\n",
       "fcvc  -0.050065  0.359277  0.068933  0.013457  0.009656 -0.052418\n",
       "ncp   -0.369972  0.068933  0.689379  0.033523  0.087740  0.013566\n",
       "ch2o  -0.342501  0.013457  0.033523  0.358513  0.132690  0.033399\n",
       "faf   -0.858003  0.009656  0.087740  0.132690  0.693576  0.065189\n",
       "tue   -0.863451 -0.052418  0.013566  0.033399  0.065189  0.339348"
      ]
     },
     "execution_count": 45,
     "metadata": {},
     "output_type": "execute_result"
    }
   ],
   "source": [
    "base1[['age', 'fcvc', 'ncp','ch2o', 'faf', 'tue']].cov()"
   ]
  },
  {
   "cell_type": "markdown",
   "metadata": {},
   "source": [
    "## Exploración Previa - Solo cuantitativa"
   ]
  },
  {
   "cell_type": "markdown",
   "metadata": {},
   "source": [
    "1. Tomen las variables cuantitativas y determinen agrupamientos en la base de datos. No olviden fijar una semilla para la revisión del trabajo. No duden en usar métodos que permitan determinar un valor adecuado de agrupamientos."
   ]
  },
  {
   "cell_type": "code",
   "execution_count": 46,
   "metadata": {},
   "outputs": [],
   "source": [
    "from sklearn.decomposition import PCA\n",
    "from sklearn.pipeline import make_pipeline\n",
    "from sklearn.preprocessing import StandardScaler\n",
    "from sklearn.preprocessing import scale\n",
    "import warnings\n",
    "import numpy as np\n",
    "warnings.filterwarnings('ignore')\n"
   ]
  },
  {
   "cell_type": "code",
   "execution_count": 76,
   "metadata": {},
   "outputs": [],
   "source": [
    "X=data[['gender', 'family', 'favc', 'fcvc', 'ncp',\n",
    "       'caec', 'smoke', 'ch2o', 'scc', 'faf', 'tue', 'calc', 'mtrans']]"
   ]
  },
  {
   "cell_type": "code",
   "execution_count": 77,
   "metadata": {},
   "outputs": [
    {
     "name": "stdout",
     "output_type": "stream",
     "text": [
      "----------------------\n",
      "Media de cada variable\n",
      "----------------------\n"
     ]
    },
    {
     "data": {
      "text/plain": [
       "gender    0.505921\n",
       "family    0.817622\n",
       "favc      0.883941\n",
       "fcvc      2.213169\n",
       "ncp       2.523449\n",
       "caec      0.237328\n",
       "smoke     0.020843\n",
       "ch2o      1.712459\n",
       "scc       0.045476\n",
       "faf       0.734723\n",
       "tue       0.381336\n",
       "calc      0.731407\n",
       "mtrans    0.488394\n",
       "dtype: float64"
      ]
     },
     "execution_count": 77,
     "metadata": {},
     "output_type": "execute_result"
    }
   ],
   "source": [
    "print('----------------------')\n",
    "print('Media de cada variable')\n",
    "print('----------------------')\n",
    "X.mean(axis=0)"
   ]
  },
  {
   "cell_type": "code",
   "execution_count": 78,
   "metadata": {},
   "outputs": [
    {
     "name": "stdout",
     "output_type": "stream",
     "text": [
      "-------------------------\n",
      "Varianza de cada variable\n",
      "-------------------------\n"
     ]
    },
    {
     "data": {
      "text/plain": [
       "gender    0.250083\n",
       "family    0.149187\n",
       "favc      0.102638\n",
       "fcvc      0.359277\n",
       "ncp       0.689379\n",
       "caec      0.376350\n",
       "smoke     0.020418\n",
       "ch2o      0.358513\n",
       "scc       0.043429\n",
       "faf       0.693576\n",
       "tue       0.339348\n",
       "calc      0.265738\n",
       "mtrans    0.754249\n",
       "dtype: float64"
      ]
     },
     "execution_count": 78,
     "metadata": {},
     "output_type": "execute_result"
    }
   ],
   "source": [
    "print('-------------------------')\n",
    "print('Varianza de cada variable')\n",
    "print('-------------------------')\n",
    "X.var(axis=0)"
   ]
  },
  {
   "cell_type": "code",
   "execution_count": 79,
   "metadata": {},
   "outputs": [],
   "source": [
    "#pca_pipe = make_pipeline(StandardScaler(), PCA())\n",
    "pca_pipe = make_pipeline(PCA())\n",
    "\n",
    "pca_pipe.fit(X)\n",
    "\n",
    "# Se extrae el modelo entrenado del pipeline\n",
    "modelo_pca = pca_pipe.named_steps['pca']"
   ]
  },
  {
   "cell_type": "markdown",
   "metadata": {},
   "source": [
    "2. Es importante generar visualizaciones adecuadas de los datos luego tendrán que poner cada registro en un plano cartesiano. Usen reducciones de dimensionalidad."
   ]
  },
  {
   "cell_type": "code",
   "execution_count": 80,
   "metadata": {},
   "outputs": [
    {
     "data": {
      "image/png": "[encoded data removed]",
      "text/plain": [
       "<Figure size 288x144 with 2 Axes>"
      ]
     },
     "metadata": {
      "needs_background": "light"
     },
     "output_type": "display_data"
    }
   ],
   "source": [
    "fig, ax = plt.subplots(nrows=1, ncols=1, figsize=(4, 2))\n",
    "componentes = modelo_pca.components_\n",
    "plt.imshow(componentes.T, cmap='viridis', aspect='auto')\n",
    "plt.yticks(range(len(X.columns)), X.columns)\n",
    "plt.xticks(range(len(X.columns)), np.arange(modelo_pca.n_components_) + 1)\n",
    "plt.grid(False)\n",
    "plt.colorbar();"
   ]
  },
  {
   "cell_type": "code",
   "execution_count": 81,
   "metadata": {},
   "outputs": [
    {
     "name": "stdout",
     "output_type": "stream",
     "text": [
      "[0.19600439 0.1733144  0.15173246 0.09605989 0.08792211 0.07416993\n",
      " 0.06577682 0.05536057 0.0387295  0.0277903  0.01972982 0.0089054\n",
      " 0.0045044 ]\n"
     ]
    },
    {
     "data": {
      "image/png": "[encoded data removed]",
      "text/plain": [
       "<Figure size 432x288 with 1 Axes>"
      ]
     },
     "metadata": {
      "needs_background": "light"
     },
     "output_type": "display_data"
    }
   ],
   "source": [
    "print(modelo_pca.explained_variance_ratio_)\n",
    "\n",
    "fig, ax = plt.subplots(nrows=1, ncols=1, figsize=(6, 4))\n",
    "ax.bar(\n",
    "    x      = np.arange(modelo_pca.n_components_) + 1,\n",
    "    height = modelo_pca.explained_variance_ratio_\n",
    ")\n",
    "\n",
    "for x, y in zip(np.arange(len(X.columns)) + 1, modelo_pca.explained_variance_ratio_):\n",
    "    label = round(y, 2)\n",
    "    ax.annotate(\n",
    "        label,\n",
    "        (x,y),\n",
    "        textcoords=\"offset points\",\n",
    "        xytext=(0,10),\n",
    "        ha='center'\n",
    "    )\n",
    "\n",
    "ax.set_xticks(np.arange(modelo_pca.n_components_) + 1)\n",
    "ax.set_ylim(0, 1.1)\n",
    "ax.set_title('Porcentaje de varianza explicada por cada componente')\n",
    "ax.set_xlabel('Componente principal')\n",
    "ax.set_ylabel('Por. varianza explicada');"
   ]
  },
  {
   "cell_type": "code",
   "execution_count": 82,
   "metadata": {},
   "outputs": [
    {
     "name": "stdout",
     "output_type": "stream",
     "text": [
      "------------------------------------------\n",
      "Porcentaje de varianza explicada acumulada\n",
      "------------------------------------------\n",
      "[0.19600439 0.36931879 0.52105125 0.61711114 0.70503325 0.77920319\n",
      " 0.84498001 0.90034058 0.93907008 0.96686038 0.9865902  0.9954956\n",
      " 1.        ]\n"
     ]
    },
    {
     "data": {
      "text/plain": [
       "<module 'matplotlib.pyplot' from 'C:\\\\Users\\\\jsaj_\\\\anaconda3\\\\lib\\\\site-packages\\\\matplotlib\\\\pyplot.py'>"
      ]
     },
     "execution_count": 82,
     "metadata": {},
     "output_type": "execute_result"
    },
    {
     "data": {
      "image/png": "[encoded data removed]",
      "text/plain": [
       "<Figure size 432x288 with 1 Axes>"
      ]
     },
     "metadata": {
      "needs_background": "light"
     },
     "output_type": "display_data"
    }
   ],
   "source": [
    "# ==============================================================================\n",
    "prop_varianza_acum = modelo_pca.explained_variance_ratio_.cumsum()\n",
    "print('------------------------------------------')\n",
    "print('Porcentaje de varianza explicada acumulada')\n",
    "print('------------------------------------------')\n",
    "print(prop_varianza_acum)\n",
    "\n",
    "fig, ax = plt.subplots(nrows=1, ncols=1, figsize=(6, 4))\n",
    "ax.plot(\n",
    "    np.arange(len(X.columns)) + 1,\n",
    "    prop_varianza_acum,\n",
    "    marker = 'o'\n",
    ")\n",
    "\n",
    "for x, y in zip(np.arange(len(X.columns)) + 1, prop_varianza_acum):\n",
    "    label = round(y, 2)\n",
    "    ax.annotate(\n",
    "        label,\n",
    "        (x,y),\n",
    "        textcoords=\"offset points\",\n",
    "        xytext=(0,10),\n",
    "        ha='center'\n",
    "    )\n",
    "    \n",
    "ax.set_ylim(0, 1.1)\n",
    "ax.set_xticks(np.arange(modelo_pca.n_components_) + 1)\n",
    "ax.set_title('Porcentaje de varianza explicada acumulada')\n",
    "ax.set_xlabel('Componente principal')\n",
    "ax.set_ylabel('Por. varianza acumulada')\n",
    "plt"
   ]
  },
  {
   "cell_type": "markdown",
   "metadata": {},
   "source": [
    "https://www.cienciadedatos.net/documentos/py19-pca-python.html"
   ]
  },
  {
   "cell_type": "markdown",
   "metadata": {},
   "source": [
    "3. Concluyan a partir de los resultados."
   ]
  },
  {
   "cell_type": "markdown",
   "metadata": {},
   "source": [
    "De lo anterior usando el metodo de PCA tenemos que con 11 componentes se puede explicar el 90% de los datos acumulados, seguido a que la variable edad es la que más varianza y media tiene por lo que se tuvo que estandarizar las variables. \n",
    "\n",
    "Si se decide omitir esta variable(**Edad**) se puede obtener mejores resultados reduciendo los componentes de 11 a 8, teniendo una mejor explicacion y sumado a que en cada componente se ve una clara influencia de algunas variables, como se ve en el mapa de calor de la primera gráfica."
   ]
  },
  {
   "cell_type": "markdown",
   "metadata": {},
   "source": [
    "## Aprendizaje Supervisado\n",
    "\n",
    "En esta sección crearemos modelos que permitan responder la pregunta inicial:"
   ]
  },
  {
   "cell_type": "markdown",
   "metadata": {},
   "source": [
    "1. Particionan la base en 2 (Entrenamiento y testeo) (80/20) de nuevo con semilla fija."
   ]
  },
  {
   "cell_type": "code",
   "execution_count": 5,
   "metadata": {},
   "outputs": [],
   "source": [
    "#!pip install --upgrade tensorflow"
   ]
  },
  {
   "cell_type": "code",
   "execution_count": 4,
   "metadata": {},
   "outputs": [],
   "source": [
    "#!pip install keras"
   ]
  },
  {
   "cell_type": "code",
   "execution_count": 17,
   "metadata": {},
   "outputs": [],
   "source": [
    "### redes\n",
    "from keras.models import Sequential\n",
    "from keras.layers import Dense, Dropout, BatchNormalization, Activation\n",
    "from keras.callbacks import EarlyStopping\n",
    "from keras.utils.np_utils import to_categorical\n",
    "from sklearn.preprocessing import StandardScaler, LabelEncoder, OneHotEncoder, MinMaxScaler\n",
    "from sklearn.model_selection import train_test_split, cross_val_score, StratifiedKFold, KFold\n",
    "import keras.backend as K\n",
    "from keras.wrappers.scikit_learn import KerasClassifier\n",
    "\n",
    "### random forest\n",
    "from sklearn.ensemble import RandomForestRegressor\n",
    "from sklearn.model_selection import cross_val_score,train_test_split,RepeatedKFold,GridSearchCV,ParameterGrid\n",
    "from sklearn.inspection import permutation_importance\n",
    "import multiprocessing\n",
    "### regresion logistica\n",
    "from sklearn.linear_model import LogisticRegression\n",
    "from sklearn import model_selection\n",
    "#### variables de validacion\n",
    "\n",
    "from sklearn.metrics import confusion_matrix, classification_report, mean_squared_error, mean_absolute_error, r2_score,accuracy_score,roc_auc_score,roc_curve,RocCurveDisplay,auc"
   ]
  },
  {
   "cell_type": "code",
   "execution_count": 36,
   "metadata": {},
   "outputs": [],
   "source": [
    "X=data[['gender', 'age', 'family', 'favc', 'fcvc', 'ncp',\n",
    "       'caec', 'smoke', 'ch2o', 'scc', 'faf', 'tue', 'calc', 'mtrans']]\n",
    "Y=data[['nobeyesdad']]"
   ]
  },
  {
   "cell_type": "code",
   "execution_count": 49,
   "metadata": {},
   "outputs": [
    {
     "name": "stdout",
     "output_type": "stream",
     "text": [
      "(1688, 14) (1688, 1) (423, 14) (423, 1)\n"
     ]
    }
   ],
   "source": [
    "X_train, X_test, y_train, y_test = train_test_split(X, Y, test_size=0.2,random_state=100)\n",
    "print(X_train.shape, y_train.shape,X_test.shape,y_test.shape)"
   ]
  },
  {
   "cell_type": "markdown",
   "metadata": {},
   "source": [
    "2. Usando la base de entrenamiento crearán algunos modelos de clasificación con los siguientes métodos:\n",
    "\n",
    "* Regresión Logística\n",
    "* Arboles de decisión\n",
    "* Red neuronal"
   ]
  },
  {
   "cell_type": "markdown",
   "metadata": {
    "tags": []
   },
   "source": [
    "### regresion logistica"
   ]
  },
  {
   "cell_type": "code",
   "execution_count": 50,
   "metadata": {},
   "outputs": [],
   "source": [
    "logistica=LogisticRegression(max_iter=100,solver='liblinear',random_state=29)"
   ]
  },
  {
   "cell_type": "code",
   "execution_count": 42,
   "metadata": {},
   "outputs": [],
   "source": [
    "#y_train=y_train.to_numpy().ravel()"
   ]
  },
  {
   "cell_type": "code",
   "execution_count": 51,
   "metadata": {},
   "outputs": [
    {
     "name": "stderr",
     "output_type": "stream",
     "text": [
      "C:\\Users\\jsaj_\\anaconda3\\lib\\site-packages\\sklearn\\utils\\validation.py:72: DataConversionWarning: A column-vector y was passed when a 1d array was expected. Please change the shape of y to (n_samples, ), for example using ravel().\n",
      "  return f(**kwargs)\n"
     ]
    },
    {
     "data": {
      "text/plain": [
       "LogisticRegression(random_state=29, solver='liblinear')"
      ]
     },
     "execution_count": 51,
     "metadata": {},
     "output_type": "execute_result"
    }
   ],
   "source": [
    "logistica.fit(X_train,y_train)"
   ]
  },
  {
   "cell_type": "code",
   "execution_count": 52,
   "metadata": {},
   "outputs": [
    {
     "data": {
      "text/plain": [
       "array([[-0.21624267, -0.04789551, -1.14650879, -0.70200285,  0.31341857,\n",
       "         0.24704799,  0.66117133,  0.76012871, -0.03951472, -0.11710802,\n",
       "         0.49787513,  0.66045403, -0.10109532,  0.30267332],\n",
       "       [-0.22808226, -0.05360182, -0.18529232,  0.7090438 , -0.67868692,\n",
       "        -0.36353064,  0.27627301, -1.15513933,  0.28722626,  1.43641406,\n",
       "         0.0116967 , -0.2990002 ,  0.78053216,  0.26682682],\n",
       "       [ 0.51671684,  0.07320767,  1.21876005, -1.95353017, -0.4185502 ,\n",
       "        -0.46230619, -0.51938268, -0.42039295,  0.10880751, -0.50883128,\n",
       "        -0.1912009 ,  0.22019681, -0.21809867, -0.06001465],\n",
       "       [-0.28419608,  0.01562135,  1.77997899,  1.24834223, -0.87667543,\n",
       "        -0.54691889, -0.68636306,  0.25822526,  0.47506825, -1.34229532,\n",
       "        -0.01621812,  0.22059183, -0.57491249,  0.10481197],\n",
       "       [-0.41925044, -0.24244067, -1.71637042,  0.29518249,  0.20302942,\n",
       "         0.46684781,  0.40045355, -0.75618321, -0.49050438, -0.62622712,\n",
       "        -0.02212782,  0.36524116, -0.81742798,  0.3921738 ],\n",
       "       [ 3.65514623,  0.09785588,  1.36244452,  0.17214934, -0.76931736,\n",
       "         0.05239751, -0.81729742,  0.74393576, -0.72698998, -0.15876412,\n",
       "        -0.55170808, -0.54523956,  0.11238223, -0.31036522],\n",
       "       [-3.92141557, -0.27326636,  2.09331064,  0.16071261,  2.9963795 ,\n",
       "         0.87900878, -2.86308667,  0.09664272, -0.71142143, -2.10802877,\n",
       "        -1.52247207, -2.56048328,  1.37891628, -1.45804909]])"
      ]
     },
     "execution_count": 52,
     "metadata": {},
     "output_type": "execute_result"
    }
   ],
   "source": [
    "logistica.coef_"
   ]
  },
  {
   "cell_type": "code",
   "execution_count": 67,
   "metadata": {},
   "outputs": [],
   "source": [
    "a=logistica.predict(X_train).tolist()\n",
    "b=y_train.values.ravel().tolist()"
   ]
  },
  {
   "cell_type": "code",
   "execution_count": 73,
   "metadata": {},
   "outputs": [
    {
     "data": {
      "text/html": [
       "<div>\n",
       "<style scoped>\n",
       "    .dataframe tbody tr th:only-of-type {\n",
       "        vertical-align: middle;\n",
       "    }\n",
       "\n",
       "    .dataframe tbody tr th {\n",
       "        vertical-align: top;\n",
       "    }\n",
       "\n",
       "    .dataframe thead th {\n",
       "        text-align: right;\n",
       "    }\n",
       "</style>\n",
       "<table border=\"1\" class=\"dataframe\">\n",
       "  <thead>\n",
       "    <tr style=\"text-align: right;\">\n",
       "      <th></th>\n",
       "      <th>2031</th>\n",
       "      <th>97</th>\n",
       "      <th>864</th>\n",
       "      <th>1955</th>\n",
       "      <th>561</th>\n",
       "      <th>228</th>\n",
       "      <th>1956</th>\n",
       "      <th>241</th>\n",
       "      <th>1626</th>\n",
       "      <th>1919</th>\n",
       "      <th>...</th>\n",
       "      <th>1550</th>\n",
       "      <th>1602</th>\n",
       "      <th>53</th>\n",
       "      <th>1890</th>\n",
       "      <th>1972</th>\n",
       "      <th>350</th>\n",
       "      <th>1930</th>\n",
       "      <th>79</th>\n",
       "      <th>1859</th>\n",
       "      <th>1544</th>\n",
       "    </tr>\n",
       "  </thead>\n",
       "  <tbody>\n",
       "    <tr>\n",
       "      <th>Real</th>\n",
       "      <td>6</td>\n",
       "      <td>4</td>\n",
       "      <td>1</td>\n",
       "      <td>6</td>\n",
       "      <td>4</td>\n",
       "      <td>2</td>\n",
       "      <td>6</td>\n",
       "      <td>1</td>\n",
       "      <td>5</td>\n",
       "      <td>6</td>\n",
       "      <td>...</td>\n",
       "      <td>5</td>\n",
       "      <td>5</td>\n",
       "      <td>0</td>\n",
       "      <td>6</td>\n",
       "      <td>6</td>\n",
       "      <td>0</td>\n",
       "      <td>6</td>\n",
       "      <td>0</td>\n",
       "      <td>6</td>\n",
       "      <td>5</td>\n",
       "    </tr>\n",
       "    <tr>\n",
       "      <th>Predicho</th>\n",
       "      <td>6</td>\n",
       "      <td>0</td>\n",
       "      <td>5</td>\n",
       "      <td>6</td>\n",
       "      <td>4</td>\n",
       "      <td>2</td>\n",
       "      <td>6</td>\n",
       "      <td>4</td>\n",
       "      <td>5</td>\n",
       "      <td>6</td>\n",
       "      <td>...</td>\n",
       "      <td>5</td>\n",
       "      <td>5</td>\n",
       "      <td>0</td>\n",
       "      <td>6</td>\n",
       "      <td>6</td>\n",
       "      <td>0</td>\n",
       "      <td>6</td>\n",
       "      <td>2</td>\n",
       "      <td>6</td>\n",
       "      <td>5</td>\n",
       "    </tr>\n",
       "  </tbody>\n",
       "</table>\n",
       "<p>2 rows × 1688 columns</p>\n",
       "</div>"
      ],
      "text/plain": [
       "          2031  97    864   1955  561   228   1956  241   1626  1919  ...  \\\n",
       "Real         6     4     1     6     4     2     6     1     5     6  ...   \n",
       "Predicho     6     0     5     6     4     2     6     4     5     6  ...   \n",
       "\n",
       "          1550  1602  53    1890  1972  350   1930  79    1859  1544  \n",
       "Real         5     5     0     6     6     0     6     0     6     5  \n",
       "Predicho     5     5     0     6     6     0     6     2     6     5  \n",
       "\n",
       "[2 rows x 1688 columns]"
      ]
     },
     "execution_count": 73,
     "metadata": {},
     "output_type": "execute_result"
    }
   ],
   "source": [
    "pd.DataFrame([b,a],columns=y_train.index,index=['Real','Predicho'])"
   ]
  },
  {
   "cell_type": "code",
   "execution_count": 74,
   "metadata": {},
   "outputs": [
    {
     "data": {
      "text/plain": [
       "0.5657582938388626"
      ]
     },
     "execution_count": 74,
     "metadata": {},
     "output_type": "execute_result"
    }
   ],
   "source": [
    "logistica.score(X_train,y_train)"
   ]
  },
  {
   "cell_type": "code",
   "execution_count": 76,
   "metadata": {},
   "outputs": [
    {
     "data": {
      "text/plain": [
       "0.5555555555555556"
      ]
     },
     "execution_count": 76,
     "metadata": {},
     "output_type": "execute_result"
    }
   ],
   "source": [
    "logistica.score(X_test,y_test)"
   ]
  },
  {
   "cell_type": "code",
   "execution_count": 77,
   "metadata": {},
   "outputs": [
    {
     "name": "stdout",
     "output_type": "stream",
     "text": [
      "              precision    recall  f1-score   support\n",
      "\n",
      "           0       0.34      0.28      0.31        50\n",
      "           1       0.58      0.31      0.40        61\n",
      "           2       0.58      0.24      0.34        62\n",
      "           3       0.50      0.53      0.52        75\n",
      "           4       0.44      0.51      0.47        49\n",
      "           5       0.48      0.92      0.63        53\n",
      "           6       0.88      1.00      0.94        73\n",
      "\n",
      "    accuracy                           0.56       423\n",
      "   macro avg       0.54      0.54      0.51       423\n",
      "weighted avg       0.56      0.56      0.53       423\n",
      "\n"
     ]
    }
   ],
   "source": [
    "print(classification_report(y_test,logistica.predict(X_test)))"
   ]
  },
  {
   "cell_type": "code",
   "execution_count": 78,
   "metadata": {},
   "outputs": [
    {
     "data": {
      "text/plain": [
       "array([[14,  5,  3,  3, 20,  3,  2],\n",
       "       [ 6, 19,  2, 19,  3, 10,  2],\n",
       "       [ 4,  3, 15, 14,  2, 24,  0],\n",
       "       [ 3,  2,  4, 40,  7, 14,  5],\n",
       "       [14,  4,  0,  2, 25,  3,  1],\n",
       "       [ 0,  0,  2,  2,  0, 49,  0],\n",
       "       [ 0,  0,  0,  0,  0,  0, 73]], dtype=int64)"
      ]
     },
     "execution_count": 78,
     "metadata": {},
     "output_type": "execute_result"
    }
   ],
   "source": [
    "CM=confusion_matrix(y_test,logistica.predict(X_test))\n",
    "CM"
   ]
  },
  {
   "cell_type": "code",
   "execution_count": 91,
   "metadata": {},
   "outputs": [
    {
     "data": {
      "image/png": "[encoded data removed]",
      "text/plain": [
       "<Figure size 1440x1080 with 2 Axes>"
      ]
     },
     "metadata": {
      "needs_background": "light"
     },
     "output_type": "display_data"
    }
   ],
   "source": [
    "labels=['Normal_Weight','Overweight_Level_I','Overweight_Level_II','Obesity_Type_I','Insufficient_Weight','Obesity_Type_II','Obesity_Type_III']\n",
    "plt.figure(figsize=(20,15))\n",
    "sns.heatmap(CM,annot=True,cmap='Blues')\n",
    "plt.xlabel('Predicho')\n",
    "plt.ylabel('Real')\n",
    "plt.xticks([0.5+a for a in range(7)],labels,va='center')\n",
    "plt.yticks([0.5+a for a in range(7)],labels,va='center')\n",
    "plt.show()"
   ]
  },
  {
   "cell_type": "code",
   "execution_count": 105,
   "metadata": {},
   "outputs": [],
   "source": [
    "Y_pred_prob=logistica.predict_proba(X_test)\n",
    "\n",
    "Prob=pd.DataFrame(Y_pred_prob,columns=['0','1','2','3','4','5','6'])\n",
    "Prob['Result']=logistica.predict(X_test)\n",
    "Y_testeo_dummy=pd.get_dummies(y_test.nobeyesdad.tolist())"
   ]
  },
  {
   "cell_type": "code",
   "execution_count": 107,
   "metadata": {},
   "outputs": [],
   "source": [
    "fpr, tpr, umbrales=roc_curve(Y_testeo_dummy[0],Y_pred_prob[:,0])"
   ]
  },
  {
   "cell_type": "code",
   "execution_count": 117,
   "metadata": {},
   "outputs": [
    {
     "data": {
      "image/png": "[encoded data removed]",
      "text/plain": [
       "<Figure size 432x288 with 1 Axes>"
      ]
     },
     "metadata": {
      "needs_background": "light"
     },
     "output_type": "display_data"
    },
    {
     "data": {
      "image/png": "[encoded data removed]",
      "text/plain": [
       "<Figure size 432x288 with 1 Axes>"
      ]
     },
     "metadata": {
      "needs_background": "light"
     },
     "output_type": "display_data"
    },
    {
     "data": {
      "image/png": "[encoded data removed]",
      "text/plain": [
       "<Figure size 432x288 with 1 Axes>"
      ]
     },
     "metadata": {
      "needs_background": "light"
     },
     "output_type": "display_data"
    },
    {
     "data": {
      "image/png": "[encoded data removed]",
      "text/plain": [
       "<Figure size 432x288 with 1 Axes>"
      ]
     },
     "metadata": {
      "needs_background": "light"
     },
     "output_type": "display_data"
    },
    {
     "data": {
      "image/png": "[encoded data removed]",
      "text/plain": [
       "<Figure size 432x288 with 1 Axes>"
      ]
     },
     "metadata": {
      "needs_background": "light"
     },
     "output_type": "display_data"
    },
    {
     "data": {
      "image/png": "[encoded data removed]",
      "text/plain": [
       "<Figure size 432x288 with 1 Axes>"
      ]
     },
     "metadata": {
      "needs_background": "light"
     },
     "output_type": "display_data"
    },
    {
     "data": {
      "image/png": "[encoded data removed]",
      "text/plain": [
       "<Figure size 432x288 with 1 Axes>"
      ]
     },
     "metadata": {
      "needs_background": "light"
     },
     "output_type": "display_data"
    }
   ],
   "source": [
    "osd=['Normal_Weight','Overweight_Level_I','Overweight_Level_II','Obesity_Type_I','Insufficient_Weight','Obesity_Type_II','Obesity_Type_III']\n",
    "for i in range(7):\n",
    "    fpr, tpr, umbrales=roc_curve(Y_testeo_dummy[i],Y_pred_prob[:,i])\n",
    "    AUC=auc(fpr,tpr)\n",
    "    display=RocCurveDisplay(fpr=fpr,tpr=tpr,roc_auc=AUC)\n",
    "    display.plot()\n",
    "    plt.title('Curva Roc para '+osd[i])\n",
    "plt.show()"
   ]
  },
  {
   "cell_type": "code",
   "execution_count": 200,
   "metadata": {},
   "outputs": [
    {
     "data": {
      "text/plain": [
       "1.9024682238580486"
      ]
     },
     "execution_count": 200,
     "metadata": {},
     "output_type": "execute_result"
    }
   ],
   "source": [
    "predicciones = logistica.predict(X = X_test)\n",
    "rmse = mean_squared_error(\n",
    "            y_true  = y_test,\n",
    "            y_pred  = predicciones,\n",
    "            squared = False\n",
    "           )\n",
    "rmse\n"
   ]
  },
  {
   "cell_type": "code",
   "execution_count": 201,
   "metadata": {},
   "outputs": [
    {
     "data": {
      "text/plain": [
       "0.0833529133675488"
      ]
     },
     "execution_count": 201,
     "metadata": {},
     "output_type": "execute_result"
    }
   ],
   "source": [
    "r2_score(y_test,predicciones)"
   ]
  },
  {
   "cell_type": "markdown",
   "metadata": {},
   "source": [
    "### random forest"
   ]
  },
  {
   "cell_type": "code",
   "execution_count": 133,
   "metadata": {},
   "outputs": [],
   "source": [
    "y_train1=y_train.to_numpy().ravel()"
   ]
  },
  {
   "cell_type": "code",
   "execution_count": 135,
   "metadata": {},
   "outputs": [
    {
     "data": {
      "text/plain": [
       "{'max_depth': 8,\n",
       " 'max_features': 'auto',\n",
       " 'min_samples_leaf': 2,\n",
       " 'min_samples_split': 2,\n",
       " 'n_estimators': 200}"
      ]
     },
     "execution_count": 135,
     "metadata": {},
     "output_type": "execute_result"
    }
   ],
   "source": [
    "model=RandomForestRegressor(\n",
    "                        random_state        = 100\n",
    "                    )\n",
    "param_grid = {\n",
    "              'n_estimators'      : [100,150,200,250],\n",
    "              'min_samples_split' : [2,3,4,5,6,7],\n",
    "              'max_depth'         : [4,5,6,7,8],\n",
    "              'min_samples_leaf'  : [2,3,4,5,6,7],\n",
    "              'max_features'      : ['auto','sqrt', 'log2']\n",
    "             }\n",
    "\n",
    "grid = GridSearchCV(\n",
    "        estimator  = model,\n",
    "        param_grid = param_grid,\n",
    "        cv         = RepeatedKFold(n_splits=3, n_repeats=1, random_state=123) \n",
    "       )\n",
    "\n",
    "grid.fit(X = X_train, y = y_train1)\n",
    "\n",
    "# Resultados\n",
    "# ==============================================================================\n",
    "grid.best_params_"
   ]
  },
  {
   "cell_type": "code",
   "execution_count": 146,
   "metadata": {},
   "outputs": [],
   "source": [
    "random=RandomForestRegressor(\n",
    "                        random_state        = 100,\n",
    "                        n_estimators        =200,\n",
    "                        min_samples_split   = 2,\n",
    "                        max_depth           = 8,\n",
    "                        min_samples_leaf    = 2,\n",
    "                        max_features        = 'auto'\n",
    "                )\n"
   ]
  },
  {
   "cell_type": "code",
   "execution_count": 147,
   "metadata": {},
   "outputs": [
    {
     "data": {
      "text/plain": [
       "RandomForestRegressor(max_depth=8, min_samples_leaf=2, n_estimators=200,\n",
       "                      random_state=100)"
      ]
     },
     "execution_count": 147,
     "metadata": {},
     "output_type": "execute_result"
    }
   ],
   "source": [
    "random.fit(X_train, y_train1)"
   ]
  },
  {
   "cell_type": "code",
   "execution_count": 148,
   "metadata": {},
   "outputs": [
    {
     "name": "stdout",
     "output_type": "stream",
     "text": [
      "El error (rmse) de test es: 1.0436968246845004\n"
     ]
    }
   ],
   "source": [
    "predicciones = modelo.predict(X = X_test)\n",
    "\n",
    "rmse = mean_squared_error(\n",
    "        y_true  = y_test,\n",
    "        y_pred  = predicciones,\n",
    "        squared = False\n",
    "       )\n",
    "print(f\"El error (rmse) de test es: {rmse}\")"
   ]
  },
  {
   "cell_type": "code",
   "execution_count": 149,
   "metadata": {},
   "outputs": [
    {
     "data": {
      "text/plain": [
       "0.9567278838101887"
      ]
     },
     "execution_count": 149,
     "metadata": {},
     "output_type": "execute_result"
    }
   ],
   "source": [
    "modelo.score(X_train,y_train)"
   ]
  },
  {
   "cell_type": "code",
   "execution_count": 150,
   "metadata": {},
   "outputs": [
    {
     "data": {
      "text/plain": [
       "0.7241226386409051"
      ]
     },
     "execution_count": 150,
     "metadata": {},
     "output_type": "execute_result"
    }
   ],
   "source": [
    "modelo.score(X_test,y_test)"
   ]
  },
  {
   "cell_type": "code",
   "execution_count": 189,
   "metadata": {},
   "outputs": [],
   "source": [
    "validacion=np.round(predicciones,0)"
   ]
  },
  {
   "cell_type": "code",
   "execution_count": 190,
   "metadata": {},
   "outputs": [],
   "source": [
    "CM=confusion_matrix(y_test,validacion)"
   ]
  },
  {
   "cell_type": "code",
   "execution_count": 160,
   "metadata": {},
   "outputs": [
    {
     "data": {
      "image/png": "[encoded data removed]",
      "text/plain": [
       "<Figure size 1440x1080 with 2 Axes>"
      ]
     },
     "metadata": {
      "needs_background": "light"
     },
     "output_type": "display_data"
    }
   ],
   "source": [
    "labels=['Normal_Weight','Overweight_Level_I','Overweight_Level_II','Obesity_Type_I','Insufficient_Weight','Obesity_Type_II','Obesity_Type_III']\n",
    "plt.figure(figsize=(20,15))\n",
    "sns.heatmap(CM,annot=True,cmap='Blues')\n",
    "plt.xlabel('Predicho')\n",
    "plt.ylabel('Real')\n",
    "plt.xticks([0.5+a for a in range(7)],labels,va='center')\n",
    "plt.yticks([0.5+a for a in range(7)],labels,va='center')\n",
    "plt.show()"
   ]
  },
  {
   "cell_type": "code",
   "execution_count": 186,
   "metadata": {},
   "outputs": [
    {
     "name": "stdout",
     "output_type": "stream",
     "text": [
      "              precision    recall  f1-score   support\n",
      "\n",
      "           0       0.50      0.04      0.07        50\n",
      "           1       0.49      0.74      0.59        61\n",
      "           2       0.43      0.65      0.52        62\n",
      "           3       0.65      0.73      0.69        75\n",
      "           4       0.71      0.59      0.64        49\n",
      "           5       0.95      0.68      0.79        53\n",
      "           6       1.00      1.00      1.00        73\n",
      "\n",
      "    accuracy                           0.66       423\n",
      "   macro avg       0.68      0.63      0.62       423\n",
      "weighted avg       0.68      0.66      0.64       423\n",
      "\n"
     ]
    }
   ],
   "source": [
    "print(classification_report(y_test,validacion))"
   ]
  },
  {
   "cell_type": "code",
   "execution_count": 184,
   "metadata": {},
   "outputs": [
    {
     "data": {
      "text/plain": [
       "0.5802892430442708"
      ]
     },
     "execution_count": 184,
     "metadata": {},
     "output_type": "execute_result"
    }
   ],
   "source": [
    "predicciones = modelo.predict(X = X_test)\n",
    "mean_absolute_error(y_test,predicciones)"
   ]
  },
  {
   "cell_type": "code",
   "execution_count": 185,
   "metadata": {},
   "outputs": [
    {
     "data": {
      "text/plain": [
       "0.7241226386409051"
      ]
     },
     "execution_count": 185,
     "metadata": {},
     "output_type": "execute_result"
    }
   ],
   "source": [
    "r2_score(y_test,predicciones)"
   ]
  },
  {
   "cell_type": "code",
   "execution_count": 191,
   "metadata": {},
   "outputs": [
    {
     "data": {
      "text/plain": [
       "0.6619385342789598"
      ]
     },
     "execution_count": 191,
     "metadata": {},
     "output_type": "execute_result"
    }
   ],
   "source": [
    "accuracy_score(y_test,validacion)"
   ]
  },
  {
   "cell_type": "markdown",
   "metadata": {},
   "source": [
    "#### redes neuronales"
   ]
  },
  {
   "cell_type": "code",
   "execution_count": 8,
   "metadata": {},
   "outputs": [],
   "source": [
    "data=pd.read_csv('ObesityDataSet_raw_and_data_sinthetic.csv')"
   ]
  },
  {
   "cell_type": "code",
   "execution_count": 9,
   "metadata": {},
   "outputs": [],
   "source": [
    "data.columns=data.columns.str.lower()\n"
   ]
  },
  {
   "cell_type": "code",
   "execution_count": 10,
   "metadata": {},
   "outputs": [],
   "source": [
    "data.rename(columns={'family_history_with_overweight':'family'},inplace=True)"
   ]
  },
  {
   "cell_type": "code",
   "execution_count": 11,
   "metadata": {},
   "outputs": [
    {
     "data": {
      "text/plain": [
       "Index(['gender', 'age', 'height', 'weight', 'family', 'favc', 'fcvc', 'ncp',\n",
       "       'caec', 'smoke', 'ch2o', 'scc', 'faf', 'tue', 'calc', 'mtrans',\n",
       "       'nobeyesdad'],\n",
       "      dtype='object')"
      ]
     },
     "execution_count": 11,
     "metadata": {},
     "output_type": "execute_result"
    }
   ],
   "source": [
    "data.columns"
   ]
  },
  {
   "cell_type": "code",
   "execution_count": 12,
   "metadata": {},
   "outputs": [],
   "source": [
    "lista=['age','fcvc', 'ncp','ch2o', 'faf', 'tue']\n",
    "for a in range(len(lista)):\n",
    "    data[lista[a]]=data[lista[a]].astype(int)\n",
    "    data[lista[a]]=data[lista[a]].astype(str)"
   ]
  },
  {
   "cell_type": "code",
   "execution_count": 13,
   "metadata": {},
   "outputs": [
    {
     "data": {
      "text/html": [
       "<div>\n",
       "<style scoped>\n",
       "    .dataframe tbody tr th:only-of-type {\n",
       "        vertical-align: middle;\n",
       "    }\n",
       "\n",
       "    .dataframe tbody tr th {\n",
       "        vertical-align: top;\n",
       "    }\n",
       "\n",
       "    .dataframe thead th {\n",
       "        text-align: right;\n",
       "    }\n",
       "</style>\n",
       "<table border=\"1\" class=\"dataframe\">\n",
       "  <thead>\n",
       "    <tr style=\"text-align: right;\">\n",
       "      <th></th>\n",
       "      <th>gender_Female</th>\n",
       "      <th>gender_Male</th>\n",
       "      <th>age_14</th>\n",
       "      <th>age_15</th>\n",
       "      <th>age_16</th>\n",
       "      <th>age_17</th>\n",
       "      <th>age_18</th>\n",
       "      <th>age_19</th>\n",
       "      <th>age_20</th>\n",
       "      <th>age_21</th>\n",
       "      <th>...</th>\n",
       "      <th>calc_Always</th>\n",
       "      <th>calc_Frequently</th>\n",
       "      <th>calc_Sometimes</th>\n",
       "      <th>calc_no</th>\n",
       "      <th>mtrans_Automobile</th>\n",
       "      <th>mtrans_Bike</th>\n",
       "      <th>mtrans_Motorbike</th>\n",
       "      <th>mtrans_Public_Transportation</th>\n",
       "      <th>mtrans_Walking</th>\n",
       "      <th>nobeyesdad</th>\n",
       "    </tr>\n",
       "  </thead>\n",
       "  <tbody>\n",
       "    <tr>\n",
       "      <th>0</th>\n",
       "      <td>1</td>\n",
       "      <td>0</td>\n",
       "      <td>0</td>\n",
       "      <td>0</td>\n",
       "      <td>0</td>\n",
       "      <td>0</td>\n",
       "      <td>0</td>\n",
       "      <td>0</td>\n",
       "      <td>0</td>\n",
       "      <td>1</td>\n",
       "      <td>...</td>\n",
       "      <td>0</td>\n",
       "      <td>0</td>\n",
       "      <td>0</td>\n",
       "      <td>1</td>\n",
       "      <td>0</td>\n",
       "      <td>0</td>\n",
       "      <td>0</td>\n",
       "      <td>1</td>\n",
       "      <td>0</td>\n",
       "      <td>Normal_Weight</td>\n",
       "    </tr>\n",
       "    <tr>\n",
       "      <th>1</th>\n",
       "      <td>1</td>\n",
       "      <td>0</td>\n",
       "      <td>0</td>\n",
       "      <td>0</td>\n",
       "      <td>0</td>\n",
       "      <td>0</td>\n",
       "      <td>0</td>\n",
       "      <td>0</td>\n",
       "      <td>0</td>\n",
       "      <td>1</td>\n",
       "      <td>...</td>\n",
       "      <td>0</td>\n",
       "      <td>0</td>\n",
       "      <td>1</td>\n",
       "      <td>0</td>\n",
       "      <td>0</td>\n",
       "      <td>0</td>\n",
       "      <td>0</td>\n",
       "      <td>1</td>\n",
       "      <td>0</td>\n",
       "      <td>Normal_Weight</td>\n",
       "    </tr>\n",
       "    <tr>\n",
       "      <th>2</th>\n",
       "      <td>0</td>\n",
       "      <td>1</td>\n",
       "      <td>0</td>\n",
       "      <td>0</td>\n",
       "      <td>0</td>\n",
       "      <td>0</td>\n",
       "      <td>0</td>\n",
       "      <td>0</td>\n",
       "      <td>0</td>\n",
       "      <td>0</td>\n",
       "      <td>...</td>\n",
       "      <td>0</td>\n",
       "      <td>1</td>\n",
       "      <td>0</td>\n",
       "      <td>0</td>\n",
       "      <td>0</td>\n",
       "      <td>0</td>\n",
       "      <td>0</td>\n",
       "      <td>1</td>\n",
       "      <td>0</td>\n",
       "      <td>Normal_Weight</td>\n",
       "    </tr>\n",
       "    <tr>\n",
       "      <th>3</th>\n",
       "      <td>0</td>\n",
       "      <td>1</td>\n",
       "      <td>0</td>\n",
       "      <td>0</td>\n",
       "      <td>0</td>\n",
       "      <td>0</td>\n",
       "      <td>0</td>\n",
       "      <td>0</td>\n",
       "      <td>0</td>\n",
       "      <td>0</td>\n",
       "      <td>...</td>\n",
       "      <td>0</td>\n",
       "      <td>1</td>\n",
       "      <td>0</td>\n",
       "      <td>0</td>\n",
       "      <td>0</td>\n",
       "      <td>0</td>\n",
       "      <td>0</td>\n",
       "      <td>0</td>\n",
       "      <td>1</td>\n",
       "      <td>Overweight_Level_I</td>\n",
       "    </tr>\n",
       "    <tr>\n",
       "      <th>4</th>\n",
       "      <td>0</td>\n",
       "      <td>1</td>\n",
       "      <td>0</td>\n",
       "      <td>0</td>\n",
       "      <td>0</td>\n",
       "      <td>0</td>\n",
       "      <td>0</td>\n",
       "      <td>0</td>\n",
       "      <td>0</td>\n",
       "      <td>0</td>\n",
       "      <td>...</td>\n",
       "      <td>0</td>\n",
       "      <td>0</td>\n",
       "      <td>1</td>\n",
       "      <td>0</td>\n",
       "      <td>0</td>\n",
       "      <td>0</td>\n",
       "      <td>0</td>\n",
       "      <td>1</td>\n",
       "      <td>0</td>\n",
       "      <td>Overweight_Level_II</td>\n",
       "    </tr>\n",
       "    <tr>\n",
       "      <th>...</th>\n",
       "      <td>...</td>\n",
       "      <td>...</td>\n",
       "      <td>...</td>\n",
       "      <td>...</td>\n",
       "      <td>...</td>\n",
       "      <td>...</td>\n",
       "      <td>...</td>\n",
       "      <td>...</td>\n",
       "      <td>...</td>\n",
       "      <td>...</td>\n",
       "      <td>...</td>\n",
       "      <td>...</td>\n",
       "      <td>...</td>\n",
       "      <td>...</td>\n",
       "      <td>...</td>\n",
       "      <td>...</td>\n",
       "      <td>...</td>\n",
       "      <td>...</td>\n",
       "      <td>...</td>\n",
       "      <td>...</td>\n",
       "      <td>...</td>\n",
       "    </tr>\n",
       "    <tr>\n",
       "      <th>2106</th>\n",
       "      <td>1</td>\n",
       "      <td>0</td>\n",
       "      <td>0</td>\n",
       "      <td>0</td>\n",
       "      <td>0</td>\n",
       "      <td>0</td>\n",
       "      <td>0</td>\n",
       "      <td>0</td>\n",
       "      <td>1</td>\n",
       "      <td>0</td>\n",
       "      <td>...</td>\n",
       "      <td>0</td>\n",
       "      <td>0</td>\n",
       "      <td>1</td>\n",
       "      <td>0</td>\n",
       "      <td>0</td>\n",
       "      <td>0</td>\n",
       "      <td>0</td>\n",
       "      <td>1</td>\n",
       "      <td>0</td>\n",
       "      <td>Obesity_Type_III</td>\n",
       "    </tr>\n",
       "    <tr>\n",
       "      <th>2107</th>\n",
       "      <td>1</td>\n",
       "      <td>0</td>\n",
       "      <td>0</td>\n",
       "      <td>0</td>\n",
       "      <td>0</td>\n",
       "      <td>0</td>\n",
       "      <td>0</td>\n",
       "      <td>0</td>\n",
       "      <td>0</td>\n",
       "      <td>1</td>\n",
       "      <td>...</td>\n",
       "      <td>0</td>\n",
       "      <td>0</td>\n",
       "      <td>1</td>\n",
       "      <td>0</td>\n",
       "      <td>0</td>\n",
       "      <td>0</td>\n",
       "      <td>0</td>\n",
       "      <td>1</td>\n",
       "      <td>0</td>\n",
       "      <td>Obesity_Type_III</td>\n",
       "    </tr>\n",
       "    <tr>\n",
       "      <th>2108</th>\n",
       "      <td>1</td>\n",
       "      <td>0</td>\n",
       "      <td>0</td>\n",
       "      <td>0</td>\n",
       "      <td>0</td>\n",
       "      <td>0</td>\n",
       "      <td>0</td>\n",
       "      <td>0</td>\n",
       "      <td>0</td>\n",
       "      <td>0</td>\n",
       "      <td>...</td>\n",
       "      <td>0</td>\n",
       "      <td>0</td>\n",
       "      <td>1</td>\n",
       "      <td>0</td>\n",
       "      <td>0</td>\n",
       "      <td>0</td>\n",
       "      <td>0</td>\n",
       "      <td>1</td>\n",
       "      <td>0</td>\n",
       "      <td>Obesity_Type_III</td>\n",
       "    </tr>\n",
       "    <tr>\n",
       "      <th>2109</th>\n",
       "      <td>1</td>\n",
       "      <td>0</td>\n",
       "      <td>0</td>\n",
       "      <td>0</td>\n",
       "      <td>0</td>\n",
       "      <td>0</td>\n",
       "      <td>0</td>\n",
       "      <td>0</td>\n",
       "      <td>0</td>\n",
       "      <td>0</td>\n",
       "      <td>...</td>\n",
       "      <td>0</td>\n",
       "      <td>0</td>\n",
       "      <td>1</td>\n",
       "      <td>0</td>\n",
       "      <td>0</td>\n",
       "      <td>0</td>\n",
       "      <td>0</td>\n",
       "      <td>1</td>\n",
       "      <td>0</td>\n",
       "      <td>Obesity_Type_III</td>\n",
       "    </tr>\n",
       "    <tr>\n",
       "      <th>2110</th>\n",
       "      <td>1</td>\n",
       "      <td>0</td>\n",
       "      <td>0</td>\n",
       "      <td>0</td>\n",
       "      <td>0</td>\n",
       "      <td>0</td>\n",
       "      <td>0</td>\n",
       "      <td>0</td>\n",
       "      <td>0</td>\n",
       "      <td>0</td>\n",
       "      <td>...</td>\n",
       "      <td>0</td>\n",
       "      <td>0</td>\n",
       "      <td>1</td>\n",
       "      <td>0</td>\n",
       "      <td>0</td>\n",
       "      <td>0</td>\n",
       "      <td>0</td>\n",
       "      <td>1</td>\n",
       "      <td>0</td>\n",
       "      <td>Obesity_Type_III</td>\n",
       "    </tr>\n",
       "  </tbody>\n",
       "</table>\n",
       "<p>2111 rows × 81 columns</p>\n",
       "</div>"
      ],
      "text/plain": [
       "      gender_Female  gender_Male  age_14  age_15  age_16  age_17  age_18  \\\n",
       "0                 1            0       0       0       0       0       0   \n",
       "1                 1            0       0       0       0       0       0   \n",
       "2                 0            1       0       0       0       0       0   \n",
       "3                 0            1       0       0       0       0       0   \n",
       "4                 0            1       0       0       0       0       0   \n",
       "...             ...          ...     ...     ...     ...     ...     ...   \n",
       "2106              1            0       0       0       0       0       0   \n",
       "2107              1            0       0       0       0       0       0   \n",
       "2108              1            0       0       0       0       0       0   \n",
       "2109              1            0       0       0       0       0       0   \n",
       "2110              1            0       0       0       0       0       0   \n",
       "\n",
       "      age_19  age_20  age_21  ...  calc_Always  calc_Frequently  \\\n",
       "0          0       0       1  ...            0                0   \n",
       "1          0       0       1  ...            0                0   \n",
       "2          0       0       0  ...            0                1   \n",
       "3          0       0       0  ...            0                1   \n",
       "4          0       0       0  ...            0                0   \n",
       "...      ...     ...     ...  ...          ...              ...   \n",
       "2106       0       1       0  ...            0                0   \n",
       "2107       0       0       1  ...            0                0   \n",
       "2108       0       0       0  ...            0                0   \n",
       "2109       0       0       0  ...            0                0   \n",
       "2110       0       0       0  ...            0                0   \n",
       "\n",
       "      calc_Sometimes  calc_no  mtrans_Automobile  mtrans_Bike  \\\n",
       "0                  0        1                  0            0   \n",
       "1                  1        0                  0            0   \n",
       "2                  0        0                  0            0   \n",
       "3                  0        0                  0            0   \n",
       "4                  1        0                  0            0   \n",
       "...              ...      ...                ...          ...   \n",
       "2106               1        0                  0            0   \n",
       "2107               1        0                  0            0   \n",
       "2108               1        0                  0            0   \n",
       "2109               1        0                  0            0   \n",
       "2110               1        0                  0            0   \n",
       "\n",
       "      mtrans_Motorbike  mtrans_Public_Transportation  mtrans_Walking  \\\n",
       "0                    0                             1               0   \n",
       "1                    0                             1               0   \n",
       "2                    0                             1               0   \n",
       "3                    0                             0               1   \n",
       "4                    0                             1               0   \n",
       "...                ...                           ...             ...   \n",
       "2106                 0                             1               0   \n",
       "2107                 0                             1               0   \n",
       "2108                 0                             1               0   \n",
       "2109                 0                             1               0   \n",
       "2110                 0                             1               0   \n",
       "\n",
       "               nobeyesdad  \n",
       "0           Normal_Weight  \n",
       "1           Normal_Weight  \n",
       "2           Normal_Weight  \n",
       "3      Overweight_Level_I  \n",
       "4     Overweight_Level_II  \n",
       "...                   ...  \n",
       "2106     Obesity_Type_III  \n",
       "2107     Obesity_Type_III  \n",
       "2108     Obesity_Type_III  \n",
       "2109     Obesity_Type_III  \n",
       "2110     Obesity_Type_III  \n",
       "\n",
       "[2111 rows x 81 columns]"
      ]
     },
     "execution_count": 13,
     "metadata": {},
     "output_type": "execute_result"
    }
   ],
   "source": [
    "df=data.copy()\n",
    "categorical_features=['gender', 'age', 'family', 'favc', 'fcvc', 'ncp','caec', 'smoke', 'ch2o', 'scc', 'faf', 'tue', 'calc', 'mtrans']\n",
    "df_cat = pd.get_dummies(df[categorical_features])\n",
    "df.drop(categorical_features, axis=1)\n",
    "df = pd.concat([ df_cat,df['nobeyesdad']], axis=1)\n",
    "df"
   ]
  },
  {
   "cell_type": "code",
   "execution_count": 343,
   "metadata": {},
   "outputs": [],
   "source": [
    "from sklearn.preprocessing import LabelBinarizer\n",
    "label_as_binary = LabelBinarizer()\n",
    "train__y_labels = label_as_binary.fit_transform(y_train)"
   ]
  },
  {
   "cell_type": "code",
   "execution_count": 344,
   "metadata": {},
   "outputs": [
    {
     "data": {
      "text/plain": [
       "array([[0, 0, 0, ..., 1, 0, 0],\n",
       "       [1, 0, 0, ..., 0, 0, 0],\n",
       "       [0, 0, 0, ..., 0, 1, 0],\n",
       "       ...,\n",
       "       [0, 1, 0, ..., 0, 0, 0],\n",
       "       [0, 0, 0, ..., 1, 0, 0],\n",
       "       [0, 0, 0, ..., 0, 0, 0]])"
      ]
     },
     "execution_count": 344,
     "metadata": {},
     "output_type": "execute_result"
    }
   ],
   "source": [
    "train__y_labels"
   ]
  },
  {
   "cell_type": "code",
   "execution_count": 15,
   "metadata": {},
   "outputs": [
    {
     "name": "stdout",
     "output_type": "stream",
     "text": [
      "(2111, 80) (2111, 7)\n"
     ]
    }
   ],
   "source": [
    "import numpy as np\n",
    "X = np.asarray(df.values[:, :-1]).astype('float32')\n",
    "y = np.asarray(pd.get_dummies(df['nobeyesdad']).values).astype('float32')\n",
    "print(X.shape, y.shape)"
   ]
  },
  {
   "cell_type": "code",
   "execution_count": 18,
   "metadata": {},
   "outputs": [
    {
     "name": "stdout",
     "output_type": "stream",
     "text": [
      "(1688, 80) (1688, 7) (423, 80) (423, 7)\n"
     ]
    }
   ],
   "source": [
    "X_train, X_test, y_train, y_test = train_test_split(X, y, test_size=0.2)\n",
    "print(X_train.shape, y_train.shape,X_test.shape,y_test.shape)"
   ]
  },
  {
   "cell_type": "code",
   "execution_count": 19,
   "metadata": {},
   "outputs": [],
   "source": [
    "#y_train = to_categorical(y_train, 7)\n",
    "#y_test = to_categorical(y_test, 7)"
   ]
  },
  {
   "cell_type": "code",
   "execution_count": 53,
   "metadata": {},
   "outputs": [
    {
     "data": {
      "text/plain": [
       "<Figure size 576x432 with 0 Axes>"
      ]
     },
     "metadata": {},
     "output_type": "display_data"
    },
    {
     "data": {
      "image/png": "[encoded data removed]",
      "text/plain": [
       "<Figure size 432x288 with 1 Axes>"
      ]
     },
     "metadata": {
      "needs_background": "light"
     },
     "output_type": "display_data"
    }
   ],
   "source": [
    "reg_class = Sequential()\n",
    "reg_class.add(Dense(32, input_shape=(X.shape[1],), activation='tanh'))\n",
    "reg_class.add(Dense(16, activation='relu'))\n",
    "reg_class.add(Dense(8, activation='relu'))\n",
    "reg_class.add(Dense(7, activation='softmax'))\n",
    "reg_class.compile(optimizer='rmsprop',loss='binary_crossentropy', metrics=['accuracy'])\n",
    "\n",
    "history = reg_class.fit(X_train, y_train,epochs=100, verbose=0)\n",
    "plot_loss_accuracy(history)\n"
   ]
  },
  {
   "cell_type": "code",
   "execution_count": 65,
   "metadata": {},
   "outputs": [
    {
     "data": {
      "text/plain": [
       "array([[5.81753454e-07, 4.08557756e-03, 6.84505358e-06, ...,\n",
       "        1.73893213e-07, 2.08157487e-03, 9.93281722e-01],\n",
       "       [8.07007542e-04, 9.98850107e-01, 5.33343427e-06, ...,\n",
       "        8.79658444e-08, 1.39573633e-04, 1.97861358e-04],\n",
       "       [4.11379653e-10, 1.03130935e-08, 6.03635755e-08, ...,\n",
       "        9.99995232e-01, 4.64534924e-06, 4.11567491e-09],\n",
       "       ...,\n",
       "       [1.11218590e-07, 5.65165938e-05, 1.37682853e-03, ...,\n",
       "        5.15409555e-11, 1.03727274e-03, 3.19659747e-02],\n",
       "       [2.57549277e-12, 2.09478279e-09, 4.51770688e-07, ...,\n",
       "        1.17998923e-06, 6.55224923e-08, 6.20964968e-09],\n",
       "       [1.44187717e-11, 8.99378665e-06, 3.09164966e-06, ...,\n",
       "        2.63972167e-13, 4.75639717e-05, 1.42658915e-04]], dtype=float32)"
      ]
     },
     "execution_count": 65,
     "metadata": {},
     "output_type": "execute_result"
    }
   ],
   "source": [
    "reg_class.predict(X_test, verbose=0)"
   ]
  },
  {
   "cell_type": "code",
   "execution_count": 70,
   "metadata": {},
   "outputs": [
    {
     "name": "stdout",
     "output_type": "stream",
     "text": [
      "14/14 [==============================] - 0s 2ms/step - loss: 0.2384 - accuracy: 0.7470\n"
     ]
    },
    {
     "data": {
      "text/plain": [
       "[0.23835746943950653, 0.7470449209213257]"
      ]
     },
     "execution_count": 70,
     "metadata": {},
     "output_type": "execute_result"
    }
   ],
   "source": [
    "reg_class.evaluate(X_test,y_test)"
   ]
  },
  {
   "cell_type": "code",
   "execution_count": 77,
   "metadata": {},
   "outputs": [],
   "source": [
    "y_pred_class = reg_class.predict(X_test, verbose=0)\n",
    "validacion_1=np.round(y_pred_class,0)\n",
    "y_test_class = np.argmax(y_test, axis=1)\n"
   ]
  },
  {
   "cell_type": "code",
   "execution_count": 81,
   "metadata": {},
   "outputs": [
    {
     "data": {
      "text/plain": [
       "array([0., 1., 0., 0., 0., 0., 0.], dtype=float32)"
      ]
     },
     "execution_count": 81,
     "metadata": {},
     "output_type": "execute_result"
    }
   ],
   "source": [
    "validacion_1[1]"
   ]
  },
  {
   "cell_type": "code",
   "execution_count": 79,
   "metadata": {},
   "outputs": [
    {
     "ename": "ValueError",
     "evalue": "multilabel-indicator is not supported",
     "output_type": "error",
     "traceback": [
      "\u001b[1;31m---------------------------------------------------------------------------\u001b[0m",
      "\u001b[1;31mValueError\u001b[0m                                Traceback (most recent call last)",
      "\u001b[1;32m<ipython-input-79-dafdb6fc865d>\u001b[0m in \u001b[0;36m<module>\u001b[1;34m\u001b[0m\n\u001b[1;32m----> 1\u001b[1;33m \u001b[0mCM\u001b[0m\u001b[1;33m=\u001b[0m\u001b[0mconfusion_matrix\u001b[0m\u001b[1;33m(\u001b[0m\u001b[0my_test\u001b[0m\u001b[1;33m,\u001b[0m\u001b[0mvalidacion_1\u001b[0m\u001b[1;33m)\u001b[0m\u001b[1;33m\u001b[0m\u001b[1;33m\u001b[0m\u001b[0m\n\u001b[0m",
      "\u001b[1;32m~\\anaconda3\\lib\\site-packages\\sklearn\\utils\\validation.py\u001b[0m in \u001b[0;36minner_f\u001b[1;34m(*args, **kwargs)\u001b[0m\n\u001b[0;32m     70\u001b[0m                           FutureWarning)\n\u001b[0;32m     71\u001b[0m         \u001b[0mkwargs\u001b[0m\u001b[1;33m.\u001b[0m\u001b[0mupdate\u001b[0m\u001b[1;33m(\u001b[0m\u001b[1;33m{\u001b[0m\u001b[0mk\u001b[0m\u001b[1;33m:\u001b[0m \u001b[0marg\u001b[0m \u001b[1;32mfor\u001b[0m \u001b[0mk\u001b[0m\u001b[1;33m,\u001b[0m \u001b[0marg\u001b[0m \u001b[1;32min\u001b[0m \u001b[0mzip\u001b[0m\u001b[1;33m(\u001b[0m\u001b[0msig\u001b[0m\u001b[1;33m.\u001b[0m\u001b[0mparameters\u001b[0m\u001b[1;33m,\u001b[0m \u001b[0margs\u001b[0m\u001b[1;33m)\u001b[0m\u001b[1;33m}\u001b[0m\u001b[1;33m)\u001b[0m\u001b[1;33m\u001b[0m\u001b[1;33m\u001b[0m\u001b[0m\n\u001b[1;32m---> 72\u001b[1;33m         \u001b[1;32mreturn\u001b[0m \u001b[0mf\u001b[0m\u001b[1;33m(\u001b[0m\u001b[1;33m**\u001b[0m\u001b[0mkwargs\u001b[0m\u001b[1;33m)\u001b[0m\u001b[1;33m\u001b[0m\u001b[1;33m\u001b[0m\u001b[0m\n\u001b[0m\u001b[0;32m     73\u001b[0m     \u001b[1;32mreturn\u001b[0m \u001b[0minner_f\u001b[0m\u001b[1;33m\u001b[0m\u001b[1;33m\u001b[0m\u001b[0m\n\u001b[0;32m     74\u001b[0m \u001b[1;33m\u001b[0m\u001b[0m\n",
      "\u001b[1;32m~\\anaconda3\\lib\\site-packages\\sklearn\\metrics\\_classification.py\u001b[0m in \u001b[0;36mconfusion_matrix\u001b[1;34m(y_true, y_pred, labels, sample_weight, normalize)\u001b[0m\n\u001b[0;32m    276\u001b[0m     \u001b[0my_type\u001b[0m\u001b[1;33m,\u001b[0m \u001b[0my_true\u001b[0m\u001b[1;33m,\u001b[0m \u001b[0my_pred\u001b[0m \u001b[1;33m=\u001b[0m \u001b[0m_check_targets\u001b[0m\u001b[1;33m(\u001b[0m\u001b[0my_true\u001b[0m\u001b[1;33m,\u001b[0m \u001b[0my_pred\u001b[0m\u001b[1;33m)\u001b[0m\u001b[1;33m\u001b[0m\u001b[1;33m\u001b[0m\u001b[0m\n\u001b[0;32m    277\u001b[0m     \u001b[1;32mif\u001b[0m \u001b[0my_type\u001b[0m \u001b[1;32mnot\u001b[0m \u001b[1;32min\u001b[0m \u001b[1;33m(\u001b[0m\u001b[1;34m\"binary\"\u001b[0m\u001b[1;33m,\u001b[0m \u001b[1;34m\"multiclass\"\u001b[0m\u001b[1;33m)\u001b[0m\u001b[1;33m:\u001b[0m\u001b[1;33m\u001b[0m\u001b[1;33m\u001b[0m\u001b[0m\n\u001b[1;32m--> 278\u001b[1;33m         \u001b[1;32mraise\u001b[0m \u001b[0mValueError\u001b[0m\u001b[1;33m(\u001b[0m\u001b[1;34m\"%s is not supported\"\u001b[0m \u001b[1;33m%\u001b[0m \u001b[0my_type\u001b[0m\u001b[1;33m)\u001b[0m\u001b[1;33m\u001b[0m\u001b[1;33m\u001b[0m\u001b[0m\n\u001b[0m\u001b[0;32m    279\u001b[0m \u001b[1;33m\u001b[0m\u001b[0m\n\u001b[0;32m    280\u001b[0m     \u001b[1;32mif\u001b[0m \u001b[0mlabels\u001b[0m \u001b[1;32mis\u001b[0m \u001b[1;32mNone\u001b[0m\u001b[1;33m:\u001b[0m\u001b[1;33m\u001b[0m\u001b[1;33m\u001b[0m\u001b[0m\n",
      "\u001b[1;31mValueError\u001b[0m: multilabel-indicator is not supported"
     ]
    }
   ],
   "source": [
    "CM=confusion_matrix(y_test,validacion_1)"
   ]
  },
  {
   "cell_type": "code",
   "execution_count": 73,
   "metadata": {},
   "outputs": [],
   "source": [
    "#Funciones útiles\n",
    "def plot_decision_boundary(func, X, y, figsize=(9, 6)):\n",
    "    amin, bmin = X.min(axis=0) - 0.1\n",
    "    amax, bmax = X.max(axis=0) + 0.1\n",
    "    hticks = np.linspace(amin, amax, 101)\n",
    "    vticks = np.linspace(bmin, bmax, 101)\n",
    "    \n",
    "    aa, bb = np.meshgrid(hticks, vticks)\n",
    "    ab = np.c_[aa.ravel(), bb.ravel()]\n",
    "    c = func(ab)\n",
    "    cc = c.reshape(aa.shape)\n",
    "\n",
    "    cm = plt.cm.RdBu\n",
    "    cm_bright = ListedColormap(['#FF0000', '#0000FF'])\n",
    "    \n",
    "    fig, ax = plt.subplots(figsize=figsize)\n",
    "    contour = plt.contourf(aa, bb, cc, cmap=cm, alpha=0.8)\n",
    "    \n",
    "    ax_c = fig.colorbar(contour)\n",
    "    ax_c.set_label(\"$P(y = 1)$\")\n",
    "    ax_c.set_ticks([0, 0.25, 0.5, 0.75, 1])\n",
    "    \n",
    "    plt.scatter(X[:, 0], X[:, 1], c=y, cmap=cm_bright)\n",
    "    plt.xlim(amin, amax)\n",
    "    plt.ylim(bmin, bmax)\n",
    "\n",
    "def plot_multiclass_decision_boundary(model, X, y):\n",
    "    x_min, x_max = X[:, 0].min() - 0.1, X[:, 0].max() + 0.1\n",
    "    y_min, y_max = X[:, 1].min() - 0.1, X[:, 1].max() + 0.1\n",
    "    xx, yy = np.meshgrid(np.linspace(x_min, x_max, 101), np.linspace(y_min, y_max, 101))\n",
    "    cmap = ListedColormap(['#FF0000', '#00FF00', '#0000FF'])\n",
    "\n",
    "    Z = model.predict_classes(np.c_[xx.ravel(), yy.ravel()], verbose=0)\n",
    "    Z = Z.reshape(xx.shape)\n",
    "    fig = plt.figure(figsize=(8, 8))\n",
    "    plt.contourf(xx, yy, Z, cmap=plt.cm.Spectral, alpha=0.8)\n",
    "    plt.scatter(X[:, 0], X[:, 1], c=y, s=40, cmap=plt.cm.RdYlBu)\n",
    "    plt.xlim(xx.min(), xx.max())\n",
    "    plt.ylim(yy.min(), yy.max())\n",
    "    \n",
    "def plot_data(X, y, figsize=None):\n",
    "    if not figsize:\n",
    "        figsize = (8, 6)\n",
    "    plt.figure(figsize=figsize)\n",
    "    plt.plot(X[y==0, 0], X[y==0, 1], 'or', alpha=0.5, label=0)\n",
    "    plt.plot(X[y==1, 0], X[y==1, 1], 'ob', alpha=0.5, label=1)\n",
    "    plt.xlim((min(X[:, 0])-0.1, max(X[:, 0])+0.1))\n",
    "    plt.ylim((min(X[:, 1])-0.1, max(X[:, 1])+0.1))\n",
    "    plt.legend()\n",
    "\n",
    "def plot_loss_accuracy(history):\n",
    "    historydf = pd.DataFrame(history.history, index=history.epoch)\n",
    "    plt.figure(figsize=(8, 6))\n",
    "    historydf.plot(ylim=(0, max(1, historydf.values.max())))\n",
    "    loss = history.history['loss'][-1]\n",
    "    acc = history.history['accuracy'][-1]\n",
    "    plt.title('Loss: %.3f, Accuracy: %.3f' % (loss, acc))\n",
    "\n",
    "def plot_loss(history):\n",
    "    historydf = pd.DataFrame(history.history, index=history.epoch)\n",
    "    plt.figure(figsize=(8, 6))\n",
    "    historydf.plot(ylim=(0, historydf.values.max()))\n",
    "    plt.title('Loss: %.3f' % history.history['loss'][-1])\n",
    "    \n",
    "def plot_confusion_matrix(model, X, y):\n",
    "    y_pred = model.predict(X, verbose=0)\n",
    "    plt.figure(figsize=(8, 6))\n",
    "    sns.heatmap(pd.DataFrame(confusion_matrix(y, y_pred)), annot=True, fmt='d', cmap='GnBu', alpha=0.8, vmin=0)\n",
    "\n",
    "def plot_compare_histories(history_list, name_list, plot_accuracy=True):\n",
    "    dflist = []\n",
    "    min_epoch = len(history_list[0].epoch)\n",
    "    losses = []\n",
    "    for history in history_list:\n",
    "        h = {key: val for key, val in history.history.items() if not key.startswith('val_')}\n",
    "        dflist.append(pd.DataFrame(h, index=history.epoch))\n",
    "        min_epoch = min(min_epoch, len(history.epoch))\n",
    "        losses.append(h['loss'][-1])\n",
    "\n",
    "    historydf = pd.concat(dflist, axis=1)\n",
    "\n",
    "    metrics = dflist[0].columns\n",
    "    idx = pd.MultiIndex.from_product([name_list, metrics], names=['model', 'metric'])\n",
    "    historydf.columns = idx\n",
    "    \n",
    "    plt.figure(figsize=(6, 8))\n",
    "\n",
    "    ax = plt.subplot(211)\n",
    "    historydf.xs('loss', axis=1, level='metric').plot(ylim=(0,1), ax=ax)\n",
    "    plt.title(\"Training Loss: \" + ' vs '.join([str(round(x, 3)) for x in losses]))\n",
    "    \n",
    "    if plot_accuracy:\n",
    "        ax = plt.subplot(212)\n",
    "        historydf.xs('acc', axis=1, level='metric').plot(ylim=(0,1), ax=ax)\n",
    "        plt.title(\"Accuracy\")\n",
    "        plt.xlabel(\"Epochs\")\n",
    "    \n",
    "    plt.xlim(0, min_epoch-1)\n",
    "    plt.tight_layout()\n",
    "    \n",
    "def make_sine_wave():\n",
    "    c = 3\n",
    "    num = 2400\n",
    "    step = num/(c*4)\n",
    "    np.random.seed(0)\n",
    "    x0 = np.linspace(-c*np.pi, c*np.pi, num)\n",
    "    x1 = np.sin(x0)\n",
    "    noise = np.random.normal(0, 0.1, num) + 0.1\n",
    "    noise = np.sign(x1) * np.abs(noise)\n",
    "    x1  = x1 + noise\n",
    "    x0 = x0 + (np.asarray(range(num)) / step) * 0.3\n",
    "    X = np.column_stack((x0, x1))\n",
    "    y = np.asarray([int((i/step)%2==1) for i in range(len(x0))])\n",
    "    return X, y\n",
    "\n",
    "def make_multiclass(N=500, D=2, K=3):\n",
    "    \"\"\"\n",
    "    N: number of points per class\n",
    "    D: dimensionality\n",
    "    K: number of classes\n",
    "    \"\"\"\n",
    "    np.random.seed(0)\n",
    "    X = np.zeros((N*K, D))\n",
    "    y = np.zeros(N*K)\n",
    "    for j in range(K):\n",
    "        ix = range(N*j, N*(j+1))\n",
    "        # radius\n",
    "        r = np.linspace(0.0,1,N)\n",
    "        # theta\n",
    "        t = np.linspace(j*4,(j+1)*4,N) + np.random.randn(N)*0.2\n",
    "        X[ix] = np.c_[r*np.sin(t), r*np.cos(t)]\n",
    "        y[ix] = j\n",
    "    fig = plt.figure(figsize=(6, 6))\n",
    "    plt.scatter(X[:, 0], X[:, 1], c=y, s=40, cmap=plt.cm.RdYlBu, alpha=0.8)\n",
    "    plt.xlim([-1,1])\n",
    "    plt.ylim([-1,1])\n",
    "    return X, y"
   ]
  },
  {
   "cell_type": "code",
   "execution_count": null,
   "metadata": {},
   "outputs": [],
   "source": []
  },
  {
   "cell_type": "code",
   "execution_count": null,
   "metadata": {},
   "outputs": [],
   "source": []
  },
  {
   "cell_type": "code",
   "execution_count": null,
   "metadata": {},
   "outputs": [],
   "source": []
  },
  {
   "cell_type": "code",
   "execution_count": null,
   "metadata": {},
   "outputs": [],
   "source": []
  },
  {
   "cell_type": "markdown",
   "metadata": {},
   "source": [
    "3. Usando la base de testeo validar cada modelo (Uso matrices de confusión, estadísticos apropiados, curvas ROC, AUC...)"
   ]
  },
  {
   "cell_type": "markdown",
   "metadata": {},
   "source": [
    "4. De acuerdo con los resultados identifico problemas como sobre ajuste y mal desempeño del modelo."
   ]
  },
  {
   "cell_type": "markdown",
   "metadata": {},
   "source": [
    "5. Si lo anterior resulta cierto aplico técnicas de regularización para estimar un modelo de clasificación adecuado."
   ]
  },
  {
   "cell_type": "markdown",
   "metadata": {},
   "source": [
    "6. Visualizamos el modelo (si es posible). "
   ]
  },
  {
   "cell_type": "markdown",
   "metadata": {},
   "source": [
    "\n",
    "## Infome Final\n",
    "\n",
    "Elaboramos un informe como cuaderno de jupyter que responda la pregunta planteada en esta investigación ¿Como afectan la condición física y los hábitos alimenticios a la obesidad? "
   ]
  }
 ],
 "metadata": {
  "kernelspec": {
   "display_name": "Python 3",
   "language": "python",
   "name": "python3"
  },
  "language_info": {
   "codemirror_mode": {
    "name": "ipython",
    "version": 3
   },
   "file_extension": ".py",
   "mimetype": "text/x-python",
   "name": "python",
   "nbconvert_exporter": "python",
   "pygments_lexer": "ipython3",
   "version": "3.8.5"
  },
  "latex_envs": {
   "LaTeX_envs_menu_present": true,
   "autoclose": false,
   "autocomplete": true,
   "bibliofile": "biblio.bib",
   "cite_by": "apalike",
   "current_citInitial": 1,
   "eqLabelWithNumbers": true,
   "eqNumInitial": 1,
   "hotkeys": {
    "equation": "Ctrl-E",
    "itemize": "Ctrl-I"
   },
   "labels_anchors": false,
   "latex_user_defs": false,
   "report_style_numbering": false,
   "user_envs_cfg": false
  },
  "toc": {
   "base_numbering": 1,
   "nav_menu": {},
   "number_sections": true,
   "sideBar": true,
   "skip_h1_title": true,
   "title_cell": "Table of Contents",
   "title_sidebar": "Contents",
   "toc_cell": true,
   "toc_position": {},
   "toc_section_display": true,
   "toc_window_display": false
  }
 },
 "nbformat": 4,
 "nbformat_minor": 4
}
