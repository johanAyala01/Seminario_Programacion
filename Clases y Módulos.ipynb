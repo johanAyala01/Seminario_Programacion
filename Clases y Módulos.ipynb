{
 "cells": [
  {
   "cell_type": "markdown",
   "metadata": {
    "jupyter": {
     "source_hidden": true
    }
   },
   "source": [
    "# La programación orientada a objetos\n",
    "\n",
    "Una de las características principales de Python es que es un lenguaje multiparadigma, sin embargo, hasta el momento hemos trabajado con las características de programación estructurada *(estructuras de datos y estructuras de control)*. No obstante, también se menciono que Python como lenguaje admite la programación orientada a objetos, y con las **clases** materializamos este paradigma de programación, entendiendolas como *plantillas*  para la creación de objetos.\n",
    "\n",
    "Un **objeto**, encapsulará atributos y funciones (o métodos) en una sola entidad. \n"
   ]
  },
  {
   "cell_type": "markdown",
   "metadata": {
    "jupyter": {
     "source_hidden": true
    }
   },
   "source": [
    "## Clases\n",
    "\n",
    "Una clase es un modelo para crear a partir de ella ciertos Objetos. Contendrá las características y capacidades que tendrá el objeto que sea cree a partir de ella.\n",
    "\n",
    "Así a su vez los objetos creados a partir de una clase estarán agrupados en esa misma entidad. Veamos un ejemplo:\n",
    "\n",
    "**Clase Fracción**\n",
    "\n",
    "Hagamos en python una estructura de datos que luzca como las fracciones. Para ello crearemos una clase que inicialice con los dos componentes que conforman a la fracción el numerador y el denominador.\n",
    "\n"
   ]
  },
  {
   "cell_type": "code",
   "execution_count": null,
   "metadata": {},
   "outputs": [],
   "source": [
    "3/5"
   ]
  },
  {
   "cell_type": "code",
   "execution_count": null,
   "metadata": {},
   "outputs": [],
   "source": [
    "class Fraccion:\n",
    "    def __init__(self,numerador,denominador):\n",
    "        self.num = numerador\n",
    "        self.den = denominador"
   ]
  },
  {
   "cell_type": "markdown",
   "metadata": {
    "jupyter": {
     "source_hidden": true
    }
   },
   "source": [
    "Observe que la clase se inicializa con tres elementos (self, arriba, abajo). self es un parámetro especial que hace referencia al objeto mismo y siempre se pone como el primer parámetro formal. Sin embargo, nunca tendrá un valor real en la ejecución de la clase.\n",
    "\n",
    "La notación self.num en el constructor define que el objeto fraccion tenga un objeto de datos interno llamado num como parte de su estado. Del mismo modo, self.den crea el denominador.\n",
    "\n",
    "Todas las instancias (objetos construidos a partir de la clase) se definirán con esos dos parámetros formales."
   ]
  },
  {
   "cell_type": "code",
   "execution_count": null,
   "metadata": {},
   "outputs": [],
   "source": [
    "PrimerFraccion = Fraccion(3,5)"
   ]
  },
  {
   "cell_type": "code",
   "execution_count": null,
   "metadata": {},
   "outputs": [],
   "source": [
    "print(PrimerFraccion)"
   ]
  },
  {
   "cell_type": "markdown",
   "metadata": {},
   "source": [
    "El objeto fraccion cuando se muestra imprime la referencia real que se almacena en la variable (la dirección en sí misma). Esto no es lo que queremos. Buscamos una cadena (incluso textual) para identificar la fracción tal y como la conocemos. \n",
    "\n",
    "Entonces podemos definir una función para visualizar la fracción, modificamos la clase incluyendo un método o función nueva:"
   ]
  },
  {
   "cell_type": "code",
   "execution_count": null,
   "metadata": {},
   "outputs": [],
   "source": [
    "class Fraccion:\n",
    "    def __init__(self,numerador,denominador):\n",
    "\n",
    "        self.num = numerador\n",
    "        self.den = denominador\n",
    "        \n",
    "    def ver(self):\n",
    "        print(self.num,\"/\",self.den)"
   ]
  },
  {
   "cell_type": "code",
   "execution_count": null,
   "metadata": {},
   "outputs": [],
   "source": [
    "PrimerFraccion = Fraccion(6,8)\n",
    "PrimerFraccion.ver()"
   ]
  },
  {
   "cell_type": "markdown",
   "metadata": {},
   "source": [
    "También podemos verla, a partir de un print, definiendolo de una manera directa utilizando un método de nombre `__str__` convierte al objeto en una cadena."
   ]
  },
  {
   "cell_type": "code",
   "execution_count": null,
   "metadata": {},
   "outputs": [],
   "source": [
    "class Fraccion:\n",
    "    def __init__(self,numerador,denominador):\n",
    "\n",
    "        self.num = numerador\n",
    "        self.den = denominador\n",
    "        \n",
    "    def ver(self):\n",
    "        print(self.num,\"/\",self.den)\n",
    "        \n",
    "    def __str__(self):\n",
    "        return str(self.num)+\"/\"+str(self.den)\n",
    "    "
   ]
  },
  {
   "cell_type": "code",
   "execution_count": null,
   "metadata": {},
   "outputs": [],
   "source": [
    "print(Fraccion(1,5))"
   ]
  },
  {
   "cell_type": "code",
   "execution_count": null,
   "metadata": {},
   "outputs": [],
   "source": [
    "PrimerFraccion = Fraccion(3,5)\n",
    "print(PrimerFraccion)"
   ]
  },
  {
   "cell_type": "markdown",
   "metadata": {},
   "source": [
    "Hay varios métodos que hacen referencia a esas notaciones estándar, por ejemplo pensemos en la suma (+), veamos que ocurre si intento sumar fracciones: "
   ]
  },
  {
   "cell_type": "code",
   "execution_count": null,
   "metadata": {},
   "outputs": [],
   "source": [
    "f1=Fraccion(2,5)\n",
    "f2=Fraccion(1,4)"
   ]
  },
  {
   "cell_type": "code",
   "execution_count": null,
   "metadata": {},
   "outputs": [],
   "source": [
    "f1+f2"
   ]
  },
  {
   "cell_type": "code",
   "execution_count": null,
   "metadata": {},
   "outputs": [],
   "source": [
    "class Fraccion:\n",
    "    def __init__(self,numerador,denominador):\n",
    "\n",
    "        self.num = numerador\n",
    "        self.den = denominador\n",
    "        \n",
    "    def ver(self):\n",
    "        print(self.num,\"/\",self.den)\n",
    "        \n",
    "    def __str__(self):\n",
    "        return str(self.num)+\"/\"+str(self.den)\n",
    "    \n",
    "    def sumar(self,fraccion2):\n",
    "        sumnum=self.num*fraccion2.den+self.den*fraccion2.num\n",
    "        sumden=self.den*fraccion2.den\n",
    "        return  Fraccion(sumnum,sumden)"
   ]
  },
  {
   "cell_type": "code",
   "execution_count": null,
   "metadata": {},
   "outputs": [],
   "source": [
    "f1=Fraccion(2,5)\n",
    "f2=Fraccion(1,4)"
   ]
  },
  {
   "cell_type": "code",
   "execution_count": null,
   "metadata": {},
   "outputs": [],
   "source": [
    "f3=f1.sumar(f2)\n",
    "print(f3)"
   ]
  },
  {
   "cell_type": "code",
   "execution_count": null,
   "metadata": {
    "scrolled": true
   },
   "outputs": [],
   "source": [
    "f1+f2"
   ]
  },
  {
   "cell_type": "markdown",
   "metadata": {},
   "source": [
    "Resulta ser una operación no soprtada, la puedo definir usando  el método `__add__`:"
   ]
  },
  {
   "cell_type": "code",
   "execution_count": null,
   "metadata": {},
   "outputs": [],
   "source": [
    "class Fraccion:\n",
    "    def __init__(self,numerador,denominador):\n",
    "\n",
    "        self.num = numerador\n",
    "        self.den = denominador\n",
    "        \n",
    "    def ver(self):\n",
    "        print(self.num,\"/\",self.den)\n",
    "        \n",
    "    def __str__(self):\n",
    "        return str(self.num)+\"/\"+str(self.den)\n",
    "    \n",
    "    def __add__(self,self2):\n",
    "        sumanum = self.num*self2.den + self.den*self2.num\n",
    "        sumaden = self.den * self2.den\n",
    "        return Fraccion(sumanum,sumaden)"
   ]
  },
  {
   "cell_type": "code",
   "execution_count": null,
   "metadata": {},
   "outputs": [],
   "source": [
    "f1=Fraccion(2,5)\n",
    "f2=Fraccion(1,4)\n",
    "print(f1+f2)\n"
   ]
  },
  {
   "cell_type": "markdown",
   "metadata": {},
   "source": [
    "Para buscar los operadores definibles en una clase podemos hacer referencia a los deiferentes métodos que emulan los operadores numéricos ver [Referencia Python *(Emulating numeric types)*](https://docs.python.org/3/reference/datamodel.html?highlight=method%20__add__#object.__add__)\n",
    "\n",
    "Para ver más métodos especiales ver [Referencia Python *(Special method names )*](https://docs.python.org/3/reference/datamodel.html?highlight=method%20__add__#special-method-names)"
   ]
  },
  {
   "cell_type": "code",
   "execution_count": null,
   "metadata": {},
   "outputs": [],
   "source": [
    "def mcd(a,b):\n",
    "    mcd=1\n",
    "    c=min(a,b)\n",
    "    d=max(a,b)\n",
    "    for i in range(1,c+1):\n",
    "        if c%i==0:\n",
    "            if d%i==0:\n",
    "                mcd=i\n",
    "    return mcd\n",
    "\n",
    "class Fraccion:\n",
    "    def __init__(self,numerador,denominador):\n",
    "\n",
    "        self.num = numerador\n",
    "        self.den = denominador\n",
    "        \n",
    "        \n",
    "    def __str__(self):\n",
    "        M=mcd(self.num,self.den)        \n",
    "        return str(self.num//M)+\"/\"+str(self.den//M)\n",
    "    \n",
    "    def __add__(self,fraccion2):\n",
    "        sumanum = self.num*fraccion2.den + self.den*fraccion2.num\n",
    "        sumaden = self.den * fraccion2.den\n",
    "        return Fraccion(sumanum,sumaden)\n",
    "    \n",
    "    def __sub__(self,fraccion2):\n",
    "        sumanum = self.num*fraccion2.den - self.den*fraccion2.num\n",
    "        sumaden = self.den * fraccion2.den\n",
    "        return Fraccion(sumanum,sumaden)\n",
    "    \n",
    "    \n",
    "    ##Multiplicación     \n",
    "    def __mul__(self,fraccion2):\n",
    "        multnum = self.num*fraccion2.num\n",
    "        multden = self.den * fraccion2.den\n",
    "        return Fraccion(multnum,multden)\n",
    "    ## Dividir\n",
    "    \n",
    "    def __truediv__(self,fraccion2):\n",
    "        divnum = self.num * fraccion2.den\n",
    "        divden = self.den * fraccion2.num\n",
    "        return Fraccion(divnum,divden)\n",
    "    \n",
    "    \n",
    "    ##Negativos \n",
    "    \n",
    "    def __neg__(self):\n",
    "        negnum=-self.num\n",
    "        return Fraccion(negnum,self.den)\n",
    "    \n",
    "    \n",
    "    ## Potencias enteras positivas \n",
    "    def __pow__(self,intn): \n",
    "        if intn > 0:\n",
    "            potnum=int((self.num)**intn )\n",
    "            potden=int((self.den)**intn )\n",
    "            return Fraccion(potnum,potden) \n",
    "        elif intn <0:            \n",
    "            numeradorPEN=int(self.den**abs(intn))\n",
    "            denominadorPEN=int(self.num**abs(intn))\n",
    "            return Fraccion(numeradorPEN,denominadorPEN)\n",
    "        else:\n",
    "            return Fraccion(1,1)\n",
    "    \n"
   ]
  },
  {
   "cell_type": "code",
   "execution_count": null,
   "metadata": {},
   "outputs": [],
   "source": [
    "f1=Fraccion(2,5)\n",
    "f2=Fraccion(4,8)"
   ]
  },
  {
   "cell_type": "code",
   "execution_count": null,
   "metadata": {},
   "outputs": [],
   "source": [
    "print(f1*f2)"
   ]
  },
  {
   "cell_type": "code",
   "execution_count": null,
   "metadata": {},
   "outputs": [],
   "source": [
    "print(f1/f2)"
   ]
  },
  {
   "cell_type": "code",
   "execution_count": null,
   "metadata": {},
   "outputs": [],
   "source": [
    "print(-f1)"
   ]
  },
  {
   "cell_type": "code",
   "execution_count": null,
   "metadata": {},
   "outputs": [],
   "source": [
    "print(f1**(0))"
   ]
  },
  {
   "cell_type": "code",
   "execution_count": null,
   "metadata": {},
   "outputs": [],
   "source": [
    "f4=Fraccion(4,8)\n",
    "print(f4)"
   ]
  },
  {
   "cell_type": "code",
   "execution_count": null,
   "metadata": {},
   "outputs": [],
   "source": [
    "f1=Fraccion(2,5)"
   ]
  },
  {
   "cell_type": "code",
   "execution_count": null,
   "metadata": {},
   "outputs": [],
   "source": [
    "print(f1/f4)"
   ]
  },
  {
   "cell_type": "code",
   "execution_count": null,
   "metadata": {},
   "outputs": [],
   "source": [
    "mcd(36,24)"
   ]
  },
  {
   "cell_type": "code",
   "execution_count": null,
   "metadata": {},
   "outputs": [],
   "source": [
    "f1=Fraccion(2,5)\n",
    "f2=Fraccion(1,4)\n",
    "print(f2-f1)"
   ]
  },
  {
   "cell_type": "code",
   "execution_count": null,
   "metadata": {},
   "outputs": [],
   "source": [
    "import Fraccion as f"
   ]
  },
  {
   "cell_type": "code",
   "execution_count": null,
   "metadata": {},
   "outputs": [],
   "source": [
    "f.division(3,5)"
   ]
  },
  {
   "cell_type": "markdown",
   "metadata": {},
   "source": [
    "## Otro ejemplo\n",
    "\n",
    "Recordemos entonces que el objeto, definido por las clases, almacena información de atributos y métodos (funciones) para hacer algunas tareas, una visualización gráfica de las clases es la siguiente:\n",
    "\n",
    "![Clases](https://pythones.net/wp-content/uploads/2019/01/Clases-y-Objetos-min-577x1024-min.png)\n",
    "\n",
    "*Tomada de [https://pythones.net/clases-y-metodos-python-oop/](https://pythones.net/clases-y-metodos-python-oop/)*\n",
    "\n",
    "Aquí la clase humano tiene como  **atributos:** Fecha de nacimiento; edad; Padres; Genero...\n",
    "\n",
    "como **métodos:** Correr; Caminar y Hablar.\n",
    "\n",
    "Los objetos Marcos y Elisa pertenecen a la misma Clase; pero tienen diferentes valores para los atributos y sus métodos quizás obtengan diferentes argumentos (valores para sus parámetros).\n",
    "\n",
    "Recuerde que la definición de atributos se hace al definir la función `__init__`."
   ]
  },
  {
   "cell_type": "markdown",
   "metadata": {},
   "source": [
    "Veamos un ejemplo:"
   ]
  },
  {
   "cell_type": "code",
   "execution_count": 1,
   "metadata": {},
   "outputs": [],
   "source": [
    "\n",
    "class Humano(): #Creamos la clase Humano\n",
    "    def __init__(self, edad, nombre, ocupacion,horas_laboradas): #Definimos el parámetro edad , nombre y ocupación\n",
    "        self.edad = edad # Definimos que el atributo edad, sera la edad asignada\n",
    "        self.nombre = nombre # Definimos que el atributo nombre, sera el nombre asig\n",
    "        self.ocupacion = ocupacion #DEFINIMOS EL ATRIBUTO DE INSTANCIA OCUPACIÓN\n",
    "        self.horas=horas_laboradas\n",
    "        self.dia=0 #Iniciamos en el día 0\n",
    "        \n",
    "        \n",
    "        #Creación de un nuevo método\n",
    "    def presentar(self):\n",
    "        presentacion = (\"Hola soy {name}, mi edad es {age} y mi ocupación es {ocu}\") #Mensaje\n",
    "        print(presentacion.format(name=self.nombre, age=self.edad, ocu=self.ocupacion)) #Usamos FORMAT\n",
    "        \n",
    "    def dias_transcurridos(self,n):\n",
    "        if self.ocupacion!= 'Desocupado':\n",
    "            self.dia=self.dia+n\n",
    "            self.horas=self.horas+n*8\n",
    "            print('Has trabajado',self.horas,'horas')\n",
    "        else:\n",
    "            self.dia=self.dia+n\n",
    "            print('Desde el día 0, han transcurrido',self.dia,'días' )\n",
    "        \n",
    "        #Creamos un nuevo método para cambiar la ocupación:\n",
    "        #En caso que esta persona sea contratada\n",
    "        \n",
    "    def contratar(self, puesto): #añadimos un nuevo parámetro en el método\n",
    "        self.puesto = puesto\n",
    "        print (\"{name} ha sido contratado como {vac}\".format(name=self.nombre, vac=self.puesto))\n",
    "        self.ocupacion = puesto#Ahora cambiamos el atributo ocupación\n",
    "    \n",
    "    def cumplio_anios(self):\n",
    "        self.edad=self.edad+1\n",
    "        print(\"Feliz cumpleaños te deseamos a ti, {name}\".format(name=self.nombre))\n"
   ]
  },
  {
   "cell_type": "code",
   "execution_count": 2,
   "metadata": {},
   "outputs": [
    {
     "name": "stdout",
     "output_type": "stream",
     "text": [
      "Hola soy Pedro, mi edad es 31 y mi ocupación es Desocupado\n"
     ]
    }
   ],
   "source": [
    "Persona1 = Humano(31, \"Pedro\", \"Desocupado\",400) #Instancia\n",
    "\n",
    "#Llamamos al método\n",
    "\n",
    "Persona1.presentar() "
   ]
  },
  {
   "cell_type": "code",
   "execution_count": 3,
   "metadata": {},
   "outputs": [
    {
     "name": "stdout",
     "output_type": "stream",
     "text": [
      "Desde el día 0, han transcurrido 20 días\n"
     ]
    }
   ],
   "source": [
    "Persona1.dias_transcurridos(20)"
   ]
  },
  {
   "cell_type": "code",
   "execution_count": 4,
   "metadata": {},
   "outputs": [
    {
     "name": "stdout",
     "output_type": "stream",
     "text": [
      "Pedro ha sido contratado como Obrero\n"
     ]
    }
   ],
   "source": [
    "Persona1.contratar(\"Obrero\")"
   ]
  },
  {
   "cell_type": "code",
   "execution_count": 5,
   "metadata": {},
   "outputs": [
    {
     "name": "stdout",
     "output_type": "stream",
     "text": [
      "Hola soy Pedro, mi edad es 31 y mi ocupación es Obrero\n"
     ]
    }
   ],
   "source": [
    "Persona1.presentar()"
   ]
  },
  {
   "cell_type": "code",
   "execution_count": 6,
   "metadata": {},
   "outputs": [
    {
     "name": "stdout",
     "output_type": "stream",
     "text": [
      "Pedro ha sido contratado como Contador\n"
     ]
    }
   ],
   "source": [
    "Persona1.contratar('Contador')"
   ]
  },
  {
   "cell_type": "code",
   "execution_count": 7,
   "metadata": {},
   "outputs": [
    {
     "name": "stdout",
     "output_type": "stream",
     "text": [
      "Has trabajado 560 horas\n"
     ]
    }
   ],
   "source": [
    "Persona1.dias_transcurridos(20)"
   ]
  },
  {
   "cell_type": "code",
   "execution_count": 8,
   "metadata": {},
   "outputs": [
    {
     "name": "stdout",
     "output_type": "stream",
     "text": [
      "Hola soy Pedro, mi edad es 31 y mi ocupación es Contador\n"
     ]
    }
   ],
   "source": [
    "Persona1.presentar()"
   ]
  },
  {
   "cell_type": "code",
   "execution_count": 9,
   "metadata": {},
   "outputs": [
    {
     "name": "stdout",
     "output_type": "stream",
     "text": [
      "Feliz cumpleaños te deseamos a ti, Pedro\n"
     ]
    }
   ],
   "source": [
    "Persona1.cumplio_anios()"
   ]
  },
  {
   "cell_type": "code",
   "execution_count": 10,
   "metadata": {},
   "outputs": [
    {
     "name": "stdout",
     "output_type": "stream",
     "text": [
      "Hola soy Pedro, mi edad es 32 y mi ocupación es Contador\n"
     ]
    }
   ],
   "source": [
    "Persona1.presentar()"
   ]
  },
  {
   "cell_type": "code",
   "execution_count": 11,
   "metadata": {},
   "outputs": [
    {
     "data": {
      "application/vnd.jupyter.widget-view+json": {
       "model_id": "ae1dbfa594d945dc9cb6e58d36d562fe",
       "version_major": 2,
       "version_minor": 0
      },
      "text/plain": [
       "interactive(children=(IntSlider(value=10, description='n', max=30, min=-10), Output()), _dom_classes=('widget-…"
      ]
     },
     "metadata": {},
     "output_type": "display_data"
    },
    {
     "data": {
      "text/plain": [
       "<function ipywidgets.widgets.interaction._InteractFactory.__call__.<locals>.<lambda>(*args, **kwargs)>"
      ]
     },
     "execution_count": 11,
     "metadata": {},
     "output_type": "execute_result"
    }
   ],
   "source": [
    "from ipywidgets import interact\n",
    "\n",
    "interact(Persona1.dias_transcurridos,n=10)"
   ]
  },
  {
   "cell_type": "markdown",
   "metadata": {},
   "source": [
    "## Módulos\n",
    "\n",
    "Como ven, en algunas ocasiones, veamos el ejemplo Fracción, la cantidad de código puede ser inmanejable. Además, con una reinicialización del nucleo o un bloqueo se pueden perder las definiciones previas. Para evitar este problema creamos módulos, archivos externos con extensión .py que podemos importar a nuestros cuadernos.\n",
    "\n",
    "Para este ejercicio usaremos el archivo fibo.py y usaremos las funciones alojadas en él, para importar sin problemas el archivo fibo.py debe estar en la misma carpeta del cuaderno:\n",
    "\n"
   ]
  },
  {
   "cell_type": "code",
   "execution_count": null,
   "metadata": {},
   "outputs": [],
   "source": [
    "import fibo"
   ]
  },
  {
   "cell_type": "code",
   "execution_count": null,
   "metadata": {},
   "outputs": [],
   "source": [
    "print(fibo.fib(1000))"
   ]
  },
  {
   "cell_type": "code",
   "execution_count": null,
   "metadata": {},
   "outputs": [],
   "source": [
    "fibo.fib2(100)"
   ]
  },
  {
   "cell_type": "code",
   "execution_count": null,
   "metadata": {},
   "outputs": [],
   "source": [
    "fibo.constante"
   ]
  },
  {
   "cell_type": "code",
   "execution_count": null,
   "metadata": {},
   "outputs": [],
   "source": [
    "dir(fibo)"
   ]
  },
  {
   "cell_type": "code",
   "execution_count": null,
   "metadata": {},
   "outputs": [],
   "source": [
    "?fibo.constante"
   ]
  }
 ],
 "metadata": {
  "kernelspec": {
   "display_name": "Python 3",
   "language": "python",
   "name": "python3"
  },
  "language_info": {
   "codemirror_mode": {
    "name": "ipython",
    "version": 3
   },
   "file_extension": ".py",
   "mimetype": "text/x-python",
   "name": "python",
   "nbconvert_exporter": "python",
   "pygments_lexer": "ipython3",
   "version": "3.8.5"
  },
  "toc": {
   "base_numbering": 1,
   "nav_menu": {},
   "number_sections": false,
   "sideBar": true,
   "skip_h1_title": false,
   "title_cell": "Table of Contents",
   "title_sidebar": "Contents",
   "toc_cell": false,
   "toc_position": {},
   "toc_section_display": true,
   "toc_window_display": false
  }
 },
 "nbformat": 4,
 "nbformat_minor": 4
}
