{
 "cells": [
  {
   "cell_type": "markdown",
   "metadata": {},
   "source": [
    "### Taller \n",
    "integrantes: Johan Ayala y Daniel Mayor"
   ]
  },
  {
   "cell_type": "markdown",
   "metadata": {},
   "source": [
    "## Ejercicio"
   ]
  },
  {
   "cell_type": "markdown",
   "metadata": {},
   "source": [
    "Se realiza la instalación de los paquetes para poder usar la api para descargar los datos de la pagina del gobierno para los contratos vigentes del pais."
   ]
  },
  {
   "cell_type": "code",
   "execution_count": 1,
   "metadata": {},
   "outputs": [],
   "source": [
    "#!pip install sodapy"
   ]
  },
  {
   "cell_type": "code",
   "execution_count": 24,
   "metadata": {},
   "outputs": [
    {
     "name": "stderr",
     "output_type": "stream",
     "text": [
      "WARNING:root:Requests made without an app_token will be subject to strict throttling limits.\n"
     ]
    },
    {
     "ename": "KeyboardInterrupt",
     "evalue": "",
     "output_type": "error",
     "traceback": [
      "\u001b[1;31m---------------------------------------------------------------------------\u001b[0m",
      "\u001b[1;31mKeyboardInterrupt\u001b[0m                         Traceback (most recent call last)",
      "\u001b[1;32m<ipython-input-24-3baee9f8161e>\u001b[0m in \u001b[0;36m<module>\u001b[1;34m\u001b[0m\n\u001b[0;32m     19\u001b[0m \u001b[1;31m# First 2000 results, returned as JSON from API / converted to Python list of\u001b[0m\u001b[1;33m\u001b[0m\u001b[1;33m\u001b[0m\u001b[1;33m\u001b[0m\u001b[0m\n\u001b[0;32m     20\u001b[0m \u001b[1;31m# dictionaries by sodapy.\u001b[0m\u001b[1;33m\u001b[0m\u001b[1;33m\u001b[0m\u001b[1;33m\u001b[0m\u001b[0m\n\u001b[1;32m---> 21\u001b[1;33m \u001b[0mresults\u001b[0m \u001b[1;33m=\u001b[0m \u001b[0mclient\u001b[0m\u001b[1;33m.\u001b[0m\u001b[0mget\u001b[0m\u001b[1;33m(\u001b[0m\u001b[1;34m\"jbjy-vk9h\"\u001b[0m\u001b[1;33m,\u001b[0m \u001b[0mlimit\u001b[0m\u001b[1;33m=\u001b[0m\u001b[1;36m1500000\u001b[0m\u001b[1;33m)\u001b[0m\u001b[1;33m\u001b[0m\u001b[1;33m\u001b[0m\u001b[0m\n\u001b[0m\u001b[0;32m     22\u001b[0m \u001b[1;33m\u001b[0m\u001b[0m\n\u001b[0;32m     23\u001b[0m \u001b[1;31m# Convert to pandas DataFrame\u001b[0m\u001b[1;33m\u001b[0m\u001b[1;33m\u001b[0m\u001b[1;33m\u001b[0m\u001b[0m\n",
      "\u001b[1;32m~\\anaconda3\\lib\\site-packages\\sodapy\\socrata.py\u001b[0m in \u001b[0;36mget\u001b[1;34m(self, dataset_identifier, content_type, **kwargs)\u001b[0m\n\u001b[0;32m    410\u001b[0m         \u001b[0mparams\u001b[0m \u001b[1;33m=\u001b[0m \u001b[0mutils\u001b[0m\u001b[1;33m.\u001b[0m\u001b[0mclear_empty_values\u001b[0m\u001b[1;33m(\u001b[0m\u001b[0mparams\u001b[0m\u001b[1;33m)\u001b[0m\u001b[1;33m\u001b[0m\u001b[1;33m\u001b[0m\u001b[0m\n\u001b[0;32m    411\u001b[0m \u001b[1;33m\u001b[0m\u001b[0m\n\u001b[1;32m--> 412\u001b[1;33m         response = self._perform_request(\n\u001b[0m\u001b[0;32m    413\u001b[0m             \u001b[1;34m\"get\"\u001b[0m\u001b[1;33m,\u001b[0m \u001b[0mresource\u001b[0m\u001b[1;33m,\u001b[0m \u001b[0mheaders\u001b[0m\u001b[1;33m=\u001b[0m\u001b[0mheaders\u001b[0m\u001b[1;33m,\u001b[0m \u001b[0mparams\u001b[0m\u001b[1;33m=\u001b[0m\u001b[0mparams\u001b[0m\u001b[1;33m\u001b[0m\u001b[1;33m\u001b[0m\u001b[0m\n\u001b[0;32m    414\u001b[0m         )\n",
      "\u001b[1;32m~\\anaconda3\\lib\\site-packages\\sodapy\\socrata.py\u001b[0m in \u001b[0;36m_perform_request\u001b[1;34m(self, request_type, resource, **kwargs)\u001b[0m\n\u001b[0;32m    549\u001b[0m         \u001b[0mkwargs\u001b[0m\u001b[1;33m[\u001b[0m\u001b[1;34m\"timeout\"\u001b[0m\u001b[1;33m]\u001b[0m \u001b[1;33m=\u001b[0m \u001b[0mself\u001b[0m\u001b[1;33m.\u001b[0m\u001b[0mtimeout\u001b[0m\u001b[1;33m\u001b[0m\u001b[1;33m\u001b[0m\u001b[0m\n\u001b[0;32m    550\u001b[0m \u001b[1;33m\u001b[0m\u001b[0m\n\u001b[1;32m--> 551\u001b[1;33m         \u001b[0mresponse\u001b[0m \u001b[1;33m=\u001b[0m \u001b[0mgetattr\u001b[0m\u001b[1;33m(\u001b[0m\u001b[0mself\u001b[0m\u001b[1;33m.\u001b[0m\u001b[0msession\u001b[0m\u001b[1;33m,\u001b[0m \u001b[0mrequest_type\u001b[0m\u001b[1;33m)\u001b[0m\u001b[1;33m(\u001b[0m\u001b[0muri\u001b[0m\u001b[1;33m,\u001b[0m \u001b[1;33m**\u001b[0m\u001b[0mkwargs\u001b[0m\u001b[1;33m)\u001b[0m\u001b[1;33m\u001b[0m\u001b[1;33m\u001b[0m\u001b[0m\n\u001b[0m\u001b[0;32m    552\u001b[0m \u001b[1;33m\u001b[0m\u001b[0m\n\u001b[0;32m    553\u001b[0m         \u001b[1;31m# handle errors\u001b[0m\u001b[1;33m\u001b[0m\u001b[1;33m\u001b[0m\u001b[1;33m\u001b[0m\u001b[0m\n",
      "\u001b[1;32m~\\anaconda3\\lib\\site-packages\\requests\\sessions.py\u001b[0m in \u001b[0;36mget\u001b[1;34m(self, url, **kwargs)\u001b[0m\n\u001b[0;32m    541\u001b[0m \u001b[1;33m\u001b[0m\u001b[0m\n\u001b[0;32m    542\u001b[0m         \u001b[0mkwargs\u001b[0m\u001b[1;33m.\u001b[0m\u001b[0msetdefault\u001b[0m\u001b[1;33m(\u001b[0m\u001b[1;34m'allow_redirects'\u001b[0m\u001b[1;33m,\u001b[0m \u001b[1;32mTrue\u001b[0m\u001b[1;33m)\u001b[0m\u001b[1;33m\u001b[0m\u001b[1;33m\u001b[0m\u001b[0m\n\u001b[1;32m--> 543\u001b[1;33m         \u001b[1;32mreturn\u001b[0m \u001b[0mself\u001b[0m\u001b[1;33m.\u001b[0m\u001b[0mrequest\u001b[0m\u001b[1;33m(\u001b[0m\u001b[1;34m'GET'\u001b[0m\u001b[1;33m,\u001b[0m \u001b[0murl\u001b[0m\u001b[1;33m,\u001b[0m \u001b[1;33m**\u001b[0m\u001b[0mkwargs\u001b[0m\u001b[1;33m)\u001b[0m\u001b[1;33m\u001b[0m\u001b[1;33m\u001b[0m\u001b[0m\n\u001b[0m\u001b[0;32m    544\u001b[0m \u001b[1;33m\u001b[0m\u001b[0m\n\u001b[0;32m    545\u001b[0m     \u001b[1;32mdef\u001b[0m \u001b[0moptions\u001b[0m\u001b[1;33m(\u001b[0m\u001b[0mself\u001b[0m\u001b[1;33m,\u001b[0m \u001b[0murl\u001b[0m\u001b[1;33m,\u001b[0m \u001b[1;33m**\u001b[0m\u001b[0mkwargs\u001b[0m\u001b[1;33m)\u001b[0m\u001b[1;33m:\u001b[0m\u001b[1;33m\u001b[0m\u001b[1;33m\u001b[0m\u001b[0m\n",
      "\u001b[1;32m~\\anaconda3\\lib\\site-packages\\requests\\sessions.py\u001b[0m in \u001b[0;36mrequest\u001b[1;34m(self, method, url, params, data, headers, cookies, files, auth, timeout, allow_redirects, proxies, hooks, stream, verify, cert, json)\u001b[0m\n\u001b[0;32m    528\u001b[0m         }\n\u001b[0;32m    529\u001b[0m         \u001b[0msend_kwargs\u001b[0m\u001b[1;33m.\u001b[0m\u001b[0mupdate\u001b[0m\u001b[1;33m(\u001b[0m\u001b[0msettings\u001b[0m\u001b[1;33m)\u001b[0m\u001b[1;33m\u001b[0m\u001b[1;33m\u001b[0m\u001b[0m\n\u001b[1;32m--> 530\u001b[1;33m         \u001b[0mresp\u001b[0m \u001b[1;33m=\u001b[0m \u001b[0mself\u001b[0m\u001b[1;33m.\u001b[0m\u001b[0msend\u001b[0m\u001b[1;33m(\u001b[0m\u001b[0mprep\u001b[0m\u001b[1;33m,\u001b[0m \u001b[1;33m**\u001b[0m\u001b[0msend_kwargs\u001b[0m\u001b[1;33m)\u001b[0m\u001b[1;33m\u001b[0m\u001b[1;33m\u001b[0m\u001b[0m\n\u001b[0m\u001b[0;32m    531\u001b[0m \u001b[1;33m\u001b[0m\u001b[0m\n\u001b[0;32m    532\u001b[0m         \u001b[1;32mreturn\u001b[0m \u001b[0mresp\u001b[0m\u001b[1;33m\u001b[0m\u001b[1;33m\u001b[0m\u001b[0m\n",
      "\u001b[1;32m~\\anaconda3\\lib\\site-packages\\requests\\sessions.py\u001b[0m in \u001b[0;36msend\u001b[1;34m(self, request, **kwargs)\u001b[0m\n\u001b[0;32m    683\u001b[0m \u001b[1;33m\u001b[0m\u001b[0m\n\u001b[0;32m    684\u001b[0m         \u001b[1;32mif\u001b[0m \u001b[1;32mnot\u001b[0m \u001b[0mstream\u001b[0m\u001b[1;33m:\u001b[0m\u001b[1;33m\u001b[0m\u001b[1;33m\u001b[0m\u001b[0m\n\u001b[1;32m--> 685\u001b[1;33m             \u001b[0mr\u001b[0m\u001b[1;33m.\u001b[0m\u001b[0mcontent\u001b[0m\u001b[1;33m\u001b[0m\u001b[1;33m\u001b[0m\u001b[0m\n\u001b[0m\u001b[0;32m    686\u001b[0m \u001b[1;33m\u001b[0m\u001b[0m\n\u001b[0;32m    687\u001b[0m         \u001b[1;32mreturn\u001b[0m \u001b[0mr\u001b[0m\u001b[1;33m\u001b[0m\u001b[1;33m\u001b[0m\u001b[0m\n",
      "\u001b[1;32m~\\anaconda3\\lib\\site-packages\\requests\\models.py\u001b[0m in \u001b[0;36mcontent\u001b[1;34m(self)\u001b[0m\n\u001b[0;32m    827\u001b[0m                 \u001b[0mself\u001b[0m\u001b[1;33m.\u001b[0m\u001b[0m_content\u001b[0m \u001b[1;33m=\u001b[0m \u001b[1;32mNone\u001b[0m\u001b[1;33m\u001b[0m\u001b[1;33m\u001b[0m\u001b[0m\n\u001b[0;32m    828\u001b[0m             \u001b[1;32melse\u001b[0m\u001b[1;33m:\u001b[0m\u001b[1;33m\u001b[0m\u001b[1;33m\u001b[0m\u001b[0m\n\u001b[1;32m--> 829\u001b[1;33m                 \u001b[0mself\u001b[0m\u001b[1;33m.\u001b[0m\u001b[0m_content\u001b[0m \u001b[1;33m=\u001b[0m \u001b[1;34mb''\u001b[0m\u001b[1;33m.\u001b[0m\u001b[0mjoin\u001b[0m\u001b[1;33m(\u001b[0m\u001b[0mself\u001b[0m\u001b[1;33m.\u001b[0m\u001b[0miter_content\u001b[0m\u001b[1;33m(\u001b[0m\u001b[0mCONTENT_CHUNK_SIZE\u001b[0m\u001b[1;33m)\u001b[0m\u001b[1;33m)\u001b[0m \u001b[1;32mor\u001b[0m \u001b[1;34mb''\u001b[0m\u001b[1;33m\u001b[0m\u001b[1;33m\u001b[0m\u001b[0m\n\u001b[0m\u001b[0;32m    830\u001b[0m \u001b[1;33m\u001b[0m\u001b[0m\n\u001b[0;32m    831\u001b[0m         \u001b[0mself\u001b[0m\u001b[1;33m.\u001b[0m\u001b[0m_content_consumed\u001b[0m \u001b[1;33m=\u001b[0m \u001b[1;32mTrue\u001b[0m\u001b[1;33m\u001b[0m\u001b[1;33m\u001b[0m\u001b[0m\n",
      "\u001b[1;32m~\\anaconda3\\lib\\site-packages\\requests\\models.py\u001b[0m in \u001b[0;36mgenerate\u001b[1;34m()\u001b[0m\n\u001b[0;32m    749\u001b[0m             \u001b[1;32mif\u001b[0m \u001b[0mhasattr\u001b[0m\u001b[1;33m(\u001b[0m\u001b[0mself\u001b[0m\u001b[1;33m.\u001b[0m\u001b[0mraw\u001b[0m\u001b[1;33m,\u001b[0m \u001b[1;34m'stream'\u001b[0m\u001b[1;33m)\u001b[0m\u001b[1;33m:\u001b[0m\u001b[1;33m\u001b[0m\u001b[1;33m\u001b[0m\u001b[0m\n\u001b[0;32m    750\u001b[0m                 \u001b[1;32mtry\u001b[0m\u001b[1;33m:\u001b[0m\u001b[1;33m\u001b[0m\u001b[1;33m\u001b[0m\u001b[0m\n\u001b[1;32m--> 751\u001b[1;33m                     \u001b[1;32mfor\u001b[0m \u001b[0mchunk\u001b[0m \u001b[1;32min\u001b[0m \u001b[0mself\u001b[0m\u001b[1;33m.\u001b[0m\u001b[0mraw\u001b[0m\u001b[1;33m.\u001b[0m\u001b[0mstream\u001b[0m\u001b[1;33m(\u001b[0m\u001b[0mchunk_size\u001b[0m\u001b[1;33m,\u001b[0m \u001b[0mdecode_content\u001b[0m\u001b[1;33m=\u001b[0m\u001b[1;32mTrue\u001b[0m\u001b[1;33m)\u001b[0m\u001b[1;33m:\u001b[0m\u001b[1;33m\u001b[0m\u001b[1;33m\u001b[0m\u001b[0m\n\u001b[0m\u001b[0;32m    752\u001b[0m                         \u001b[1;32myield\u001b[0m \u001b[0mchunk\u001b[0m\u001b[1;33m\u001b[0m\u001b[1;33m\u001b[0m\u001b[0m\n\u001b[0;32m    753\u001b[0m                 \u001b[1;32mexcept\u001b[0m \u001b[0mProtocolError\u001b[0m \u001b[1;32mas\u001b[0m \u001b[0me\u001b[0m\u001b[1;33m:\u001b[0m\u001b[1;33m\u001b[0m\u001b[1;33m\u001b[0m\u001b[0m\n",
      "\u001b[1;32m~\\anaconda3\\lib\\site-packages\\urllib3\\response.py\u001b[0m in \u001b[0;36mstream\u001b[1;34m(self, amt, decode_content)\u001b[0m\n\u001b[0;32m    569\u001b[0m         \"\"\"\n\u001b[0;32m    570\u001b[0m         \u001b[1;32mif\u001b[0m \u001b[0mself\u001b[0m\u001b[1;33m.\u001b[0m\u001b[0mchunked\u001b[0m \u001b[1;32mand\u001b[0m \u001b[0mself\u001b[0m\u001b[1;33m.\u001b[0m\u001b[0msupports_chunked_reads\u001b[0m\u001b[1;33m(\u001b[0m\u001b[1;33m)\u001b[0m\u001b[1;33m:\u001b[0m\u001b[1;33m\u001b[0m\u001b[1;33m\u001b[0m\u001b[0m\n\u001b[1;32m--> 571\u001b[1;33m             \u001b[1;32mfor\u001b[0m \u001b[0mline\u001b[0m \u001b[1;32min\u001b[0m \u001b[0mself\u001b[0m\u001b[1;33m.\u001b[0m\u001b[0mread_chunked\u001b[0m\u001b[1;33m(\u001b[0m\u001b[0mamt\u001b[0m\u001b[1;33m,\u001b[0m \u001b[0mdecode_content\u001b[0m\u001b[1;33m=\u001b[0m\u001b[0mdecode_content\u001b[0m\u001b[1;33m)\u001b[0m\u001b[1;33m:\u001b[0m\u001b[1;33m\u001b[0m\u001b[1;33m\u001b[0m\u001b[0m\n\u001b[0m\u001b[0;32m    572\u001b[0m                 \u001b[1;32myield\u001b[0m \u001b[0mline\u001b[0m\u001b[1;33m\u001b[0m\u001b[1;33m\u001b[0m\u001b[0m\n\u001b[0;32m    573\u001b[0m         \u001b[1;32melse\u001b[0m\u001b[1;33m:\u001b[0m\u001b[1;33m\u001b[0m\u001b[1;33m\u001b[0m\u001b[0m\n",
      "\u001b[1;32m~\\anaconda3\\lib\\site-packages\\urllib3\\response.py\u001b[0m in \u001b[0;36mread_chunked\u001b[1;34m(self, amt, decode_content)\u001b[0m\n\u001b[0;32m    764\u001b[0m                 \u001b[1;32mif\u001b[0m \u001b[0mself\u001b[0m\u001b[1;33m.\u001b[0m\u001b[0mchunk_left\u001b[0m \u001b[1;33m==\u001b[0m \u001b[1;36m0\u001b[0m\u001b[1;33m:\u001b[0m\u001b[1;33m\u001b[0m\u001b[1;33m\u001b[0m\u001b[0m\n\u001b[0;32m    765\u001b[0m                     \u001b[1;32mbreak\u001b[0m\u001b[1;33m\u001b[0m\u001b[1;33m\u001b[0m\u001b[0m\n\u001b[1;32m--> 766\u001b[1;33m                 \u001b[0mchunk\u001b[0m \u001b[1;33m=\u001b[0m \u001b[0mself\u001b[0m\u001b[1;33m.\u001b[0m\u001b[0m_handle_chunk\u001b[0m\u001b[1;33m(\u001b[0m\u001b[0mamt\u001b[0m\u001b[1;33m)\u001b[0m\u001b[1;33m\u001b[0m\u001b[1;33m\u001b[0m\u001b[0m\n\u001b[0m\u001b[0;32m    767\u001b[0m                 decoded = self._decode(\n\u001b[0;32m    768\u001b[0m                     \u001b[0mchunk\u001b[0m\u001b[1;33m,\u001b[0m \u001b[0mdecode_content\u001b[0m\u001b[1;33m=\u001b[0m\u001b[0mdecode_content\u001b[0m\u001b[1;33m,\u001b[0m \u001b[0mflush_decoder\u001b[0m\u001b[1;33m=\u001b[0m\u001b[1;32mFalse\u001b[0m\u001b[1;33m\u001b[0m\u001b[1;33m\u001b[0m\u001b[0m\n",
      "\u001b[1;32m~\\anaconda3\\lib\\site-packages\\urllib3\\response.py\u001b[0m in \u001b[0;36m_handle_chunk\u001b[1;34m(self, amt)\u001b[0m\n\u001b[0;32m    717\u001b[0m             \u001b[0mreturned_chunk\u001b[0m \u001b[1;33m=\u001b[0m \u001b[0mvalue\u001b[0m\u001b[1;33m\u001b[0m\u001b[1;33m\u001b[0m\u001b[0m\n\u001b[0;32m    718\u001b[0m         \u001b[1;32melse\u001b[0m\u001b[1;33m:\u001b[0m  \u001b[1;31m# amt > self.chunk_left\u001b[0m\u001b[1;33m\u001b[0m\u001b[1;33m\u001b[0m\u001b[0m\n\u001b[1;32m--> 719\u001b[1;33m             \u001b[0mreturned_chunk\u001b[0m \u001b[1;33m=\u001b[0m \u001b[0mself\u001b[0m\u001b[1;33m.\u001b[0m\u001b[0m_fp\u001b[0m\u001b[1;33m.\u001b[0m\u001b[0m_safe_read\u001b[0m\u001b[1;33m(\u001b[0m\u001b[0mself\u001b[0m\u001b[1;33m.\u001b[0m\u001b[0mchunk_left\u001b[0m\u001b[1;33m)\u001b[0m\u001b[1;33m\u001b[0m\u001b[1;33m\u001b[0m\u001b[0m\n\u001b[0m\u001b[0;32m    720\u001b[0m             \u001b[0mself\u001b[0m\u001b[1;33m.\u001b[0m\u001b[0m_fp\u001b[0m\u001b[1;33m.\u001b[0m\u001b[0m_safe_read\u001b[0m\u001b[1;33m(\u001b[0m\u001b[1;36m2\u001b[0m\u001b[1;33m)\u001b[0m  \u001b[1;31m# Toss the CRLF at the end of the chunk.\u001b[0m\u001b[1;33m\u001b[0m\u001b[1;33m\u001b[0m\u001b[0m\n\u001b[0;32m    721\u001b[0m             \u001b[0mself\u001b[0m\u001b[1;33m.\u001b[0m\u001b[0mchunk_left\u001b[0m \u001b[1;33m=\u001b[0m \u001b[1;32mNone\u001b[0m\u001b[1;33m\u001b[0m\u001b[1;33m\u001b[0m\u001b[0m\n",
      "\u001b[1;32m~\\anaconda3\\lib\\http\\client.py\u001b[0m in \u001b[0;36m_safe_read\u001b[1;34m(self, amt)\u001b[0m\n\u001b[0;32m    610\u001b[0m         \u001b[0mIncompleteRead\u001b[0m \u001b[0mexception\u001b[0m \u001b[0mcan\u001b[0m \u001b[0mbe\u001b[0m \u001b[0mused\u001b[0m \u001b[0mto\u001b[0m \u001b[0mdetect\u001b[0m \u001b[0mthe\u001b[0m \u001b[0mproblem\u001b[0m\u001b[1;33m.\u001b[0m\u001b[1;33m\u001b[0m\u001b[1;33m\u001b[0m\u001b[0m\n\u001b[0;32m    611\u001b[0m         \"\"\"\n\u001b[1;32m--> 612\u001b[1;33m         \u001b[0mdata\u001b[0m \u001b[1;33m=\u001b[0m \u001b[0mself\u001b[0m\u001b[1;33m.\u001b[0m\u001b[0mfp\u001b[0m\u001b[1;33m.\u001b[0m\u001b[0mread\u001b[0m\u001b[1;33m(\u001b[0m\u001b[0mamt\u001b[0m\u001b[1;33m)\u001b[0m\u001b[1;33m\u001b[0m\u001b[1;33m\u001b[0m\u001b[0m\n\u001b[0m\u001b[0;32m    613\u001b[0m         \u001b[1;32mif\u001b[0m \u001b[0mlen\u001b[0m\u001b[1;33m(\u001b[0m\u001b[0mdata\u001b[0m\u001b[1;33m)\u001b[0m \u001b[1;33m<\u001b[0m \u001b[0mamt\u001b[0m\u001b[1;33m:\u001b[0m\u001b[1;33m\u001b[0m\u001b[1;33m\u001b[0m\u001b[0m\n\u001b[0;32m    614\u001b[0m             \u001b[1;32mraise\u001b[0m \u001b[0mIncompleteRead\u001b[0m\u001b[1;33m(\u001b[0m\u001b[0mdata\u001b[0m\u001b[1;33m,\u001b[0m \u001b[0mamt\u001b[0m\u001b[1;33m-\u001b[0m\u001b[0mlen\u001b[0m\u001b[1;33m(\u001b[0m\u001b[0mdata\u001b[0m\u001b[1;33m)\u001b[0m\u001b[1;33m)\u001b[0m\u001b[1;33m\u001b[0m\u001b[1;33m\u001b[0m\u001b[0m\n",
      "\u001b[1;32m~\\anaconda3\\lib\\socket.py\u001b[0m in \u001b[0;36mreadinto\u001b[1;34m(self, b)\u001b[0m\n\u001b[0;32m    667\u001b[0m         \u001b[1;32mwhile\u001b[0m \u001b[1;32mTrue\u001b[0m\u001b[1;33m:\u001b[0m\u001b[1;33m\u001b[0m\u001b[1;33m\u001b[0m\u001b[0m\n\u001b[0;32m    668\u001b[0m             \u001b[1;32mtry\u001b[0m\u001b[1;33m:\u001b[0m\u001b[1;33m\u001b[0m\u001b[1;33m\u001b[0m\u001b[0m\n\u001b[1;32m--> 669\u001b[1;33m                 \u001b[1;32mreturn\u001b[0m \u001b[0mself\u001b[0m\u001b[1;33m.\u001b[0m\u001b[0m_sock\u001b[0m\u001b[1;33m.\u001b[0m\u001b[0mrecv_into\u001b[0m\u001b[1;33m(\u001b[0m\u001b[0mb\u001b[0m\u001b[1;33m)\u001b[0m\u001b[1;33m\u001b[0m\u001b[1;33m\u001b[0m\u001b[0m\n\u001b[0m\u001b[0;32m    670\u001b[0m             \u001b[1;32mexcept\u001b[0m \u001b[0mtimeout\u001b[0m\u001b[1;33m:\u001b[0m\u001b[1;33m\u001b[0m\u001b[1;33m\u001b[0m\u001b[0m\n\u001b[0;32m    671\u001b[0m                 \u001b[0mself\u001b[0m\u001b[1;33m.\u001b[0m\u001b[0m_timeout_occurred\u001b[0m \u001b[1;33m=\u001b[0m \u001b[1;32mTrue\u001b[0m\u001b[1;33m\u001b[0m\u001b[1;33m\u001b[0m\u001b[0m\n",
      "\u001b[1;32m~\\anaconda3\\lib\\ssl.py\u001b[0m in \u001b[0;36mrecv_into\u001b[1;34m(self, buffer, nbytes, flags)\u001b[0m\n\u001b[0;32m   1239\u001b[0m                   \u001b[1;34m\"non-zero flags not allowed in calls to recv_into() on %s\"\u001b[0m \u001b[1;33m%\u001b[0m\u001b[1;33m\u001b[0m\u001b[1;33m\u001b[0m\u001b[0m\n\u001b[0;32m   1240\u001b[0m                   self.__class__)\n\u001b[1;32m-> 1241\u001b[1;33m             \u001b[1;32mreturn\u001b[0m \u001b[0mself\u001b[0m\u001b[1;33m.\u001b[0m\u001b[0mread\u001b[0m\u001b[1;33m(\u001b[0m\u001b[0mnbytes\u001b[0m\u001b[1;33m,\u001b[0m \u001b[0mbuffer\u001b[0m\u001b[1;33m)\u001b[0m\u001b[1;33m\u001b[0m\u001b[1;33m\u001b[0m\u001b[0m\n\u001b[0m\u001b[0;32m   1242\u001b[0m         \u001b[1;32melse\u001b[0m\u001b[1;33m:\u001b[0m\u001b[1;33m\u001b[0m\u001b[1;33m\u001b[0m\u001b[0m\n\u001b[0;32m   1243\u001b[0m             \u001b[1;32mreturn\u001b[0m \u001b[0msuper\u001b[0m\u001b[1;33m(\u001b[0m\u001b[1;33m)\u001b[0m\u001b[1;33m.\u001b[0m\u001b[0mrecv_into\u001b[0m\u001b[1;33m(\u001b[0m\u001b[0mbuffer\u001b[0m\u001b[1;33m,\u001b[0m \u001b[0mnbytes\u001b[0m\u001b[1;33m,\u001b[0m \u001b[0mflags\u001b[0m\u001b[1;33m)\u001b[0m\u001b[1;33m\u001b[0m\u001b[1;33m\u001b[0m\u001b[0m\n",
      "\u001b[1;32m~\\anaconda3\\lib\\ssl.py\u001b[0m in \u001b[0;36mread\u001b[1;34m(self, len, buffer)\u001b[0m\n\u001b[0;32m   1097\u001b[0m         \u001b[1;32mtry\u001b[0m\u001b[1;33m:\u001b[0m\u001b[1;33m\u001b[0m\u001b[1;33m\u001b[0m\u001b[0m\n\u001b[0;32m   1098\u001b[0m             \u001b[1;32mif\u001b[0m \u001b[0mbuffer\u001b[0m \u001b[1;32mis\u001b[0m \u001b[1;32mnot\u001b[0m \u001b[1;32mNone\u001b[0m\u001b[1;33m:\u001b[0m\u001b[1;33m\u001b[0m\u001b[1;33m\u001b[0m\u001b[0m\n\u001b[1;32m-> 1099\u001b[1;33m                 \u001b[1;32mreturn\u001b[0m \u001b[0mself\u001b[0m\u001b[1;33m.\u001b[0m\u001b[0m_sslobj\u001b[0m\u001b[1;33m.\u001b[0m\u001b[0mread\u001b[0m\u001b[1;33m(\u001b[0m\u001b[0mlen\u001b[0m\u001b[1;33m,\u001b[0m \u001b[0mbuffer\u001b[0m\u001b[1;33m)\u001b[0m\u001b[1;33m\u001b[0m\u001b[1;33m\u001b[0m\u001b[0m\n\u001b[0m\u001b[0;32m   1100\u001b[0m             \u001b[1;32melse\u001b[0m\u001b[1;33m:\u001b[0m\u001b[1;33m\u001b[0m\u001b[1;33m\u001b[0m\u001b[0m\n\u001b[0;32m   1101\u001b[0m                 \u001b[1;32mreturn\u001b[0m \u001b[0mself\u001b[0m\u001b[1;33m.\u001b[0m\u001b[0m_sslobj\u001b[0m\u001b[1;33m.\u001b[0m\u001b[0mread\u001b[0m\u001b[1;33m(\u001b[0m\u001b[0mlen\u001b[0m\u001b[1;33m)\u001b[0m\u001b[1;33m\u001b[0m\u001b[1;33m\u001b[0m\u001b[0m\n",
      "\u001b[1;31mKeyboardInterrupt\u001b[0m: "
     ]
    }
   ],
   "source": [
    "#!/usr/bin/env python\n",
    "\n",
    "# make sure to install these packages before running:\n",
    "# pip install pandas\n",
    "# pip install sodapy\n",
    "\n",
    "import pandas as pd\n",
    "from sodapy import Socrata\n",
    "\n",
    "# Unauthenticated client only works with public data sets. Note 'None'\n",
    "# in place of application token, and no username or password:\n",
    "client = Socrata(\"www.datos.gov.co\", None)\n",
    "\n",
    "# Example authenticated client (needed for non-public datasets):\n",
    "client = Socrata(\"www.datos.gov.co\",\"vONPsUHk0x930twQ9StlHQKi6\",\n",
    "                  username=\"jsaj360@gmail.com\",\n",
    "                  password=\"23y7#+t6gCG_eZy\")\n",
    "\n",
    "# First 2000 results, returned as JSON from API / converted to Python list of\n",
    "# dictionaries by sodapy.\n",
    "results = client.get(\"jbjy-vk9h\", limit=1500000)\n",
    "\n",
    "# Convert to pandas DataFrame\n",
    "results_df = pd.DataFrame.from_records(results)"
   ]
  },
  {
   "cell_type": "markdown",
   "metadata": {},
   "source": [
    "Posterior al proceso anterior, se cargan las bases de datos y se les da una primera mirada para ver como están cargados."
   ]
  },
  {
   "cell_type": "code",
   "execution_count": 3,
   "metadata": {},
   "outputs": [
    {
     "data": {
      "text/plain": [
       "(1302659, 70)"
      ]
     },
     "execution_count": 3,
     "metadata": {},
     "output_type": "execute_result"
    }
   ],
   "source": [
    "results_df.shape"
   ]
  },
  {
   "cell_type": "code",
   "execution_count": 8,
   "metadata": {},
   "outputs": [
    {
     "data": {
      "text/html": [
       "<div>\n",
       "<style scoped>\n",
       "    .dataframe tbody tr th:only-of-type {\n",
       "        vertical-align: middle;\n",
       "    }\n",
       "\n",
       "    .dataframe tbody tr th {\n",
       "        vertical-align: top;\n",
       "    }\n",
       "\n",
       "    .dataframe thead th {\n",
       "        text-align: right;\n",
       "    }\n",
       "</style>\n",
       "<table border=\"1\" class=\"dataframe\">\n",
       "  <thead>\n",
       "    <tr style=\"text-align: right;\">\n",
       "      <th></th>\n",
       "      <th>nombre_entidad</th>\n",
       "      <th>nit_entidad</th>\n",
       "      <th>departamento</th>\n",
       "      <th>ciudad</th>\n",
       "      <th>localizaci_n</th>\n",
       "      <th>orden</th>\n",
       "      <th>sector</th>\n",
       "      <th>rama</th>\n",
       "      <th>entidad_centralizada</th>\n",
       "      <th>proceso_de_compra</th>\n",
       "      <th>...</th>\n",
       "      <th>sistema_general_de_participaciones</th>\n",
       "      <th>sistema_general_de_regal_as</th>\n",
       "      <th>recursos_propios_alcald_as_gobernaciones_y_resguardos_ind_genas_</th>\n",
       "      <th>recursos_de_credito</th>\n",
       "      <th>recursos_propios</th>\n",
       "      <th>ultima_actualizacion</th>\n",
       "      <th>codigo_entidad</th>\n",
       "      <th>fecha_inicio_liquidacion</th>\n",
       "      <th>fecha_fin_liquidacion</th>\n",
       "      <th>codigo_proveedor</th>\n",
       "    </tr>\n",
       "  </thead>\n",
       "  <tbody>\n",
       "    <tr>\n",
       "      <th>0</th>\n",
       "      <td>SENA REGIONAL ANTIOQUIA Grupo Administrativo CRNR</td>\n",
       "      <td>899999034</td>\n",
       "      <td>Antioquia</td>\n",
       "      <td>Caldas</td>\n",
       "      <td>Colombia,  Antioquia ,  Caldas</td>\n",
       "      <td>Nacional</td>\n",
       "      <td>Trabajo</td>\n",
       "      <td>Ejecutivo</td>\n",
       "      <td>Descentralizada</td>\n",
       "      <td>CO1.BDOS.1107643</td>\n",
       "      <td>...</td>\n",
       "      <td>0</td>\n",
       "      <td>0</td>\n",
       "      <td>0</td>\n",
       "      <td>0</td>\n",
       "      <td>0</td>\n",
       "      <td>2020-12-31T00:00:00.000</td>\n",
       "      <td>704161553</td>\n",
       "      <td>2021-01-01 17:00:00</td>\n",
       "      <td>2021-05-01 04:59:00</td>\n",
       "      <td>708133640</td>\n",
       "    </tr>\n",
       "    <tr>\n",
       "      <th>1</th>\n",
       "      <td>SUBRED INTEGRADA DE SERVICIOS DE SALUD SUR E.S.E</td>\n",
       "      <td>9009585649</td>\n",
       "      <td>Distrito Capital de Bogotá</td>\n",
       "      <td>Bogotá</td>\n",
       "      <td>Colombia, Bogotá, Bogotá</td>\n",
       "      <td>Territorial</td>\n",
       "      <td>Salud y Protección Social</td>\n",
       "      <td>Ejecutivo</td>\n",
       "      <td>Descentralizada</td>\n",
       "      <td>CO1.BDOS.646904</td>\n",
       "      <td>...</td>\n",
       "      <td>0</td>\n",
       "      <td>0</td>\n",
       "      <td>0</td>\n",
       "      <td>0</td>\n",
       "      <td>0</td>\n",
       "      <td>2021-07-10T00:00:00.000</td>\n",
       "      <td>702730482</td>\n",
       "      <td>NaN</td>\n",
       "      <td>NaN</td>\n",
       "      <td>703349027</td>\n",
       "    </tr>\n",
       "    <tr>\n",
       "      <th>2</th>\n",
       "      <td>MUNICIPIO DE SANTA ROSA DE CABAL</td>\n",
       "      <td>891480033</td>\n",
       "      <td>Risaralda</td>\n",
       "      <td>Santa Rosa De Cabal</td>\n",
       "      <td>Colombia,  Risaralda ,  Santa Rosa De Cabal</td>\n",
       "      <td>Territorial</td>\n",
       "      <td>Servicio Público</td>\n",
       "      <td>Ejecutivo</td>\n",
       "      <td>Descentralizada</td>\n",
       "      <td>CO1.BDOS.2265968</td>\n",
       "      <td>...</td>\n",
       "      <td>0</td>\n",
       "      <td>0</td>\n",
       "      <td>7572000</td>\n",
       "      <td>0</td>\n",
       "      <td>0</td>\n",
       "      <td>2021-11-03T00:00:00.000</td>\n",
       "      <td>705489250</td>\n",
       "      <td>NaN</td>\n",
       "      <td>NaN</td>\n",
       "      <td>715030144</td>\n",
       "    </tr>\n",
       "  </tbody>\n",
       "</table>\n",
       "<p>3 rows × 70 columns</p>\n",
       "</div>"
      ],
      "text/plain": [
       "                                      nombre_entidad nit_entidad  \\\n",
       "0  SENA REGIONAL ANTIOQUIA Grupo Administrativo CRNR   899999034   \n",
       "1   SUBRED INTEGRADA DE SERVICIOS DE SALUD SUR E.S.E  9009585649   \n",
       "2                   MUNICIPIO DE SANTA ROSA DE CABAL   891480033   \n",
       "\n",
       "                 departamento               ciudad  \\\n",
       "0                   Antioquia               Caldas   \n",
       "1  Distrito Capital de Bogotá               Bogotá   \n",
       "2                   Risaralda  Santa Rosa De Cabal   \n",
       "\n",
       "                                  localizaci_n        orden  \\\n",
       "0               Colombia,  Antioquia ,  Caldas     Nacional   \n",
       "1                     Colombia, Bogotá, Bogotá  Territorial   \n",
       "2  Colombia,  Risaralda ,  Santa Rosa De Cabal  Territorial   \n",
       "\n",
       "                      sector       rama entidad_centralizada  \\\n",
       "0                    Trabajo  Ejecutivo      Descentralizada   \n",
       "1  Salud y Protección Social  Ejecutivo      Descentralizada   \n",
       "2           Servicio Público  Ejecutivo      Descentralizada   \n",
       "\n",
       "  proceso_de_compra  ... sistema_general_de_participaciones  \\\n",
       "0  CO1.BDOS.1107643  ...                                  0   \n",
       "1   CO1.BDOS.646904  ...                                  0   \n",
       "2  CO1.BDOS.2265968  ...                                  0   \n",
       "\n",
       "  sistema_general_de_regal_as  \\\n",
       "0                           0   \n",
       "1                           0   \n",
       "2                           0   \n",
       "\n",
       "  recursos_propios_alcald_as_gobernaciones_y_resguardos_ind_genas_  \\\n",
       "0                                                  0                 \n",
       "1                                                  0                 \n",
       "2                                            7572000                 \n",
       "\n",
       "  recursos_de_credito recursos_propios     ultima_actualizacion  \\\n",
       "0                   0                0  2020-12-31T00:00:00.000   \n",
       "1                   0                0  2021-07-10T00:00:00.000   \n",
       "2                   0                0  2021-11-03T00:00:00.000   \n",
       "\n",
       "  codigo_entidad fecha_inicio_liquidacion fecha_fin_liquidacion  \\\n",
       "0      704161553      2021-01-01 17:00:00   2021-05-01 04:59:00   \n",
       "1      702730482                      NaN                   NaN   \n",
       "2      705489250                      NaN                   NaN   \n",
       "\n",
       "  codigo_proveedor  \n",
       "0        708133640  \n",
       "1        703349027  \n",
       "2        715030144  \n",
       "\n",
       "[3 rows x 70 columns]"
      ]
     },
     "execution_count": 8,
     "metadata": {},
     "output_type": "execute_result"
    }
   ],
   "source": [
    "results_df.head(3)"
   ]
  },
  {
   "cell_type": "code",
   "execution_count": 4,
   "metadata": {},
   "outputs": [
    {
     "data": {
      "text/plain": [
       "Index(['nombre_entidad', 'nit_entidad', 'departamento', 'ciudad',\n",
       "       'localizaci_n', 'orden', 'sector', 'rama', 'entidad_centralizada',\n",
       "       'proceso_de_compra', 'id_contrato', 'referencia_del_contrato',\n",
       "       'estado_contrato', 'codigo_de_categoria_principal',\n",
       "       'descripcion_del_proceso', 'tipo_de_contrato',\n",
       "       'modalidad_de_contratacion', 'justificacion_modalidad_de',\n",
       "       'fecha_de_firma', 'fecha_de_inicio_del_contrato',\n",
       "       'fecha_de_fin_del_contrato', 'fecha_de_inicio_de_ejecucion',\n",
       "       'fecha_de_fin_de_ejecucion', 'condiciones_de_entrega',\n",
       "       'tipodocproveedor', 'documento_proveedor', 'proveedor_adjudicado',\n",
       "       'es_grupo', 'es_pyme', 'habilita_pago_adelantado', 'liquidaci_n',\n",
       "       'obligaci_n_ambiental', 'obligaciones_postconsumo', 'reversion',\n",
       "       'valor_del_contrato', 'valor_de_pago_adelantado', 'valor_facturado',\n",
       "       'valor_pendiente_de_pago', 'valor_pagado', 'valor_amortizado',\n",
       "       'valor_pendiente_de', 'valor_pendiente_de_ejecucion', 'estado_bpin',\n",
       "       'c_digo_bpin', 'anno_bpin', 'saldo_cdp', 'saldo_vigencia',\n",
       "       'espostconflicto', 'urlproceso', 'destino_gasto',\n",
       "       'origen_de_los_recursos', 'dias_adicionados', 'puntos_del_acuerdo',\n",
       "       'pilares_del_acuerdo', 'nombre_representante_legal',\n",
       "       'nacionalidad_representante_legal',\n",
       "       'tipo_de_identificaci_n_representante_legal',\n",
       "       'identificaci_n_representante_legal', 'g_nero_representante_legal',\n",
       "       'presupuesto_general_de_la_nacion_pgn',\n",
       "       'sistema_general_de_participaciones', 'sistema_general_de_regal_as',\n",
       "       'recursos_propios_alcald_as_gobernaciones_y_resguardos_ind_genas_',\n",
       "       'recursos_de_credito', 'recursos_propios', 'ultima_actualizacion',\n",
       "       'codigo_entidad', 'fecha_inicio_liquidacion', 'fecha_fin_liquidacion',\n",
       "       'codigo_proveedor'],\n",
       "      dtype='object')"
      ]
     },
     "execution_count": 4,
     "metadata": {},
     "output_type": "execute_result"
    }
   ],
   "source": [
    "results_df.columns"
   ]
  },
  {
   "cell_type": "markdown",
   "metadata": {},
   "source": [
    "Para efectos de este ejercicio, no se tendran encuenta los contratos que esten suspendidos, en aprovación, borrador o enviado Proovedor. \\\n",
    "Además de que se usara las columnas de nombre de entidad, sector, estado del contrato, valor del contrato, tipo de contrato y localización."
   ]
  },
  {
   "cell_type": "code",
   "execution_count": 5,
   "metadata": {},
   "outputs": [],
   "source": [
    "query='''\n",
    "select nombre_entidad, sector, estado_contrato,orden, valor_del_contrato,tipo_de_contrato,localizaci_n\n",
    "where estado_contrato !='Suspendido' \n",
    "and estado_contrato !='En aprobación'\n",
    "and estado_contrato !='Borrador'\n",
    "and estado_contrato !='enviado Proovedor'\n",
    "limit 1500000\n",
    "'''\n",
    "\n",
    "\n",
    "results_2 = client.get(\"jbjy-vk9h\", query=query)\n",
    "results_df_2 = pd.DataFrame.from_records(results_2)"
   ]
  },
  {
   "cell_type": "markdown",
   "metadata": {},
   "source": [
    "## Preguntas a responder \n",
    "\n",
    "¿Cuáles son los ingresos por sector?\\\n",
    "¿Cuál es la ciudad que más contrata?\\\n",
    "¿Cuál es la entidad con más volumenes de contratación?"
   ]
  },
  {
   "cell_type": "code",
   "execution_count": 24,
   "metadata": {},
   "outputs": [
    {
     "data": {
      "text/html": [
       "<div>\n",
       "<style scoped>\n",
       "    .dataframe tbody tr th:only-of-type {\n",
       "        vertical-align: middle;\n",
       "    }\n",
       "\n",
       "    .dataframe tbody tr th {\n",
       "        vertical-align: top;\n",
       "    }\n",
       "\n",
       "    .dataframe thead th {\n",
       "        text-align: right;\n",
       "    }\n",
       "</style>\n",
       "<table border=\"1\" class=\"dataframe\">\n",
       "  <thead>\n",
       "    <tr style=\"text-align: right;\">\n",
       "      <th></th>\n",
       "      <th>nombre_entidad</th>\n",
       "      <th>sector</th>\n",
       "      <th>estado_contrato</th>\n",
       "      <th>orden</th>\n",
       "      <th>valor_del_contrato</th>\n",
       "      <th>tipo_de_contrato</th>\n",
       "      <th>localizaci_n</th>\n",
       "      <th>departamento</th>\n",
       "    </tr>\n",
       "  </thead>\n",
       "  <tbody>\n",
       "    <tr>\n",
       "      <th>0</th>\n",
       "      <td>SENA REGIONAL ANTIOQUIA Grupo Administrativo CRNR</td>\n",
       "      <td>Trabajo</td>\n",
       "      <td>terminado</td>\n",
       "      <td>Nacional</td>\n",
       "      <td>36962200</td>\n",
       "      <td>Prestación de servicios</td>\n",
       "      <td>Colombia,  Antioquia ,  Caldas</td>\n",
       "      <td>Antioquia</td>\n",
       "    </tr>\n",
       "    <tr>\n",
       "      <th>1</th>\n",
       "      <td>SUBRED INTEGRADA DE SERVICIOS DE SALUD SUR E.S.E</td>\n",
       "      <td>Salud y Protección Social</td>\n",
       "      <td>terminado</td>\n",
       "      <td>Territorial</td>\n",
       "      <td>3100000</td>\n",
       "      <td>Prestación de servicios</td>\n",
       "      <td>Colombia, Bogotá, Bogotá</td>\n",
       "      <td>Distrito Capital de Bogotá</td>\n",
       "    </tr>\n",
       "    <tr>\n",
       "      <th>2</th>\n",
       "      <td>MUNICIPIO DE SANTA ROSA DE CABAL</td>\n",
       "      <td>Servicio Público</td>\n",
       "      <td>En ejecución</td>\n",
       "      <td>Territorial</td>\n",
       "      <td>7572000</td>\n",
       "      <td>Prestación de servicios</td>\n",
       "      <td>Colombia,  Risaralda ,  Santa Rosa De Cabal</td>\n",
       "      <td>Risaralda</td>\n",
       "    </tr>\n",
       "    <tr>\n",
       "      <th>3</th>\n",
       "      <td>PARQUES NACIONALES NATURALES DE COLOMBIA - DIR...</td>\n",
       "      <td>Ambiente y Desarrollo Sostenible</td>\n",
       "      <td>En ejecución</td>\n",
       "      <td>Territorial</td>\n",
       "      <td>15000000</td>\n",
       "      <td>Prestación de servicios</td>\n",
       "      <td>Colombia,  Magdalena ,  Santa Marta</td>\n",
       "      <td>Magdalena</td>\n",
       "    </tr>\n",
       "    <tr>\n",
       "      <th>4</th>\n",
       "      <td>DIRECCION DE SANIDAD EJERCITO DISPENSARIO MÉDI...</td>\n",
       "      <td>defensa</td>\n",
       "      <td>Activo</td>\n",
       "      <td>Nacional</td>\n",
       "      <td>6121332</td>\n",
       "      <td>Prestación de servicios</td>\n",
       "      <td>Colombia, Bogotá, Bogotá</td>\n",
       "      <td>Distrito Capital de Bogotá</td>\n",
       "    </tr>\n",
       "  </tbody>\n",
       "</table>\n",
       "</div>"
      ],
      "text/plain": [
       "                                      nombre_entidad  \\\n",
       "0  SENA REGIONAL ANTIOQUIA Grupo Administrativo CRNR   \n",
       "1   SUBRED INTEGRADA DE SERVICIOS DE SALUD SUR E.S.E   \n",
       "2                   MUNICIPIO DE SANTA ROSA DE CABAL   \n",
       "3  PARQUES NACIONALES NATURALES DE COLOMBIA - DIR...   \n",
       "4  DIRECCION DE SANIDAD EJERCITO DISPENSARIO MÉDI...   \n",
       "\n",
       "                             sector estado_contrato        orden  \\\n",
       "0                           Trabajo       terminado     Nacional   \n",
       "1         Salud y Protección Social       terminado  Territorial   \n",
       "2                  Servicio Público    En ejecución  Territorial   \n",
       "3  Ambiente y Desarrollo Sostenible    En ejecución  Territorial   \n",
       "4                           defensa          Activo     Nacional   \n",
       "\n",
       "  valor_del_contrato         tipo_de_contrato  \\\n",
       "0           36962200  Prestación de servicios   \n",
       "1            3100000  Prestación de servicios   \n",
       "2            7572000  Prestación de servicios   \n",
       "3           15000000  Prestación de servicios   \n",
       "4            6121332  Prestación de servicios   \n",
       "\n",
       "                                  localizaci_n                departamento  \n",
       "0               Colombia,  Antioquia ,  Caldas                   Antioquia  \n",
       "1                     Colombia, Bogotá, Bogotá  Distrito Capital de Bogotá  \n",
       "2  Colombia,  Risaralda ,  Santa Rosa De Cabal                   Risaralda  \n",
       "3          Colombia,  Magdalena ,  Santa Marta                   Magdalena  \n",
       "4                     Colombia, Bogotá, Bogotá  Distrito Capital de Bogotá  "
      ]
     },
     "execution_count": 24,
     "metadata": {},
     "output_type": "execute_result"
    }
   ],
   "source": [
    "results_df_2.head()"
   ]
  },
  {
   "cell_type": "markdown",
   "metadata": {},
   "source": [
    "Dado que la columna Localizacion no tiene datos faltantes, es por medio de ella que obtendran los datos de departamento y de ciudad, como se ve en el siguiente codigo."
   ]
  },
  {
   "cell_type": "code",
   "execution_count": 77,
   "metadata": {},
   "outputs": [
    {
     "data": {
      "text/html": [
       "<div>\n",
       "<style scoped>\n",
       "    .dataframe tbody tr th:only-of-type {\n",
       "        vertical-align: middle;\n",
       "    }\n",
       "\n",
       "    .dataframe tbody tr th {\n",
       "        vertical-align: top;\n",
       "    }\n",
       "\n",
       "    .dataframe thead th {\n",
       "        text-align: right;\n",
       "    }\n",
       "</style>\n",
       "<table border=\"1\" class=\"dataframe\">\n",
       "  <thead>\n",
       "    <tr style=\"text-align: right;\">\n",
       "      <th></th>\n",
       "      <th>nombre_entidad</th>\n",
       "      <th>sector</th>\n",
       "      <th>estado_contrato</th>\n",
       "      <th>orden</th>\n",
       "      <th>valor_del_contrato</th>\n",
       "      <th>tipo_de_contrato</th>\n",
       "      <th>departamento</th>\n",
       "      <th>ciudad</th>\n",
       "    </tr>\n",
       "  </thead>\n",
       "  <tbody>\n",
       "    <tr>\n",
       "      <th>0</th>\n",
       "      <td>SENA REGIONAL ANTIOQUIA Grupo Administrativo CRNR</td>\n",
       "      <td>Trabajo</td>\n",
       "      <td>terminado</td>\n",
       "      <td>Nacional</td>\n",
       "      <td>36962200</td>\n",
       "      <td>Prestación de servicios</td>\n",
       "      <td>Antioquia</td>\n",
       "      <td>Caldas</td>\n",
       "    </tr>\n",
       "    <tr>\n",
       "      <th>1</th>\n",
       "      <td>SUBRED INTEGRADA DE SERVICIOS DE SALUD SUR E.S.E</td>\n",
       "      <td>Salud y Protección Social</td>\n",
       "      <td>terminado</td>\n",
       "      <td>Territorial</td>\n",
       "      <td>3100000</td>\n",
       "      <td>Prestación de servicios</td>\n",
       "      <td>Bogotá</td>\n",
       "      <td>Bogotá</td>\n",
       "    </tr>\n",
       "    <tr>\n",
       "      <th>2</th>\n",
       "      <td>MUNICIPIO DE SANTA ROSA DE CABAL</td>\n",
       "      <td>Servicio Público</td>\n",
       "      <td>En ejecución</td>\n",
       "      <td>Territorial</td>\n",
       "      <td>7572000</td>\n",
       "      <td>Prestación de servicios</td>\n",
       "      <td>Risaralda</td>\n",
       "      <td>Santa Rosa De Cabal</td>\n",
       "    </tr>\n",
       "    <tr>\n",
       "      <th>3</th>\n",
       "      <td>PARQUES NACIONALES NATURALES DE COLOMBIA - DIR...</td>\n",
       "      <td>Ambiente y Desarrollo Sostenible</td>\n",
       "      <td>En ejecución</td>\n",
       "      <td>Territorial</td>\n",
       "      <td>15000000</td>\n",
       "      <td>Prestación de servicios</td>\n",
       "      <td>Magdalena</td>\n",
       "      <td>Santa Marta</td>\n",
       "    </tr>\n",
       "    <tr>\n",
       "      <th>4</th>\n",
       "      <td>DIRECCION DE SANIDAD EJERCITO DISPENSARIO MÉDI...</td>\n",
       "      <td>defensa</td>\n",
       "      <td>Activo</td>\n",
       "      <td>Nacional</td>\n",
       "      <td>6121332</td>\n",
       "      <td>Prestación de servicios</td>\n",
       "      <td>Bogotá</td>\n",
       "      <td>Bogotá</td>\n",
       "    </tr>\n",
       "    <tr>\n",
       "      <th>5</th>\n",
       "      <td>SECRETARÍA DISTRITAL DE CULTURA  RECREACIÓN Y ...</td>\n",
       "      <td>Cultura</td>\n",
       "      <td>Modificado</td>\n",
       "      <td>Territorial</td>\n",
       "      <td>247500000</td>\n",
       "      <td>Prestación de servicios</td>\n",
       "      <td>Bogotá</td>\n",
       "      <td>Bogotá</td>\n",
       "    </tr>\n",
       "    <tr>\n",
       "      <th>6</th>\n",
       "      <td>POLICIA METROPOLITANA DE PEREIRA</td>\n",
       "      <td>defensa</td>\n",
       "      <td>Activo</td>\n",
       "      <td>Nacional</td>\n",
       "      <td>1479600</td>\n",
       "      <td>Arrendamiento de inmuebles</td>\n",
       "      <td>Risaralda</td>\n",
       "      <td>Pereira</td>\n",
       "    </tr>\n",
       "    <tr>\n",
       "      <th>7</th>\n",
       "      <td>Secretaria Distrital de Integración Social - O...</td>\n",
       "      <td>Inclusión Social y Reconciliación</td>\n",
       "      <td>En ejecución</td>\n",
       "      <td>Territorial</td>\n",
       "      <td>19098000</td>\n",
       "      <td>Prestación de servicios</td>\n",
       "      <td>Bogotá</td>\n",
       "      <td>Bogotá</td>\n",
       "    </tr>\n",
       "    <tr>\n",
       "      <th>8</th>\n",
       "      <td>INSTITUTO DISTRITAL DE RECREACIÓN Y DEPORTE</td>\n",
       "      <td>Cultura</td>\n",
       "      <td>Modificado</td>\n",
       "      <td>Territorial</td>\n",
       "      <td>14777744</td>\n",
       "      <td>Prestación de servicios</td>\n",
       "      <td>Bogotá</td>\n",
       "      <td>Bogotá</td>\n",
       "    </tr>\n",
       "    <tr>\n",
       "      <th>9</th>\n",
       "      <td>DANE -DIRECCIÓN TERRITORIAL CENTRO</td>\n",
       "      <td>Información Estadística</td>\n",
       "      <td>En ejecución</td>\n",
       "      <td>Nacional</td>\n",
       "      <td>18053748</td>\n",
       "      <td>Prestación de servicios</td>\n",
       "      <td>Bogotá</td>\n",
       "      <td>Bogotá</td>\n",
       "    </tr>\n",
       "  </tbody>\n",
       "</table>\n",
       "</div>"
      ],
      "text/plain": [
       "                                      nombre_entidad  \\\n",
       "0  SENA REGIONAL ANTIOQUIA Grupo Administrativo CRNR   \n",
       "1   SUBRED INTEGRADA DE SERVICIOS DE SALUD SUR E.S.E   \n",
       "2                   MUNICIPIO DE SANTA ROSA DE CABAL   \n",
       "3  PARQUES NACIONALES NATURALES DE COLOMBIA - DIR...   \n",
       "4  DIRECCION DE SANIDAD EJERCITO DISPENSARIO MÉDI...   \n",
       "5  SECRETARÍA DISTRITAL DE CULTURA  RECREACIÓN Y ...   \n",
       "6                   POLICIA METROPOLITANA DE PEREIRA   \n",
       "7  Secretaria Distrital de Integración Social - O...   \n",
       "8        INSTITUTO DISTRITAL DE RECREACIÓN Y DEPORTE   \n",
       "9                 DANE -DIRECCIÓN TERRITORIAL CENTRO   \n",
       "\n",
       "                              sector estado_contrato        orden  \\\n",
       "0                            Trabajo       terminado     Nacional   \n",
       "1          Salud y Protección Social       terminado  Territorial   \n",
       "2                   Servicio Público    En ejecución  Territorial   \n",
       "3   Ambiente y Desarrollo Sostenible    En ejecución  Territorial   \n",
       "4                            defensa          Activo     Nacional   \n",
       "5                            Cultura      Modificado  Territorial   \n",
       "6                            defensa          Activo     Nacional   \n",
       "7  Inclusión Social y Reconciliación    En ejecución  Territorial   \n",
       "8                            Cultura      Modificado  Territorial   \n",
       "9            Información Estadística    En ejecución     Nacional   \n",
       "\n",
       "   valor_del_contrato            tipo_de_contrato  departamento  \\\n",
       "0            36962200     Prestación de servicios    Antioquia    \n",
       "1             3100000     Prestación de servicios        Bogotá   \n",
       "2             7572000     Prestación de servicios    Risaralda    \n",
       "3            15000000     Prestación de servicios    Magdalena    \n",
       "4             6121332     Prestación de servicios        Bogotá   \n",
       "5           247500000     Prestación de servicios        Bogotá   \n",
       "6             1479600  Arrendamiento de inmuebles    Risaralda    \n",
       "7            19098000     Prestación de servicios        Bogotá   \n",
       "8            14777744     Prestación de servicios        Bogotá   \n",
       "9            18053748     Prestación de servicios        Bogotá   \n",
       "\n",
       "                  ciudad  \n",
       "0                 Caldas  \n",
       "1                 Bogotá  \n",
       "2    Santa Rosa De Cabal  \n",
       "3            Santa Marta  \n",
       "4                 Bogotá  \n",
       "5                 Bogotá  \n",
       "6                Pereira  \n",
       "7                 Bogotá  \n",
       "8                 Bogotá  \n",
       "9                 Bogotá  "
      ]
     },
     "execution_count": 77,
     "metadata": {},
     "output_type": "execute_result"
    }
   ],
   "source": [
    "name = results_df_2['localizaci_n'].str.split(',',expand=True)\n",
    "name.columns = ['pais', 'departamento','ciudad','ciudad_2']\n",
    "name=name.drop(['ciudad_2','pais'],axis=1)\n",
    "results_df_2 = pd.concat([results_df_2, name], axis=1)\n",
    "results_df_2=results_df_2.drop(['localizaci_n'],axis=1)\n",
    "results_df_2.head(10)"
   ]
  },
  {
   "cell_type": "code",
   "execution_count": null,
   "metadata": {},
   "outputs": [],
   "source": []
  },
  {
   "cell_type": "code",
   "execution_count": 40,
   "metadata": {},
   "outputs": [
    {
     "data": {
      "text/plain": [
       "166"
      ]
     },
     "execution_count": 40,
     "metadata": {},
     "output_type": "execute_result"
    }
   ],
   "source": [
    "len(results_df_2[results_df_2['g_nero_representante_legal']=='Otro'])"
   ]
  },
  {
   "cell_type": "code",
   "execution_count": 25,
   "metadata": {},
   "outputs": [
    {
     "data": {
      "text/plain": [
       "603524"
      ]
     },
     "execution_count": 25,
     "metadata": {},
     "output_type": "execute_result"
    }
   ],
   "source": [
    "len(results_df_2[results_df_2['departamento']!='Distrito Capital de Bogotá'])"
   ]
  },
  {
   "cell_type": "code",
   "execution_count": 9,
   "metadata": {},
   "outputs": [
    {
     "data": {
      "text/plain": [
       "(1225240, 7)"
      ]
     },
     "execution_count": 9,
     "metadata": {},
     "output_type": "execute_result"
    }
   ],
   "source": [
    "results_df_2.shape"
   ]
  },
  {
   "cell_type": "code",
   "execution_count": 42,
   "metadata": {},
   "outputs": [
    {
     "data": {
      "text/plain": [
       "array(['  Caldas', ' Bogotá', '  Santa Rosa De Cabal', '  Santa Marta',\n",
       "       '  Pereira', '  Medellín', '  Cali', '  Envigado', None,\n",
       "       '  Florencia', '  Barranquilla', '  Cúcuta',\n",
       "       '  Sabanas De San Angel', '  Yopal', '  Valledupar',\n",
       "       '  Candelaria', '  Mocoa', '  Vélez', '  Ibagué', '  Apartadó',\n",
       "       '  Riohacha', '  Sabanalarga', '  Tunja', ' Floridablanca',\n",
       "       '  Segovia', '  Sevilla', '  Cartagena', ' Cali', ' Nilo',\n",
       "       '  Villa Del Rosario', '  Copacabana', '  Popayán', '  Armenia',\n",
       "       '  Palmira', '  Pasto', '  Neiva', '  Bucaramanga',\n",
       "       '  Villavicencio', '  Quibdó', ' Manizales',\n",
       "       '  Guadalajara De Buga', '  Floridablanca', ' Medellín',\n",
       "       '  San Carlos', '  Soacha', '  Fusagasugá', '  Arauca', '  Chía',\n",
       "       ' Turbaco', '  Soledad', '  Yarumal', '  Manizales', '  Sincelejo',\n",
       "       '  Sibaté', '  Girardot', '  Madrid', '  Barrancabermeja',\n",
       "       '  Achí', '  La Virginia', '  San Gil', ' Cúcuta', '  Rionegro',\n",
       "       '  Girón', '  Hispania', ' Leticia', '  Caicedonia', '  Duitama',\n",
       "       '  Zipaquirá', '  El Santuario', '  Piedecuesta', ' Sogamoso',\n",
       "       '  Guarne', '  Espinal', ' Corozal', ' Bucaramanga', ' Armenia',\n",
       "       ' Pereira', '  Facatativá', '  Villeta', '  Saravena', '  Acacías',\n",
       "       '  Puerto Triunfo', '  Villamaría', ' Solano', '  La Dorada',\n",
       "       ' Puerto Carreño', '  Puerto Asís', ' Popayán',\n",
       "       ' Providencia y Santa Catalina ', ' Ibagué', '  Funza',\n",
       "       '  Sabaneta', ' Sincelejo', '  Tuluá', '  Montería', ' Riohacha',\n",
       "       '  Garagoa', '  Galapa', '  Calarca', ' Villavicencio', '  Itagui',\n",
       "       '  San José Del Guaviare', '  Inírida', '  Dagua',\n",
       "       ' Providencia y Santa Catalina', '  Bello', '  Buenaventura',\n",
       "       '  Granada', '  Nilo', '  Carolina', '  Tierralta', '  Girardota',\n",
       "       '  Puerto Boyacá', '  Puerto Salgar', '  La Tebaida',\n",
       "       '  Chiquinquirá', '  Sogamoso', '  Mosquera', '  Cajicá',\n",
       "       '  Retiro', '  Chigorodó', '  Jamundí', '  Pamplona', ' Florencia',\n",
       "       '  Santafé De Antioquia', '  Leguízamo', '  Dosquebradas',\n",
       "       '  Don Matías', '  La Plata', '  Murindó', ' Soledad',\n",
       "       '  La Estrella', '  Tumaco', '  Ciudad Bolívar', '  San Francisco',\n",
       "       '  Ipiales', '  La Ceja', '  Cota', '  Puerto Carreño',\n",
       "       '  Paratebueno', '  Socorro', '  Málaga', '  Sopetrán',\n",
       "       '  Montenegro', ' Rionegro', '  Gachetá', '  Turbaco', '  Guacarí',\n",
       "       '  Risaralda', '  El Cerrito', '  Garzón', '  Líbano',\n",
       "       '  San Benito', '  Cartago', '  Caucasia', '  Lenguazaque',\n",
       "       '  Córdoba', '  Turmequé', '  Herveo', '  La Jagua De Ibirico',\n",
       "       '  Aguadas', '  La Pintada', '  Los Patios', '  Corinto',\n",
       "       '  Galeras', '  Coveñas', '  Flandes', '  Melgar', '  Pradera',\n",
       "       '  Filadelfia', '  Guaduas', '  Pitalito', '  Amagá',\n",
       "       '  Campoalegre', '  Támesis', '  Moniquirá', '  Patía',\n",
       "       '  El Bagre', ' San José Del Guaviare', '  Ricaurte', '  Honda',\n",
       "       '  Rivera', '  Villa De San Diego De Ubate', '  Magangué',\n",
       "       '  Tocancipá', '  Ramiriquí', '  Turbo', '  Ocaña', '  La Unión',\n",
       "       '  Andes', ' Pensilvania', '  Malambo', '  Sácama', '  Fresno',\n",
       "       '  Iza', '  Aguachica', '  Anolaima', '  Puerto Berrío',\n",
       "       '  Sotaquirá', '  Mariquita', '  Cumaral', '  Silvia',\n",
       "       '  Marinilla', '  Valparaíso', '  Venecia', '  Santa Rosa De Osos',\n",
       "       '  Gachala', '  Peñol', '  Jardín', '  San Jerónimo', '  Becerril',\n",
       "       ' Andalucía', '  Villa De Leyva', '  Santa Rosa De Viterbo',\n",
       "       '  Guatape', '  San Antonio Del Tequendama',\n",
       "       ' San José De La Montaña', '  El Colegio', '  Yondó', '  Carepa',\n",
       "       '  Circasia', '  Belén', '  Ciénaga', '  Sativanorte',\n",
       "       '  Quimbaya', '  Filandia', '  Barbosa', ' Arauca', '  Tello',\n",
       "       ' Ipiales', '  Yumbo', '  Guayatá', ' Apartadó', '  El Banco',\n",
       "       '  Macanal', '  Puerto Rico', '  Convención', '  Solano',\n",
       "       '  Uribia', '  Sáchica', '  Santander De Quilichao',\n",
       "       '  Roldanillo', ' Tame', '  Nuevo Colón', '  Boyacá',\n",
       "       '  Paz De Ariporo', '  San Rafael', '  El Carmen De Viboral',\n",
       "       '  Turbaná', ' La Plata', '  Nocaima', '  Cachirá', '  Chaparral',\n",
       "       '  Chocontá', '  Sopó', '  La Calera', '  Cisneros', '  Palermo',\n",
       "       '  Pandi', '  Mitú', '  Cabrera', '  Santo Domingo', '  Sonson',\n",
       "       '  Túquerres', '  Tenjo', '  Santa Bárbara De Pinto',\n",
       "       ' Barranquilla', '  Caicedo', '  Puerto Tejada', '  Puerto López',\n",
       "       '  Puente Nacional', '  Gómez Plata', '  San Estanislao',\n",
       "       '  La Montañita', ' Marinilla', '  Berbeo', '  Tutazá',\n",
       "       '  La Salina', '  La Mesa', '  Tena', '  Zaragoza', '  Mahates',\n",
       "       '  Simacota', '  Istmina', '  Tocaima', '  Guateque', '  La Uvita',\n",
       "       '  Chita', '  Bolívar', '  Saboyá', '  San Eduardo', '  Gama',\n",
       "       '  Arjona', '  La Paz', '  Teorama', '  Riosucio', '  Guamo',\n",
       "       '  Buenos Aires', '  Socha', '  Pesca', '  San Juan Nepomuceno',\n",
       "       '  Paicol', '  Jericó', '  Guayabetal', '  Tibirita',\n",
       "       '  Palestina', '  Salamina', '  Purificación', '  Corozal',\n",
       "       '  Ubalá', '  Soatá', '  Gameza', '  Chíquiza', '  Otanche',\n",
       "       '  Abejorral', '  Pachavita', ' San Pedro', '  Oiba', '  Arbeláez',\n",
       "       '  Isnos', '  Baranoa', '  La Playa', '  Iquira', '  Cuítiva',\n",
       "       '  Caqueza', '  Cómbita', '  Pauna', '  Samaná', '  Paya',\n",
       "       '  Gachantivá', '  Campohermoso', '  Cogua', '  Socotá',\n",
       "       '  Villagarzón', '  Tibasosa', '  Cuaspud', '  Restrepo',\n",
       "       '  Sativasur', '  Samacá', '  Zetaquira', '  Tausa', '  Sutatenza',\n",
       "       ' Santa Marta', '  Macheta', '  Pácora', '  El Carmen De Bolívar',\n",
       "       '  Neira', '  Santa Rosa Del Sur', '  Covarachía',\n",
       "       '  San José Del Fragua', '  Maicao', ' Necoclí', '  Miraflores',\n",
       "       '  Astrea', '  Timbío', '  Juan De Acosta', ' Ciénega',\n",
       "       '  Zipacón', '  Manta', '  San Alberto', '  Acevedo', '  Supatá',\n",
       "       '  Viracachá', '  Curillo', '  Pore', '  Maripí', '  Los Santos',\n",
       "       '  Oporapa', '  Zarzal', '  Nobsa', '  Río De Oro',\n",
       "       '  Cartagena Del Chairá', '  Suaita', '  Chipatá',\n",
       "       '  La Primavera', '  San Pablo De Borbur', '  Topaipí',\n",
       "       '  Almeida', '  San Jacinto', ' Cartago', '  Juradó',\n",
       "       '  Entrerrios', '  Quípama', '  San Pedro', ' Altamira',\n",
       "       '  Motavita', '  Villagómez', '  San Vicente Del Caguán',\n",
       "       '  Dibulla', '  Tota', '  Ebéjico', '  Muzo', '  Peque',\n",
       "       '  Cantagallo', '  Santa Rosa', '  Guamal', '  Maní',\n",
       "       '  Saladoblanco', '  Pacho', '  San Agustín', '  Venadillo',\n",
       "       '  Santa María', '  Titiribí', '  Güepsa', ' San Calixto',\n",
       "       '  Caparrapí', '  Tenza', '  Cáceres', '  Pijao', '  Ambalema',\n",
       "       '  Villahermosa', '  Tauramena', '  Morales', '  Orito',\n",
       "       '  Piendamó', '  Chinavita', '  Tinjacá', '  Murillo', '  Aipe',\n",
       "       '  Corrales', '  La Palma', '  Buenavista', '  Floresta', '  Tuta',\n",
       "       '  Hobo', '  La Vega', '  Plato', '  Albania',\n",
       "       '  San Juan De Río Seco', '  Manzanares', '  Oicatá', '  Gambita',\n",
       "       '  Susacón', '  Togüí', '  Suárez', '  Mallama', '  Boavita',\n",
       "       '  Sora', '  Colón', '  Rondón', '  Baraya', '  Aguazul',\n",
       "       '  Chimichagua', '  Cerinza', '  Paz De Río', '  Aquitania',\n",
       "       '  Confines', '  La Argentina', '  Aratoca', '  Pisba',\n",
       "       '  Sampués', '  Monterrey', '  Gachancipá', '  Génova',\n",
       "       '  Luruaco', '  Elías', '  Villapinzón', '  Jenesano', '  Chivor',\n",
       "       '  Valdivia', '  Morelia', '  Calamar', '  Saldaña',\n",
       "       '  Sutamarchán', '  Villanueva', '  Tasco', '  Ventaquemada',\n",
       "       '  San Martín', '  San José De Pare', '  Cucaita', '  Lérida',\n",
       "       '  Milán', '  El Paso', '  Timaná', '  Siachoque', '  El Carmen',\n",
       "       '  San Vicente De Chucurí', '  Vetas', '  Tópaga', '  Chinácota',\n",
       "       '  Güicán', '  El Copey', '  Zapatoca', '  Arroyohondo',\n",
       "       '  El Cocuy', '  Solita', '  Guachetá', '  Distracción',\n",
       "       '  Briceño', '  Sesquilé', '  Fonseca', '  Ginebra',\n",
       "       '  Los Palmitos', '  Tabio', '  Rosas', '  Belén De Los Andaquies',\n",
       "       '  Umbita', '  La Florida', '  El Guamo', '  Ráquira',\n",
       "       '  San Diego', '  Chitaraque', '  Aranzazu', '  Santa Bárbara',\n",
       "       '  Victoria', '  Cucunubá', '  Sutatausa', '  Tarqui',\n",
       "       '  El Roble', '  Pueblorrico', '  Clemencia',\n",
       "       '  San Miguel De Sema', '  Pivijay', '  Ituango', '  San Luis',\n",
       "       '  Lejanías', '  Manaure', '  Coper', '  Rovira', '  Tununguá',\n",
       "       '  Simijaca', '  Condoto', '  Tarazá', '  Suaza', '  Chivatá',\n",
       "       '  Arauquita', '  Sucre', '  Yaguará', '  Zambrano', '  Somondoco',\n",
       "       '  Apía', '  Barbacoas', '  Tona', '  Susa', '  Talaigua Nuevo',\n",
       "       '  Hato', '  San José', '  Gigante', '  La Victoria', '  El Rosal',\n",
       "       '  Paime', ' Betéitiva', '  Cabuyaro', '  Tame', '  Totoró',\n",
       "       '  Chalán', '  Anserma', '  Nariño', '  Onzaga', '  Tibú',\n",
       "       '  Trujillo', '  Guapi', '  Nunchía', '  Guayabal De Siquima',\n",
       "       '  San Miguel', '  Guatavita', '  Pasca', '  Repelón',\n",
       "       '  Palocabildo', '  Frontino', '  Gramalote', '  Pajarito',\n",
       "       '  Silvania', '  Argelia', '  San José De La Montaña', ' Tunja',\n",
       "       '  Betania', '  Santa Sofía', '  Contadero', '  San Marcos',\n",
       "       '  Zona Bananera', '  Tangua', ' San Mateo', '  Hacarí',\n",
       "       '  San Zenón', '  Puerto Nare', '  Cerrito'], dtype=object)"
      ]
     },
     "execution_count": 42,
     "metadata": {},
     "output_type": "execute_result"
    }
   ],
   "source": [
    "results_df_2['ciudad'].unique()"
   ]
  },
  {
   "cell_type": "code",
   "execution_count": 43,
   "metadata": {},
   "outputs": [
    {
     "data": {
      "text/plain": [
       "array(['  Antioquia ', ' Bogotá', '  Risaralda ', '  Magdalena ',\n",
       "       '  Valle del Cauca ', '  Atlántico', '  Putumayo',\n",
       "       '  Cundinamarca', '  Caquetá ', '  Atlántico ',\n",
       "       '  Norte de Santander ', '  Santander', '  Casanare ', '  Cesar ',\n",
       "       '  Putumayo ', '  Santander ', '  Tolima ', '  Tolima',\n",
       "       '  Córdoba', '  La Guajira ', None, '  Boyacá ', ' Santander',\n",
       "       '  Meta', '  Bolívar ', ' Valle del Cauca', ' Cundinamarca',\n",
       "       '  Cauca ', '  Quindío ', '  Caldas', '  Nariño ', '  Huila ',\n",
       "       '  Antioquia', '  Meta ', '  Chocó ', ' Caldas', '  Caquetá',\n",
       "       '  Cesar', '  Norte de Santander', ' Antioquia', '  Cundinamarca ',\n",
       "       '  Huila', '  Arauca ', '  La Guajira', ' Bolívar',\n",
       "       '  Valle del Cauca', '  Vichada', '  Caldas ', '  Sucre ',\n",
       "       '  Boyacá', ' Norte de Santander', '  Chocó',\n",
       "       ' Departamento del Amazonas ', '  Cauca', '  Casanare', ' Boyacá',\n",
       "       ' Sucre', '  Quindío', '  Vaupés', ' Quindío', ' Risaralda',\n",
       "       ' Caquetá', ' Vichada', ' Cauca', '  San Andrés', ' Tolima',\n",
       "       '  Nariño', '  Córdoba ', '  Bolívar', ' La Guajira', ' Meta',\n",
       "       '  Guaviare ', ' No Definido', ' San Andrés', '  Arauca',\n",
       "       ' Atlántico', '  Vichada ', '  Risaralda', ' Guaviare', '  Sucre',\n",
       "       '  Magdalena', ' Arauca', ' Nariño', ' Huila', '  Guaviare',\n",
       "       '  Vaupés ', ' Magdalena'], dtype=object)"
      ]
     },
     "execution_count": 43,
     "metadata": {},
     "output_type": "execute_result"
    }
   ],
   "source": [
    "results_df_2['departamento'].unique()"
   ]
  },
  {
   "cell_type": "code",
   "execution_count": 12,
   "metadata": {},
   "outputs": [
    {
     "data": {
      "text/plain": [
       "array(['Nacional', 'Territorial', 'Corporación Autónoma'], dtype=object)"
      ]
     },
     "execution_count": 12,
     "metadata": {},
     "output_type": "execute_result"
    }
   ],
   "source": [
    "results_df_2['orden'].unique()"
   ]
  },
  {
   "cell_type": "code",
   "execution_count": 15,
   "metadata": {},
   "outputs": [
    {
     "data": {
      "text/plain": [
       "array(['Trabajo', 'Salud y Protección Social', 'Servicio Público',\n",
       "       'Ambiente y Desarrollo Sostenible', 'defensa', 'Cultura',\n",
       "       'Inclusión Social y Reconciliación', 'Información Estadística',\n",
       "       'Hacienda y Crédito Público', 'Transporte',\n",
       "       'No aplica/No pertenece', 'deportes', 'Minas y Energía',\n",
       "       'Planeación', 'Vivienda, Ciudad y Territorio', 'agricultura',\n",
       "       'Educación Nacional', 'Ley de Justicia', 'Industria',\n",
       "       'Tecnologías de la Información y las Comunicaciones',\n",
       "       'Ciencia Tecnología', 'interior', 'Presidencia de la República',\n",
       "       'Inteligencia Estratégica y Contrainteligencia',\n",
       "       'Relaciones Exteriores'], dtype=object)"
      ]
     },
     "execution_count": 15,
     "metadata": {},
     "output_type": "execute_result"
    }
   ],
   "source": [
    "results_df_2['sector'].unique()"
   ]
  },
  {
   "cell_type": "code",
   "execution_count": 16,
   "metadata": {},
   "outputs": [],
   "source": [
    "import numpy as np\n",
    "#import dataprep.eda as dp\n",
    "import matplotlib.pyplot as plt\n",
    "import seaborn as sns\n",
    "\n",
    "import scipy.stats as ss\n",
    "import plotly.express as px\n",
    "import plotly.graph_objects as go\n",
    "from ipywidgets import interact, Layout\n",
    "import ipywidgets as widgets"
   ]
  },
  {
   "cell_type": "code",
   "execution_count": 20,
   "metadata": {},
   "outputs": [],
   "source": [
    "results_df_2['valor_del_contrato']= results_df_2['valor_del_contrato'].astype('int64')"
   ]
  },
  {
   "cell_type": "code",
   "execution_count": 21,
   "metadata": {},
   "outputs": [
    {
     "data": {
      "text/plain": [
       "nombre_entidad        object\n",
       "sector                object\n",
       "estado_contrato       object\n",
       "orden                 object\n",
       "valor_del_contrato     int64\n",
       "tipo_de_contrato      object\n",
       "localizaci_n          object\n",
       "dtype: object"
      ]
     },
     "execution_count": 21,
     "metadata": {},
     "output_type": "execute_result"
    }
   ],
   "source": [
    "results_df_2.dtypes"
   ]
  },
  {
   "cell_type": "code",
   "execution_count": 56,
   "metadata": {},
   "outputs": [
    {
     "data": {
      "text/html": [
       "<div>\n",
       "<style scoped>\n",
       "    .dataframe tbody tr th:only-of-type {\n",
       "        vertical-align: middle;\n",
       "    }\n",
       "\n",
       "    .dataframe tbody tr th {\n",
       "        vertical-align: top;\n",
       "    }\n",
       "\n",
       "    .dataframe thead th {\n",
       "        text-align: right;\n",
       "    }\n",
       "</style>\n",
       "<table border=\"1\" class=\"dataframe\">\n",
       "  <thead>\n",
       "    <tr style=\"text-align: right;\">\n",
       "      <th></th>\n",
       "      <th>sector</th>\n",
       "      <th>valor_del_contrato</th>\n",
       "    </tr>\n",
       "  </thead>\n",
       "  <tbody>\n",
       "    <tr>\n",
       "      <th>0</th>\n",
       "      <td>Ambiente y Desarrollo Sostenible</td>\n",
       "      <td>9699828758112</td>\n",
       "    </tr>\n",
       "    <tr>\n",
       "      <th>1</th>\n",
       "      <td>Ciencia Tecnología</td>\n",
       "      <td>403820739540</td>\n",
       "    </tr>\n",
       "    <tr>\n",
       "      <th>2</th>\n",
       "      <td>Cultura</td>\n",
       "      <td>3284702551421</td>\n",
       "    </tr>\n",
       "    <tr>\n",
       "      <th>3</th>\n",
       "      <td>Educación Nacional</td>\n",
       "      <td>9016464807449</td>\n",
       "    </tr>\n",
       "    <tr>\n",
       "      <th>4</th>\n",
       "      <td>Hacienda y Crédito Público</td>\n",
       "      <td>6021635575507</td>\n",
       "    </tr>\n",
       "    <tr>\n",
       "      <th>5</th>\n",
       "      <td>Inclusión Social y Reconciliación</td>\n",
       "      <td>7235116874801</td>\n",
       "    </tr>\n",
       "    <tr>\n",
       "      <th>6</th>\n",
       "      <td>Industria</td>\n",
       "      <td>4328564733077</td>\n",
       "    </tr>\n",
       "    <tr>\n",
       "      <th>7</th>\n",
       "      <td>Información Estadística</td>\n",
       "      <td>844738843763</td>\n",
       "    </tr>\n",
       "    <tr>\n",
       "      <th>8</th>\n",
       "      <td>Inteligencia Estratégica y Contrainteligencia</td>\n",
       "      <td>30108593943</td>\n",
       "    </tr>\n",
       "    <tr>\n",
       "      <th>9</th>\n",
       "      <td>Ley de Justicia</td>\n",
       "      <td>4843147709432</td>\n",
       "    </tr>\n",
       "  </tbody>\n",
       "</table>\n",
       "</div>"
      ],
      "text/plain": [
       "                                          sector  valor_del_contrato\n",
       "0               Ambiente y Desarrollo Sostenible       9699828758112\n",
       "1                             Ciencia Tecnología        403820739540\n",
       "2                                        Cultura       3284702551421\n",
       "3                             Educación Nacional       9016464807449\n",
       "4                     Hacienda y Crédito Público       6021635575507\n",
       "5              Inclusión Social y Reconciliación       7235116874801\n",
       "6                                      Industria       4328564733077\n",
       "7                        Información Estadística        844738843763\n",
       "8  Inteligencia Estratégica y Contrainteligencia         30108593943\n",
       "9                                Ley de Justicia       4843147709432"
      ]
     },
     "execution_count": 56,
     "metadata": {},
     "output_type": "execute_result"
    }
   ],
   "source": [
    "a=results_df_2[['sector', 'valor_del_contrato']].groupby(['sector']).sum()\n",
    "a=a.reset_index()\n",
    "a.head(10)"
   ]
  },
  {
   "cell_type": "code",
   "execution_count": 64,
   "metadata": {},
   "outputs": [
    {
     "data": {
      "image/png": "[encoded data removed]",
      "text/plain": [
       "<Figure size 432x288 with 1 Axes>"
      ]
     },
     "metadata": {},
     "output_type": "display_data"
    }
   ],
   "source": [
    "from matplotlib import cm\n",
    "\n",
    "\n",
    "labels = a.sector\n",
    "data = a.valor_del_contrato\n",
    "#number of data points\n",
    "n = len(a.valor_del_contrato)\n",
    "#find max value for full ring\n",
    "k = 10 ** int(np.log10(max(a.valor_del_contrato)))\n",
    "m = k * (1 + max(a.valor_del_contrato) // k)\n",
    "\n",
    "#radius of donut chart\n",
    "r = 2\n",
    "#calculate width of each ring\n",
    "w = r / n \n",
    "\n",
    "\n",
    "colors = [cm.terrain(i / n) for i in range(n)]\n",
    "\n",
    "#create figure, axis\n",
    "fig, ax = plt.subplots()\n",
    "ax.axis(\"equal\")\n",
    "\n",
    "#create rings of donut chart\n",
    "for i in range(n):\n",
    "    #hide labels in segments with textprops: alpha = 0 - transparent, alpha = 1 - visible\n",
    "    innerring, _ = ax.pie([m - data[i], data[i]], radius = r - i * w, startangle = 90, labels = [\"\", labels[i]], labeldistance = 1 - 1 / (1.5 * (n - i)), textprops = {\"alpha\": 0}\n",
    "                          , colors = [\"white\", colors[i]])\n",
    "    plt.setp(innerring, width = w, edgecolor = \"black\")\n",
    "#plt.figure(figsize=(20,20))\n",
    "plt.legend(loc=\"upper left\", bbox_to_anchor=(0.9,0.75))\n",
    "plt.show()"
   ]
  },
  {
   "cell_type": "code",
   "execution_count": 39,
   "metadata": {},
   "outputs": [],
   "source": []
  },
  {
   "cell_type": "markdown",
   "metadata": {},
   "source": [
    "Dado que el interior es el sector con mayor presupuesto se procede a eliminarlo dado que no permite realizar una comparacion desagregada con los demas sectores, por ello el siguiente grafico se presenta sin la incidencia de este sector."
   ]
  },
  {
   "cell_type": "code",
   "execution_count": 65,
   "metadata": {},
   "outputs": [
    {
     "data": {
      "text/html": [
       "<div>\n",
       "<style scoped>\n",
       "    .dataframe tbody tr th:only-of-type {\n",
       "        vertical-align: middle;\n",
       "    }\n",
       "\n",
       "    .dataframe tbody tr th {\n",
       "        vertical-align: top;\n",
       "    }\n",
       "\n",
       "    .dataframe thead th {\n",
       "        text-align: right;\n",
       "    }\n",
       "</style>\n",
       "<table border=\"1\" class=\"dataframe\">\n",
       "  <thead>\n",
       "    <tr style=\"text-align: right;\">\n",
       "      <th></th>\n",
       "      <th>sector</th>\n",
       "      <th>valor_del_contrato</th>\n",
       "    </tr>\n",
       "  </thead>\n",
       "  <tbody>\n",
       "    <tr>\n",
       "      <th>0</th>\n",
       "      <td>Ambiente y Desarrollo Sostenible</td>\n",
       "      <td>9699828758112</td>\n",
       "    </tr>\n",
       "    <tr>\n",
       "      <th>1</th>\n",
       "      <td>Ciencia Tecnología</td>\n",
       "      <td>403820739540</td>\n",
       "    </tr>\n",
       "    <tr>\n",
       "      <th>2</th>\n",
       "      <td>Cultura</td>\n",
       "      <td>3284702551421</td>\n",
       "    </tr>\n",
       "    <tr>\n",
       "      <th>3</th>\n",
       "      <td>Educación Nacional</td>\n",
       "      <td>9016464807449</td>\n",
       "    </tr>\n",
       "    <tr>\n",
       "      <th>4</th>\n",
       "      <td>Hacienda y Crédito Público</td>\n",
       "      <td>6021635575507</td>\n",
       "    </tr>\n",
       "    <tr>\n",
       "      <th>5</th>\n",
       "      <td>Inclusión Social y Reconciliación</td>\n",
       "      <td>7235116874801</td>\n",
       "    </tr>\n",
       "    <tr>\n",
       "      <th>6</th>\n",
       "      <td>Industria</td>\n",
       "      <td>4328564733077</td>\n",
       "    </tr>\n",
       "    <tr>\n",
       "      <th>7</th>\n",
       "      <td>Información Estadística</td>\n",
       "      <td>844738843763</td>\n",
       "    </tr>\n",
       "    <tr>\n",
       "      <th>8</th>\n",
       "      <td>Inteligencia Estratégica y Contrainteligencia</td>\n",
       "      <td>30108593943</td>\n",
       "    </tr>\n",
       "    <tr>\n",
       "      <th>9</th>\n",
       "      <td>Ley de Justicia</td>\n",
       "      <td>4843147709432</td>\n",
       "    </tr>\n",
       "    <tr>\n",
       "      <th>10</th>\n",
       "      <td>Minas y Energía</td>\n",
       "      <td>4204394514006</td>\n",
       "    </tr>\n",
       "    <tr>\n",
       "      <th>11</th>\n",
       "      <td>No aplica/No pertenece</td>\n",
       "      <td>23226373836872</td>\n",
       "    </tr>\n",
       "    <tr>\n",
       "      <th>12</th>\n",
       "      <td>Planeación</td>\n",
       "      <td>14163860130204</td>\n",
       "    </tr>\n",
       "    <tr>\n",
       "      <th>13</th>\n",
       "      <td>Presidencia de la República</td>\n",
       "      <td>1030429069350</td>\n",
       "    </tr>\n",
       "    <tr>\n",
       "      <th>14</th>\n",
       "      <td>Relaciones Exteriores</td>\n",
       "      <td>682279740020</td>\n",
       "    </tr>\n",
       "    <tr>\n",
       "      <th>15</th>\n",
       "      <td>Salud y Protección Social</td>\n",
       "      <td>46233508347490</td>\n",
       "    </tr>\n",
       "    <tr>\n",
       "      <th>16</th>\n",
       "      <td>Servicio Público</td>\n",
       "      <td>29168544030453</td>\n",
       "    </tr>\n",
       "    <tr>\n",
       "      <th>17</th>\n",
       "      <td>Tecnologías de la Información y las Comunicaci...</td>\n",
       "      <td>7641795737679</td>\n",
       "    </tr>\n",
       "    <tr>\n",
       "      <th>18</th>\n",
       "      <td>Trabajo</td>\n",
       "      <td>5832050644311</td>\n",
       "    </tr>\n",
       "    <tr>\n",
       "      <th>19</th>\n",
       "      <td>Transporte</td>\n",
       "      <td>28840292607268</td>\n",
       "    </tr>\n",
       "    <tr>\n",
       "      <th>20</th>\n",
       "      <td>Vivienda, Ciudad y Territorio</td>\n",
       "      <td>3167544334337</td>\n",
       "    </tr>\n",
       "    <tr>\n",
       "      <th>21</th>\n",
       "      <td>agricultura</td>\n",
       "      <td>3594120388778</td>\n",
       "    </tr>\n",
       "    <tr>\n",
       "      <th>22</th>\n",
       "      <td>defensa</td>\n",
       "      <td>24104006608402</td>\n",
       "    </tr>\n",
       "    <tr>\n",
       "      <th>23</th>\n",
       "      <td>deportes</td>\n",
       "      <td>2569090359011</td>\n",
       "    </tr>\n",
       "  </tbody>\n",
       "</table>\n",
       "</div>"
      ],
      "text/plain": [
       "                                               sector  valor_del_contrato\n",
       "0                    Ambiente y Desarrollo Sostenible       9699828758112\n",
       "1                                  Ciencia Tecnología        403820739540\n",
       "2                                             Cultura       3284702551421\n",
       "3                                  Educación Nacional       9016464807449\n",
       "4                          Hacienda y Crédito Público       6021635575507\n",
       "5                   Inclusión Social y Reconciliación       7235116874801\n",
       "6                                           Industria       4328564733077\n",
       "7                             Información Estadística        844738843763\n",
       "8       Inteligencia Estratégica y Contrainteligencia         30108593943\n",
       "9                                     Ley de Justicia       4843147709432\n",
       "10                                    Minas y Energía       4204394514006\n",
       "11                             No aplica/No pertenece      23226373836872\n",
       "12                                         Planeación      14163860130204\n",
       "13                        Presidencia de la República       1030429069350\n",
       "14                              Relaciones Exteriores        682279740020\n",
       "15                          Salud y Protección Social      46233508347490\n",
       "16                                   Servicio Público      29168544030453\n",
       "17  Tecnologías de la Información y las Comunicaci...       7641795737679\n",
       "18                                            Trabajo       5832050644311\n",
       "19                                         Transporte      28840292607268\n",
       "20                      Vivienda, Ciudad y Territorio       3167544334337\n",
       "21                                        agricultura       3594120388778\n",
       "22                                            defensa      24104006608402\n",
       "23                                           deportes       2569090359011"
      ]
     },
     "execution_count": 65,
     "metadata": {},
     "output_type": "execute_result"
    }
   ],
   "source": [
    "fg=a[a['sector']=='interior'].index\n",
    "a=a.drop(fg)\n",
    "a"
   ]
  },
  {
   "cell_type": "code",
   "execution_count": 66,
   "metadata": {},
   "outputs": [
    {
     "data": {
      "application/vnd.plotly.v1+json": {
       "config": {
        "plotlyServerURL": "https://plot.ly"
       },
       "data": [
        {
         "branchvalues": "total",
         "domain": {
          "x": [
           0,
           1
          ],
          "y": [
           0,
           1
          ]
         },
         "hovertemplate": "labels=%{label}<br>valor_del_contrato=%{value}<br>parent=%{parent}<br>id=%{id}<extra></extra>",
         "ids": [
          "Inteligencia Estratégica y Contrainteligencia/30108593943",
          "Ciencia Tecnología/403820739540",
          "Relaciones Exteriores/682279740020",
          "Información Estadística/844738843763",
          "Presidencia de la República/1030429069350",
          "deportes/2569090359011",
          "Vivienda, Ciudad y Territorio/3167544334337",
          "Cultura/3284702551421",
          "agricultura/3594120388778",
          "Minas y Energía/4204394514006",
          "Industria/4328564733077",
          "Ley de Justicia/4843147709432",
          "Trabajo/5832050644311",
          "Hacienda y Crédito Público/6021635575507",
          "Inclusión Social y Reconciliación/7235116874801",
          "Tecnologías de la Información y las Comunicaciones/7641795737679",
          "Educación Nacional/9016464807449",
          "Ambiente y Desarrollo Sostenible/9699828758112",
          "Planeación/14163860130204",
          "No aplica/No pertenece/23226373836872",
          "defensa/24104006608402",
          "Transporte/28840292607268",
          "Servicio Público/29168544030453",
          "Salud y Protección Social/46233508347490",
          "Ambiente y Desarrollo Sostenible",
          "Ciencia Tecnología",
          "Cultura",
          "Educación Nacional",
          "Hacienda y Crédito Público",
          "Inclusión Social y Reconciliación",
          "Industria",
          "Información Estadística",
          "Inteligencia Estratégica y Contrainteligencia",
          "Ley de Justicia",
          "Minas y Energía",
          "No aplica/No pertenece",
          "Planeación",
          "Presidencia de la República",
          "Relaciones Exteriores",
          "Salud y Protección Social",
          "Servicio Público",
          "Tecnologías de la Información y las Comunicaciones",
          "Trabajo",
          "Transporte",
          "Vivienda, Ciudad y Territorio",
          "agricultura",
          "defensa",
          "deportes"
         ],
         "labels": [
          "30108593943",
          "403820739540",
          "682279740020",
          "844738843763",
          "1030429069350",
          "2569090359011",
          "3167544334337",
          "3284702551421",
          "3594120388778",
          "4204394514006",
          "4328564733077",
          "4843147709432",
          "5832050644311",
          "6021635575507",
          "7235116874801",
          "7641795737679",
          "9016464807449",
          "9699828758112",
          "14163860130204",
          "23226373836872",
          "24104006608402",
          "28840292607268",
          "29168544030453",
          "46233508347490",
          "Ambiente y Desarrollo Sostenible",
          "Ciencia Tecnología",
          "Cultura",
          "Educación Nacional",
          "Hacienda y Crédito Público",
          "Inclusión Social y Reconciliación",
          "Industria",
          "Información Estadística",
          "Inteligencia Estratégica y Contrainteligencia",
          "Ley de Justicia",
          "Minas y Energía",
          "No aplica/No pertenece",
          "Planeación",
          "Presidencia de la República",
          "Relaciones Exteriores",
          "Salud y Protección Social",
          "Servicio Público",
          "Tecnologías de la Información y las Comunicaciones",
          "Trabajo",
          "Transporte",
          "Vivienda, Ciudad y Territorio",
          "agricultura",
          "defensa",
          "deportes"
         ],
         "name": "",
         "parents": [
          "Inteligencia Estratégica y Contrainteligencia",
          "Ciencia Tecnología",
          "Relaciones Exteriores",
          "Información Estadística",
          "Presidencia de la República",
          "deportes",
          "Vivienda, Ciudad y Territorio",
          "Cultura",
          "agricultura",
          "Minas y Energía",
          "Industria",
          "Ley de Justicia",
          "Trabajo",
          "Hacienda y Crédito Público",
          "Inclusión Social y Reconciliación",
          "Tecnologías de la Información y las Comunicaciones",
          "Educación Nacional",
          "Ambiente y Desarrollo Sostenible",
          "Planeación",
          "No aplica/No pertenece",
          "defensa",
          "Transporte",
          "Servicio Público",
          "Salud y Protección Social",
          "",
          "",
          "",
          "",
          "",
          "",
          "",
          "",
          "",
          "",
          "",
          "",
          "",
          "",
          "",
          "",
          "",
          "",
          "",
          "",
          "",
          "",
          "",
          ""
         ],
         "type": "treemap",
         "values": [
          30108593943,
          403820739540,
          682279740020,
          844738843763,
          1030429069350,
          2569090359011,
          3167544334337,
          3284702551421,
          3594120388778,
          4204394514006,
          4328564733077,
          4843147709432,
          5832050644311,
          6021635575507,
          7235116874801,
          7641795737679,
          9016464807449,
          9699828758112,
          14163860130204,
          23226373836872,
          24104006608402,
          28840292607268,
          29168544030453,
          46233508347490,
          9699828758112,
          403820739540,
          3284702551421,
          9016464807449,
          6021635575507,
          7235116874801,
          4328564733077,
          844738843763,
          30108593943,
          4843147709432,
          4204394514006,
          23226373836872,
          14163860130204,
          1030429069350,
          682279740020,
          46233508347490,
          29168544030453,
          7641795737679,
          5832050644311,
          28840292607268,
          3167544334337,
          3594120388778,
          24104006608402,
          2569090359011
         ]
        }
       ],
       "layout": {
        "autosize": true,
        "legend": {
         "tracegroupgap": 0
        },
        "margin": {
         "t": 60
        },
        "template": {
         "data": {
          "bar": [
           {
            "error_x": {
             "color": "#2a3f5f"
            },
            "error_y": {
             "color": "#2a3f5f"
            },
            "marker": {
             "line": {
              "color": "#E5ECF6",
              "width": 0.5
             },
             "pattern": {
              "fillmode": "overlay",
              "size": 10,
              "solidity": 0.2
             }
            },
            "type": "bar"
           }
          ],
          "barpolar": [
           {
            "marker": {
             "line": {
              "color": "#E5ECF6",
              "width": 0.5
             },
             "pattern": {
              "fillmode": "overlay",
              "size": 10,
              "solidity": 0.2
             }
            },
            "type": "barpolar"
           }
          ],
          "carpet": [
           {
            "aaxis": {
             "endlinecolor": "#2a3f5f",
             "gridcolor": "white",
             "linecolor": "white",
             "minorgridcolor": "white",
             "startlinecolor": "#2a3f5f"
            },
            "baxis": {
             "endlinecolor": "#2a3f5f",
             "gridcolor": "white",
             "linecolor": "white",
             "minorgridcolor": "white",
             "startlinecolor": "#2a3f5f"
            },
            "type": "carpet"
           }
          ],
          "choropleth": [
           {
            "colorbar": {
             "outlinewidth": 0,
             "ticks": ""
            },
            "type": "choropleth"
           }
          ],
          "contour": [
           {
            "colorbar": {
             "outlinewidth": 0,
             "ticks": ""
            },
            "colorscale": [
             [
              0,
              "#0d0887"
             ],
             [
              0.1111111111111111,
              "#46039f"
             ],
             [
              0.2222222222222222,
              "#7201a8"
             ],
             [
              0.3333333333333333,
              "#9c179e"
             ],
             [
              0.4444444444444444,
              "#bd3786"
             ],
             [
              0.5555555555555556,
              "#d8576b"
             ],
             [
              0.6666666666666666,
              "#ed7953"
             ],
             [
              0.7777777777777778,
              "#fb9f3a"
             ],
             [
              0.8888888888888888,
              "#fdca26"
             ],
             [
              1,
              "#f0f921"
             ]
            ],
            "type": "contour"
           }
          ],
          "contourcarpet": [
           {
            "colorbar": {
             "outlinewidth": 0,
             "ticks": ""
            },
            "type": "contourcarpet"
           }
          ],
          "heatmap": [
           {
            "colorbar": {
             "outlinewidth": 0,
             "ticks": ""
            },
            "colorscale": [
             [
              0,
              "#0d0887"
             ],
             [
              0.1111111111111111,
              "#46039f"
             ],
             [
              0.2222222222222222,
              "#7201a8"
             ],
             [
              0.3333333333333333,
              "#9c179e"
             ],
             [
              0.4444444444444444,
              "#bd3786"
             ],
             [
              0.5555555555555556,
              "#d8576b"
             ],
             [
              0.6666666666666666,
              "#ed7953"
             ],
             [
              0.7777777777777778,
              "#fb9f3a"
             ],
             [
              0.8888888888888888,
              "#fdca26"
             ],
             [
              1,
              "#f0f921"
             ]
            ],
            "type": "heatmap"
           }
          ],
          "heatmapgl": [
           {
            "colorbar": {
             "outlinewidth": 0,
             "ticks": ""
            },
            "colorscale": [
             [
              0,
              "#0d0887"
             ],
             [
              0.1111111111111111,
              "#46039f"
             ],
             [
              0.2222222222222222,
              "#7201a8"
             ],
             [
              0.3333333333333333,
              "#9c179e"
             ],
             [
              0.4444444444444444,
              "#bd3786"
             ],
             [
              0.5555555555555556,
              "#d8576b"
             ],
             [
              0.6666666666666666,
              "#ed7953"
             ],
             [
              0.7777777777777778,
              "#fb9f3a"
             ],
             [
              0.8888888888888888,
              "#fdca26"
             ],
             [
              1,
              "#f0f921"
             ]
            ],
            "type": "heatmapgl"
           }
          ],
          "histogram": [
           {
            "marker": {
             "pattern": {
              "fillmode": "overlay",
              "size": 10,
              "solidity": 0.2
             }
            },
            "type": "histogram"
           }
          ],
          "histogram2d": [
           {
            "colorbar": {
             "outlinewidth": 0,
             "ticks": ""
            },
            "colorscale": [
             [
              0,
              "#0d0887"
             ],
             [
              0.1111111111111111,
              "#46039f"
             ],
             [
              0.2222222222222222,
              "#7201a8"
             ],
             [
              0.3333333333333333,
              "#9c179e"
             ],
             [
              0.4444444444444444,
              "#bd3786"
             ],
             [
              0.5555555555555556,
              "#d8576b"
             ],
             [
              0.6666666666666666,
              "#ed7953"
             ],
             [
              0.7777777777777778,
              "#fb9f3a"
             ],
             [
              0.8888888888888888,
              "#fdca26"
             ],
             [
              1,
              "#f0f921"
             ]
            ],
            "type": "histogram2d"
           }
          ],
          "histogram2dcontour": [
           {
            "colorbar": {
             "outlinewidth": 0,
             "ticks": ""
            },
            "colorscale": [
             [
              0,
              "#0d0887"
             ],
             [
              0.1111111111111111,
              "#46039f"
             ],
             [
              0.2222222222222222,
              "#7201a8"
             ],
             [
              0.3333333333333333,
              "#9c179e"
             ],
             [
              0.4444444444444444,
              "#bd3786"
             ],
             [
              0.5555555555555556,
              "#d8576b"
             ],
             [
              0.6666666666666666,
              "#ed7953"
             ],
             [
              0.7777777777777778,
              "#fb9f3a"
             ],
             [
              0.8888888888888888,
              "#fdca26"
             ],
             [
              1,
              "#f0f921"
             ]
            ],
            "type": "histogram2dcontour"
           }
          ],
          "mesh3d": [
           {
            "colorbar": {
             "outlinewidth": 0,
             "ticks": ""
            },
            "type": "mesh3d"
           }
          ],
          "parcoords": [
           {
            "line": {
             "colorbar": {
              "outlinewidth": 0,
              "ticks": ""
             }
            },
            "type": "parcoords"
           }
          ],
          "pie": [
           {
            "automargin": true,
            "type": "pie"
           }
          ],
          "scatter": [
           {
            "marker": {
             "colorbar": {
              "outlinewidth": 0,
              "ticks": ""
             }
            },
            "type": "scatter"
           }
          ],
          "scatter3d": [
           {
            "line": {
             "colorbar": {
              "outlinewidth": 0,
              "ticks": ""
             }
            },
            "marker": {
             "colorbar": {
              "outlinewidth": 0,
              "ticks": ""
             }
            },
            "type": "scatter3d"
           }
          ],
          "scattercarpet": [
           {
            "marker": {
             "colorbar": {
              "outlinewidth": 0,
              "ticks": ""
             }
            },
            "type": "scattercarpet"
           }
          ],
          "scattergeo": [
           {
            "marker": {
             "colorbar": {
              "outlinewidth": 0,
              "ticks": ""
             }
            },
            "type": "scattergeo"
           }
          ],
          "scattergl": [
           {
            "marker": {
             "colorbar": {
              "outlinewidth": 0,
              "ticks": ""
             }
            },
            "type": "scattergl"
           }
          ],
          "scattermapbox": [
           {
            "marker": {
             "colorbar": {
              "outlinewidth": 0,
              "ticks": ""
             }
            },
            "type": "scattermapbox"
           }
          ],
          "scatterpolar": [
           {
            "marker": {
             "colorbar": {
              "outlinewidth": 0,
              "ticks": ""
             }
            },
            "type": "scatterpolar"
           }
          ],
          "scatterpolargl": [
           {
            "marker": {
             "colorbar": {
              "outlinewidth": 0,
              "ticks": ""
             }
            },
            "type": "scatterpolargl"
           }
          ],
          "scatterternary": [
           {
            "marker": {
             "colorbar": {
              "outlinewidth": 0,
              "ticks": ""
             }
            },
            "type": "scatterternary"
           }
          ],
          "surface": [
           {
            "colorbar": {
             "outlinewidth": 0,
             "ticks": ""
            },
            "colorscale": [
             [
              0,
              "#0d0887"
             ],
             [
              0.1111111111111111,
              "#46039f"
             ],
             [
              0.2222222222222222,
              "#7201a8"
             ],
             [
              0.3333333333333333,
              "#9c179e"
             ],
             [
              0.4444444444444444,
              "#bd3786"
             ],
             [
              0.5555555555555556,
              "#d8576b"
             ],
             [
              0.6666666666666666,
              "#ed7953"
             ],
             [
              0.7777777777777778,
              "#fb9f3a"
             ],
             [
              0.8888888888888888,
              "#fdca26"
             ],
             [
              1,
              "#f0f921"
             ]
            ],
            "type": "surface"
           }
          ],
          "table": [
           {
            "cells": {
             "fill": {
              "color": "#EBF0F8"
             },
             "line": {
              "color": "white"
             }
            },
            "header": {
             "fill": {
              "color": "#C8D4E3"
             },
             "line": {
              "color": "white"
             }
            },
            "type": "table"
           }
          ]
         },
         "layout": {
          "annotationdefaults": {
           "arrowcolor": "#2a3f5f",
           "arrowhead": 0,
           "arrowwidth": 1
          },
          "autotypenumbers": "strict",
          "coloraxis": {
           "colorbar": {
            "outlinewidth": 0,
            "ticks": ""
           }
          },
          "colorscale": {
           "diverging": [
            [
             0,
             "#8e0152"
            ],
            [
             0.1,
             "#c51b7d"
            ],
            [
             0.2,
             "#de77ae"
            ],
            [
             0.3,
             "#f1b6da"
            ],
            [
             0.4,
             "#fde0ef"
            ],
            [
             0.5,
             "#f7f7f7"
            ],
            [
             0.6,
             "#e6f5d0"
            ],
            [
             0.7,
             "#b8e186"
            ],
            [
             0.8,
             "#7fbc41"
            ],
            [
             0.9,
             "#4d9221"
            ],
            [
             1,
             "#276419"
            ]
           ],
           "sequential": [
            [
             0,
             "#0d0887"
            ],
            [
             0.1111111111111111,
             "#46039f"
            ],
            [
             0.2222222222222222,
             "#7201a8"
            ],
            [
             0.3333333333333333,
             "#9c179e"
            ],
            [
             0.4444444444444444,
             "#bd3786"
            ],
            [
             0.5555555555555556,
             "#d8576b"
            ],
            [
             0.6666666666666666,
             "#ed7953"
            ],
            [
             0.7777777777777778,
             "#fb9f3a"
            ],
            [
             0.8888888888888888,
             "#fdca26"
            ],
            [
             1,
             "#f0f921"
            ]
           ],
           "sequentialminus": [
            [
             0,
             "#0d0887"
            ],
            [
             0.1111111111111111,
             "#46039f"
            ],
            [
             0.2222222222222222,
             "#7201a8"
            ],
            [
             0.3333333333333333,
             "#9c179e"
            ],
            [
             0.4444444444444444,
             "#bd3786"
            ],
            [
             0.5555555555555556,
             "#d8576b"
            ],
            [
             0.6666666666666666,
             "#ed7953"
            ],
            [
             0.7777777777777778,
             "#fb9f3a"
            ],
            [
             0.8888888888888888,
             "#fdca26"
            ],
            [
             1,
             "#f0f921"
            ]
           ]
          },
          "colorway": [
           "#636efa",
           "#EF553B",
           "#00cc96",
           "#ab63fa",
           "#FFA15A",
           "#19d3f3",
           "#FF6692",
           "#B6E880",
           "#FF97FF",
           "#FECB52"
          ],
          "font": {
           "color": "#2a3f5f"
          },
          "geo": {
           "bgcolor": "white",
           "lakecolor": "white",
           "landcolor": "#E5ECF6",
           "showlakes": true,
           "showland": true,
           "subunitcolor": "white"
          },
          "hoverlabel": {
           "align": "left"
          },
          "hovermode": "closest",
          "mapbox": {
           "style": "light"
          },
          "paper_bgcolor": "white",
          "plot_bgcolor": "#E5ECF6",
          "polar": {
           "angularaxis": {
            "gridcolor": "white",
            "linecolor": "white",
            "ticks": ""
           },
           "bgcolor": "#E5ECF6",
           "radialaxis": {
            "gridcolor": "white",
            "linecolor": "white",
            "ticks": ""
           }
          },
          "scene": {
           "xaxis": {
            "backgroundcolor": "#E5ECF6",
            "gridcolor": "white",
            "gridwidth": 2,
            "linecolor": "white",
            "showbackground": true,
            "ticks": "",
            "zerolinecolor": "white"
           },
           "yaxis": {
            "backgroundcolor": "#E5ECF6",
            "gridcolor": "white",
            "gridwidth": 2,
            "linecolor": "white",
            "showbackground": true,
            "ticks": "",
            "zerolinecolor": "white"
           },
           "zaxis": {
            "backgroundcolor": "#E5ECF6",
            "gridcolor": "white",
            "gridwidth": 2,
            "linecolor": "white",
            "showbackground": true,
            "ticks": "",
            "zerolinecolor": "white"
           }
          },
          "shapedefaults": {
           "line": {
            "color": "#2a3f5f"
           }
          },
          "ternary": {
           "aaxis": {
            "gridcolor": "white",
            "linecolor": "white",
            "ticks": ""
           },
           "baxis": {
            "gridcolor": "white",
            "linecolor": "white",
            "ticks": ""
           },
           "bgcolor": "#E5ECF6",
           "caxis": {
            "gridcolor": "white",
            "linecolor": "white",
            "ticks": ""
           }
          },
          "title": {
           "x": 0.05
          },
          "xaxis": {
           "automargin": true,
           "gridcolor": "white",
           "linecolor": "white",
           "ticks": "",
           "title": {
            "standoff": 15
           },
           "zerolinecolor": "white",
           "zerolinewidth": 2
          },
          "yaxis": {
           "automargin": true,
           "gridcolor": "white",
           "linecolor": "white",
           "ticks": "",
           "title": {
            "standoff": 15
           },
           "zerolinecolor": "white",
           "zerolinewidth": 2
          }
         }
        }
       }
      },
      "image/png": "[encoded data removed]",
      "text/html": [
       "<div>                            <div id=\"8f68055b-afe0-413f-8c51-65e0dc05008a\" class=\"plotly-graph-div\" style=\"height:525px; width:100%;\"></div>            <script type=\"text/javascript\">                require([\"plotly\"], function(Plotly) {                    window.PLOTLYENV=window.PLOTLYENV || {};                                    if (document.getElementById(\"8f68055b-afe0-413f-8c51-65e0dc05008a\")) {                    Plotly.newPlot(                        \"8f68055b-afe0-413f-8c51-65e0dc05008a\",                        [{\"branchvalues\":\"total\",\"domain\":{\"x\":[0.0,1.0],\"y\":[0.0,1.0]},\"hovertemplate\":\"labels=%{label}<br>valor_del_contrato=%{value}<br>parent=%{parent}<br>id=%{id}<extra></extra>\",\"ids\":[\"Inteligencia Estrat\\u00e9gica y Contrainteligencia/30108593943\",\"Ciencia Tecnolog\\u00eda/403820739540\",\"Relaciones Exteriores/682279740020\",\"Informaci\\u00f3n Estad\\u00edstica/844738843763\",\"Presidencia de la Rep\\u00fablica/1030429069350\",\"deportes/2569090359011\",\"Vivienda, Ciudad y Territorio/3167544334337\",\"Cultura/3284702551421\",\"agricultura/3594120388778\",\"Minas y Energ\\u00eda/4204394514006\",\"Industria/4328564733077\",\"Ley de Justicia/4843147709432\",\"Trabajo/5832050644311\",\"Hacienda y Cr\\u00e9dito P\\u00fablico/6021635575507\",\"Inclusi\\u00f3n Social y Reconciliaci\\u00f3n/7235116874801\",\"Tecnolog\\u00edas de la Informaci\\u00f3n y las Comunicaciones/7641795737679\",\"Educaci\\u00f3n Nacional/9016464807449\",\"Ambiente y Desarrollo Sostenible/9699828758112\",\"Planeaci\\u00f3n/14163860130204\",\"No aplica/No pertenece/23226373836872\",\"defensa/24104006608402\",\"Transporte/28840292607268\",\"Servicio P\\u00fablico/29168544030453\",\"Salud y Protecci\\u00f3n Social/46233508347490\",\"Ambiente y Desarrollo Sostenible\",\"Ciencia Tecnolog\\u00eda\",\"Cultura\",\"Educaci\\u00f3n Nacional\",\"Hacienda y Cr\\u00e9dito P\\u00fablico\",\"Inclusi\\u00f3n Social y Reconciliaci\\u00f3n\",\"Industria\",\"Informaci\\u00f3n Estad\\u00edstica\",\"Inteligencia Estrat\\u00e9gica y Contrainteligencia\",\"Ley de Justicia\",\"Minas y Energ\\u00eda\",\"No aplica/No pertenece\",\"Planeaci\\u00f3n\",\"Presidencia de la Rep\\u00fablica\",\"Relaciones Exteriores\",\"Salud y Protecci\\u00f3n Social\",\"Servicio P\\u00fablico\",\"Tecnolog\\u00edas de la Informaci\\u00f3n y las Comunicaciones\",\"Trabajo\",\"Transporte\",\"Vivienda, Ciudad y Territorio\",\"agricultura\",\"defensa\",\"deportes\"],\"labels\":[\"30108593943\",\"403820739540\",\"682279740020\",\"844738843763\",\"1030429069350\",\"2569090359011\",\"3167544334337\",\"3284702551421\",\"3594120388778\",\"4204394514006\",\"4328564733077\",\"4843147709432\",\"5832050644311\",\"6021635575507\",\"7235116874801\",\"7641795737679\",\"9016464807449\",\"9699828758112\",\"14163860130204\",\"23226373836872\",\"24104006608402\",\"28840292607268\",\"29168544030453\",\"46233508347490\",\"Ambiente y Desarrollo Sostenible\",\"Ciencia Tecnolog\\u00eda\",\"Cultura\",\"Educaci\\u00f3n Nacional\",\"Hacienda y Cr\\u00e9dito P\\u00fablico\",\"Inclusi\\u00f3n Social y Reconciliaci\\u00f3n\",\"Industria\",\"Informaci\\u00f3n Estad\\u00edstica\",\"Inteligencia Estrat\\u00e9gica y Contrainteligencia\",\"Ley de Justicia\",\"Minas y Energ\\u00eda\",\"No aplica/No pertenece\",\"Planeaci\\u00f3n\",\"Presidencia de la Rep\\u00fablica\",\"Relaciones Exteriores\",\"Salud y Protecci\\u00f3n Social\",\"Servicio P\\u00fablico\",\"Tecnolog\\u00edas de la Informaci\\u00f3n y las Comunicaciones\",\"Trabajo\",\"Transporte\",\"Vivienda, Ciudad y Territorio\",\"agricultura\",\"defensa\",\"deportes\"],\"name\":\"\",\"parents\":[\"Inteligencia Estrat\\u00e9gica y Contrainteligencia\",\"Ciencia Tecnolog\\u00eda\",\"Relaciones Exteriores\",\"Informaci\\u00f3n Estad\\u00edstica\",\"Presidencia de la Rep\\u00fablica\",\"deportes\",\"Vivienda, Ciudad y Territorio\",\"Cultura\",\"agricultura\",\"Minas y Energ\\u00eda\",\"Industria\",\"Ley de Justicia\",\"Trabajo\",\"Hacienda y Cr\\u00e9dito P\\u00fablico\",\"Inclusi\\u00f3n Social y Reconciliaci\\u00f3n\",\"Tecnolog\\u00edas de la Informaci\\u00f3n y las Comunicaciones\",\"Educaci\\u00f3n Nacional\",\"Ambiente y Desarrollo Sostenible\",\"Planeaci\\u00f3n\",\"No aplica/No pertenece\",\"defensa\",\"Transporte\",\"Servicio P\\u00fablico\",\"Salud y Protecci\\u00f3n Social\",\"\",\"\",\"\",\"\",\"\",\"\",\"\",\"\",\"\",\"\",\"\",\"\",\"\",\"\",\"\",\"\",\"\",\"\",\"\",\"\",\"\",\"\",\"\",\"\"],\"type\":\"treemap\",\"values\":[30108593943,403820739540,682279740020,844738843763,1030429069350,2569090359011,3167544334337,3284702551421,3594120388778,4204394514006,4328564733077,4843147709432,5832050644311,6021635575507,7235116874801,7641795737679,9016464807449,9699828758112,14163860130204,23226373836872,24104006608402,28840292607268,29168544030453,46233508347490,9699828758112,403820739540,3284702551421,9016464807449,6021635575507,7235116874801,4328564733077,844738843763,30108593943,4843147709432,4204394514006,23226373836872,14163860130204,1030429069350,682279740020,46233508347490,29168544030453,7641795737679,5832050644311,28840292607268,3167544334337,3594120388778,24104006608402,2569090359011]}],                        {\"legend\":{\"tracegroupgap\":0},\"margin\":{\"t\":60},\"template\":{\"data\":{\"bar\":[{\"error_x\":{\"color\":\"#2a3f5f\"},\"error_y\":{\"color\":\"#2a3f5f\"},\"marker\":{\"line\":{\"color\":\"#E5ECF6\",\"width\":0.5},\"pattern\":{\"fillmode\":\"overlay\",\"size\":10,\"solidity\":0.2}},\"type\":\"bar\"}],\"barpolar\":[{\"marker\":{\"line\":{\"color\":\"#E5ECF6\",\"width\":0.5},\"pattern\":{\"fillmode\":\"overlay\",\"size\":10,\"solidity\":0.2}},\"type\":\"barpolar\"}],\"carpet\":[{\"aaxis\":{\"endlinecolor\":\"#2a3f5f\",\"gridcolor\":\"white\",\"linecolor\":\"white\",\"minorgridcolor\":\"white\",\"startlinecolor\":\"#2a3f5f\"},\"baxis\":{\"endlinecolor\":\"#2a3f5f\",\"gridcolor\":\"white\",\"linecolor\":\"white\",\"minorgridcolor\":\"white\",\"startlinecolor\":\"#2a3f5f\"},\"type\":\"carpet\"}],\"choropleth\":[{\"colorbar\":{\"outlinewidth\":0,\"ticks\":\"\"},\"type\":\"choropleth\"}],\"contour\":[{\"colorbar\":{\"outlinewidth\":0,\"ticks\":\"\"},\"colorscale\":[[0.0,\"#0d0887\"],[0.1111111111111111,\"#46039f\"],[0.2222222222222222,\"#7201a8\"],[0.3333333333333333,\"#9c179e\"],[0.4444444444444444,\"#bd3786\"],[0.5555555555555556,\"#d8576b\"],[0.6666666666666666,\"#ed7953\"],[0.7777777777777778,\"#fb9f3a\"],[0.8888888888888888,\"#fdca26\"],[1.0,\"#f0f921\"]],\"type\":\"contour\"}],\"contourcarpet\":[{\"colorbar\":{\"outlinewidth\":0,\"ticks\":\"\"},\"type\":\"contourcarpet\"}],\"heatmap\":[{\"colorbar\":{\"outlinewidth\":0,\"ticks\":\"\"},\"colorscale\":[[0.0,\"#0d0887\"],[0.1111111111111111,\"#46039f\"],[0.2222222222222222,\"#7201a8\"],[0.3333333333333333,\"#9c179e\"],[0.4444444444444444,\"#bd3786\"],[0.5555555555555556,\"#d8576b\"],[0.6666666666666666,\"#ed7953\"],[0.7777777777777778,\"#fb9f3a\"],[0.8888888888888888,\"#fdca26\"],[1.0,\"#f0f921\"]],\"type\":\"heatmap\"}],\"heatmapgl\":[{\"colorbar\":{\"outlinewidth\":0,\"ticks\":\"\"},\"colorscale\":[[0.0,\"#0d0887\"],[0.1111111111111111,\"#46039f\"],[0.2222222222222222,\"#7201a8\"],[0.3333333333333333,\"#9c179e\"],[0.4444444444444444,\"#bd3786\"],[0.5555555555555556,\"#d8576b\"],[0.6666666666666666,\"#ed7953\"],[0.7777777777777778,\"#fb9f3a\"],[0.8888888888888888,\"#fdca26\"],[1.0,\"#f0f921\"]],\"type\":\"heatmapgl\"}],\"histogram\":[{\"marker\":{\"pattern\":{\"fillmode\":\"overlay\",\"size\":10,\"solidity\":0.2}},\"type\":\"histogram\"}],\"histogram2d\":[{\"colorbar\":{\"outlinewidth\":0,\"ticks\":\"\"},\"colorscale\":[[0.0,\"#0d0887\"],[0.1111111111111111,\"#46039f\"],[0.2222222222222222,\"#7201a8\"],[0.3333333333333333,\"#9c179e\"],[0.4444444444444444,\"#bd3786\"],[0.5555555555555556,\"#d8576b\"],[0.6666666666666666,\"#ed7953\"],[0.7777777777777778,\"#fb9f3a\"],[0.8888888888888888,\"#fdca26\"],[1.0,\"#f0f921\"]],\"type\":\"histogram2d\"}],\"histogram2dcontour\":[{\"colorbar\":{\"outlinewidth\":0,\"ticks\":\"\"},\"colorscale\":[[0.0,\"#0d0887\"],[0.1111111111111111,\"#46039f\"],[0.2222222222222222,\"#7201a8\"],[0.3333333333333333,\"#9c179e\"],[0.4444444444444444,\"#bd3786\"],[0.5555555555555556,\"#d8576b\"],[0.6666666666666666,\"#ed7953\"],[0.7777777777777778,\"#fb9f3a\"],[0.8888888888888888,\"#fdca26\"],[1.0,\"#f0f921\"]],\"type\":\"histogram2dcontour\"}],\"mesh3d\":[{\"colorbar\":{\"outlinewidth\":0,\"ticks\":\"\"},\"type\":\"mesh3d\"}],\"parcoords\":[{\"line\":{\"colorbar\":{\"outlinewidth\":0,\"ticks\":\"\"}},\"type\":\"parcoords\"}],\"pie\":[{\"automargin\":true,\"type\":\"pie\"}],\"scatter\":[{\"marker\":{\"colorbar\":{\"outlinewidth\":0,\"ticks\":\"\"}},\"type\":\"scatter\"}],\"scatter3d\":[{\"line\":{\"colorbar\":{\"outlinewidth\":0,\"ticks\":\"\"}},\"marker\":{\"colorbar\":{\"outlinewidth\":0,\"ticks\":\"\"}},\"type\":\"scatter3d\"}],\"scattercarpet\":[{\"marker\":{\"colorbar\":{\"outlinewidth\":0,\"ticks\":\"\"}},\"type\":\"scattercarpet\"}],\"scattergeo\":[{\"marker\":{\"colorbar\":{\"outlinewidth\":0,\"ticks\":\"\"}},\"type\":\"scattergeo\"}],\"scattergl\":[{\"marker\":{\"colorbar\":{\"outlinewidth\":0,\"ticks\":\"\"}},\"type\":\"scattergl\"}],\"scattermapbox\":[{\"marker\":{\"colorbar\":{\"outlinewidth\":0,\"ticks\":\"\"}},\"type\":\"scattermapbox\"}],\"scatterpolar\":[{\"marker\":{\"colorbar\":{\"outlinewidth\":0,\"ticks\":\"\"}},\"type\":\"scatterpolar\"}],\"scatterpolargl\":[{\"marker\":{\"colorbar\":{\"outlinewidth\":0,\"ticks\":\"\"}},\"type\":\"scatterpolargl\"}],\"scatterternary\":[{\"marker\":{\"colorbar\":{\"outlinewidth\":0,\"ticks\":\"\"}},\"type\":\"scatterternary\"}],\"surface\":[{\"colorbar\":{\"outlinewidth\":0,\"ticks\":\"\"},\"colorscale\":[[0.0,\"#0d0887\"],[0.1111111111111111,\"#46039f\"],[0.2222222222222222,\"#7201a8\"],[0.3333333333333333,\"#9c179e\"],[0.4444444444444444,\"#bd3786\"],[0.5555555555555556,\"#d8576b\"],[0.6666666666666666,\"#ed7953\"],[0.7777777777777778,\"#fb9f3a\"],[0.8888888888888888,\"#fdca26\"],[1.0,\"#f0f921\"]],\"type\":\"surface\"}],\"table\":[{\"cells\":{\"fill\":{\"color\":\"#EBF0F8\"},\"line\":{\"color\":\"white\"}},\"header\":{\"fill\":{\"color\":\"#C8D4E3\"},\"line\":{\"color\":\"white\"}},\"type\":\"table\"}]},\"layout\":{\"annotationdefaults\":{\"arrowcolor\":\"#2a3f5f\",\"arrowhead\":0,\"arrowwidth\":1},\"autotypenumbers\":\"strict\",\"coloraxis\":{\"colorbar\":{\"outlinewidth\":0,\"ticks\":\"\"}},\"colorscale\":{\"diverging\":[[0,\"#8e0152\"],[0.1,\"#c51b7d\"],[0.2,\"#de77ae\"],[0.3,\"#f1b6da\"],[0.4,\"#fde0ef\"],[0.5,\"#f7f7f7\"],[0.6,\"#e6f5d0\"],[0.7,\"#b8e186\"],[0.8,\"#7fbc41\"],[0.9,\"#4d9221\"],[1,\"#276419\"]],\"sequential\":[[0.0,\"#0d0887\"],[0.1111111111111111,\"#46039f\"],[0.2222222222222222,\"#7201a8\"],[0.3333333333333333,\"#9c179e\"],[0.4444444444444444,\"#bd3786\"],[0.5555555555555556,\"#d8576b\"],[0.6666666666666666,\"#ed7953\"],[0.7777777777777778,\"#fb9f3a\"],[0.8888888888888888,\"#fdca26\"],[1.0,\"#f0f921\"]],\"sequentialminus\":[[0.0,\"#0d0887\"],[0.1111111111111111,\"#46039f\"],[0.2222222222222222,\"#7201a8\"],[0.3333333333333333,\"#9c179e\"],[0.4444444444444444,\"#bd3786\"],[0.5555555555555556,\"#d8576b\"],[0.6666666666666666,\"#ed7953\"],[0.7777777777777778,\"#fb9f3a\"],[0.8888888888888888,\"#fdca26\"],[1.0,\"#f0f921\"]]},\"colorway\":[\"#636efa\",\"#EF553B\",\"#00cc96\",\"#ab63fa\",\"#FFA15A\",\"#19d3f3\",\"#FF6692\",\"#B6E880\",\"#FF97FF\",\"#FECB52\"],\"font\":{\"color\":\"#2a3f5f\"},\"geo\":{\"bgcolor\":\"white\",\"lakecolor\":\"white\",\"landcolor\":\"#E5ECF6\",\"showlakes\":true,\"showland\":true,\"subunitcolor\":\"white\"},\"hoverlabel\":{\"align\":\"left\"},\"hovermode\":\"closest\",\"mapbox\":{\"style\":\"light\"},\"paper_bgcolor\":\"white\",\"plot_bgcolor\":\"#E5ECF6\",\"polar\":{\"angularaxis\":{\"gridcolor\":\"white\",\"linecolor\":\"white\",\"ticks\":\"\"},\"bgcolor\":\"#E5ECF6\",\"radialaxis\":{\"gridcolor\":\"white\",\"linecolor\":\"white\",\"ticks\":\"\"}},\"scene\":{\"xaxis\":{\"backgroundcolor\":\"#E5ECF6\",\"gridcolor\":\"white\",\"gridwidth\":2,\"linecolor\":\"white\",\"showbackground\":true,\"ticks\":\"\",\"zerolinecolor\":\"white\"},\"yaxis\":{\"backgroundcolor\":\"#E5ECF6\",\"gridcolor\":\"white\",\"gridwidth\":2,\"linecolor\":\"white\",\"showbackground\":true,\"ticks\":\"\",\"zerolinecolor\":\"white\"},\"zaxis\":{\"backgroundcolor\":\"#E5ECF6\",\"gridcolor\":\"white\",\"gridwidth\":2,\"linecolor\":\"white\",\"showbackground\":true,\"ticks\":\"\",\"zerolinecolor\":\"white\"}},\"shapedefaults\":{\"line\":{\"color\":\"#2a3f5f\"}},\"ternary\":{\"aaxis\":{\"gridcolor\":\"white\",\"linecolor\":\"white\",\"ticks\":\"\"},\"baxis\":{\"gridcolor\":\"white\",\"linecolor\":\"white\",\"ticks\":\"\"},\"bgcolor\":\"#E5ECF6\",\"caxis\":{\"gridcolor\":\"white\",\"linecolor\":\"white\",\"ticks\":\"\"}},\"title\":{\"x\":0.05},\"xaxis\":{\"automargin\":true,\"gridcolor\":\"white\",\"linecolor\":\"white\",\"ticks\":\"\",\"title\":{\"standoff\":15},\"zerolinecolor\":\"white\",\"zerolinewidth\":2},\"yaxis\":{\"automargin\":true,\"gridcolor\":\"white\",\"linecolor\":\"white\",\"ticks\":\"\",\"title\":{\"standoff\":15},\"zerolinecolor\":\"white\",\"zerolinewidth\":2}}}},                        {\"responsive\": true}                    ).then(function(){\n",
       "                            \n",
       "var gd = document.getElementById('8f68055b-afe0-413f-8c51-65e0dc05008a');\n",
       "var x = new MutationObserver(function (mutations, observer) {{\n",
       "        var display = window.getComputedStyle(gd).display;\n",
       "        if (!display || display === 'none') {{\n",
       "            console.log([gd, 'removed!']);\n",
       "            Plotly.purge(gd);\n",
       "            observer.disconnect();\n",
       "        }}\n",
       "}});\n",
       "\n",
       "// Listen for the removal of the full notebook cells\n",
       "var notebookContainer = gd.closest('#notebook-container');\n",
       "if (notebookContainer) {{\n",
       "    x.observe(notebookContainer, {childList: true});\n",
       "}}\n",
       "\n",
       "// Listen for the clearing of the current output cell\n",
       "var outputEl = gd.closest('.output');\n",
       "if (outputEl) {{\n",
       "    x.observe(outputEl, {childList: true});\n",
       "}}\n",
       "\n",
       "                        })                };                });            </script>        </div>"
      ]
     },
     "metadata": {},
     "output_type": "display_data"
    }
   ],
   "source": [
    "### mapa de arbol\n",
    "fig = px.treemap(a, \n",
    "                 path= ['sector', 'valor_del_contrato'], \n",
    "                 values='valor_del_contrato',\n",
    "                )\n",
    "fig.show()"
   ]
  },
  {
   "cell_type": "code",
   "execution_count": 71,
   "metadata": {},
   "outputs": [
    {
     "data": {
      "image/png": "[encoded data removed]",
      "text/plain": [
       "<Figure size 864x720 with 1 Axes>"
      ]
     },
     "metadata": {
      "needs_background": "light"
     },
     "output_type": "display_data"
    }
   ],
   "source": [
    "my_range=range(1,len(a.index)+1)\n",
    "fig,ax=plt.subplots(figsize=(12,10))\n",
    "# The vertcval plot is made using the hline function\n",
    "# I load the seaborn library only to benefit the nice looking feature\n",
    "ax.hlines(y=my_range, xmin=0, xmax=a['valor_del_contrato'],  alpha=0.8)\n",
    "ax.scatter(a['valor_del_contrato'], my_range, alpha=1)\n",
    " \n",
    "# Add title and exis names\n",
    "plt.yticks(my_range, a['sector'])\n",
    "plt.title(\"Ingresos por sector\", loc='left')\n",
    "plt.xlabel('Total')\n",
    "plt.ylabel('Sectores')\n",
    "plt.grid()\n",
    "plt.show()"
   ]
  },
  {
   "cell_type": "markdown",
   "metadata": {},
   "source": [
    "Las anteriores gráficas corresponden al comportamiento de los ingresos según sector."
   ]
  },
  {
   "cell_type": "code",
   "execution_count": 78,
   "metadata": {},
   "outputs": [
    {
     "data": {
      "text/plain": [
       "Index(['nombre_entidad', 'sector', 'estado_contrato', 'orden',\n",
       "       'valor_del_contrato', 'tipo_de_contrato', 'departamento', 'ciudad'],\n",
       "      dtype='object')"
      ]
     },
     "execution_count": 78,
     "metadata": {},
     "output_type": "execute_result"
    }
   ],
   "source": [
    "results_df_2.columns"
   ]
  },
  {
   "cell_type": "code",
   "execution_count": 86,
   "metadata": {},
   "outputs": [
    {
     "data": {
      "text/plain": [
       "Text(0.5, 0, 'Qualitative')"
      ]
     },
     "execution_count": 86,
     "metadata": {},
     "output_type": "execute_result"
    },
    {
     "data": {
      "image/png": "[encoded data removed]",
      "text/plain": [
       "<Figure size 864x720 with 1 Axes>"
      ]
     },
     "metadata": {
      "needs_background": "light"
     },
     "output_type": "display_data"
    }
   ],
   "source": [
    "b=results_df_2[['ciudad', 'valor_del_contrato']].groupby(['ciudad']).count()\n",
    "b = b.sort_values('valor_del_contrato',ascending=False)\n",
    "b=b.reset_index()\n",
    "b=b.head(15)\n",
    "fig,ax=plt.subplots(figsize=(12,10))\n",
    "sns.barplot(data=b, x=\"valor_del_contrato\",y='ciudad')\n",
    "ax.set_xlabel(\"Qualitative\")"
   ]
  },
  {
   "cell_type": "markdown",
   "metadata": {},
   "source": [
    "Por lo que se evidencia en la gr+afica anterior, la ciudad que más contrata es la de Bogotá."
   ]
  },
  {
   "cell_type": "code",
   "execution_count": 95,
   "metadata": {},
   "outputs": [
    {
     "data": {
      "text/plain": [
       "Text(0.5, 0, 'Qualitative')"
      ]
     },
     "execution_count": 95,
     "metadata": {},
     "output_type": "execute_result"
    },
    {
     "data": {
      "image/png": "[encoded data removed]",
      "text/plain": [
       "<Figure size 864x720 with 1 Axes>"
      ]
     },
     "metadata": {
      "needs_background": "light"
     },
     "output_type": "display_data"
    }
   ],
   "source": [
    "c=results_df_2[['nombre_entidad', 'valor_del_contrato']].groupby(['nombre_entidad']).count()\n",
    "c = c.sort_values('valor_del_contrato',ascending=False)\n",
    "c=c.reset_index()\n",
    "c=c.head(15)\n",
    "fig,ax=plt.subplots(figsize=(12,10))\n",
    "sns.barplot(data=c, x=\"valor_del_contrato\",y='nombre_entidad')\n",
    "ax.set_xlabel(\"Qualitative\")"
   ]
  },
  {
   "cell_type": "markdown",
   "metadata": {},
   "source": [
    "La entidad con más volumen de contratación es la secretaria distrital de integración Social."
   ]
  }
 ],
 "metadata": {
  "kernelspec": {
   "display_name": "Python 3",
   "language": "python",
   "name": "python3"
  },
  "language_info": {
   "codemirror_mode": {
    "name": "ipython",
    "version": 3
   },
   "file_extension": ".py",
   "mimetype": "text/x-python",
   "name": "python",
   "nbconvert_exporter": "python",
   "pygments_lexer": "ipython3",
   "version": "3.8.5"
  }
 },
 "nbformat": 4,
 "nbformat_minor": 4
}
