{
 "cells": [
  {
   "cell_type": "code",
   "execution_count": 27,
   "metadata": {},
   "outputs": [],
   "source": [
    "class Humano(): #Creamos la clase Humano\n",
    "    def __init__(self, edad, nombre, ocupacion,horas_laboradas,sexo): #Definimos el parámetro edad , nombre y ocupación\n",
    "        self.edad = edad # Definimos que el atributo edad, sera la edad asignada\n",
    "        self.nombre = nombre # Definimos que el atributo nombre, sera el nombre asig\n",
    "        self.ocupacion = ocupacion #DEFINIMOS EL ATRIBUTO DE INSTANCIA OCUPACIÓN\n",
    "        self.horas=horas_laboradas\n",
    "        self.dia=0 #Iniciamos en el día 0\n",
    "        self.sexo=sexo\n",
    "        \n",
    "        \n",
    "        #Creación de un nuevo método\n",
    "    def presentar(self):\n",
    "        presentacion = (\"Hola soy {name}, mi edad es {age} y mi ocupación es {ocu}\") #Mensaje\n",
    "        print(presentacion.format(name=self.nombre, age=self.edad, ocu=self.ocupacion)) #Usamos FORMAT\n",
    "        \n",
    "    def dias_transcurridos(self,n):\n",
    "        if self.ocupacion!= 'Desocupado':\n",
    "            self.dia=self.dia+n\n",
    "            self.horas=self.horas+n*8\n",
    "            print('Has trabajado',self.horas,'horas')\n",
    "        else:\n",
    "            self.dia=self.dia+n\n",
    "            print('Desde el día 0, han transcurrido',self.dia,'días' )\n",
    "        \n",
    "        #Creamos un nuevo método para cambiar la ocupación:\n",
    "        #En caso que esta persona sea contratada\n",
    "        \n",
    "    def contratar(self, puesto): #añadimos un nuevo parámetro en el método\n",
    "        self.puesto = puesto\n",
    "        print (\"{name} ha sido contratado como {vac}\".format(name=self.nombre, vac=self.puesto))\n",
    "        self.ocupacion = puesto#Ahora cambiamos el atributo ocupación\n",
    "    \n",
    "    def cumplio_anios(self,n):\n",
    "        self.n = n\n",
    "        if self.n== 'si':\n",
    "            self.edad=self.edad+1\n",
    "            print(\"Feliz cumpleaños te deseamos a ti, {name}\".format(name=self.nombre))\n",
    "        else:\n",
    "            print(\"Tu edad es {edad} {name}, y no cumpliste años\".format(name=self.nombre,edad=self.edad))\n",
    "            \n",
    "    def tipo_contrato(self, tipo): \n",
    "        self.tipo=tipo\n",
    "        if self.tipo=='indefinido':\n",
    "            print (\"{name} no tienes que entrar a mi planilla a pagar salud y pension, buen contrato tienes.\".format(name=self.nombre))\n",
    "        elif self.tipo=='a termino':\n",
    "            print (\"{name} no tienes que entrar a mi planilla a pagar salud y pension, aunque recuerda buscar otro trabajo.\".format(name=self.nombre))\n",
    "        else:\n",
    "            print (\"{name} tienes que entrar a mi planilla a pagar salud y pension\".format(name=self.nombre))\n",
    "    def pension(self):\n",
    "        if self.sexo=='hombre':\n",
    "            if self.edad==62:\n",
    "                print(\"{name} ya te puedes pensionar\".format(name=self.nombre))\n",
    "            elif self.edad<62:\n",
    "                self.a=62-self.edad\n",
    "                print(\"{name} te faltan {a} años para que te pensiones\".format(name=self.nombre,a=self.a))\n",
    "            else:\n",
    "                self.b=self.edad-62\n",
    "                print(\"{name} llevas {a} años pensionado\".format(name=self.nombre,a=self.b))\n",
    "        else:\n",
    "            if self.edad==57:\n",
    "                print(\"{name} ya te puedes pensionar\".format(name=self.nombre))\n",
    "            elif self.edad<57:\n",
    "                self.a=57-self.edad\n",
    "                print(\"{name} te faltan {a} años para que te pensiones\".format(name=self.nombre,a=self.a))\n",
    "            else:\n",
    "                self.b=self.edad-57\n",
    "                print(\"{name} llevas {a} años pensionado\".format(name=self.nombre,a=self.b))\n",
    "    def estrato(self,estrato):\n",
    "        self.estrato = estrato\n",
    "        if self.estrato==0 or self.estrato==1 or self.estrato==3:\n",
    "            print('Estas ubicado en un estrato bajo')\n",
    "        elif self.estrato==4:\n",
    "            print('Estas ubicado en un estrato medio')\n",
    "        elif self.estrato==5:\n",
    "            print('Estas ubicado en un estrato alto')\n",
    "        elif self.estrato==6:\n",
    "            print('Estas ubicado en un estrato muy alto')\n",
    "        \n",
    "    "
   ]
  },
  {
   "cell_type": "code",
   "execution_count": 28,
   "metadata": {},
   "outputs": [
    {
     "name": "stdout",
     "output_type": "stream",
     "text": [
      "Hola soy Pedro, mi edad es 64 y mi ocupación es Desocupado\n",
      "Tu edad es 64 Pedro, y no cumpliste años\n",
      "Pedro tienes que entrar a mi planilla a pagar salud y pension\n",
      "Pedro llevas 2 años pensionado\n",
      "Estas ubicado en un estrato alto\n"
     ]
    }
   ],
   "source": [
    "Persona1 = Humano(64, \"Pedro\", \"Desocupado\",400,'hombre') #Instancia\n",
    "\n",
    "#Llamamos al método\n",
    "\n",
    "Persona1.presentar() \n",
    "Persona1.cumplio_anios('no')\n",
    "Persona1.tipo_contrato('contratista')\n",
    "Persona1.dias_transcurridos(20)\n",
    "Persona1.pension()\n",
    "Persona1.estrato(5)"
   ]
  },
  {
   "cell_type": "code",
   "execution_count": 29,
   "metadata": {},
   "outputs": [
    {
     "data": {
      "application/vnd.jupyter.widget-view+json": {
       "model_id": "e6094b6072af436796e25a261fadee8e",
       "version_major": 2,
       "version_minor": 0
      },
      "text/plain": [
       "interactive(children=(IntSlider(value=10, description='n', max=30, min=-10), Output()), _dom_classes=('widget-…"
      ]
     },
     "metadata": {},
     "output_type": "display_data"
    },
    {
     "data": {
      "text/plain": [
       "<function ipywidgets.widgets.interaction._InteractFactory.__call__.<locals>.<lambda>(*args, **kwargs)>"
      ]
     },
     "execution_count": 29,
     "metadata": {},
     "output_type": "execute_result"
    }
   ],
   "source": [
    "from ipywidgets import interact\n",
    "\n",
    "interact(Persona1.dias_transcurridos,n=10)"
   ]
  }
 ],
 "metadata": {
  "kernelspec": {
   "display_name": "Python 3",
   "language": "python",
   "name": "python3"
  },
  "language_info": {
   "codemirror_mode": {
    "name": "ipython",
    "version": 3
   },
   "file_extension": ".py",
   "mimetype": "text/x-python",
   "name": "python",
   "nbconvert_exporter": "python",
   "pygments_lexer": "ipython3",
   "version": "3.8.5"
  }
 },
 "nbformat": 4,
 "nbformat_minor": 4
}
